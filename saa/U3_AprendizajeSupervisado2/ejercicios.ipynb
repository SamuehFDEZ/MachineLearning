{
 "cells": [
  {
   "metadata": {},
   "cell_type": "markdown",
   "source": "#  EJERCICIOS",
   "id": "f66dac1efd6cc19f"
  },
  {
   "metadata": {},
   "cell_type": "markdown",
   "source": [
    "### EJERCICIO 1.\n",
    "Tenemos un tarro con 20 bolas de colores rojo y negro que tienen inscrito un\n",
    "número. Vas a usarlo para calcular probabilidades y probabilidades condicionadas cuando\n",
    "sacamos una de las bolas son mirar, al azar. Calcula:\n",
    "\n",
    " a) P(roja): <span style=\"color:green;\"></span><br>\n",
    "\n",
    " b) P(negra) sin necesidad de contar las negras que hay.<span style=\"color:green;\"></span><br>\n",
    "\n",
    " c) P(par)<span style=\"color:green;\"></span><br>\n",
    "\n",
    " d) P(roja y par)<span style=\"color:green;\"></span><br>\n",
    "\n",
    " e) P(< 20)<span style=\"color:green;\"></span><br>\n",
    "\n",
    " f) P(roja / par)<span style=\"color:green;\"></span><br>\n",
    "\n",
    " g) P(par/roja) calculada de dos formas diferentes<span style=\"color:green;\"></span><br>\n",
    "\n",
    " Para facilitar los cálculos puedes usar una tabla de contingencia\n",
    "que da acceso a todos los contadores de forma resumida:\n"
   ],
   "id": "18fc1db7b59ac955"
  },
  {
   "metadata": {},
   "cell_type": "markdown",
   "source": "<img src=\"img/captura1.png\" alt=\"captura1\">",
   "id": "c47b340d09d1f664"
  },
  {
   "metadata": {},
   "cell_type": "markdown",
   "source": [
    "### EJERCICIO 2.\n",
    "El 55.26% de los automóviles de un estacionamiento son de 4 puertas. Los\n",
    "automóviles de color blanco son el 21.27% del total y los automóviles de 4 puertas escogidos de\n",
    "entre los blancos son el 59.77%. Determina el porcentaje de coches blancos escogidos de entre\n",
    "los de 4 puertas.\n",
    "\n",
    " A = 4 puertas\n",
    "\n",
    " B = blanco\n",
    "\n",
    " ¿P(B / A)?"
   ],
   "id": "598bf593d1133cc0"
  },
  {
   "metadata": {},
   "cell_type": "markdown",
   "source": [
    "Solución: Sea\n",
    "A = Porcentaje de 4 puertas = 55.26% = 0.5526\n",
    "\n",
    "B = Porcentaje de blancos = 21.27% = 0.2127\n",
    "\n",
    "A/B = Porcentaje de 4 puertas que son blancos = 59.77% = 0.5977"
   ],
   "id": "d1409ab88e9eb9b4"
  },
  {
   "metadata": {},
   "cell_type": "markdown",
   "source": [
    "El porcentaje deseado es: P (blancos que son de 4 puertas), lo cual puede obtenerse aplicando la\n",
    "fórmula de Bayes para probabilidades condicionales.\n",
    "\n",
    "P(B / A) =  P(B ∩ A)/P(A)  =  P(A / B) P(B) / P(A)\n",
    "\n"
   ],
   "id": "b5ad1842594be1c0"
  },
  {
   "metadata": {},
   "cell_type": "markdown",
   "source": [
    "### EJERCICIO 3.\n",
    "Una empresa de tecnología tiene 3 departamentos:  Desarrollo (D), Marketing (M)\n",
    "y Ventas (V). La empresa tiene en la actualidad 100 empleados que se reparten de la siguiente\n",
    "manera: 50 trabajan en desarrollo, 30 en marketing y 20 en ventas.\n",
    "\n",
    "Se sabe que la probabilidad de que un empleado reciba un aumento de sueldo no es igual en todos\n",
    "los departamentos:\n",
    "\n",
    "• P(aumento / D) = 0.6\n",
    "\n",
    "• P(aumento / M) = 0.4\n",
    "\n",
    "• P(aumento / V) = 0.2\n",
    "\n",
    "¿Cuál es la probabilidad total de que un empleado seleccionado al azar reciba un aumento?\n",
    "\n",
    "Nota: Utiliza la regla de la cadena para calcular la probabilidad total:\n",
    "P(A) = P(A/B1) P(B1) + P(A / B2) P(B2) + …. + P(A/Bn) P(Bn)\n"
   ],
   "id": "24a713c4e81d40b8"
  },
  {
   "metadata": {},
   "cell_type": "markdown",
   "source": [
    "### EJERCICIO 4:\n",
    "El EJEMPLO 3 quizás tenga aun error de cálculo. Te propongo que hagas un\n",
    "programa en Python que realice los cálculos."
   ],
   "id": "53ca89f96f1261dd"
  },
  {
   "metadata": {},
   "cell_type": "markdown",
   "source": [
    "### EJERCICIO 5.\n",
    "Calcula la probabilidad de que en el EJEMPLO 5, el correo con las palabras “lunch money money” sea spam o normal:\n",
    "\n",
    " a) Justo antes de añadir el contador extra (enlace: cuando hay 8 correos normales con 17\n",
    "palabras en normal y 4 correos spam con 7 palabras en spam)\n",
    "\n",
    " b) Justo después de añadir un contador fijo para evitar el cero a cada palabra."
   ],
   "id": "47d8ff3da94d1ca2"
  },
  {
   "metadata": {},
   "cell_type": "markdown",
   "source": [
    "### EJERCICIO 6:\n",
    "Usando los datos del ejercicio anterior, entrena un modelo Bayesiano creado con\n",
    "scikit-learn. Y predice lo mismo que en el ejemplo3."
   ],
   "id": "ba2bda6b1c0eb453"
  },
  {
   "metadata": {},
   "cell_type": "markdown",
   "source": [
    "### EJERCICIO 7.\n",
    "Entrena un modelo Bayesiano para los datos del EJEMPLO 4 y predice el mismo caso que en el ejemplo."
   ],
   "id": "ead84848bb012933"
  },
  {
   "metadata": {},
   "cell_type": "markdown",
   "source": [
    "### EJERCICIO 8.\n",
    "Vamos a clasificar frases en dos categorías: Deportivas y tecnológicas. Copia el\n",
    "siguiente código:"
   ],
   "id": "aeeae2b7790ee97a"
  },
  {
   "cell_type": "code",
   "execution_count": null,
   "id": "initial_id",
   "metadata": {
    "collapsed": true
   },
   "outputs": [],
   "source": [
    ""
   ]
  },
  {
   "metadata": {},
   "cell_type": "markdown",
   "source": [
    " a) ¿Por qué usamos MultinomialNB y no GaussianNB?\n",
    "\n",
    "\n",
    " b) Modifica el código para usar tu semilla aleatoria y añade código al final de manera\n",
    "pregunte repetidamente por una frase hasta que la frase esté vacía y haga la predicción\n",
    "de a qué clase pertenece (deporte o tecnología) mostrando las probabilidades calculadas."
   ],
   "id": "b32d0746e51e63ae"
  },
  {
   "metadata": {},
   "cell_type": "markdown",
   "source": [
    "### EJERCICIO 9:\n",
    "Copia el siguiente código que define 100 muestras de peso y altura de 5 hombres\n",
    "y 50 mujeres, luego implementa y entrena un clasificador de tipo GaussianNB (naïve Bayes\n",
    "gausiano), lo valida y dibuja los datos usados y lo testea mostrando su desempeño.\n"
   ],
   "id": "4f22fbcaaf53b07b"
  },
  {
   "metadata": {},
   "cell_type": "code",
   "outputs": [],
   "execution_count": null,
   "source": [
    "import numpy as np\n",
    "import matplotlib.pyplot as plt\n",
    "\n",
    "from sklearn.feature_extraction.text import TfidfVectorizer\n",
    "from sklearn.naive_bayes import MultinomialNB, GaussianNB\n",
    "from sklearn.model_selection import train_test_split\n",
    "from sklearn.metrics import accuracy_score\n",
    "# Definir los datos\n",
    "\n",
    "textos = [\n",
    "    \"El equipo ganó el partido\", \"Gran jugada en la final de fútbol\",\n",
    "    \"El nuevo teléfono tiene una gran cámara\", \"Apple lanza una nueva actualización\",\n",
    "    \"El tenista venció a su rival\", \"Los procesadores Intel ahora son más rápidos\",\n",
    "    \"ram y cpu son elementos básicos del computador\", \"Un sistema operativo muy exigente de recursos\",\n",
    "    \"la selección nacional de fútbol ha jugado un buen partido\", \"han batido el record del mundo\",\n",
    "    \"los partidos de la nba y la acb me gustan\", \"las gui necesitan una cpu potente\"\n",
    "]\n",
    "\n",
    "clases = [\"deporte\", \"tecnología\"]\n",
    "etiquetas = [0, 0, 1, 1, 0, 1, 1, 1, 0, 0, 0, 1] # 0 = deporte, 1 = tecnología\n",
    "\n",
    "# Preproceso\n",
    "vectorizador = TfidfVectorizer()\n",
    "\n",
    "X = vectorizador.fit_transform(textos) # Convertir textos en matriz de características\n",
    "X_train, X_test, y_train, y_test = train_test_split(X, etiquetas, test_size=0.2, random_state=449)\n",
    "\n",
    "# Entrenar y validar modelo\n",
    "modelo = MultinomialNB()\n",
    "modelo.fit(X_train, y_train)\n",
    "\n",
    "y_pred = modelo.predict(X_test)\n",
    "accuracy = accuracy_score(y_test, y_pred)\n",
    "\n",
    "print(\"Exactitud del modelo:\", accuracy)"
   ],
   "id": "b7d5ed267631633e"
  },
  {
   "metadata": {},
   "cell_type": "code",
   "outputs": [],
   "execution_count": null,
   "source": [
    "np.random.seed(675) # Personaliza la semilla del generador aleatorio\n",
    "\n",
    "# Generamos datos: altura (cm) peso (kg) de 50 hombres (clase 0) y mujeres (clase 1)\n",
    "altura_hombres = np.random.normal(loc=175, scale=6, size=50)\n",
    "peso_hombres = np.random.normal(loc=78, scale=8, size=50)\n",
    "altura_mujeres = np.random.normal(loc=162, scale=5, size=50)\n",
    "peso_mujeres = np.random.normal(loc=60, scale=6, size=50)\n",
    "\n",
    "X = np.vstack((np.column_stack((altura_hombres, peso_hombres)),\n",
    "               np.column_stack((altura_mujeres, peso_mujeres))))\n",
    "y = np.array([0] * 50 + [1] * 50) # 0 Hombre, 1 Mujer\n",
    "\n",
    "X_train, X_test, y_train, y_test = train_test_split(X, y, test_size=0.3, random_state=449)\n",
    "\n",
    "# Entrenar y validar el modelo\n",
    "modelo = GaussianNB()\n",
    "modelo.fit(X_train, y_train)\n",
    "y_pred = modelo.predict(X_test)\n",
    "accuracy = accuracy_score(y_test, y_pred)\n",
    "\n",
    "print(\"Precisión del modelo:\", accuracy)\n",
    "\n",
    "plt.scatter(altura_hombres, peso_hombres, label=\"Hombres\", color=\"blue\", alpha=0.6)\n",
    "plt.scatter(altura_mujeres, peso_mujeres, label=\"Mujeres\", color=\"red\", alpha=0.6)\n",
    "plt.xlabel(\"Altura (cm)\")\n",
    "plt.ylabel(\"Peso (kg)\")\n",
    "plt.legend()\n",
    "plt.title(\"Distribución de altura y peso por género\")\n",
    "plt.show() # Añadido para mostrar la gráfica"
   ],
   "id": "b4100c8e7277614f"
  },
  {
   "metadata": {},
   "cell_type": "markdown",
   "source": [
    "a) Modifica el código y personaliza los procesos aleatorios con tu semilla aleatoria (líneas 7 y\n",
    "16). Luego añade código para que pregunte repetidamente (hasta que se indique un peso 0) un\n",
    "peso y una altura e indique si corresponden a un hombre o a una mujer.\n",
    "\n",
    "\n",
    "b) ¿Porqué hemos escogido el GaussianNB en vez de por ejemplo el el MultinomialNB?"
   ],
   "id": "8323f956d0f0b9aa"
  },
  {
   "metadata": {},
   "cell_type": "markdown",
   "source": [
    " ### EJERCICIO 10.\n",
    " Responde a estas cuestiones sobre las máquinas de vector soporte.\n",
    "\n",
    " c1. ¿La idea fundamental en que se basa las Support Vector Machines?\n",
    "\n",
    " c2. ¿Qué es un vector soporte?\n",
    "\n",
    " c3. ¿Porqué es importante escalar las entradas al usar SVM?\n",
    "\n",
    " c4. ¿Un clasificador SVM puede devolver un score de confidencia cuando clasifica una\n",
    "instancia? ¿Y una probabilidad?\n",
    "\n",
    " c5. ¿Deberías usar la versión única o la dual de una SVM para entrenar un modelo con\n",
    "millones de instancias y miles de características? ¿Cuál sería el modelo a elegir en scikit?\n",
    "\n",
    " c6. Imagina que entrenas un clasificador SVM con kernel RBF. Compruebas que tiene\n",
    "underfitting con el set train ¿Debes incrementar o decrementar γ (gamma)? ¿Y C?"
   ],
   "id": "32976172aa3b458c"
  },
  {
   "metadata": {},
   "cell_type": "markdown",
   "source": [
    " ### EJERCICIO 11:\n",
    " ejecuta el código del ejemplo 20 e indica la consecuencia de:\n",
    "\n",
    " a) Subir de valor el parámetro gamma del detector de outliers.\n",
    "\n",
    " b) Bajar el valor del parámetro gamma del detector de outliers.\n"
   ],
   "id": "ac6c8a353cc9c1fb"
  },
  {
   "metadata": {},
   "cell_type": "markdown",
   "source": [
    "### EJERCICIO 12:\n",
    "Usa el enlace del ejemplo que compara las clases linear.SGDOneClassSVM y\n",
    "svm.OneClassSVM  y usando uno de los métodos más sencillos de detección de outliers que vimos\n",
    "en la unidad 1, analiza los resultados y saca conclusiones de cada método."
   ],
   "id": "c5f58d85d83c135b"
  },
  {
   "metadata": {},
   "cell_type": "markdown",
   "source": [
    "### EJERCICIO 13:\n",
    "Copia el siguiente código que define unos datos para realizar clasificaciones en\n",
    "2 clases y crea, entrena y valida un clasificador de tipo SVC."
   ],
   "id": "d540eadc23d39c99"
  },
  {
   "metadata": {},
   "cell_type": "code",
   "outputs": [],
   "execution_count": null,
   "source": [
    "# Generar datos(2 clases)\n",
    "X, y = make_classification(n_samples=300, n_features=2, n_classes=2,\n",
    "                           n_clusters_per_class=1, n_redundant=0, random_state=449)\n",
    "\n",
    "X_train, X_test, y_train, y_test = train_test_split(X, y, test_size=0.3, random_state=449)\n",
    "\n",
    "# Entrenar un SVM con underfitting (C bajo, gamma bajo)\n",
    "svm_under = SVC(kernel='rbf', C=0.1, gamma=0.01)\n",
    "svm_under.fit(X_train, y_train)\n",
    "\n",
    "# Predecir y evaluar\n",
    "train_acc_under = accuracy_score(y_train, svm_under.predict(X_train))\n",
    "test_acc_under = accuracy_score(y_test, svm_under.predict(X_test))\n",
    "\n",
    "print(f\"SVM Underfitting - Accuracy Train: {train_acc_under:.3f}, Test: {test_acc_under:.3f}\")"
   ],
   "id": "e925b9c5bd5216e0"
  },
  {
   "metadata": {},
   "cell_type": "markdown",
   "source": [
    "a) Modifica el código y personaliza la semilla de procesos aleatorios (líneaas 10 y 11). Lo\n",
    "ejecutas y muestra el accuracy que se consigue en train y test e indica el % de underfitting que\n",
    "tienes: (score_train - score_test) / score_train * 100\n",
    "\n",
    "\n",
    " b) Añade esta función que colorea y dibuja las fronteras de decisión y representa los datos de\n",
    "entrenamiento y destaca los vectores soporte."
   ],
   "id": "686e15b4fc0b7e7d"
  },
  {
   "metadata": {},
   "cell_type": "code",
   "outputs": [],
   "execution_count": null,
   "source": [
    "def plot_frontera_decision(modelo, X, y):\n",
    "    xx, yy = np.meshgrid(np.linspace(X[:, 0].min()-1, X[:, 0].max()+1, 100),\n",
    "                         np.linspace(X[:, 1].min()-1, X[:, 1].max()+1, 100))\n",
    "    Z = modelo.decision_function(np.c_[xx.ravel(), yy.ravel()])\n",
    "    Z = Z.reshape(xx.shape)\n",
    "\n",
    "    # Graficar frontera de decisión, datos y vectores soporte\n",
    "    plt.contourf(xx, yy, Z, levels=[-1, 0, 1], alpha=0.3, colors=['blue', 'black', 'red'])\n",
    "    plt.contour(xx, yy, Z, levels=[-1], colors='red', linestyles='dashed')\n",
    "    plt.contour(xx, yy, Z, levels=[1], colors='blue', linestyles='dashed')\n",
    "\n",
    "    X_0 = X[y == 0]\n",
    "    X_1 = X[y == 1]\n",
    "\n",
    "    plt.scatter(X_0[:, 0], X_0[:, 1], color='green', edgecolors='k', label='Clase 0')\n",
    "    plt.scatter(X_1[:, 0], X_1[:, 1], color='red', edgecolors='k', label='Clase 1')\n",
    "    plt.scatter(modelo.support_vectors_[:, 0], modelo.support_vectors_[:, 1],\n",
    "                s=100, facecolors='none', edgecolors='k', linewidths=1.1, label=\"Vectores Soporte\")\n",
    "\n",
    "    plt.legend()\n",
    "    titulo = f\"SVC (C={modelo.C}, gamma={modelo.gamma})\"\n",
    "    plt.title(titulo)\n",
    "    plt.show()"
   ],
   "id": "a395de59becea317"
  },
  {
   "metadata": {},
   "cell_type": "markdown",
   "source": [
    "c) Ahora en una nueva celda del notebook crea y entrena con los mismos datos un nuevo SVC\n",
    "cambiando el valor de los hiperparámetros C y gamma que consigan bajar el porcentaje de\n",
    "underfitting por debajo del 2%. Muestra el gráfico y los valores de accuracy como en el caso\n",
    "anterior que se realizaría:"
   ],
   "id": "c83bde5815360bbd"
  },
  {
   "metadata": {},
   "cell_type": "code",
   "outputs": [],
   "execution_count": null,
   "source": "plot_frontera_decision(svm_under, X_train, y_train)",
   "id": "a75dda6b58d3d984"
  },
  {
   "metadata": {},
   "cell_type": "markdown",
   "source": [
    " ### EJERCICIO 14.\n",
    " Responde a estas preguntas sobre los árboles de decisión.\n",
    "\n",
    " 1. ¿Cuál podría ser aproximadamente la profundidad de un árbol de decisión entrenado sin\n",
    "restricciones usando un conjunto de entrenamiento de un millón de muestras?\n",
    "\n",
    " 2. Un nodo cuando se utiliza Gini como criterio de división su nivel de impureza es\n",
    "normalmente más bajo o más alto que sus nodos antecesores? ¿normalmente o siempre?\n",
    "\n",
    " 3. Si un árbol de decisión tiene overfitting ¿es buena idea decrementar max_depth?\n",
    "\n",
    " 4. Un árbol de decisión tiene underfitting ¿Es buena solución escalar características?\n",
    "\n",
    " 5. Si tardamos una hora en entrenar un árbol de decisión en un conjunto de datos de\n",
    "entrenamiento con 1 millón de muestras, ¿Cuánto tardemos aproximadamente en entrenar\n",
    "otro con un dataset de 100 millones de instancias?\n",
    "\n",
    " 6. Si entrenas un árbol con 100 mil instancias ¿Aumentas la velocidad si indicas\n",
    "presort=True durante el entrenamiento?"
   ],
   "id": "3c8731f75aebfbee"
  },
  {
   "metadata": {},
   "cell_type": "markdown",
   "source": [
    " ### EJERCICIO 15.\n",
    " Tienes este conjunto de datos y un algoritmo de aprendizaje ID3 (utiliza la entropía como métrica) va a construir un árbol de decisión.\n",
    "\n",
    "a) Consulta el algoritmo en el enlace y haz los cálculos necesarios a mano para averiguar cuál es la primera pregunta o la primera prueba que se aplicará en el nodo raíz del árbol (la mejor división). Usa este algoritmo\n",
    "y haz los cálculos a mano.\n",
    "\n",
    "b) Crea un programa en python que implemente estos pasos.\n",
    "\n",
    "c) Crea otro programa que use scikit a ver si obtiene resultados similares.\n",
    "\n",
    "d) ¿ID3 sirve para hacer regresiones?"
   ],
   "id": "4bd568834bea8551"
  },
  {
   "metadata": {},
   "cell_type": "markdown",
   "source": [
    "### EJERCICIO 16.\n",
    "\n",
    "En un árbol CART (utiliza Gini como métrica de impureza) se estudia dividir\n",
    "por dos criterios que generan las divisiones en clases que se ven en la figura:\n",
    "\n",
    "a) Calcula la impureza que obtendrías si divides por la pregunta “Buena circulación?”\n",
    "\n",
    "b) Calcula la impureza si preguntas por “Arterias bloqueadas?”.\n",
    "\n",
    "c) Indica qué pregunta escogería, es decir, cuál sería la mejor división"
   ],
   "id": "7412fd398f625e7e"
  },
  {
   "metadata": {},
   "cell_type": "markdown",
   "source": [
    "### EJERCICIO 17:\n",
    "En el ejercicio 24, ¿porque ponemos el parámetro propability=true en el constructor del clasificador SVC que se utiliza en el método ensamblaje voting_cla?\n"
   ],
   "id": "4ae86bbc6a25f4eb"
  },
  {
   "metadata": {},
   "cell_type": "markdown",
   "source": [
    "### EJERCICIO 18:\n",
    "EJEMPLO DE MODELO HMM MULTINOMIAL. Un modelo con distribución categórica generan salidas (como el lanzamiento de un dado) con n_features posibles valores, es decir, son una generalización de la distribución de probabilidad de Bernoulli porque hay n_features categorías en vez de dos posibles resultados: éxito/fallo. Un HMM categórico tiene probabilidades de emisión para cada componente parametrizado por distribuciones Categóricas.\n",
    "\n",
    "Un modelo Multinomial genera n_trials tiradas independientes de un dado, cada una con\n",
    "n_features posibles valores, es decir:\n",
    "\n",
    " • Cuando n_trials = 1 y n_features = 2, es como una distribución de Bernoulli.\n",
    "\n",
    " • Cuando n_trials > 1 y n_features = 2, es una distribución Binomial.\n",
    "\n",
    " • Cuando n_trials = 1 y n_features > 2, es una distribución Categórica.\n",
    "\n",
    " Las probabilidades de emisión de cada componente de un HMM Multinomial está parametrizado\n",
    "por distribuciones Multinomiales.\n",
    "\n",
    " Sospechamos que un casino está intercambiando un dado (uno o dos dados) por un dado trucado.\n",
    "Queremos averiguar:\n",
    "\n",
    " 1) Cuándo se utiliza el dado trucado (es decir, la ruta más probable)\n",
    "\n",
    " 2) Con qué frecuencia se utiliza el dado trucado (es decir, probabilidades de transición) y\n",
    "\n",
    " 3) Probabilidades de cada resultado en una tirada (es decir, probabilidades de emisión).\n"
   ],
   "id": "740d013e4836ea4b"
  },
  {
   "metadata": {},
   "cell_type": "code",
   "outputs": [],
   "execution_count": null,
   "source": [
    "# Cargamos librerías\n",
    "from hmmlearn import hmm\n",
    "\n",
    "# Hacemos modelo generativo con 2 componentes; dado legal + dado trucado\n",
    "gen_modelo = hmm.CategoricalHMM(n_components=2, random_state=449) # Personaliza tu semilla\n",
    "\n",
    "# El primer estado es el dado legal así que comenzamos siempre con él\n",
    "gen_modelo.startprob_ = np.array([1.0, 0.0])\n",
    "\n",
    "# Ahora usamos el dado trucado:\n",
    "# - Tenemos un 95 % de posibilidades de seguir usando el dado Ok y un 5 %\n",
    "#   de posibilidades de cambiar al dado trucado\n",
    "# - Cuando entramos en el estado del dado trucado, tenemos un 90 % de\n",
    "#   posibilidades de permanecer en ese estado y un 10 % de posibilidades de salir\n",
    "gen_modelo.transmat_ = np.array([[0.95, 0.05],\n",
    "                              [0.1, 0.9]])\n",
    "\n",
    "# El primer estado (fila 0) es del dado legal: probabilidades típicas de un dado.\n",
    "# El segundo (dado trucado) y está sesgado hacia el 6 (lo peor en el juego)\n",
    "gen_modelo.emissionprob_ = np.array([[1/6, 1/6, 1/6, 1/6, 1/6, 1/6],\n",
    "                                  [1/10, 1/10, 1/10, 1/10, 1/10, 1/2]])\n",
    "\n",
    "# simulamos 30 mil tiradas\n",
    "tiradas, gen_estados = gen_modelo.sample(30000)"
   ],
   "id": "83f1dfe2f70e27e4"
  },
  {
   "metadata": {},
   "cell_type": "code",
   "outputs": [],
   "execution_count": null,
   "source": [
    "# Dibujamos los estados a lo largo del tiempo\n",
    "fig, ax = plt.subplots()\n",
    "\n",
    "ax.plot(gen_estados[:500])\n",
    "\n",
    "ax.set_title('Estados sobre tiempo')\n",
    "ax.set_xlabel('Tiempo (# de tiradas)')\n",
    "ax.set_ylabel('Estado')\n",
    "\n",
    "plt.show()"
   ],
   "id": "cf0a001fdbd01070"
  },
  {
   "metadata": {},
   "cell_type": "code",
   "outputs": [],
   "execution_count": null,
   "source": [
    "# Dibujamos tiradas del dado ok y del trucado\n",
    "fig, ax = plt.subplots()\n",
    "\n",
    "ax.hist(tiradas[gen_estados == 0], label='legal', alpha=0.5, bins=np.arange(7) - 0.5, density=True)\n",
    "\n",
    "ax.hist(tiradas[gen_estados == 1], label='trucado', alpha=0.5, bins=np.arange(7) - 0.5, density=True)\n",
    "\n",
    "ax.set_title('Probabilidades de tirada por estado')\n",
    "ax.set_xlabel('Contador')\n",
    "ax.set_ylabel('Tirada')\n",
    "ax.legend()\n",
    "\n",
    "plt.show()"
   ],
   "id": "e7416185962071a7"
  },
  {
   "metadata": {},
   "cell_type": "markdown",
   "source": [
    "Ahora, vamos a volver a recalcular los estados ocultos, la matriz de transición y la matriz de\n",
    "emisión entrenando un nuevo modelo con las observaciones generadas con nuestro sintético que\n",
    "intentaba reproducir el escenario del casino. Copia el código y personaliza las semillas aleatorias\n",
    "(línea 9)."
   ],
   "id": "ba30c03bb7c26253"
  },
  {
   "metadata": {},
   "cell_type": "code",
   "outputs": [],
   "execution_count": null,
   "source": [
    "# Dividimos datos en train y test (50/50)\n",
    "X_train = tiradas[:tiradas.shape[0] // 2]\n",
    "X_test = tiradas[tiradas.shape[0] // 2:]\n",
    "\n",
    "# Buscar un modelo con score óptimo\n",
    "gen_score = gen_modelo.score(X_test)\n",
    "mejor_score = None\n",
    "mejor_modelo = None\n",
    "\n",
    "n_entrenamientos = 50\n",
    "np.random.seed(449) # Personaliza la semilla aleatoria\n",
    "\n",
    "for idx in range(n_entrenamientos):\n",
    "    modelo1 = hmm.CategoricalHMM(n_components=2, random_state=idx, init_params='se')\n",
    "    # No se inicializa la matriz de transiciones, deben dejarse aleatorias\n",
    "    # porque el valor por defecto es una transición likelihood\n",
    "    # sabemos que son raras (de otra forma el casino queda descubierto!)\n",
    "    # así que usamos una distribución aleatoria Dirichlet a-priori con un alfa de\n",
    "    # (0.1, 0.9) para forzar nuestra suposición de que las transiciones ocurren un 10 %\n",
    "    modelo1.transmat_ = np.array([np.random.dirichlet([0.9, 0.1]),\n",
    "                                np.random.dirichlet([0.1, 0.9])])\n",
    "    modelo1.fit(X_train)\n",
    "    score = modelo1.score(X_test)\n",
    "    print(f'Modelo #{idx}\\tScore: {score}')\n",
    "    if mejor_score is None or score > mejor_score:\n",
    "        mejor_modelo = modelo1\n",
    "        mejor_score = score\n",
    "\n",
    "print(f'Score generado: {gen_score}\\tMejor score: {mejor_score}')"
   ],
   "id": "6d5a38498e8536c1"
  },
  {
   "metadata": {},
   "cell_type": "markdown",
   "source": [
    " Una vez tenemos el modelo entrenado, generamos los mejores estados ocultos posibles con el\n",
    "algoritmo de codificación, en este caso Viterbi."
   ],
   "id": "1273317a0bb2a083"
  },
  {
   "metadata": {},
   "cell_type": "code",
   "outputs": [],
   "execution_count": null,
   "source": [
    "# Usar Viterbi para predecir secuencia de estados más probable\n",
    "estados = mejor_modelo.predict(tiradas)\n",
    "\n",
    "# Dibujar los estados recuperados comparados con los generados (primer objetivo)\n",
    "fig, ax = plt.subplots()\n",
    "\n",
    "ax.plot(gen_estados[:500], label='generados')\n",
    "ax.plot(estados[:500] + 1.5, label='recuperados')\n",
    "\n",
    "ax.set_yticks([])  # Quitar las marcas del eje y\n",
    "ax.set_title('Estados vs Generados')\n",
    "ax.set_xlabel('Tiempo (# tiradas)')\n",
    "ax.set_ylabel('Estado')  # Corregido: el ylabel debe ser 'Estado'\n",
    "ax.legend()\n",
    "\n",
    "plt.show()"
   ],
   "id": "5d295bf1bae485d6"
  },
  {
   "metadata": {},
   "cell_type": "markdown",
   "source": [
    " Y tras dibujar el gráfico que nos muestra cuando se está utilizando el dado trucado\n",
    "(probabilísticamente) intentamos responder las otras cuestiones:"
   ],
   "id": "ff3ac750ee80d641"
  },
  {
   "metadata": {},
   "cell_type": "markdown",
   "source": " 2) Con qué frecuencia se utiliza el dado trucado (es decir, probabilidades de transición)",
   "id": "2d354f0049cdd472"
  },
  {
   "metadata": {},
   "cell_type": "code",
   "outputs": [],
   "execution_count": null,
   "source": [
    "# Comprobamos transiciones aprendidas y miramos si concuerdan\n",
    "print(f'Matriz de Transición Generada:\\n{gen_modelo.transmat_.round(3)}\\n\\n'\n",
    "      f'Matriz de Transición Recuperada:\\n{mejor_modelo.transmat_.round(3)}\\n\\n')"
   ],
   "id": "d2b3eab6818b8398"
  },
  {
   "metadata": {},
   "cell_type": "markdown",
   "source": "Probabilidades de cada resultado en una tirada (es decir, probabilidades de emisión).\n",
   "id": "d7073c6cb5deb879"
  },
  {
   "metadata": {},
   "cell_type": "code",
   "outputs": [],
   "execution_count": null,
   "source": [
    "# Finalmente vemos de qué forma está trucado el dado\n",
    "print(f'Matriz de Emisiones Generada:\\n{gen_modelo.emissionprob_.round(3)}\\n\\n'\n",
    "      f'Matriz de Emisiones Recuperada:\\n{mejor_modelo.emissionprob_.round(3)}\\n\\n')"
   ],
   "id": "9a2dd37843e93f74"
  },
  {
   "metadata": {},
   "cell_type": "markdown",
   "source": [
    " EJERCICIO 19: Predicción del Clima con un Modelo Oculto de Markov (HMM). Vamos a\n",
    "modelar una situación donde el clima (soleado, nublado, lluvioso) es un estado oculto y lo que\n",
    "observamos son actividades diarias (caminar, ir de compras, limpiar de personas). Es decir,\n",
    "nuestro problema es modelizar Estados ocultos (Clima): ☀️ Soleado (0), ☁️ Nublado (1) y 🌧️\n",
    "Lluvioso (2) cuando observamos Observaciones (Actividades):\n",
    "Caminar (0),\n",
    "y\n",
    "�\n",
    "�\n",
    "�\n",
    "�\n",
    " ️\n",
    "Comprar (1)\n",
    " Limpiar (2). Las probabilidades iniciales, de transición y emisión quedan recogidas en esta\n",
    " figura. Usa python para modelizar este sistema y genera 20 secuencias que debes imprimir"
   ],
   "id": "7ffcee72ba50cb6b"
  },
  {
   "metadata": {},
   "cell_type": "code",
   "outputs": [],
   "execution_count": null,
   "source": "",
   "id": "6d426a96e9e0d402"
  }
 ],
 "metadata": {
  "kernelspec": {
   "display_name": "Python 3",
   "language": "python",
   "name": "python3"
  },
  "language_info": {
   "codemirror_mode": {
    "name": "ipython",
    "version": 2
   },
   "file_extension": ".py",
   "mimetype": "text/x-python",
   "name": "python",
   "nbconvert_exporter": "python",
   "pygments_lexer": "ipython2",
   "version": "2.7.6"
  }
 },
 "nbformat": 4,
 "nbformat_minor": 5
}
