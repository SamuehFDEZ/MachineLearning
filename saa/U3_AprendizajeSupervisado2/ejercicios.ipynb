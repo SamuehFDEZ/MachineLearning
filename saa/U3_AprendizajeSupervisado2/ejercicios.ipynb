{
 "cells": [
  {
   "metadata": {},
   "cell_type": "markdown",
   "source": "#  EJERCICIOS",
   "id": "f66dac1efd6cc19f"
  },
  {
   "metadata": {},
   "cell_type": "markdown",
   "source": [
    "### EJERCICIO 1.\n",
    "Tenemos un tarro con 20 bolas de colores rojo y negro que tienen inscrito un\n",
    "número. Vas a usarlo para calcular probabilidades y probabilidades condicionadas cuando\n",
    "sacamos una de las bolas son mirar, al azar. Calcula:\n",
    "\n",
    " a) P(roja): <span style=\"color:green;\"></span><br>\n",
    "\n",
    " b) P(negra) sin necesidad de contar las negras que hay.<span style=\"color:green;\"></span><br>\n",
    "\n",
    " c) P(par)<span style=\"color:green;\"></span><br>\n",
    "\n",
    " d) P(roja y par)<span style=\"color:green;\"></span><br>\n",
    "\n",
    " e) P(< 20)<span style=\"color:green;\"></span><br>\n",
    "\n",
    " f) P(roja / par)<span style=\"color:green;\"></span><br>\n",
    "\n",
    " g) P(par/roja) calculada de dos formas diferentes<span style=\"color:green;\"></span><br>\n",
    "\n",
    " Para facilitar los cálculos puedes usar una tabla de contingencia\n",
    "que da acceso a todos los contadores de forma resumida:\n"
   ],
   "id": "18fc1db7b59ac955"
  },
  {
   "metadata": {},
   "cell_type": "markdown",
   "source": "<img src=\"img/captura1.png\" alt=\"captura1\">",
   "id": "c47b340d09d1f664"
  },
  {
   "cell_type": "code",
   "execution_count": null,
   "id": "initial_id",
   "metadata": {
    "collapsed": true
   },
   "outputs": [],
   "source": [
    ""
   ]
  }
 ],
 "metadata": {
  "kernelspec": {
   "display_name": "Python 3",
   "language": "python",
   "name": "python3"
  },
  "language_info": {
   "codemirror_mode": {
    "name": "ipython",
    "version": 2
   },
   "file_extension": ".py",
   "mimetype": "text/x-python",
   "name": "python",
   "nbconvert_exporter": "python",
   "pygments_lexer": "ipython2",
   "version": "2.7.6"
  }
 },
 "nbformat": 4,
 "nbformat_minor": 5
}
