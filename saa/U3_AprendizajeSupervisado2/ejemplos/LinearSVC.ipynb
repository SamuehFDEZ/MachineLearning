{
 "cells": [
  {
   "cell_type": "code",
   "id": "initial_id",
   "metadata": {
    "collapsed": true,
    "ExecuteTime": {
     "end_time": "2025-03-31T15:03:25.032871Z",
     "start_time": "2025-03-31T15:03:23.354742Z"
    }
   },
   "source": [
    "import numpy as np\n",
    "from sklearn import datasets\n",
    "from sklearn.pipeline import Pipeline\n",
    "from sklearn.preprocessing import StandardScaler\n",
    "from sklearn.svm import LinearSVC"
   ],
   "outputs": [],
   "execution_count": 1
  },
  {
   "metadata": {
    "ExecuteTime": {
     "end_time": "2025-03-31T15:03:25.117515Z",
     "start_time": "2025-03-31T15:03:25.048707Z"
    }
   },
   "cell_type": "code",
   "source": [
    "iris = datasets.load_iris()\n",
    "X = iris[\"data\"][:, (2, 3)]\n",
    "y = (iris[\"target\"] == 2).astype(np.float64)\n",
    "# longitud y anchura de pétalos\n",
    "# Iris-Virginica\n",
    "svm_clf = Pipeline([(\"scaler\", StandardScaler()),\n",
    "                ( \"linear_svc\", LinearSVC(C=1, loss=\"hinge\")),\n",
    "               ])\n",
    "svm_clf.fit(X, y)\n",
    "# Usar el modelo para hacer predicciones\n",
    "print( svm_clf.predict([[5.5, 1.7]]) )"
   ],
   "id": "a6dde24f1583fb26",
   "outputs": [
    {
     "name": "stdout",
     "output_type": "stream",
     "text": [
      "[1.]\n"
     ]
    }
   ],
   "execution_count": 2
  }
 ],
 "metadata": {
  "kernelspec": {
   "display_name": "Python 3",
   "language": "python",
   "name": "python3"
  },
  "language_info": {
   "codemirror_mode": {
    "name": "ipython",
    "version": 2
   },
   "file_extension": ".py",
   "mimetype": "text/x-python",
   "name": "python",
   "nbconvert_exporter": "python",
   "pygments_lexer": "ipython2",
   "version": "2.7.6"
  }
 },
 "nbformat": 4,
 "nbformat_minor": 5
}
