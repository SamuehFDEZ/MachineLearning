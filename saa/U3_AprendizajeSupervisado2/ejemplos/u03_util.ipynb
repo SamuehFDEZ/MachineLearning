{
 "cells": [
  {
   "metadata": {},
   "cell_type": "markdown",
   "source": "### EJEMPLO 11: Creamos el fichero u03_util.py donde implementamos varias funciones de dibujo",
   "id": "526bd69e04923e8b"
  },
  {
   "cell_type": "code",
   "id": "initial_id",
   "metadata": {
    "collapsed": true,
    "ExecuteTime": {
     "end_time": "2025-03-31T15:13:19.114267Z",
     "start_time": "2025-03-31T15:13:19.057825Z"
    }
   },
   "source": [
    "# FICHERO u03_util.py\n",
    "# contiene varios métodos que se usarán en varios ejemplos\n",
    "import numpy as np\n",
    "import matplotlib as mpl\n",
    "import matplotlib.pyplot as plt\n",
    "from matplotlib.colors import ListedColormap, colorConverter\n",
    "from u03_tools import discrete_scatter, plot_2d_separator, cm2\n",
    "from sklearn.datasets import make_blobs\n",
    "from sklearn.svm import LinearSVC"
   ],
   "outputs": [
    {
     "ename": "ModuleNotFoundError",
     "evalue": "No module named 'u03_tools'",
     "output_type": "error",
     "traceback": [
      "\u001B[1;31m---------------------------------------------------------------------------\u001B[0m",
      "\u001B[1;31mModuleNotFoundError\u001B[0m                       Traceback (most recent call last)",
      "Cell \u001B[1;32mIn[16], line 7\u001B[0m\n\u001B[0;32m      5\u001B[0m \u001B[38;5;28;01mimport\u001B[39;00m \u001B[38;5;21;01mmatplotlib\u001B[39;00m\u001B[38;5;21;01m.\u001B[39;00m\u001B[38;5;21;01mpyplot\u001B[39;00m \u001B[38;5;28;01mas\u001B[39;00m \u001B[38;5;21;01mplt\u001B[39;00m\n\u001B[0;32m      6\u001B[0m \u001B[38;5;28;01mfrom\u001B[39;00m \u001B[38;5;21;01mmatplotlib\u001B[39;00m\u001B[38;5;21;01m.\u001B[39;00m\u001B[38;5;21;01mcolors\u001B[39;00m \u001B[38;5;28;01mimport\u001B[39;00m ListedColormap, colorConverter\n\u001B[1;32m----> 7\u001B[0m \u001B[38;5;28;01mfrom\u001B[39;00m \u001B[38;5;21;01mu03_tools\u001B[39;00m \u001B[38;5;28;01mimport\u001B[39;00m discrete_scatter, plot_2d_separator, cm2\n\u001B[0;32m      8\u001B[0m \u001B[38;5;28;01mfrom\u001B[39;00m \u001B[38;5;21;01msklearn\u001B[39;00m\u001B[38;5;21;01m.\u001B[39;00m\u001B[38;5;21;01mdatasets\u001B[39;00m \u001B[38;5;28;01mimport\u001B[39;00m make_blobs\n",
      "\u001B[1;31mModuleNotFoundError\u001B[0m: No module named 'u03_tools'"
     ]
    }
   ],
   "execution_count": 16
  },
  {
   "metadata": {
    "ExecuteTime": {
     "end_time": "2025-03-31T15:13:19.122004700Z",
     "start_time": "2025-03-31T15:10:36.463262Z"
    }
   },
   "cell_type": "code",
   "source": [
    "cm2 = ListedColormap(['#0000aa', '#ff2020'])\n",
    "def discrete_scatter(x1, x2, y=None, markers=None, s=10, ax=None, labels=None, padding=.2, alpha=1, c=None, markeredgewidth=None):\n",
    "    if ax is None:\n",
    "        ax = plt.gca()\n",
    "    if y is None:\n",
    "        y = np.zeros(len(x1))\n",
    "    unique_y = np.unique(y)\n",
    "    if markers is None:\n",
    "        markers = ['o', '^', 'v', 'D', 's', '*', 'p', 'h', 'H', '8', '<', '>'] * 10\n",
    "    if len(markers) == 1:\n",
    "        markers = markers * len(unique_y)\n",
    "    if labels is None:\n",
    "        labels = unique_y\n",
    "    lineas = []\n",
    "    current_cycler = mpl.rcParams['axes.prop_cycle']\n",
    "    for i, (yy, cycle) in enumerate(zip(unique_y, current_cycler())):\n",
    "        mask = y == yy\n",
    "    if c is None:\n",
    "        color = cycle['color']\n",
    "    elif len(c) > 1:\n",
    "        color = c[i]\n",
    "    else:\n",
    "        color = c\n",
    "    # si c es none, usa colores repetidos\n",
    "    if np.mean(colorConverter.to_rgb(color)) < .4: # frontera clara si marker oscuro\n",
    "            markeredgecolor = \"grey\"\n",
    "    else:\n",
    "        markeredgecolor = \"black\"\n",
    "        lineas.append(ax.plot(x1[mask], x2[mask], markers[i], markersize=s, label=labels[i], alpha=alpha, c=color,markeredgewidth=markeredgewidth, markeredgecolor=markeredgecolor)[0])\n",
    "    if padding != 0:\n",
    "        pad1 = x1.std() * padding\n",
    "        pad2 = x2.std() * padding\n",
    "        xlim = ax.get_xlim()\n",
    "        ylim = ax.get_ylim()\n",
    "        ax.set_xlim(min(x1.min() - pad1, xlim[0]), max(x1.max() + pad1, xlim[1]))\n",
    "        ax.set_ylim(min(x2.min() - pad2, ylim[0]), max(x2.max() + pad2, ylim[1]))\n",
    "    return lineas"
   ],
   "id": "838eba856e08ca30",
   "outputs": [],
   "execution_count": 12
  },
  {
   "metadata": {
    "ExecuteTime": {
     "end_time": "2025-03-31T15:13:19.160532Z",
     "start_time": "2025-03-31T15:10:36.508341Z"
    }
   },
   "cell_type": "code",
   "source": [
    "def plot_2d_separator(classifier, X, fill=False, ax=None, eps=None, alpha=1, cm=cm2, linewidth=None, threshold=None, linestyle=\"solid\"):\n",
    "    if eps is None:\n",
    "        eps = X.std() / 2.\n",
    "    if ax is None:\n",
    "        ax = plt.gca()\n",
    "    x_min, x_max = X[:, 0].min() - eps, X[:, 0].max() + eps\n",
    "    y_min, y_max = X[:, 1].min() - eps, X[:, 1].max() + eps\n",
    "    xx = np.linspace(x_min, x_max, 1000)\n",
    "    yy = np.linspace(y_min, y_max, 1000)\n",
    "    X1, X2 = np.meshgrid(xx, yy)\n",
    "    X_grid = np.c_[X1.ravel(), X2.ravel()]"
   ],
   "id": "68909072ec4b1f5e",
   "outputs": [],
   "execution_count": 13
  },
  {
   "metadata": {
    "ExecuteTime": {
     "end_time": "2025-03-31T15:13:19.191103600Z",
     "start_time": "2025-03-31T15:10:36.549004Z"
    }
   },
   "cell_type": "code",
   "source": [
    "try:\n",
    "    decision_values = classifier.decision_function(X_grid)\n",
    "    levels = [0] if threshold is None else [threshold]\n",
    "    fill_levels = [decision_values.min()] + levels + [decision_values.max()]\n",
    "except AttributeError:\n",
    "    # no decision_function\n",
    "    decision_values = classifier.predict_proba(X_grid)[:, 1]\n",
    "    levels = [.5] if threshold is None else [threshold]\n",
    "    fill_levels = [0] + levels + [1]\n",
    "    if fill:\n",
    "        ax.contourf(X1, X2, decision_values.reshape(X1.shape), levels=fill_levels, alpha=alpha, cmap=cm)\n",
    "    else:\n",
    "        ax.contour(X1, X2, decision_values.reshape(X1.shape), levels=levels, colors=\"black\", alpha=alpha, linewidths=linewidth, linestyles=linestyle, zorder=5)\n",
    "        ax.set_xlim(x_min, x_max)\n",
    "        ax.set_ylim(y_min, y_max)\n",
    "        ax.set_xticks(())\n",
    "        ax.set_yticks(())\n",
    "def plot_dataset(X, y, axes):\n",
    "    plt.plot(X[:, 0][y==0], X[:, 1][y==0], \"bs\")\n",
    "    plt.plot(X[:, 0][y==1], X[:, 1][y==1], \"g^\")\n",
    "    plt.axis(axes)\n",
    "    plt.grid(True, which='both')\n",
    "    plt.xlabel(r\"$x_1$\", fontsize=14)\n",
    "    plt.ylabel(r\"$x_2$\", fontsize=14, rotation=0)\n",
    "def plot_predicciones(clf, axes):\n",
    "    x0s = np.linspace(axes[0], axes[1], 100)\n",
    "    x1s = np.linspace(axes[2], axes[3], 100)\n",
    "    x0, x1 = np.meshgrid(x0s, x1s)\n",
    "    X = np.c_[x0.ravel(), x1.ravel()]\n",
    "    y_pred = clf.predict(X).reshape(x0.shape)\n",
    "    y_decision = clf.decision_function(X).reshape(x0.shape)\n",
    "    plt.contourf(x0, x1, y_pred, cmap=plt.cm.brg, alpha=0.2)\n",
    "    plt.contourf(x0, x1, y_decision, cmap=plt.cm.brg, alpha=0.1)"
   ],
   "id": "459f00258e80b87c",
   "outputs": [
    {
     "ename": "NameError",
     "evalue": "name 'classifier' is not defined",
     "output_type": "error",
     "traceback": [
      "\u001B[1;31m---------------------------------------------------------------------------\u001B[0m",
      "\u001B[1;31mNameError\u001B[0m                                 Traceback (most recent call last)",
      "Cell \u001B[1;32mIn[14], line 2\u001B[0m\n\u001B[0;32m      1\u001B[0m \u001B[38;5;28;01mtry\u001B[39;00m:\n\u001B[1;32m----> 2\u001B[0m     decision_values \u001B[38;5;241m=\u001B[39m \u001B[43mclassifier\u001B[49m\u001B[38;5;241m.\u001B[39mdecision_function(X_grid)\n\u001B[0;32m      3\u001B[0m     levels \u001B[38;5;241m=\u001B[39m [\u001B[38;5;241m0\u001B[39m] \u001B[38;5;28;01mif\u001B[39;00m threshold \u001B[38;5;129;01mis\u001B[39;00m \u001B[38;5;28;01mNone\u001B[39;00m \u001B[38;5;28;01melse\u001B[39;00m [threshold]\n\u001B[0;32m      4\u001B[0m     fill_levels \u001B[38;5;241m=\u001B[39m [decision_values\u001B[38;5;241m.\u001B[39mmin()] \u001B[38;5;241m+\u001B[39m levels \u001B[38;5;241m+\u001B[39m [decision_values\u001B[38;5;241m.\u001B[39mmax()]\n",
      "\u001B[1;31mNameError\u001B[0m: name 'classifier' is not defined"
     ]
    }
   ],
   "execution_count": 14
  },
  {
   "metadata": {},
   "cell_type": "markdown",
   "source": "###  EJEMPLO 12: Generar y dibujar datos linealmente no separables en 2D.\n",
   "id": "fa9619c7a8074cb1"
  },
  {
   "metadata": {
    "ExecuteTime": {
     "end_time": "2025-03-31T15:13:19.196975900Z",
     "start_time": "2025-03-31T15:13:14.282871Z"
    }
   },
   "cell_type": "code",
   "source": [
    "X, y = make_blobs(centers=4, random_state=8)\n",
    "y = y % 2\n",
    "discrete_scatter(X[:, 0], X[:, 1], y)\n",
    "plt.xlabel(\"Característica 0\")\n",
    "plt.ylabel(\"Característica 1\")\n",
    "plt.plot()"
   ],
   "id": "2e20c0bb4baa25d8",
   "outputs": [
    {
     "ename": "NameError",
     "evalue": "name 'make_blobs' is not defined",
     "output_type": "error",
     "traceback": [
      "\u001B[1;31m---------------------------------------------------------------------------\u001B[0m",
      "\u001B[1;31mNameError\u001B[0m                                 Traceback (most recent call last)",
      "Cell \u001B[1;32mIn[15], line 1\u001B[0m\n\u001B[1;32m----> 1\u001B[0m X, y \u001B[38;5;241m=\u001B[39m \u001B[43mmake_blobs\u001B[49m(centers\u001B[38;5;241m=\u001B[39m\u001B[38;5;241m4\u001B[39m, random_state\u001B[38;5;241m=\u001B[39m\u001B[38;5;241m8\u001B[39m)\n\u001B[0;32m      2\u001B[0m y \u001B[38;5;241m=\u001B[39m y \u001B[38;5;241m%\u001B[39m \u001B[38;5;241m2\u001B[39m\n\u001B[0;32m      3\u001B[0m discrete_scatter(X[:, \u001B[38;5;241m0\u001B[39m], X[:, \u001B[38;5;241m1\u001B[39m], y)\n",
      "\u001B[1;31mNameError\u001B[0m: name 'make_blobs' is not defined"
     ]
    }
   ],
   "execution_count": 15
  },
  {
   "metadata": {},
   "cell_type": "markdown",
   "source": "### EJEMPLO 13: Crear y entrenar un modelo clasificador SVM para los datos del EJEMPLO 12.",
   "id": "1978ac862631e998"
  },
  {
   "metadata": {},
   "cell_type": "code",
   "outputs": [],
   "execution_count": null,
   "source": [
    "lineal_svm = LinearSVC().fit(X, y)\n",
    "plot_2d_separator(lineal_svm, X)\n",
    "discrete_scatter(X[:, 0], X[:, 1], y)\n",
    "plt.xlabel(\"Característica 0\")\n",
    "plt.ylabel(\"Característica 1\")"
   ],
   "id": "b90735d7dca4784d"
  },
  {
   "metadata": {},
   "cell_type": "markdown",
   "source": "### EJEMPLO 14: Crear y entrenar un modelo clasificador SVM para los datos del EJEMPLO 12.",
   "id": "d6dbf5c8f9febc89"
  },
  {
   "metadata": {},
   "cell_type": "code",
   "outputs": [],
   "execution_count": null,
   "source": [
    "X_new = np.hstack( [X, X[:, 1:] ** 2] )\n",
    "ax = plt.figure(figsize=(12,11)).add_subplot(projection='3d')\n",
    "mascara = y == 0\n",
    "ax.scatter(X_new[mascara, 0], X_new[mascara, 1], X_new[mascara, 2], c='b', cmap= cm2,\n",
    "       s=60, edgecolor='k')\n",
    "ax.scatter(X_new[~mascara, 0], X_new[~mascara, 1], X_new[~mascara, 2], c='r', marker='^',\n",
    "       cmap=cm2, s=60, edgecolor='k')\n",
    "ax.set_xlabel(\"característica0\")\n",
    "ax.set_ylabel(\"característica1\")\n",
    "ax.set_zlabel(\"caracerística1 ** 2\")\n",
    "ax.view_init(elev=-152., azim=-26, roll=0) # plt.show()"
   ],
   "id": "d37c1c1fd185001c"
  },
  {
   "metadata": {},
   "cell_type": "markdown",
   "source": " ###  EJEMPLO 15: Dibujar el plano 3D que separa los datos de las dos clases.\n",
   "id": "2c67d810f56c739d"
  },
  {
   "metadata": {},
   "cell_type": "code",
   "outputs": [],
   "execution_count": null,
   "source": [
    "lineal_svm_3d = LinearSVC().fit(X_new, y)\n",
    "coef, intercept = lineal_svm_3d.coef_.ravel(), lineal_svm_3d.intercept_\n",
    "# Mostrar la frontera de decisión\n",
    "ax = plt.figure(figsize=(10,11)).add_subplot(projection='3d')\n",
    "xx = np.linspace(X_new[:, 0].min() - 2, X_new[:, 0].max() + 2, 50)\n",
    "yy = np.linspace(X_new[:, 1].min() - 2, X_new[:, 1].max() + 2, 50)\n",
    "XX, YY = np.meshgrid(xx, yy)\n",
    "ZZ = (coef[0] * XX + coef[1] * YY + intercept) / -coef[2]\n",
    "ax.plot_surface(XX, YY, ZZ, rstride=8, cstride=8, alpha=0.3)\n",
    "ax.scatter(X_new[mascara, 0], X_new[mascara, 1], X_new[mascara, 2], c='b',\n",
    "       cmap=cm2, s=60, edgecolor='k')\n",
    "ax.scatter(X_new[~mascara, 0], X_new[~mascara, 1], X_new[~mascara, 2], c='r',\n",
    "       marker='^', cmap=cm2, s=60, edgecolor='k')\n",
    "ax.set_xlabel(\"característica0\")\n",
    "ax.set_ylabel(\"característica1\")\n",
    "ax.set_zlabel(\"caracerística1 ** 2\")\n",
    "ax.view_init(elev=-156., azim=-20, roll=0) # plt.show()"
   ],
   "id": "2686eb32e587a605"
  }
 ],
 "metadata": {
  "kernelspec": {
   "display_name": "Python 3",
   "language": "python",
   "name": "python3"
  },
  "language_info": {
   "codemirror_mode": {
    "name": "ipython",
    "version": 2
   },
   "file_extension": ".py",
   "mimetype": "text/x-python",
   "name": "python",
   "nbconvert_exporter": "python",
   "pygments_lexer": "ipython2",
   "version": "2.7.6"
  }
 },
 "nbformat": 4,
 "nbformat_minor": 5
}
