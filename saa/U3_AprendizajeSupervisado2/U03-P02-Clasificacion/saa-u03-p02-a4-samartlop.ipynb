{
 "cells": [
  {
   "metadata": {},
   "cell_type": "markdown",
   "source": "# 📌ACTIVIDAD 4: CLASIFICAR OBRAS DE ARTE.",
   "id": "9f41ec1c0095f6c4"
  },
  {
   "metadata": {},
   "cell_type": "markdown",
   "source": [
    "Crea el notebook saa-u03-p02-a4-<tus_iniciales>.ipynb donde completar la actividad. La\n",
    "actividad va a consistir en implementar un modelo clasificador al que podamos pasar un\n",
    "cuadro y este intente indicarnos el autor de la obra de arte y con qué probabilidad es de este\n",
    "artista."
   ],
   "id": "596f122a7697fe18"
  },
  {
   "metadata": {},
   "cell_type": "markdown",
   "source": "## DEFINIR DATASET",
   "id": "fe12defeb8b16398"
  },
  {
   "metadata": {},
   "cell_type": "markdown",
   "source": [
    " Debes acceder a la carpeta 📂 carpeta  y buscar un cuadro de cada uno de estos pintores: Cezánne, Dalí,\n",
    "Gauguin, Goya, Kandinsky, Miró, Monet, Picasso, Renoir, Rubens, Sorolla, Tiziano, Vangogh y Velázquez. Ya\n",
    "hay 14 ficheros que puedes usar además de los que tu mismo busques. Debes dejar en la carpeta tus\n",
    "ficheros con el formato pintor-<tus_iniciales>-fichero.png.\n",
    "Una vez tengamos suficientes datos, puedes utilizar la misma técnica que usamos en la práctica\n",
    "anterior para generar un .csv con los datos. Elige tu mismo un tamaño de la imagen (recuerda que\n",
    "nuestros recursos son locales y a mayor tamaño más características y mayor procesamiento\n",
    "necesitaremos, intenta que el tamaño tenga la relación de aspecto 4:3).\n",
    "Nuestro target será el nombre del artista. Será por tanto una clasificación multiclase."
   ],
   "id": "878b56a28561ab6c"
  },
  {
   "metadata": {},
   "cell_type": "markdown",
   "source": [
    "## IMPLEMENTAR CLASIFICADORES\n",
    " Prueba al menos a entrenar 2 clasificadores:\n",
    "\n",
    " • El primero: SVC ó Árbol ó RandomForest.\n",
    "\n",
    " • El segundo: método ensemble: Boost/Bagging.\n",
    "\n",
    " Puedes utilizar lo que hicimos en la práctica anterior: defines un diccionario que contenga pipelines\n",
    "que preprocesen y entrenen a cada clasificador y lo haces en un bucle. O puedes hacerlo uno a uno de\n",
    "forma manual, como prefieras."
   ],
   "id": "adb2672975b20d93"
  },
  {
   "metadata": {},
   "cell_type": "markdown",
   "source": [
    "## MEDIR DESEMPEÑO\n",
    " Mide el desempeño de todos, muestra informes de entrenamiento y la matriz de confusión. Haz un\n",
    "gráfico de barras donde aparezcan los puntajes obtenidos por cada uno en train y test."
   ],
   "id": "5fe4d62959f30879"
  },
  {
   "metadata": {},
   "cell_type": "markdown",
   "source": [
    "## MEJORAR ALGUNO AJUSTANDO HIPERPARÁMETROS\n",
    " Escoge el que quieras y define el objetivo que quieres conseguir: o mejorar su puntaje o bajar el\n",
    "overfitting, mediante el ajuste de uno o varios de sus hiperparámetros. Mide y muestra de nuevo el\n",
    "desempeño en train y en test."
   ],
   "id": "6e101bc819188ed6"
  },
  {
   "metadata": {},
   "cell_type": "markdown",
   "source": [
    "ENTREGA 7:\n",
    "\n",
    " a)\n",
    " Fotografías subidas a la carpeta compartida:\n",
    "\n",
    "b)\n",
    " Fichero csv con los datos de las fotografías transformado y código que las transforma.\n",
    "\n",
    " c)\n",
    " División de los datos en train y test dejando el 80% de datos para train e intentando no\n",
    "desbalancear los datos y con tu propia semilla aleatoria.\n",
    "\n",
    " d)\n",
    " Realizar entrenamiento de los 4 clasificadores.\n",
    "\n",
    " e)\n",
    " Mostrar informe de clasificación.\n",
    "\n",
    " f) Mostrar matriz de confusión.\n",
    "\n",
    " g) Mostrar gráfico comparativo.\n",
    "\n",
    " h) Mejora del desempeño de alguno cambiando sus hiperparámetros"
   ],
   "id": "248fc19639b3315f"
  },
  {
   "cell_type": "code",
   "execution_count": null,
   "id": "initial_id",
   "metadata": {
    "collapsed": true
   },
   "outputs": [],
   "source": [
    ""
   ]
  }
 ],
 "metadata": {
  "kernelspec": {
   "display_name": "Python 3",
   "language": "python",
   "name": "python3"
  },
  "language_info": {
   "codemirror_mode": {
    "name": "ipython",
    "version": 2
   },
   "file_extension": ".py",
   "mimetype": "text/x-python",
   "name": "python",
   "nbconvert_exporter": "python",
   "pygments_lexer": "ipython2",
   "version": "2.7.6"
  }
 },
 "nbformat": 4,
 "nbformat_minor": 5
}
