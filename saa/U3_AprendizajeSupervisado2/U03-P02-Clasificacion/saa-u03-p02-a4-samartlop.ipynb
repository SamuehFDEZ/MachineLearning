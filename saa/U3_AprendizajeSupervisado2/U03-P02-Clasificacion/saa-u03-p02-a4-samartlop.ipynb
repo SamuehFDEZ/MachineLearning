{
 "cells": [
  {
   "metadata": {},
   "cell_type": "markdown",
   "source": "# 📌ACTIVIDAD 4: CLASIFICAR OBRAS DE ARTE.",
   "id": "9f41ec1c0095f6c4"
  },
  {
   "metadata": {},
   "cell_type": "markdown",
   "source": [
    "Crea el notebook saa-u03-p02-a4-<tus_iniciales>.ipynb donde completar la actividad. La\n",
    "actividad va a consistir en implementar un modelo clasificador al que podamos pasar un\n",
    "cuadro y este intente indicarnos el autor de la obra de arte y con qué probabilidad es de este\n",
    "artista."
   ],
   "id": "596f122a7697fe18"
  },
  {
   "metadata": {},
   "cell_type": "markdown",
   "source": "## DEFINIR DATASET",
   "id": "fe12defeb8b16398"
  },
  {
   "metadata": {},
   "cell_type": "markdown",
   "source": [
    " Debes acceder a la carpeta 📂 carpeta  y buscar un cuadro de cada uno de estos pintores: Cezánne, Dalí,\n",
    "Gauguin, Goya, Kandinsky, Miró, Monet, Picasso, Renoir, Rubens, Sorolla, Tiziano, Vangogh y Velázquez. Ya\n",
    "hay 14 ficheros que puedes usar además de los que tu mismo busques. Debes dejar en la carpeta tus\n",
    "ficheros con el formato pintor-<tus_iniciales>-fichero.png.\n",
    "Una vez tengamos suficientes datos, puedes utilizar la misma técnica que usamos en la práctica\n",
    "anterior para generar un .csv con los datos. Elige tu mismo un tamaño de la imagen (recuerda que\n",
    "nuestros recursos son locales y a mayor tamaño más características y mayor procesamiento\n",
    "necesitaremos, intenta que el tamaño tenga la relación de aspecto 4:3).\n",
    "Nuestro target será el nombre del artista. Será por tanto una clasificación multiclase."
   ],
   "id": "878b56a28561ab6c"
  },
  {
   "metadata": {},
   "cell_type": "markdown",
   "source": [
    "## IMPLEMENTAR CLASIFICADORES\n",
    " Prueba al menos a entrenar 2 clasificadores:\n",
    "\n",
    " • El primero: SVC ó Árbol ó RandomForest.\n",
    "\n",
    " • El segundo: método ensemble: Boost/Bagging.\n",
    "\n",
    " Puedes utilizar lo que hicimos en la práctica anterior: defines un diccionario que contenga pipelines\n",
    "que preprocesen y entrenen a cada clasificador y lo haces en un bucle. O puedes hacerlo uno a uno de\n",
    "forma manual, como prefieras."
   ],
   "id": "adb2672975b20d93"
  },
  {
   "metadata": {},
   "cell_type": "markdown",
   "source": [
    "## MEDIR DESEMPEÑO\n",
    " Mide el desempeño de todos, muestra informes de entrenamiento y la matriz de confusión. Haz un\n",
    "gráfico de barras donde aparezcan los puntajes obtenidos por cada uno en train y test."
   ],
   "id": "5fe4d62959f30879"
  },
  {
   "metadata": {},
   "cell_type": "markdown",
   "source": [
    "## MEJORAR ALGUNO AJUSTANDO HIPERPARÁMETROS\n",
    " Escoge el que quieras y define el objetivo que quieres conseguir: o mejorar su puntaje o bajar el\n",
    "overfitting, mediante el ajuste de uno o varios de sus hiperparámetros. Mide y muestra de nuevo el\n",
    "desempeño en train y en test."
   ],
   "id": "6e101bc819188ed6"
  },
  {
   "metadata": {},
   "cell_type": "markdown",
   "source": [
    "ENTREGA 7:\n",
    "\n",
    " a)\n",
    " Fotografías subidas a la carpeta compartida:\n",
    "\n",
    "b)\n",
    " Fichero csv con los datos de las fotografías transformado y código que las transforma.\n",
    "\n",
    " c)\n",
    " División de los datos en train y test dejando el 80% de datos para train e intentando no\n",
    "desbalancear los datos y con tu propia semilla aleatoria.\n",
    "\n",
    " d)\n",
    " Realizar entrenamiento de los 4 clasificadores.\n",
    "\n",
    " e)\n",
    " Mostrar informe de clasificación.\n",
    "\n",
    " f) Mostrar matriz de confusión.\n",
    "\n",
    " g) Mostrar gráfico comparativo.\n",
    "\n",
    " h) Mejora del desempeño de alguno cambiando sus hiperparámetros"
   ],
   "id": "248fc19639b3315f"
  },
  {
   "cell_type": "code",
   "id": "initial_id",
   "metadata": {
    "collapsed": true,
    "ExecuteTime": {
     "end_time": "2025-05-15T15:35:23.560022Z",
     "start_time": "2025-05-15T15:35:23.313193Z"
    }
   },
   "source": [
    "import numpy as np\n",
    "import pandas as pd\n",
    "import cv2\n",
    "import os\n",
    "import re\n",
    "\n",
    "# Configuración\n",
    "carpeta = \"../U03_Recursos/pintores\"\n",
    "archivo_salida = \"samartlop_imagenes.csv\"\n",
    "tamanyo_imagen = (92, 112)  # 4:3\n",
    "\n",
    "datos_procesados = []\n",
    "\n",
    "for nombre_archivo in os.listdir(carpeta):\n",
    "    if not nombre_archivo.lower().endswith((\".jpg\", \".png\", \".jpeg\",\".jfif\")):\n",
    "        continue\n",
    "\n",
    "    ruta_completa = os.path.join(carpeta, nombre_archivo)\n",
    "\n",
    "    # Extraer número de artista\n",
    "    coincidencia = re.search(r\"(\\d+)\", nombre_archivo)\n",
    "    if not coincidencia:\n",
    "        continue\n",
    "    artista = int(coincidencia.group(1))\n",
    "\n",
    "    # Leer imagen en escala de grises\n",
    "    imagen = cv2.imread(ruta_completa, cv2.IMREAD_GRAYSCALE)\n",
    "    if imagen is None:\n",
    "        continue\n",
    "\n",
    "    # Redimensionar y normalizar\n",
    "    imagen_escalada = cv2.resize(imagen, tamanyo_imagen, interpolation=cv2.INTER_AREA)\n",
    "    imagen_normalizada = imagen_escalada.astype(np.float32) / 255.0\n",
    "\n",
    "    datos_procesados.append({\n",
    "        \"artista\": artista,\n",
    "        \"imagen\": \",\".join(map(str, imagen_normalizada.flatten()))\n",
    "    })\n",
    "\n",
    "# Crear y guardar DataFrame\n",
    "df = pd.DataFrame(datos_procesados)\n",
    "df.to_csv(archivo_salida, index=False)\n",
    "print(f\"CSV guardado correctamente en: {archivo_salida}\")"
   ],
   "outputs": [
    {
     "name": "stdout",
     "output_type": "stream",
     "text": [
      "CSV guardado correctamente en: samartlop_imagenes.csv\n"
     ]
    }
   ],
   "execution_count": 17
  },
  {
   "metadata": {
    "ExecuteTime": {
     "end_time": "2025-05-15T15:35:27.488170Z",
     "start_time": "2025-05-15T15:35:27.464414Z"
    }
   },
   "cell_type": "code",
   "source": "df.head()",
   "id": "bba7ace427eb71d5",
   "outputs": [
    {
     "data": {
      "text/plain": [
       "   artista                                             imagen\n",
       "0        1  0.2627451,0.24705882,0.23529412,0.22745098,0.2...\n",
       "1        3  0.27058825,0.3647059,0.39215687,0.3529412,0.41...\n",
       "2        4  0.9529412,0.9372549,0.9411765,0.99215686,0.996...\n",
       "3        5  0.019607844,0.007843138,0.0,0.0,0.003921569,0....\n",
       "4        7  0.64705884,0.64705884,0.6431373,0.64705884,0.6..."
      ],
      "text/html": [
       "<div>\n",
       "<style scoped>\n",
       "    .dataframe tbody tr th:only-of-type {\n",
       "        vertical-align: middle;\n",
       "    }\n",
       "\n",
       "    .dataframe tbody tr th {\n",
       "        vertical-align: top;\n",
       "    }\n",
       "\n",
       "    .dataframe thead th {\n",
       "        text-align: right;\n",
       "    }\n",
       "</style>\n",
       "<table border=\"1\" class=\"dataframe\">\n",
       "  <thead>\n",
       "    <tr style=\"text-align: right;\">\n",
       "      <th></th>\n",
       "      <th>artista</th>\n",
       "      <th>imagen</th>\n",
       "    </tr>\n",
       "  </thead>\n",
       "  <tbody>\n",
       "    <tr>\n",
       "      <th>0</th>\n",
       "      <td>1</td>\n",
       "      <td>0.2627451,0.24705882,0.23529412,0.22745098,0.2...</td>\n",
       "    </tr>\n",
       "    <tr>\n",
       "      <th>1</th>\n",
       "      <td>3</td>\n",
       "      <td>0.27058825,0.3647059,0.39215687,0.3529412,0.41...</td>\n",
       "    </tr>\n",
       "    <tr>\n",
       "      <th>2</th>\n",
       "      <td>4</td>\n",
       "      <td>0.9529412,0.9372549,0.9411765,0.99215686,0.996...</td>\n",
       "    </tr>\n",
       "    <tr>\n",
       "      <th>3</th>\n",
       "      <td>5</td>\n",
       "      <td>0.019607844,0.007843138,0.0,0.0,0.003921569,0....</td>\n",
       "    </tr>\n",
       "    <tr>\n",
       "      <th>4</th>\n",
       "      <td>7</td>\n",
       "      <td>0.64705884,0.64705884,0.6431373,0.64705884,0.6...</td>\n",
       "    </tr>\n",
       "  </tbody>\n",
       "</table>\n",
       "</div>"
      ]
     },
     "execution_count": 18,
     "metadata": {},
     "output_type": "execute_result"
    }
   ],
   "execution_count": 18
  },
  {
   "metadata": {
    "ExecuteTime": {
     "end_time": "2025-05-15T15:38:39.628641Z",
     "start_time": "2025-05-15T15:38:39.566321Z"
    }
   },
   "cell_type": "code",
   "source": [
    "from sklearn.model_selection import train_test_split\n",
    "# Convertir la columna \"imagen\" a arrays de float32\n",
    "X = df[\"imagen\"].apply(lambda x: np.fromstring(x, sep=\",\", dtype=np.float32))\n",
    "X = np.stack(X.values)  # Convertir a matriz 2D (samples x pixels)\n",
    "y = df[\"artista\"]\n",
    "\n",
    "# División en entrenamiento y test, estratificada por artista\n",
    "X_train, X_test, y_train, y_test = train_test_split(\n",
    "    X, y, test_size=0.2, random_state=675\n",
    ")\n",
    "\n",
    "print(\"Tamaño del conjunto de entrenamiento:\", X_train.shape)\n",
    "print(\"Tamaño del conjunto de prueba:\", X_test.shape)\n",
    "print(\"Clases:\", y.unique())"
   ],
   "id": "e5dd020a59f00a56",
   "outputs": [
    {
     "name": "stdout",
     "output_type": "stream",
     "text": [
      "Tamaño del conjunto de entrenamiento: (8, 10304)\n",
      "Tamaño del conjunto de prueba: (3, 10304)\n",
      "Clases: [ 1  3  4  5  7  8  9 10 11 12 13]\n"
     ]
    }
   ],
   "execution_count": 23
  },
  {
   "metadata": {
    "ExecuteTime": {
     "end_time": "2025-05-15T15:29:03.307321Z",
     "start_time": "2025-05-15T15:28:59.970684Z"
    }
   },
   "cell_type": "code",
   "source": [
    "from sklearn.pipeline import Pipeline\n",
    "from sklearn.preprocessing import StandardScaler\n",
    "from sklearn.ensemble import RandomForestClassifier, BaggingClassifier\n",
    "from sklearn.svm import SVC\n",
    "from sklearn.metrics import classification_report, confusion_matrix\n",
    "import matplotlib.pyplot as plt\n",
    "import seaborn as sns\n",
    "\n",
    "# Diccionario con clasificadores\n",
    "modelos = {\n",
    "    \"SVC\": Pipeline([\n",
    "        (\"scaler\", StandardScaler()),\n",
    "        (\"clf\", SVC(probability=True, random_state=42))\n",
    "    ]),\n",
    "    \"RandomForest\": Pipeline([\n",
    "        (\"clf\", RandomForestClassifier(random_state=42))\n",
    "    ]),\n",
    "    \"Bagging\": Pipeline([\n",
    "        (\"clf\", BaggingClassifier(random_state=42))\n",
    "    ])\n",
    "}\n",
    "\n",
    "# Entrenar y evaluar\n",
    "resultados = {}\n",
    "for nombre, modelo in modelos.items():\n",
    "    modelo.fit(X_train, y_train)\n",
    "    train_score = modelo.score(X_train, y_train)\n",
    "    test_score = modelo.score(X_test, y_test)\n",
    "    resultados[nombre] = {\"train\": train_score, \"test\": test_score}\n",
    "\n",
    "    print(f\"--- {nombre} ---\")\n",
    "    y_pred = modelo.predict(X_test)\n",
    "    print(classification_report(y_test, y_pred))\n",
    "\n",
    "    cm = confusion_matrix(y_test, y_pred)\n",
    "    plt.figure(figsize=(6,5))\n",
    "    sns.heatmap(cm, annot=True, fmt=\"d\", xticklabels=modelo.classes_, yticklabels=modelo.classes_)\n",
    "    plt.title(f\"Matriz de Confusión - {nombre}\")\n",
    "    plt.xlabel(\"Predicción\")\n",
    "    plt.ylabel(\"Real\")\n",
    "    plt.show()\n"
   ],
   "id": "9fd9c72b482edb2e",
   "outputs": [
    {
     "name": "stdout",
     "output_type": "stream",
     "text": [
      "--- SVC ---\n",
      "              precision    recall  f1-score   support\n",
      "\n",
      "           1       0.00      0.00      0.00       1.0\n",
      "           3       0.00      0.00      0.00       0.0\n",
      "           8       0.00      0.00      0.00       1.0\n",
      "          12       0.00      0.00      0.00       1.0\n",
      "          13       0.00      0.00      0.00       0.0\n",
      "\n",
      "    accuracy                           0.00       3.0\n",
      "   macro avg       0.00      0.00      0.00       3.0\n",
      "weighted avg       0.00      0.00      0.00       3.0\n",
      "\n"
     ]
    },
    {
     "name": "stderr",
     "output_type": "stream",
     "text": [
      "C:\\Users\\ESP\\Desktop\\MachineLearning\\saa\\.venv\\Lib\\site-packages\\sklearn\\metrics\\_classification.py:1565: UndefinedMetricWarning: Precision is ill-defined and being set to 0.0 in labels with no predicted samples. Use `zero_division` parameter to control this behavior.\n",
      "  _warn_prf(average, modifier, f\"{metric.capitalize()} is\", len(result))\n",
      "C:\\Users\\ESP\\Desktop\\MachineLearning\\saa\\.venv\\Lib\\site-packages\\sklearn\\metrics\\_classification.py:1565: UndefinedMetricWarning: Recall is ill-defined and being set to 0.0 in labels with no true samples. Use `zero_division` parameter to control this behavior.\n",
      "  _warn_prf(average, modifier, f\"{metric.capitalize()} is\", len(result))\n",
      "C:\\Users\\ESP\\Desktop\\MachineLearning\\saa\\.venv\\Lib\\site-packages\\sklearn\\metrics\\_classification.py:1565: UndefinedMetricWarning: Precision is ill-defined and being set to 0.0 in labels with no predicted samples. Use `zero_division` parameter to control this behavior.\n",
      "  _warn_prf(average, modifier, f\"{metric.capitalize()} is\", len(result))\n",
      "C:\\Users\\ESP\\Desktop\\MachineLearning\\saa\\.venv\\Lib\\site-packages\\sklearn\\metrics\\_classification.py:1565: UndefinedMetricWarning: Recall is ill-defined and being set to 0.0 in labels with no true samples. Use `zero_division` parameter to control this behavior.\n",
      "  _warn_prf(average, modifier, f\"{metric.capitalize()} is\", len(result))\n",
      "C:\\Users\\ESP\\Desktop\\MachineLearning\\saa\\.venv\\Lib\\site-packages\\sklearn\\metrics\\_classification.py:1565: UndefinedMetricWarning: Precision is ill-defined and being set to 0.0 in labels with no predicted samples. Use `zero_division` parameter to control this behavior.\n",
      "  _warn_prf(average, modifier, f\"{metric.capitalize()} is\", len(result))\n",
      "C:\\Users\\ESP\\Desktop\\MachineLearning\\saa\\.venv\\Lib\\site-packages\\sklearn\\metrics\\_classification.py:1565: UndefinedMetricWarning: Recall is ill-defined and being set to 0.0 in labels with no true samples. Use `zero_division` parameter to control this behavior.\n",
      "  _warn_prf(average, modifier, f\"{metric.capitalize()} is\", len(result))\n"
     ]
    },
    {
     "data": {
      "text/plain": [
       "<Figure size 600x500 with 2 Axes>"
      ],
      "image/png": "[encoded data removed]"
     },
     "metadata": {},
     "output_type": "display_data"
    },
    {
     "name": "stdout",
     "output_type": "stream",
     "text": [
      "--- RandomForest ---\n",
      "              precision    recall  f1-score   support\n",
      "\n",
      "           1       0.00      0.00      0.00       1.0\n",
      "           8       0.00      0.00      0.00       1.0\n",
      "          10       0.00      0.00      0.00       0.0\n",
      "          11       0.00      0.00      0.00       0.0\n",
      "          12       0.00      0.00      0.00       1.0\n",
      "          13       0.00      0.00      0.00       0.0\n",
      "\n",
      "    accuracy                           0.00       3.0\n",
      "   macro avg       0.00      0.00      0.00       3.0\n",
      "weighted avg       0.00      0.00      0.00       3.0\n",
      "\n"
     ]
    },
    {
     "name": "stderr",
     "output_type": "stream",
     "text": [
      "C:\\Users\\ESP\\Desktop\\MachineLearning\\saa\\.venv\\Lib\\site-packages\\sklearn\\metrics\\_classification.py:1565: UndefinedMetricWarning: Precision is ill-defined and being set to 0.0 in labels with no predicted samples. Use `zero_division` parameter to control this behavior.\n",
      "  _warn_prf(average, modifier, f\"{metric.capitalize()} is\", len(result))\n",
      "C:\\Users\\ESP\\Desktop\\MachineLearning\\saa\\.venv\\Lib\\site-packages\\sklearn\\metrics\\_classification.py:1565: UndefinedMetricWarning: Recall is ill-defined and being set to 0.0 in labels with no true samples. Use `zero_division` parameter to control this behavior.\n",
      "  _warn_prf(average, modifier, f\"{metric.capitalize()} is\", len(result))\n",
      "C:\\Users\\ESP\\Desktop\\MachineLearning\\saa\\.venv\\Lib\\site-packages\\sklearn\\metrics\\_classification.py:1565: UndefinedMetricWarning: Precision is ill-defined and being set to 0.0 in labels with no predicted samples. Use `zero_division` parameter to control this behavior.\n",
      "  _warn_prf(average, modifier, f\"{metric.capitalize()} is\", len(result))\n",
      "C:\\Users\\ESP\\Desktop\\MachineLearning\\saa\\.venv\\Lib\\site-packages\\sklearn\\metrics\\_classification.py:1565: UndefinedMetricWarning: Recall is ill-defined and being set to 0.0 in labels with no true samples. Use `zero_division` parameter to control this behavior.\n",
      "  _warn_prf(average, modifier, f\"{metric.capitalize()} is\", len(result))\n",
      "C:\\Users\\ESP\\Desktop\\MachineLearning\\saa\\.venv\\Lib\\site-packages\\sklearn\\metrics\\_classification.py:1565: UndefinedMetricWarning: Precision is ill-defined and being set to 0.0 in labels with no predicted samples. Use `zero_division` parameter to control this behavior.\n",
      "  _warn_prf(average, modifier, f\"{metric.capitalize()} is\", len(result))\n",
      "C:\\Users\\ESP\\Desktop\\MachineLearning\\saa\\.venv\\Lib\\site-packages\\sklearn\\metrics\\_classification.py:1565: UndefinedMetricWarning: Recall is ill-defined and being set to 0.0 in labels with no true samples. Use `zero_division` parameter to control this behavior.\n",
      "  _warn_prf(average, modifier, f\"{metric.capitalize()} is\", len(result))\n"
     ]
    },
    {
     "data": {
      "text/plain": [
       "<Figure size 600x500 with 2 Axes>"
      ],
      "image/png": "[encoded data removed]"
     },
     "metadata": {},
     "output_type": "display_data"
    },
    {
     "name": "stdout",
     "output_type": "stream",
     "text": [
      "--- Bagging ---\n",
      "              precision    recall  f1-score   support\n",
      "\n",
      "           1       0.00      0.00      0.00       1.0\n",
      "           3       0.00      0.00      0.00       0.0\n",
      "           8       0.00      0.00      0.00       1.0\n",
      "           9       0.00      0.00      0.00       0.0\n",
      "          10       0.00      0.00      0.00       0.0\n",
      "          12       0.00      0.00      0.00       1.0\n",
      "\n",
      "    accuracy                           0.00       3.0\n",
      "   macro avg       0.00      0.00      0.00       3.0\n",
      "weighted avg       0.00      0.00      0.00       3.0\n",
      "\n"
     ]
    },
    {
     "name": "stderr",
     "output_type": "stream",
     "text": [
      "C:\\Users\\ESP\\Desktop\\MachineLearning\\saa\\.venv\\Lib\\site-packages\\sklearn\\metrics\\_classification.py:1565: UndefinedMetricWarning: Precision is ill-defined and being set to 0.0 in labels with no predicted samples. Use `zero_division` parameter to control this behavior.\n",
      "  _warn_prf(average, modifier, f\"{metric.capitalize()} is\", len(result))\n",
      "C:\\Users\\ESP\\Desktop\\MachineLearning\\saa\\.venv\\Lib\\site-packages\\sklearn\\metrics\\_classification.py:1565: UndefinedMetricWarning: Recall is ill-defined and being set to 0.0 in labels with no true samples. Use `zero_division` parameter to control this behavior.\n",
      "  _warn_prf(average, modifier, f\"{metric.capitalize()} is\", len(result))\n",
      "C:\\Users\\ESP\\Desktop\\MachineLearning\\saa\\.venv\\Lib\\site-packages\\sklearn\\metrics\\_classification.py:1565: UndefinedMetricWarning: Precision is ill-defined and being set to 0.0 in labels with no predicted samples. Use `zero_division` parameter to control this behavior.\n",
      "  _warn_prf(average, modifier, f\"{metric.capitalize()} is\", len(result))\n",
      "C:\\Users\\ESP\\Desktop\\MachineLearning\\saa\\.venv\\Lib\\site-packages\\sklearn\\metrics\\_classification.py:1565: UndefinedMetricWarning: Recall is ill-defined and being set to 0.0 in labels with no true samples. Use `zero_division` parameter to control this behavior.\n",
      "  _warn_prf(average, modifier, f\"{metric.capitalize()} is\", len(result))\n",
      "C:\\Users\\ESP\\Desktop\\MachineLearning\\saa\\.venv\\Lib\\site-packages\\sklearn\\metrics\\_classification.py:1565: UndefinedMetricWarning: Precision is ill-defined and being set to 0.0 in labels with no predicted samples. Use `zero_division` parameter to control this behavior.\n",
      "  _warn_prf(average, modifier, f\"{metric.capitalize()} is\", len(result))\n",
      "C:\\Users\\ESP\\Desktop\\MachineLearning\\saa\\.venv\\Lib\\site-packages\\sklearn\\metrics\\_classification.py:1565: UndefinedMetricWarning: Recall is ill-defined and being set to 0.0 in labels with no true samples. Use `zero_division` parameter to control this behavior.\n",
      "  _warn_prf(average, modifier, f\"{metric.capitalize()} is\", len(result))\n"
     ]
    },
    {
     "data": {
      "text/plain": [
       "<Figure size 600x500 with 2 Axes>"
      ],
      "image/png": "[encoded data removed]"
     },
     "metadata": {},
     "output_type": "display_data"
    }
   ],
   "execution_count": 14
  },
  {
   "metadata": {
    "ExecuteTime": {
     "end_time": "2025-05-15T15:29:03.816198Z",
     "start_time": "2025-05-15T15:29:03.460869Z"
    }
   },
   "cell_type": "code",
   "source": [
    "scores_df = pd.DataFrame(resultados).T\n",
    "scores_df.plot(kind='bar', figsize=(8,5))\n",
    "plt.title(\"Desempeño de Clasificadores\")\n",
    "plt.ylabel(\"Puntaje\")\n",
    "plt.xticks(rotation=0)\n",
    "plt.grid(True)\n",
    "plt.show()\n"
   ],
   "id": "76ec45b3e63129c0",
   "outputs": [
    {
     "data": {
      "text/plain": [
       "<Figure size 800x500 with 1 Axes>"
      ],
      "image/png": "[encoded data removed]"
     },
     "metadata": {},
     "output_type": "display_data"
    }
   ],
   "execution_count": 15
  },
  {
   "metadata": {
    "ExecuteTime": {
     "end_time": "2025-05-15T16:12:01.610821Z",
     "start_time": "2025-05-15T16:12:00.205319Z"
    }
   },
   "cell_type": "code",
   "source": [
    "from sklearn.model_selection import GridSearchCV, LeaveOneOut\n",
    "from sklearn.pipeline import Pipeline\n",
    "from sklearn.preprocessing import StandardScaler\n",
    "from sklearn.svm import SVC\n",
    "\n",
    "param_grid = {\n",
    "    \"clf__C\": [0.1, 1, 10],\n",
    "    \"clf__gamma\": ['scale', 'auto']\n",
    "}\n",
    "\n",
    "grid = GridSearchCV(\n",
    "    Pipeline([\n",
    "        (\"scaler\", StandardScaler()),\n",
    "        (\"clf\", SVC(probability=True, random_state=675))\n",
    "    ]),\n",
    "    param_grid,\n",
    "    cv=LeaveOneOut(),  # Ajusta el número de folds para que no sea mayor que el número de muestras\n",
    "    verbose=1\n",
    ")\n",
    "\n",
    "\n",
    "grid.fit(X_train, y_train)\n",
    "print(\"Mejor configuración:\", grid.best_params_)\n",
    "print(\"Puntaje en test:\", grid.score(X_test, y_test))\n"
   ],
   "id": "3d604ec9175a18b",
   "outputs": [
    {
     "name": "stdout",
     "output_type": "stream",
     "text": [
      "Fitting 8 folds for each of 6 candidates, totalling 48 fits\n",
      "Mejor configuración: {'clf__C': 0.1, 'clf__gamma': 'scale'}\n",
      "Puntaje en test: 0.0\n"
     ]
    }
   ],
   "execution_count": 29
  }
 ],
 "metadata": {
  "kernelspec": {
   "display_name": "Python 3",
   "language": "python",
   "name": "python3"
  },
  "language_info": {
   "codemirror_mode": {
    "name": "ipython",
    "version": 2
   },
   "file_extension": ".py",
   "mimetype": "text/x-python",
   "name": "python",
   "nbconvert_exporter": "python",
   "pygments_lexer": "ipython2",
   "version": "2.7.6"
  }
 },
 "nbformat": 4,
 "nbformat_minor": 5
}
