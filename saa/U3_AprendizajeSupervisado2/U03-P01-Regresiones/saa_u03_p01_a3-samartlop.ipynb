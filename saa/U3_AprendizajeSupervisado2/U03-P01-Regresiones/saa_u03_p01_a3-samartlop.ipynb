{
 "cells": [
  {
   "metadata": {},
   "cell_type": "markdown",
   "source": "# 📌 ACTIVIDAD 3: ÁRBOLES DE DECISIÓN PARA REGRESIÓN.",
   "id": "39357105e8ee83f8"
  },
  {
   "metadata": {},
   "cell_type": "markdown",
   "source": [
    "Crea el notebook saa_u03_p01_a3-<tus_iniciales>.ipynb donde entregar esta actividad. Los árboles\n",
    "de decisión son propensos a presentar overfitting. En scikit-learn podemos reducirlo ajustando ciertos\n",
    "hiperparámetros. En el caso de DecisionTreeRegressor:\n",
    "\n",
    " • Antes del entrenamiento:\n",
    "\n",
    " ◦ Limitar la profundidad del árbol (max_depth)\n",
    "\n",
    " ◦ Restringir el número mínimo de muestras por nodo (min_samples_split, min_samples_leaf)\n",
    "\n",
    " • Poda después del entrenamiento:\n",
    "\n",
    "◦ Reducir la complejidad con \"ccp_alfa\".\n",
    "\n",
    " Utiliza los modelos\n",
    "DecisionTreeRegressor,\n",
    "GradientBoostingRegressor, XGBRegressor y\n",
    "RandomForestRegressor para entrenarlos con los datos del ejercicio anterior intentando mejorar los\n",
    "resultados en caso de haberlos usado ya, o bajar el overfitting en caso de no haberlos usado.\n",
    "\n",
    " ENTREGA 7:\n",
    "\n",
    "Muestra Código, gráficos y capturas de ejecución de:\n",
    "\n",
    " a) Carga de datos y preprocesamiento (si es necesario).\n",
    "\n",
    " b) Entrenamiento y configuración del\n",
    "\n",
    "DecisionTreeRegresor\n",
    " hiperparámetros y desempeño final.\n",
    "\n",
    " c) Igual para el\n",
    "GradientBoostingRegressor.\n",
    "\n",
    " d) Igual para\n",
    "XGBRegressor.\n",
    "\n",
    " e) Igual para: desempeño inicial, cambio de\n",
    "RandomForestregressor.\n",
    "\n",
    "f)\n",
    "Importancia o influencia de cada característica en alguno de los modelos."
   ],
   "id": "b5d57e6a8045e731"
  },
  {
   "cell_type": "code",
   "execution_count": null,
   "id": "initial_id",
   "metadata": {
    "collapsed": true
   },
   "outputs": [],
   "source": ""
  }
 ],
 "metadata": {
  "kernelspec": {
   "display_name": "Python 3",
   "language": "python",
   "name": "python3"
  },
  "language_info": {
   "codemirror_mode": {
    "name": "ipython",
    "version": 2
   },
   "file_extension": ".py",
   "mimetype": "text/x-python",
   "name": "python",
   "nbconvert_exporter": "python",
   "pygments_lexer": "ipython2",
   "version": "2.7.6"
  }
 },
 "nbformat": 4,
 "nbformat_minor": 5
}
