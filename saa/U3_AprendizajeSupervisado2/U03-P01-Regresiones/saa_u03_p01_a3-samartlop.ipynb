{
 "cells": [
  {
   "metadata": {},
   "cell_type": "markdown",
   "source": "# 📌 ACTIVIDAD 3: ÁRBOLES DE DECISIÓN PARA REGRESIÓN.",
   "id": "39357105e8ee83f8"
  },
  {
   "metadata": {},
   "cell_type": "markdown",
   "source": [
    "Crea el notebook saa_u03_p01_a3-<tus_iniciales>.ipynb donde entregar esta actividad. Los árboles\n",
    "de decisión son propensos a presentar overfitting. En scikit-learn podemos reducirlo ajustando ciertos\n",
    "hiperparámetros. En el caso de DecisionTreeRegressor:\n",
    "\n",
    " • Antes del entrenamiento:\n",
    "\n",
    " ◦ Limitar la profundidad del árbol (max_depth)\n",
    "\n",
    " ◦ Restringir el número mínimo de muestras por nodo (min_samples_split, min_samples_leaf)\n",
    "\n",
    " • Poda después del entrenamiento:\n",
    "\n",
    "◦ Reducir la complejidad con \"ccp_alfa\".\n",
    "\n",
    " Utiliza los modelos\n",
    "DecisionTreeRegressor,\n",
    "GradientBoostingRegressor, XGBRegressor y\n",
    "RandomForestRegressor para entrenarlos con los datos del ejercicio anterior intentando mejorar los\n",
    "resultados en caso de haberlos usado ya, o bajar el overfitting en caso de no haberlos usado.\n",
    "\n",
    " ENTREGA 7:\n",
    "\n",
    "Muestra Código, gráficos y capturas de ejecución de:\n",
    "\n",
    " a) Carga de datos y preprocesamiento (si es necesario).\n",
    "\n",
    " b) Entrenamiento y configuración del\n",
    "\n",
    "DecisionTreeRegresor\n",
    " hiperparámetros y desempeño final.\n",
    "\n",
    " c) Igual para el\n",
    "GradientBoostingRegressor.\n",
    "\n",
    " d) Igual para\n",
    "XGBRegressor.\n",
    "\n",
    " e) Igual para: desempeño inicial, cambio de\n",
    "RandomForestregressor.\n",
    "\n",
    "f)\n",
    "Importancia o influencia de cada característica en alguno de los modelos."
   ],
   "id": "b5d57e6a8045e731"
  },
  {
   "cell_type": "code",
   "id": "initial_id",
   "metadata": {
    "collapsed": true,
    "ExecuteTime": {
     "end_time": "2025-04-24T14:18:43.199750Z",
     "start_time": "2025-04-24T14:18:43.156071Z"
    }
   },
   "source": [
    "import pandas as pd\n",
    "from sklearn.model_selection import train_test_split\n",
    "from sklearn.impute import SimpleImputer\n",
    "from sklearn.preprocessing import StandardScaler\n",
    "\n",
    "df = pd.read_csv('../U03_Recursos/U03_P01_Regresiones/centro-comercial.csv')\n",
    "\n",
    "# Convertir fecha a datetime con el día primero\n",
    "df.drop(columns=['fecha'], inplace=True)\n",
    "\n",
    "# Definir target y predictoras\n",
    "target = 'ventas_semanales'\n",
    "predictoras = [col for col in df.columns if col != target]\n",
    "\n",
    "# Clasificar numéricas y categóricas\n",
    "nu = df[predictoras].nunique().sort_values()\n",
    "nf = []; cf = []\n",
    "\n",
    "for col in nu.index:\n",
    "    if nu[col] < 0.005 * len(df):\n",
    "        cf.append(col)\n",
    "    else:\n",
    "        nf.append(col)\n",
    "\n",
    "print(\"Numéricas:\", nf)\n",
    "print(\"Categóricas:\", cf)\n",
    "\n",
    "semilla = 675\n",
    "\n",
    "X = df[predictoras]\n",
    "y = df[target]\n",
    "\n",
    "# Imputar valores nulos en X\n",
    "imputer = SimpleImputer(strategy='mean')\n",
    "X_imputed = imputer.fit_transform(X)\n",
    "\n",
    "# Escalar las características\n",
    "scaler = StandardScaler()\n",
    "X_scaled = scaler.fit_transform(X_imputed)\n",
    "\n",
    "# Separar los datos en entrenamiento y prueba\n",
    "X_train, X_test, y_train, y_test = train_test_split(X_scaled, y, test_size=0.2, random_state=semilla)"
   ],
   "outputs": [
    {
     "name": "stdout",
     "output_type": "stream",
     "text": [
      "Numéricas: ['centro', 'desempleo', 'precio_gasolina', 'IPC', 'temperatura']\n",
      "Categóricas: ['festivo']\n"
     ]
    }
   ],
   "execution_count": 6
  },
  {
   "metadata": {
    "ExecuteTime": {
     "end_time": "2025-04-24T14:18:43.279910Z",
     "start_time": "2025-04-24T14:18:43.228996Z"
    }
   },
   "cell_type": "code",
   "source": [
    "from sklearn.tree import DecisionTreeRegressor\n",
    "from sklearn.metrics import r2_score\n",
    "\n",
    "# Crear el modelo de DecisionTreeRegressor\n",
    "dt_model = DecisionTreeRegressor(max_depth=5, min_samples_split=10, min_samples_leaf=5, random_state=semilla)\n",
    "\n",
    "# Entrenar el modelo\n",
    "dt_model.fit(X_train, y_train)\n",
    "\n",
    "# Predicción y evaluación\n",
    "y_pred_train_dt = dt_model.predict(X_train)\n",
    "y_pred_test_dt = dt_model.predict(X_test)\n",
    "\n",
    "r2_train_dt = r2_score(y_train, y_pred_train_dt)\n",
    "r2_test_dt = r2_score(y_test, y_pred_test_dt)\n",
    "\n",
    "print(f\"R² en el conjunto de entrenamiento (DecisionTreeRegressor): {r2_train_dt:.4f}\")\n",
    "print(f\"R² en el conjunto de test (DecisionTreeRegressor): {r2_test_dt:.4f}\")\n"
   ],
   "id": "9edadf71bb8aeb9b",
   "outputs": [
    {
     "name": "stdout",
     "output_type": "stream",
     "text": [
      "R² en el conjunto de entrenamiento (DecisionTreeRegressor): 0.6945\n",
      "R² en el conjunto de test (DecisionTreeRegressor): 0.6890\n"
     ]
    }
   ],
   "execution_count": 7
  },
  {
   "metadata": {
    "ExecuteTime": {
     "end_time": "2025-04-24T14:18:44.145859Z",
     "start_time": "2025-04-24T14:18:43.307907Z"
    }
   },
   "cell_type": "code",
   "source": [
    "from sklearn.ensemble import GradientBoostingRegressor\n",
    "\n",
    "# Crear el modelo de GradientBoostingRegressor\n",
    "gb_model = GradientBoostingRegressor(n_estimators=100, learning_rate=0.1, max_depth=3, random_state=semilla)\n",
    "\n",
    "# Entrenar el modelo\n",
    "gb_model.fit(X_train, y_train)\n",
    "\n",
    "# Predicción y evaluación\n",
    "y_pred_train_gb = gb_model.predict(X_train)\n",
    "y_pred_test_gb = gb_model.predict(X_test)\n",
    "\n",
    "r2_train_gb = r2_score(y_train, y_pred_train_gb)\n",
    "r2_test_gb = r2_score(y_test, y_pred_test_gb)\n",
    "\n",
    "print(f\"R² en el conjunto de entrenamiento (GradientBoostingRegressor): {r2_train_gb:.4f}\")\n",
    "print(f\"R² en el conjunto de test (GradientBoostingRegressor): {r2_test_gb:.4f}\")\n"
   ],
   "id": "8d02ab4553ce02d",
   "outputs": [
    {
     "name": "stdout",
     "output_type": "stream",
     "text": [
      "R² en el conjunto de entrenamiento (GradientBoostingRegressor): 0.8833\n",
      "R² en el conjunto de test (GradientBoostingRegressor): 0.8659\n"
     ]
    }
   ],
   "execution_count": 8
  },
  {
   "metadata": {
    "ExecuteTime": {
     "end_time": "2025-04-24T14:18:44.288208Z",
     "start_time": "2025-04-24T14:18:44.185852Z"
    }
   },
   "cell_type": "code",
   "source": [
    "from xgboost import XGBRegressor\n",
    "\n",
    "# Crear el modelo de XGBRegressor\n",
    "xgb_model = XGBRegressor(n_estimators=100, learning_rate=0.1, max_depth=3, random_state=semilla)\n",
    "\n",
    "# Entrenar el modelo\n",
    "xgb_model.fit(X_train, y_train)\n",
    "\n",
    "# Predicción y evaluación\n",
    "y_pred_train_xgb = xgb_model.predict(X_train)\n",
    "y_pred_test_xgb = xgb_model.predict(X_test)\n",
    "\n",
    "r2_train_xgb = r2_score(y_train, y_pred_train_xgb)\n",
    "r2_test_xgb = r2_score(y_test, y_pred_test_xgb)\n",
    "\n",
    "print(f\"R² en el conjunto de entrenamiento (XGBRegressor): {r2_train_xgb:.4f}\")\n",
    "print(f\"R² en el conjunto de test (XGBRegressor): {r2_test_xgb:.4f}\")\n"
   ],
   "id": "48c962a3ec280924",
   "outputs": [
    {
     "name": "stdout",
     "output_type": "stream",
     "text": [
      "R² en el conjunto de entrenamiento (XGBRegressor): 0.8816\n",
      "R² en el conjunto de test (XGBRegressor): 0.8683\n"
     ]
    }
   ],
   "execution_count": 9
  },
  {
   "metadata": {
    "ExecuteTime": {
     "end_time": "2025-04-24T14:18:45.371206Z",
     "start_time": "2025-04-24T14:18:44.337084Z"
    }
   },
   "cell_type": "code",
   "source": [
    "from sklearn.ensemble import RandomForestRegressor\n",
    "\n",
    "# Crear el modelo de RandomForestRegressor\n",
    "rf_model = RandomForestRegressor(n_estimators=100, max_depth=5, min_samples_split=10, min_samples_leaf=5, random_state=semilla)\n",
    "\n",
    "# Entrenar el modelo\n",
    "rf_model.fit(X_train, y_train)\n",
    "\n",
    "# Predicción y evaluación\n",
    "y_pred_train_rf = rf_model.predict(X_train)\n",
    "y_pred_test_rf = rf_model.predict(X_test)\n",
    "\n",
    "r2_train_rf = r2_score(y_train, y_pred_train_rf)\n",
    "r2_test_rf = r2_score(y_test, y_pred_test_rf)\n",
    "\n",
    "print(f\"R² en el conjunto de entrenamiento (RandomForestRegressor): {r2_train_rf:.4f}\")\n",
    "print(f\"R² en el conjunto de test (RandomForestRegressor): {r2_test_rf:.4f}\")\n"
   ],
   "id": "a00c13fbfca3dbf2",
   "outputs": [
    {
     "name": "stdout",
     "output_type": "stream",
     "text": [
      "R² en el conjunto de entrenamiento (RandomForestRegressor): 0.7060\n",
      "R² en el conjunto de test (RandomForestRegressor): 0.7032\n"
     ]
    }
   ],
   "execution_count": 10
  },
  {
   "metadata": {
    "ExecuteTime": {
     "end_time": "2025-04-24T14:18:45.627483Z",
     "start_time": "2025-04-24T14:18:45.416678Z"
    }
   },
   "cell_type": "code",
   "source": [
    "import matplotlib.pyplot as plt\n",
    "\n",
    "# Obtener la importancia de las características\n",
    "importances = rf_model.feature_importances_\n",
    "\n",
    "# Crear gráfico de barras de importancias\n",
    "plt.figure(figsize=(10, 6))\n",
    "plt.barh(range(X_train.shape[1]), importances, align=\"center\")\n",
    "plt.yticks(range(X_train.shape[1]), X.columns)\n",
    "plt.xlabel(\"Importancia de la característica\")\n",
    "plt.title(\"Importancia de Características en RandomForestRegressor\")\n",
    "plt.show()\n"
   ],
   "id": "59e32fde3fd62827",
   "outputs": [
    {
     "data": {
      "text/plain": [
       "<Figure size 1000x600 with 1 Axes>"
      ],
      "image/png": "[encoded data removed]"
     },
     "metadata": {},
     "output_type": "display_data"
    }
   ],
   "execution_count": 11
  }
 ],
 "metadata": {
  "kernelspec": {
   "display_name": "Python 3",
   "language": "python",
   "name": "python3"
  },
  "language_info": {
   "codemirror_mode": {
    "name": "ipython",
    "version": 2
   },
   "file_extension": ".py",
   "mimetype": "text/x-python",
   "name": "python",
   "nbconvert_exporter": "python",
   "pygments_lexer": "ipython2",
   "version": "2.7.6"
  }
 },
 "nbformat": 4,
 "nbformat_minor": 5
}
