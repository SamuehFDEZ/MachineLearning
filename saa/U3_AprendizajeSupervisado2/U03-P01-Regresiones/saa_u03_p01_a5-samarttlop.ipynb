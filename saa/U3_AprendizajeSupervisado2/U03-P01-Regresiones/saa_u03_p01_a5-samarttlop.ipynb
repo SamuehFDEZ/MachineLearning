{
 "cells": [
  {
   "metadata": {},
   "cell_type": "markdown",
   "source": "# 📌 ACTIVIDAD 5: REGRESIÓN A PARTIR DE FOTOGRAFÍAS.",
   "id": "ea6affb6951a2371"
  },
  {
   "metadata": {},
   "cell_type": "markdown",
   "source": "## DEFINIR PROBLEMA Y RECOPILAR DATOS",
   "id": "19208be1e77b09c8"
  },
  {
   "metadata": {},
   "cell_type": "markdown",
   "source": [
    "Crea el notebook saa_u03_p01_a5-<tus_iniciales>.ipynb donde entregar esta actividad. Necesitamos\n",
    "consensuar por votación 2 posibles problemas (lo que escoja la mayoría de la clase gana) más que\n",
    "nada por obtener suficiente cantidad de datos de alguno de los problemas:\n",
    "\n",
    " a) Predecir la edad de una persona: Si nadie está en contra de aportar fotografías personales,\n",
    "cada alumno buscará 10 fotografías suyas o de conocidos (propias, familia, amigos, …)\n",
    "realizadas en diferentes edades y las etiquetará con la edad que tenía en ese momento la\n",
    "persona que aparece \"edad_<tus_iniciales>-<num_foto>.jpg\" o \"edad_<tus_iniciales>\n",
    "<num_foto>.png\". En el caso de descargar de Internet las imágenes o de generarlas con\n",
    "aplicaciones tened cuidado porque al buscar os pueden aparecer las mismas fotografías para\n",
    "diferentes edades. La cara debe cubrir casi toda la foto (sin paisaje de fondo: ajustar el borde de\n",
    "abajo a la barbilla y los laterales a las orejas y el borde superior al pelo) y la persona debe estar\n",
    "mirando de frente.\n",
    "\n",
    " b) Predecir la peligrosidad de un animal en un rango de 0 a 10: 10 significa que te puede\n",
    "matar o desgraciar si te engancha y 0 que no te va a dañar (al menos en principio). En caso de\n",
    "escoger esta opción cada uno buscará, procesará y aportará 10 fotografías de cabezas de\n",
    "animales de todo tipo (serpientes, insectos, felinos, osos, tiburones, ovejas, gatitos, …) con el\n",
    "nombre del fichero siguiendo el formato \"peligo_<tus_iniciales>-<num_foto>.jpg\" o bien\n",
    "formato \"peligo_<tus_iniciales>-<num_foto>.png\".\n",
    "\n",
    "\n",
    "Nota: este enfoque no tiene visos de dar buenos resultados. Lo ideal sería extraer característics de cada\n",
    "fotografía (zonas de ojos, boca, nariz, orejas, dientes) creando embeddings y codificando estos rasgos a\n",
    "través de deep learning y luego usarlos para realizar las predicciones, pero vamos a probar a ver que tal\n",
    "nos va, al fin y al cabo es una excusa para probar regresores.\n",
    "\n",
    " Una vez que tengas las fotografías debes procesarlas. Te paso el siguiente código:\n",
    "\n"
   ],
   "id": "3bf5a3f291743444"
  },
  {
   "cell_type": "code",
   "execution_count": null,
   "id": "initial_id",
   "metadata": {
    "collapsed": true
   },
   "outputs": [],
   "source": [
    "import numpy as np\n",
    "import pandas as pd\n",
    "import fe\n",
    "import cv2\n",
    "import os\n",
    "\n",
    "# ## Instalar opencv: pip install opencv-python\n",
    "\n",
    "carpeta = \"./\"  # ## CAMBIA!! ## Ruta de carpeta donde están las imágenes\n",
    "archivo_salida = \"josrosrod_imagenes.csv\"  # ## CAMBIA!! ## Ruta de archivo donde guardar datos como .csv\n",
    "# Recorrer todas las imágenes en la carpeta\n",
    "datos_procesados = []\n",
    "patron = r\"^\\d+.*\\.jpe?g$\"  # Para archivos que empiezan con uno o más dígitos y terminan en .jpg o .jpeg\n",
    "for nombre_archivo in os.listdir(carpeta):\n",
    "    ruta_completa = os.path.join(carpeta, nombre_archivo)\n",
    "    if not re.match(patron, nombre_archivo):  # Si el fichero no es imagen con dato numérico antes...\n",
    "        continue\n",
    "    try:\n",
    "        edad = int(nombre_archivo.split(\"_\")[0])\n",
    "    except ValueError:\n",
    "        print(f\"No se pudo extraer la edad del nombre del archivo: {nombre_archivo}\")\n",
    "        continue\n",
    "    # Leer la imagen en escala de grises, escalarla, guardar la procesada\n",
    "    imagen = cv2.imread(ruta_completa, cv2.IMREAD_GRAYSCALE)\n",
    "    if imagen is None:\n",
    "        print(f\"No se pudo leer: {nombre_archivo}\")\n",
    "        continue\n",
    "    imagen_escalada = cv2.resize(imagen, (92, 112), interpolation=cv2.INTER_AREA) # Escala a 92x112\n",
    "    cv2.imwrite(os.path.join(carpeta, \"img_\" + nombre_archivo), imagen_escalada)\n",
    "    imagen_normalizada = (imagen_escalada / 255.0).astype(np.float32) # Normalizar a [0,1]\n",
    "    datos_procesados.append({\"edad\": edad, \"imagen\": imagen_normalizada}) # Añadir datos a datos_procesados\n",
    "\n",
    "# Convertir datos_procesados a DataFrame y guardar como csv\n",
    "df = pd.DataFrame({\"edad\": [d[\"edad\"] for d in datos_procesados],\n",
    "                   \"imagen\": [\",\".join(map(str, d[\"imagen\"].ravel())) for d in datos_procesados]})\n",
    "df.to_csv(archivo_salida, index=False)\n",
    "print(f\"✅ Se guardaron {len(datos_procesados)} imágenes procesadas en '{archivo_salida}'\")"
   ]
  },
  {
   "metadata": {},
   "cell_type": "markdown",
   "source": [
    " Lo que hace el código es definir rutas (que debes adaptar para tu uso) en las variables carpeta (ruta\n",
    "relativa para alcanzar el lugar donde están las imágenes) y archivo_salida (pathname relativo que\n",
    "define el archivo .csv donde se van a guardar los datos)."
   ],
   "id": "b27e2958abeef326"
  },
  {
   "metadata": {},
   "cell_type": "markdown",
   "source": [
    " Las imágenes de carpeta se transforman usando la librería opencv (quizás debas instalarla) en\n",
    "información numérica de la siguiente manera: obtendremos una imagen en escala de grises de\n",
    "dimensiones 92x112 píxels (ancho x alto) que se almacenan como valores float de 32 bits sin signo\n",
    "entre 0 y 256 normalizados a float en el intervalo [0,1]. La columna target de cada foto será la primera\n",
    "característica del dataset. Por ejemplo podemos tener ficheros como estos:\n"
   ],
   "id": "293540c54ffb0f9b"
  },
  {
   "metadata": {},
   "cell_type": "markdown",
   "source": " Y al ejecutar el script obtenermos el resultado y generamos:\n",
   "id": "ca0971d6e6b75305"
  },
  {
   "metadata": {},
   "cell_type": "code",
   "outputs": [],
   "execution_count": null,
   "source": "",
   "id": "21708268db4df358"
  }
 ],
 "metadata": {
  "kernelspec": {
   "display_name": "Python 3",
   "language": "python",
   "name": "python3"
  },
  "language_info": {
   "codemirror_mode": {
    "name": "ipython",
    "version": 2
   },
   "file_extension": ".py",
   "mimetype": "text/x-python",
   "name": "python",
   "nbconvert_exporter": "python",
   "pygments_lexer": "ipython2",
   "version": "2.7.6"
  }
 },
 "nbformat": 4,
 "nbformat_minor": 5
}
