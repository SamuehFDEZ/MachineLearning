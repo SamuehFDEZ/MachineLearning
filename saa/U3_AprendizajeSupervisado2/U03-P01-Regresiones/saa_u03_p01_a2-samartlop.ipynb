{
 "cells": [
  {
   "metadata": {},
   "cell_type": "markdown",
   "source": " ## 📌 ACTIVIDAD 2: UN CASO DE REGRESIÓN MÁS REAL.\n",
   "id": "ac89c4ec0686131b"
  },
  {
   "metadata": {},
   "cell_type": "markdown",
   "source": [
    "Crea el notebook saa_u03_p01_a2-<tus_iniciales>.ipynb donde entregar esta actividad. En el fichero\n",
    "centro-comercial.csv tenemos registrada la facturación semanal conseguida en unos 45 centros\n",
    "comerciales de una cadena de supermercados registrada un día concreto de cada semana. Tenemos\n",
    "datos de varios años y queremos tener un modelo de Machine Learning que nos permita predecir las\n",
    "ventas semanales a partir de otros datos que se indiquen."
   ],
   "id": "8e7cedda2d4e067"
  },
  {
   "metadata": {},
   "cell_type": "markdown",
   "source": [
    " Nota: este ejercicio tiene un obstáculo que debes detectar para poder resolverlo de manera correcta (a mi\n",
    "se me ocurren dos posibles soluciones aplicadas en la fase de preprocesamiento y en el ajuste de\n",
    "parámetros, aunque solamente he probado una y es posible que haya más)."
   ],
   "id": "ba05452652993829"
  },
  {
   "metadata": {},
   "cell_type": "markdown",
   "source": "### COMPARATIVA DE VARIOS REGRESORES",
   "id": "3eb6e2e33897fead"
  },
  {
   "metadata": {},
   "cell_type": "markdown",
   "source": [
    "Carga en un DataFrame el archivo centro-comercial.csv y realiza este preprocesamiento básico:\n",
    "análisis exploratorio de datos y selección de características."
   ],
   "id": "f77baa89b34ea442"
  },
  {
   "metadata": {},
   "cell_type": "code",
   "outputs": [],
   "execution_count": null,
   "source": "",
   "id": "9a0387cc3b503072"
  },
  {
   "metadata": {},
   "cell_type": "markdown",
   "source": [
    "PRIMERA ETAPA: EDA.\n",
    "\n",
    " • Muestra unas filas del dataset y cuantas características y ejemplos tiene"
   ],
   "id": "efcd6dce8c604151"
  },
  {
   "metadata": {},
   "cell_type": "code",
   "outputs": [],
   "execution_count": null,
   "source": "",
   "id": "a9d1a527c710f7e4"
  },
  {
   "metadata": {},
   "cell_type": "markdown",
   "source": [
    " • Cambiar la característica fecha por 3 características nuevas: día de la semana, mes y año.\n",
    "Puedes convertir las fechas en tipo Date con la función de pandas to_datetime(fecha,\n",
    "formato) donde tendrás que indicar el formato porque utiliza por defecto el inglés. El formato\n",
    "es un texto con comodines donde %d es el día, %m es el mes y %Y es el año con 4 dígitos. Cuando\n",
    "la tengas convertida a tipo Date puedes extraerle información con expresiones como\n",
    "pd.fecha.dt.year que te devuelve el año."
   ],
   "id": "5d43789a5c834b0c"
  },
  {
   "metadata": {},
   "cell_type": "code",
   "outputs": [],
   "execution_count": null,
   "source": "",
   "id": "2af38e3da1eb86bb"
  },
  {
   "metadata": {},
   "cell_type": "markdown",
   "source": [
    "• Ahora cuenta y muestra la cantidad de diferentes valores que tiene\n",
    "cada característica con df.nunique() para detectar posibles problemas\n",
    "(que haya 13 meses por ejemplo) o detectar las que quizás sean\n",
    "booleanas (tendrán 2 valores) y en definitiva comprender mejor los\n",
    "datos."
   ],
   "id": "14cab3ed9611c04d"
  },
  {
   "metadata": {},
   "cell_type": "code",
   "outputs": [],
   "execution_count": null,
   "source": "",
   "id": "e4b56d7dcb8270e2"
  },
  {
   "metadata": {},
   "cell_type": "markdown",
   "source": [
    " • Definimos una variable target que será \"ventas_semanales\" y otra de\n",
    "tipo lista llamada predictoras que contenga el resto de características\n",
    "menos el target."
   ],
   "id": "8949c18722bf315c"
  },
  {
   "metadata": {},
   "cell_type": "code",
   "outputs": [],
   "execution_count": null,
   "source": "",
   "id": "5ae51b08c3c9fce8"
  },
  {
   "metadata": {},
   "cell_type": "markdown",
   "source": [
    " • Intentamos detectar qué características pueden ser pueden ser categóricas y cuales pueden ser\n",
    "numéricas usando el criterio de la cantidad de valores diferentes que tengan. Si una\n",
    "característica tiene menos del 0.5% de sus valores distintos es sospechosa de ser categórica\n",
    "aunque sus valores sean numéricos. Completa el código que crea la lista nf con los nombres de\n",
    "las características numéricas y la lista cf con las categóricas y las imprima:\n"
   ],
   "id": "758180187138ab3c"
  },
  {
   "cell_type": "code",
   "execution_count": null,
   "id": "initial_id",
   "metadata": {
    "collapsed": true
   },
   "outputs": [],
   "source": [
    "nu = df[predictoras].nunique().sort_values()\n",
    "nf = []; cf = [];"
   ]
  },
  {
   "metadata": {},
   "cell_type": "markdown",
   "source": " • Dibujar un histograma del target con seaborn por ejemplo usando histplot().\n",
   "id": "ff6f6b107106dd90"
  },
  {
   "metadata": {},
   "cell_type": "code",
   "outputs": [],
   "execution_count": null,
   "source": "",
   "id": "d381ec29fad838c8"
  },
  {
   "metadata": {},
   "cell_type": "markdown",
   "source": [
    " • Completa este código que dibuja las distribuciones de las características numéricas para que\n",
    "aparezca debajo del histograma de cada característica su boxplot y nos permitan visualizar la\n",
    "presencia de outliers, tal y como se ve en la figura."
   ],
   "id": "c088ab6b7e23b72a"
  },
  {
   "metadata": {},
   "cell_type": "code",
   "outputs": [],
   "execution_count": null,
   "source": "",
   "id": "568b28971e6c536f"
  },
  {
   "metadata": {},
   "cell_type": "markdown",
   "source": "SEGUNDA ETAPA: SELECCIÓN DE CARACTERÍSTICAS.\n",
   "id": "1991f4c150fa5ce5"
  },
  {
   "metadata": {},
   "cell_type": "markdown",
   "source": [
    " • Elimina características del dataframe que no son útiles, y también debes borrarlas de las listas\n",
    "de predictoras y de cualquier otra lista donde aparezcan.\n",
    "\n",
    " • Realiza operaciones de limpieza que consideres necesarias. Crea un objeto llamado\n",
    "preprocesador de tipo ColumnTransformer que pueda utilizarse para aplicar transformaciones\n",
    "cuando se necesiten:\n",
    "\n",
    " ◦ Tratamiento de valores ausentes.\n",
    "\n",
    " ◦ Eliminación de filas repetidas.\n",
    "\n",
    " ◦ Tratamiento de outliers.\n",
    "\n",
    " ◦ Codificación de variables categóricas.\n",
    "\n",
    " ◦ Escalado o estandarización.\n",
    "\n",
    " • Estudia la colinealidad entre las predictoras y el target y entre cada pareja de predictoras\n",
    "numéricas calculando la matriz de correlaciones de las características numéricas y visualizando\n",
    "un mapa de calor de color azul y blanco. Elimina predictoras que presenten una correlación\n",
    "superior al 60%.\n"
   ],
   "id": "45bb5b2cb30fcefb"
  },
  {
   "metadata": {},
   "cell_type": "code",
   "outputs": [],
   "execution_count": null,
   "source": "",
   "id": "2564245e8bffdd0d"
  },
  {
   "metadata": {},
   "cell_type": "markdown",
   "source": [
    "TERCERA ETAPA: PARTICIONAR DATOS\n",
    "\n",
    "\n",
    " • Inicializa a partir de ahora todos los procesos aleatorios con una semilla aleatoria obtenida\n",
    "como\n",
    "<letras_de_tu_nombre>\n",
    "concatenar\n",
    "<letras_apellido1>\n",
    "concatenar\n",
    "<letras_apellido2>, por ejemplo en mi caso sería 449 (Jose = 4, Rosa=4, Rodríguez=9).\n",
    "\n",
    "\n",
    "• Deja para entrenamiento el 80% de los datos y divide en train y test."
   ],
   "id": "278ab8d58646c4a1"
  },
  {
   "metadata": {},
   "cell_type": "code",
   "outputs": [],
   "execution_count": null,
   "source": "",
   "id": "73c96987e8c1aa01"
  },
  {
   "metadata": {},
   "cell_type": "markdown",
   "source": [
    "CUARTA ETAPA: ENTRENAMIENTO Y SELECCIÓN DE MODELOS\n",
    "\n",
    "• Vamos a realizar esta etapa de forma manual. Definimos en un diccionario llamado regresores\n",
    "todos los regresores que vamos a entrenar metidos en un Pipeline donde primero aplicamos el\n",
    "preproceso a los datos y luego entrenamos/predecimos con el modelo."
   ],
   "id": "d347328cea5f7e4"
  },
  {
   "metadata": {},
   "cell_type": "code",
   "outputs": [],
   "execution_count": null,
   "source": [
    "from sklearn.pipeline import Pipeline\n",
    "import numpy as np\n",
    "import matplotlib.pyplot as plt\n",
    "from sklearn.svm import SVR, NuSVR, LinearSVR\n",
    "from sklearn.linear_model import LinearRegression, Ridge, Lasso\n",
    "from sklearn.ensemble import RandomForestRegressor, GradientBoostingRegressor\n",
    "from sklearn.neighbors import KNeighborsRegressor\n",
    "from sklearn.tree import DecisionTreeRegressor\n",
    "\n",
    "# Definir los diferentes regresores\n",
    "regresores = {\n",
    "    'svr (linear)': Pipeline([('pre', preprocesador), ('regresor', SVR(kernel='linear', C=1.0, epsilon=0.1))]),\n",
    "    'svr (poly)': Pipeline([('pre', preprocesador), ('regresor', SVR(kernel='poly', C=1.0, epsilon=0.1))]),\n",
    "    'svr (rbf)': Pipeline([('pre', preprocesador), ('regresor', SVR(kernel='rbf', C=1.0, epsilon=0.1))]),\n",
    "    'nusvr': Pipeline([('pre', preprocesador), ('regresor', NuSVR(nu=0.5, kernel='rbf', C=1.0))]),\n",
    "    'linearSVR': Pipeline([('pre', preprocesador), ('regresor', LinearSVR(epsilon=0.1, random_state=449))]),\n",
    "    'linear Regression': Pipeline([('pre', preprocesador), ('regresor', LinearRegression())]),\n",
    "    'Ridge': Pipeline([('pre', preprocesador), ('regresor', Ridge(alpha=1.0))]),\n",
    "    'Lasso': Pipeline([('pre', preprocesador), ('regresor', Lasso(alpha=0.1))]),\n",
    "    'Random Forest': Pipeline([('pre', preprocesador), ('regresor', RandomForestRegressor(n_estimators=100, random_state=449))]),\n",
    "    'Gradient Boosting': Pipeline([('pre', preprocesador), ('regresor', GradientBoostingRegressor(n_estimators=100, random_state=449))]),\n",
    "    'K-Neighbors': Pipeline([('pre', preprocesador), ('regresor', KNeighborsRegressor(n_neighbors=5))]),\n",
    "    'Decision Tree': Pipeline([('pre', preprocesador), ('regresor', DecisionTreeRegressor(random_state=449))])\n",
    "}"
   ],
   "id": "67ecc1ec82de96e"
  },
  {
   "metadata": {},
   "cell_type": "markdown",
   "source": [
    " • Ahora definimos listas (mse_train, mse_test, r2_train, r2_test) para registrar el error que\n",
    "comete cada modelo con train y con test para poder comprobar el desempeño de cada uno y\n",
    "detectar situaciones no deseables. Completa o adapta el código para generar salida como esta:\n"
   ],
   "id": "9f195aa1df7e9d5"
  },
  {
   "metadata": {},
   "cell_type": "code",
   "outputs": [],
   "execution_count": null,
   "source": [
    "# Entrenar y evaluar cada modelo\n",
    "from sklearn.metrics import mean_squared_error, r2_score\n",
    "\n",
    "mse_train = []\n",
    "mse_test = []\n",
    "r2_train = []\n",
    "r2_test = []\n",
    "\n",
    "plt.figure(figsize=(12, 10))\n",
    "\n",
    "for i, (nombre, modelo) in enumerate(regresores.items()):\n",
    "    modelo.fit(X_train, y_train_escalado) # modelo.fit(X_train, y_train) si ni el y_train ni el y_test estuviesen escalados\n",
    "    y_pred_train = modelo.predict(X_train).reshape(-1, 1)\n",
    "    y_pred_test = modelo.predict(X_test).reshape(-1, 1)\n",
    "    # y_pred_test = s_y.inverse_transform(y_pred_test.reshape(-1, 1)).ravel() si el y_test no estuviese escalado\n",
    "\n",
    "    mse_train.append(mean_squared_error(y_train_escalado, y_pred_train)) # mean_squared_error(y_train, y_pred_train)\n",
    "    mse_test.append(mean_squared_error(y_test_escalado, y_pred_test))   # mean_squared_error(y_test, y_pred_test)\n",
    "    r2_train.append(r2_score(y_train_escalado, y_pred_train))          # r2_score(y_train, y_pred_train)\n",
    "    r2_test.append(r2_score(y_test_escalado, y_pred_test))            # r2_score(y_test, y_pred_test)\n",
    "\n",
    "    plt.subplot(4, 3, i + 1)\n",
    "    plt.scatter(X_test, y_test_escalado, color='red', label='Datos de test') # plt.scatter(X_test, y_test, color='red', label='Datos de test')\n",
    "    plt.plot(X_test, y_pred_test, color='blue', linewidth=2, label=nombre)\n",
    "    plt.xlabel('X')\n",
    "    plt.ylabel('y')\n",
    "    plt.title(nombre)\n",
    "    plt.legend()\n",
    "\n",
    "plt.tight_layout()\n",
    "plt.show()"
   ],
   "id": "58ec9852a9a1c658"
  },
  {
   "metadata": {},
   "cell_type": "markdown",
   "source": [
    " • Además de imprimir los scores (MSE y R2) para cada modelo y registrarlos en las listas, vas a\n",
    "generar un gráfico donde se vea:\n",
    "\n",
    " ◦ Un scatter de color rojo que representa cada valor de y_test. Esto genera una línea recta de\n",
    "color rojo formada por los valores de test: los puntos (y_test, y_test) siempre ocuparán\n",
    "la diagonal del gráfico.\n",
    "\n",
    " ◦ Otro scatter de color azul representa cada valor de y_test y cada valor predicho para ese\n",
    "y_test. Así podremos hacernos una idea de cómo de próximas están las predicciones del\n",
    "regresor a sus valores reales.\n",
    "\n",
    " ◦ Puedes seleccionar uno de los gráficos del plt.figure(figsize=(12,10)) de la línea 7\n",
    "ejecutando antes de crear los gráficos, la sentencia plt.subplot(5,3,i+1) dentro del bucle."
   ],
   "id": "968f5ca22c4e8a15"
  },
  {
   "metadata": {},
   "cell_type": "markdown",
   "source": [
    " • Fuera del bucle vamos a comparar el MSE de los modelos con un gráfico de barras donde se vea\n",
    "train y test. Esto nos ayudará a detectar posibles underfitting y overfitting y ver desempeño de\n",
    "los modelos.\n"
   ],
   "id": "242ced530b0a1a7f"
  },
  {
   "metadata": {},
   "cell_type": "markdown",
   "source": [
    " ENTREGA 4: Muestra:\n",
    "\n",
    " a) Etapas y pasos de la actividad con el texto, el código y los gráficos y resultados que se\n",
    "generan en un notebook de Jupyter.\n",
    "\n",
    " b) Responde mirando tu gráfico de MSE:\n",
    "\n",
    " • El peor modelo parece ser:\n",
    "\n",
    "• El mejor modelo parece ser:\n",
    "\n",
    "• Cuál es el que tiene más overfitting:"
   ],
   "id": "6ae3993c1cb862c7"
  },
  {
   "metadata": {},
   "cell_type": "markdown",
   "source": "•De manera similar haz un gráfico de barras donde aparezca el R2 de cada modelo.\n",
   "id": "1c486cecc216751a"
  },
  {
   "metadata": {},
   "cell_type": "markdown",
   "source": [
    "ENTREGA 5: Responde:\n",
    "\n",
    " a) Responde mirando tu gráfico de R2:\n",
    "\n",
    " • El peor modelo y sus R2 de train y test:\n",
    "\n",
    "• El mejor modelo y sus R2 de train y test:\n",
    "\n",
    "• Cuál es el que tiene más overfitting:"
   ],
   "id": "139e571910b93226"
  },
  {
   "metadata": {},
   "cell_type": "markdown",
   "source": [
    "•Escoge uno de los modelos de máquinas de soporte vectorial y ajusta sus hiperparámetros a mano\n",
    "hasta que mejores su R2 con respecto el valor inicial.\n",
    "\n",
    " •Si K-NN tiene overfitting, intenta mejorar la configuración del modelo de la misma forma."
   ],
   "id": "bcfe65e95a12d6b8"
  },
  {
   "metadata": {},
   "cell_type": "markdown",
   "source": [
    "ENTREGA 6: Muestra:\n",
    "\n",
    " a) Nombre del modelo SVR que has escogido.\n",
    "\n",
    " b) MSE y R2 original del SVR:\n",
    "\n",
    "c) Código que realice los cambios a la configuración de los modelos SVR y K-NN, los entrene y\n",
    "calcule sus nuevos scores.\n",
    "\n",
    " d) Gráfico de puntos de datos de test y predicciones de ambos.\n",
    "\n",
    " e) MSE y R2 mejorado de ambos:\n"
   ],
   "id": "bc902dcfe2a8de44"
  },
  {
   "metadata": {},
   "cell_type": "code",
   "outputs": [],
   "execution_count": null,
   "source": "",
   "id": "367472aebcc1ed22"
  }
 ],
 "metadata": {
  "kernelspec": {
   "display_name": "Python 3",
   "language": "python",
   "name": "python3"
  },
  "language_info": {
   "codemirror_mode": {
    "name": "ipython",
    "version": 2
   },
   "file_extension": ".py",
   "mimetype": "text/x-python",
   "name": "python",
   "nbconvert_exporter": "python",
   "pygments_lexer": "ipython2",
   "version": "2.7.6"
  }
 },
 "nbformat": 4,
 "nbformat_minor": 5
}
