{
 "cells": [
  {
   "metadata": {},
   "cell_type": "markdown",
   "source": "# 📌 ACTIVIDAD 4: APLICAR SVR, ÁRBOLES Y RAMDOMFOREST.",
   "id": "66bffd41ef83e563"
  },
  {
   "metadata": {},
   "cell_type": "markdown",
   "source": [
    " Crea el notebook saa_u03_p01_a4-<tus_iniciales>.ipynb donde entregar esta actividad. Intenta\n",
    "encontrar un modelo regresor basado en SVR o CART o RandomForestRegressor de sklearn.ensemble\n",
    "que mejore los resultados del tasador de pisos que elegiste en una práctica de la unidad anterior.\n",
    "\n",
    "ENTREGA 8:\n",
    "\n",
    "Muestra código y capturas de ejecución de configuración y medición de desempeño con\n",
    "gráficos de:\n",
    "\n",
    " a) Un regresor con\n",
    "SVM.\n",
    "\n",
    " b) Un regresor basado en árboles de decisión.\n",
    "\n",
    " c) Un regresor basado en\n",
    "RandomForestRegressor o e GradientBoostingRegressor.\n",
    "\n",
    " En alguno de ellos muestra importancia o influencia de cada característica usada."
   ],
   "id": "517338750e1c2fd9"
  },
  {
   "cell_type": "code",
   "execution_count": null,
   "id": "initial_id",
   "metadata": {
    "collapsed": true
   },
   "outputs": [],
   "source": [
    ""
   ]
  }
 ],
 "metadata": {
  "kernelspec": {
   "display_name": "Python 3",
   "language": "python",
   "name": "python3"
  },
  "language_info": {
   "codemirror_mode": {
    "name": "ipython",
    "version": 2
   },
   "file_extension": ".py",
   "mimetype": "text/x-python",
   "name": "python",
   "nbconvert_exporter": "python",
   "pygments_lexer": "ipython2",
   "version": "2.7.6"
  }
 },
 "nbformat": 4,
 "nbformat_minor": 5
}
