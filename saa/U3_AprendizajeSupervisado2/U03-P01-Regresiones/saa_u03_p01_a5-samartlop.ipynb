{
 "cells": [
  {
   "metadata": {},
   "cell_type": "markdown",
   "source": "# 📌 ACTIVIDAD 5: REGRESIÓN A PARTIR DE FOTOGRAFÍAS.",
   "id": "ea6affb6951a2371"
  },
  {
   "metadata": {},
   "cell_type": "markdown",
   "source": "## DEFINIR PROBLEMA Y RECOPILAR DATOS",
   "id": "19208be1e77b09c8"
  },
  {
   "metadata": {},
   "cell_type": "markdown",
   "source": [
    "Crea el notebook saa_u03_p01_a5-<tus_iniciales>.ipynb donde entregar esta actividad. Necesitamos\n",
    "consensuar por votación 2 posibles problemas (lo que escoja la mayoría de la clase gana) más que\n",
    "nada por obtener suficiente cantidad de datos de alguno de los problemas:\n",
    "\n",
    " a) Predecir la edad de una persona: Si nadie está en contra de aportar fotografías personales,\n",
    "cada alumno buscará 10 fotografías suyas o de conocidos (propias, familia, amigos, …)\n",
    "realizadas en diferentes edades y las etiquetará con la edad que tenía en ese momento la\n",
    "persona que aparece \"edad_<tus_iniciales>-<num_foto>.jpg\" o \"edad_<tus_iniciales>\n",
    "<num_foto>.png\". En el caso de descargar de Internet las imágenes o de generarlas con\n",
    "aplicaciones tened cuidado porque al buscar os pueden aparecer las mismas fotografías para\n",
    "diferentes edades. La cara debe cubrir casi toda la foto (sin paisaje de fondo: ajustar el borde de\n",
    "abajo a la barbilla y los laterales a las orejas y el borde superior al pelo) y la persona debe estar\n",
    "mirando de frente.\n",
    "\n",
    " b) Predecir la peligrosidad de un animal en un rango de 0 a 10: 10 significa que te puede\n",
    "matar o desgraciar si te engancha y 0 que no te va a dañar (al menos en principio). En caso de\n",
    "escoger esta opción cada uno buscará, procesará y aportará 10 fotografías de cabezas de\n",
    "animales de todo tipo (serpientes, insectos, felinos, osos, tiburones, ovejas, gatitos, …) con el\n",
    "nombre del fichero siguiendo el formato \"peligo_<tus_iniciales>-<num_foto>.jpg\" o bien\n",
    "formato \"peligo_<tus_iniciales>-<num_foto>.png\".\n",
    "\n",
    "\n",
    "Nota: este enfoque no tiene visos de dar buenos resultados. Lo ideal sería extraer característics de cada\n",
    "fotografía (zonas de ojos, boca, nariz, orejas, dientes) creando embeddings y codificando estos rasgos a\n",
    "través de deep learning y luego usarlos para realizar las predicciones, pero vamos a probar a ver que tal\n",
    "nos va, al fin y al cabo es una excusa para probar regresores.\n",
    "\n",
    " Una vez que tengas las fotografías debes procesarlas. Te paso el siguiente código:\n",
    "\n"
   ],
   "id": "3bf5a3f291743444"
  },
  {
   "cell_type": "code",
   "id": "initial_id",
   "metadata": {
    "collapsed": true,
    "ExecuteTime": {
     "end_time": "2025-05-05T15:33:08.799300Z",
     "start_time": "2025-05-05T15:33:08.330291Z"
    }
   },
   "source": [
    "import numpy as np\n",
    "import pandas as pd\n",
    "import cv2\n",
    "import os\n",
    "import re\n",
    "\n",
    "# Ruta a la carpeta de imágenes\n",
    "carpeta_imagenes = \"../U03_Recursos/U03_P01_Regresiones/edad/\"\n",
    "archivo_salida = \"samartlop_imagenes.csv\"\n",
    "\n",
    "# Aceptar .jpg, .jpeg o .png que comienzan con dígitos (como \"10_jororo-1.png\")\n",
    "patron = r\"^\\d+.*\\.(jpe?g|png)$\"\n",
    "\n",
    "datos_procesados = []\n",
    "\n",
    "for nombre_archivo in os.listdir(carpeta_imagenes):\n",
    "    if not re.match(patron, nombre_archivo, re.IGNORECASE):\n",
    "        continue\n",
    "\n",
    "    ruta_completa = os.path.join(carpeta_imagenes, nombre_archivo)\n",
    "\n",
    "    try:\n",
    "        edad = int(nombre_archivo.split(\"_\")[0])  # Extrae '10' de '10_jororo-1.png'\n",
    "    except ValueError:\n",
    "        print(f\"❌ No se pudo extraer la edad de: {nombre_archivo}\")\n",
    "        continue\n",
    "\n",
    "    imagen = cv2.imread(ruta_completa, cv2.IMREAD_GRAYSCALE)\n",
    "    if imagen is None:\n",
    "        print(f\"❌ No se pudo leer la imagen: {nombre_archivo}\")\n",
    "        continue\n",
    "\n",
    "    imagen_escalada = cv2.resize(imagen, (92, 112), interpolation=cv2.INTER_AREA)\n",
    "    imagen_normalizada = (imagen_escalada / 255.0).astype(np.float32)\n",
    "    datos_procesados.append({\n",
    "        \"edad\": edad,\n",
    "        \"imagen\": imagen_normalizada\n",
    "    })\n",
    "\n",
    "# Verificar si se procesaron imágenes\n",
    "if not datos_procesados:\n",
    "    print(\"⚠️ No se procesaron imágenes. Revisa la carpeta y el patrón de nombres.\")\n",
    "    exit()\n",
    "\n",
    "# Guardar en CSV\n",
    "df = pd.DataFrame({\n",
    "    \"edad\": [d[\"edad\"] for d in datos_procesados],\n",
    "    \"imagen\": [\",\".join(map(str, d[\"imagen\"].ravel())) for d in datos_procesados]\n",
    "})\n",
    "df.to_csv(archivo_salida, index=False)\n",
    "print(f\"✅ Se guardaron {len(df)} imágenes procesadas en '{archivo_salida}'\")"
   ],
   "outputs": [
    {
     "name": "stdout",
     "output_type": "stream",
     "text": [
      "✅ Se guardaron 31 imágenes procesadas en 'samartlop_imagenes.csv'\n"
     ]
    }
   ],
   "execution_count": 10
  },
  {
   "metadata": {},
   "cell_type": "markdown",
   "source": [
    " Lo que hace el código es definir rutas (que debes adaptar para tu uso) en las variables carpeta (ruta\n",
    "relativa para alcanzar el lugar donde están las imágenes) y archivo_salida (pathname relativo que\n",
    "define el archivo .csv donde se van a guardar los datos)."
   ],
   "id": "b27e2958abeef326"
  },
  {
   "metadata": {},
   "cell_type": "markdown",
   "source": [
    " Las imágenes de carpeta se transforman usando la librería opencv (quizás debas instalarla) en\n",
    "información numérica de la siguiente manera: obtendremos una imagen en escala de grises de\n",
    "dimensiones 92x112 píxels (ancho x alto) que se almacenan como valores float de 32 bits sin signo\n",
    "entre 0 y 256 normalizados a float en el intervalo [0,1]. La columna target de cada foto será la primera\n",
    "característica del dataset. Por ejemplo podemos tener ficheros como estos:\n"
   ],
   "id": "293540c54ffb0f9b"
  },
  {
   "metadata": {},
   "cell_type": "markdown",
   "source": " Y al ejecutar el script obtenermos el resultado y generamos:\n",
   "id": "ca0971d6e6b75305"
  },
  {
   "metadata": {},
   "cell_type": "markdown",
   "source": " Y un fichero .csv donde anotamos los datos de cada ejemplo, algo como esto:\n",
   "id": "19abe03d40cf4a45"
  },
  {
   "metadata": {},
   "cell_type": "markdown",
   "source": [
    "Debes subir tus fotografías debidamente etiquetadas a la siguiente carpeta: 📂 carpeta . Pero antes\n",
    "comprueba que son correctos y de paso realizas la carga de datos. Para ello prueba a cargar tus\n",
    "imágenes en un DataFrame de pandas y mostrar sus datos y visualizar alguna de las imágenes que\n",
    "contiene. El siguiente ejemplo visualiza la primera fotografía usando opencv y aunque sale en su\n",
    "propia ventana nos sirve para comprobar que las hemos generado y cargado bien:"
   ],
   "id": "b797f6758b553d1c"
  },
  {
   "metadata": {
    "ExecuteTime": {
     "end_time": "2025-05-05T15:33:29.797196Z",
     "start_time": "2025-05-05T15:33:08.833270Z"
    }
   },
   "cell_type": "code",
   "source": [
    "# Leer el CSV y convertir las imágenes\n",
    "df = pd.read_csv(archivo_salida)\n",
    "\n",
    "if df.empty:\n",
    "    print(\"⚠️ El archivo CSV está vacío.\")\n",
    "    exit()\n",
    "\n",
    "df[\"imagen\"] = df[\"imagen\"].apply(lambda x: np.array(list(map(float, x.split(',')))).reshape(112, 92))\n",
    "\n",
    "# Mostrar la primera imagen\n",
    "edad = df.iloc[0][\"edad\"]\n",
    "imagen = df.iloc[0][\"imagen\"]\n",
    "pixel_array = (imagen * 255).astype(np.uint8)\n",
    "\n",
    "print(f\"🖼️ Edad: {edad}, Imagen shape: {imagen.shape}\")\n",
    "cv2.imshow(f\"Edad: {edad}\", pixel_array)\n",
    "cv2.waitKey(0)\n",
    "cv2.destroyAllWindows()"
   ],
   "id": "5ca9b16772bca1cc",
   "outputs": [
    {
     "name": "stdout",
     "output_type": "stream",
     "text": [
      "🖼️ Edad: 10, Imagen shape: (112, 92)\n"
     ]
    }
   ],
   "execution_count": 11
  },
  {
   "metadata": {},
   "cell_type": "markdown",
   "source": [
    "Este otro código define un método al que indicas (un array de imágenes, un array con sus etiquetas y\n",
    "desde que imagen hasta qué imagen quieres visualizar). El método usa matplotlib para visualizarlas\n",
    "añadiendo etiquetas con el dato (la edad en este ejemplo) en un recuadro rojo en la esquina superior\n",
    "izquierda) y con el índice que ocupa en el DataFrame (una caja de color verde en la esquina inferior\n",
    "izquierda)."
   ],
   "id": "9172b4aaeea36744"
  },
  {
   "metadata": {},
   "cell_type": "markdown",
   "source": "Y aquí está ese otro código:\n",
   "id": "630cab6be390ba72"
  },
  {
   "metadata": {
    "ExecuteTime": {
     "end_time": "2025-05-05T15:33:30.075499Z",
     "start_time": "2025-05-05T15:33:29.926211Z"
    }
   },
   "cell_type": "code",
   "source": [
    "import matplotlib.pyplot as plt\n",
    "\n",
    "def print_imagenes(imgs, targets, desde, hasta):\n",
    "    # configuramos el tamaño de las imágenes por pulgadas\n",
    "    fig = plt.figure(figsize=(30, 24))\n",
    "    fig.subplots_adjust(left=0, right=1, bottom=0, top=1, hspace=0.05, wspace=0.05)\n",
    "    for i in range(desde, hasta):\n",
    "        # graficamos las imágenes en una matriz de 25x20\n",
    "        p = fig.add_subplot(25, 20, i + 1, xticks=[], yticks=[])\n",
    "        p.imshow(imgs[i], cmap=\"gray\")\n",
    "        # etiquetar imágenes con target e índice\n",
    "        p.text(0, 14, str(targets[i]), bbox=dict(facecolor='red', alpha=0.5))\n",
    "        p.text(0, 100, str(i), bbox=dict(facecolor='green', alpha=0.5))\n",
    "    plt.show()\n",
    "\n",
    "print_imagenes(df.iloc[:][\"imagen\"], df.iloc[:][\"edad\"], 0, 2)"
   ],
   "id": "1aab7ee42311055e",
   "outputs": [
    {
     "data": {
      "text/plain": [
       "<Figure size 3000x2400 with 2 Axes>"
      ],
      "image/png": "[encoded data removed]"
     },
     "metadata": {},
     "output_type": "display_data"
    }
   ],
   "execution_count": 12
  },
  {
   "metadata": {},
   "cell_type": "markdown",
   "source": "### ENTRENAR VARIOS REGRESORES Y MEDIR SU DESEMPEÑO\n",
   "id": "5853811f63cf0991"
  },
  {
   "metadata": {},
   "cell_type": "markdown",
   "source": [
    "Ahora vamos a utilizar varios regresores para ver el desempeño que somos capaces de conseguir en\n",
    "esta tarea. Debes probar todos los regresores que importamos en esta figura:"
   ],
   "id": "5aedc694121e22d4"
  },
  {
   "metadata": {
    "ExecuteTime": {
     "end_time": "2025-05-05T15:33:30.551653Z",
     "start_time": "2025-05-05T15:33:30.193469Z"
    }
   },
   "cell_type": "code",
   "source": [
    "from sklearn.preprocessing import StandardScaler\n",
    "from sklearn.model_selection import train_test_split\n",
    "from sklearn.svm import SVR\n",
    "from sklearn.tree import DecisionTreeRegressor\n",
    "from sklearn.neighbors import KNeighborsRegressor\n",
    "from sklearn.ensemble import BaggingRegressor, RandomForestRegressor\n",
    "from sklearn.ensemble import AdaBoostRegressor\n",
    "from sklearn.ensemble import GradientBoostingRegressor\n",
    "from sklearn.metrics import mean_squared_error"
   ],
   "id": "792ef60d07f139fd",
   "outputs": [],
   "execution_count": 13
  },
  {
   "metadata": {},
   "cell_type": "markdown",
   "source": [
    " En primer lugar necesitamos transformar la característica imagen de cada cara en una característica\n",
    "por cada pixel, para ello:"
   ],
   "id": "f7a774323fd2d3a1"
  },
  {
   "metadata": {
    "ExecuteTime": {
     "end_time": "2025-05-05T15:33:30.859391Z",
     "start_time": "2025-05-05T15:33:30.657314Z"
    }
   },
   "cell_type": "code",
   "source": [
    "# Preparar características del dataframe\n",
    "y = df['edad']\n",
    "df_pixels = df[\"imagen\"].apply(lambda img: img.flatten()) # Aplana cada imagen\n",
    "df_pixels = pd.DataFrame(df_pixels.tolist()) # Expandir en columnas\n",
    "df_final = pd.concat([df['edad'], df_pixels], axis=1) # Unir con la edad\n",
    "X = df_final.drop(columns=[\"edad\"]) # Características (píxeles)"
   ],
   "id": "55eec0a1c762d3fc",
   "outputs": [],
   "execution_count": 14
  },
  {
   "metadata": {},
   "cell_type": "markdown",
   "source": [
    "Como es algo que haremos en todos los modelos, voy a pasarte el código de un método que nos\n",
    "ahorrará trabajo. Solo tenemos que pasar en cada llamada los valores y_train, y_test,\n",
    "y_train_predicho, y_test_predicho y el nombre del modelo. Los valores reales y las predicciones\n",
    "deben pasarse sin escalar para que se entiendan bien los gráficos. La figura se obtiene con SVR y solo\n",
    "31 fotos originales:\n"
   ],
   "id": "8db1c17b2ab3405f"
  },
  {
   "metadata": {
    "ExecuteTime": {
     "end_time": "2025-05-05T15:33:30.998068Z",
     "start_time": "2025-05-05T15:33:30.990383Z"
    }
   },
   "cell_type": "code",
   "source": [
    "def resumen_resultado(y_train, y_train_predicho, y_test, y_test_predicho, nombre_modelo=\"modelo\"):\n",
    "    rmse_train = mean_squared_error(y_train, y_train_predicho)**0.5\n",
    "    rmse_test = mean_squared_error(y_test, y_test_predicho)**0.5\n",
    "    print(f\"RMSE en train de ({nombre_modelo}): {rmse_train:.6f}\")\n",
    "    print(f\"RMSE en test de ({nombre_modelo}): {rmse_test:.6f}\")\n",
    "\n",
    "    plt.figure(figsize=(12, 5))\n",
    "\n",
    "    plt.subplot(1, 2, 1)\n",
    "    plt.scatter(y_test, y_test, color=\"red\", label=\"Valor real\")\n",
    "    plt.scatter(y_test, y_test_predicho, color=\"blue\", label=\"Valor predicho\")\n",
    "    plt.xlabel(\"edad\")\n",
    "    plt.ylabel(\"edad predicha\")\n",
    "    plt.axvline()\n",
    "    plt.axhline()\n",
    "    plt.title(f\"Valor-predicción en Test ({nombre_modelo})\")\n",
    "    plt.legend()\n",
    "\n",
    "    plt.subplot(1, 2, 2)\n",
    "    bar_width = 0.35\n",
    "    bars1 = plt.bar(2 - bar_width/2, rmse_train, width=bar_width, label=\"RMSE Train\", color=\"royalblue\")\n",
    "    bars2 = plt.bar(2 + bar_width/2, rmse_test, width=bar_width, label=\"RMSE Test\", color=\"tomato\")\n",
    "\n",
    "    # Anotar valores encima de las barras\n",
    "    for bars in [bars1, bars2]:\n",
    "        for bar in bars:\n",
    "            yval = bar.get_height()\n",
    "            plt.text(bar.get_x() + bar.get_width()/2, yval, f'{yval:.2f}', ha='center', va='bottom', fontsize=8)\n",
    "\n",
    "    plt.ylabel(\"RMSE\")\n",
    "    plt.title(\"RMSE en train y test\")\n",
    "    plt.legend()\n",
    "    plt.grid(axis='y', linestyle='--', alpha=0.7)\n",
    "\n",
    "    plt.tight_layout()\n",
    "    plt.show()"
   ],
   "id": "eeb84172867f9d86",
   "outputs": [],
   "execution_count": 15
  },
  {
   "metadata": {},
   "cell_type": "markdown",
   "source": [
    " ### ENTREGA 9:\n",
    "\n",
    "a) Añade a la carpeta compartida tus 10 fotografías con el formato indicado.\n",
    "\n",
    " b) Adapta el código propuesto, lo entregas y lo ejecutas.\n",
    "\n",
    " c) Entrenas y pruebas el modelo\n",
    "SVR.\n",
    "\n",
    " d) Entrenas y pruebas el modelo\n",
    "DecisionTreeRegressor.\n",
    "\n",
    " e) Entrenas y pruebas el modelo\n",
    "KneighborsRegressor.\n",
    "\n",
    " f) Entrenas y pruebas el modelo\n",
    "BaggingRegressor.\n",
    "\n",
    " g) Entrenas y pruebas el modelo\n",
    "RandomForestRegressor.\n",
    "\n",
    " h) Entrenas y pruebas el modelo\n",
    "AdaBoostRegressor.\n",
    "\n",
    " i)  Entrenas y pruebas el modelo\n",
    " GradientBoostingRegressor.\n",
    " underfitting\n",
    "\n",
    " j) Comenta en cada uno de ellos los ajustes de hiperparámetros que has intentado para evitar\n",
    "que tengan\n",
    "o bien\n",
    "overfitting\n",
    " . Si no consigues solucionarlo deja la mejor\n",
    "configuración"
   ],
   "id": "2654c17da38ae506"
  }
 ],
 "metadata": {
  "kernelspec": {
   "display_name": "Python 3",
   "language": "python",
   "name": "python3"
  },
  "language_info": {
   "codemirror_mode": {
    "name": "ipython",
    "version": 2
   },
   "file_extension": ".py",
   "mimetype": "text/x-python",
   "name": "python",
   "nbconvert_exporter": "python",
   "pygments_lexer": "ipython2",
   "version": "2.7.6"
  }
 },
 "nbformat": 4,
 "nbformat_minor": 5
}
