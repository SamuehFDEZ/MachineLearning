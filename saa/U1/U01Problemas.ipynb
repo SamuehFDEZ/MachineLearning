{
 "cells": [
  {
   "cell_type": "markdown",
   "metadata": {},
   "source": [
    "# EJERCICIOS MACHINE LEARNING\n",
    "\n",
    "\n",
    "## EJERCICIO 1. \n",
    "Mira el vídeo de este enlace sobre la diferencia entre algoritmos de aprendizaje y modelos en Machine Learning y responde a estas preguntas: \n",
    "\n",
    "**a) ¿Qué tarea quieren que haga el sistema de Machine Learning?**\n",
    "\n",
    "<span style=\"color: #6CFF36;\">Saber diferenciar dependiendo de dos condiciones si una persona es consumidor o inversor, en base a los ingresos y deudas.</span> \n",
    "\n",
    "**b) ¿Qué datos se usan de cada cliente?** <br>\n",
    "<span style=\"color: #6CFF36;\">Sus deudas y ingresos</span> <br>\n",
    "\n",
    "**c) ¿Qué modelo se usa en el vídeo? ¿Regresión lineal?** <br>\n",
    "<span style=\"color: #6CFF36;\">El modelo estará formado por unos parámetros y un criterio de decisión</span> <br>\n",
    "\n",
    "**¿Cuales son sus parámetros?**  <br> \n",
    "<span style=\"color: #6CFF36;\">W1, w2 y b</span> <br>\n",
    "\n",
    "**¿Y el criterio?** <br>\n",
    "<span style=\"color: #6CFF36;\">Asignar unos valores aleatorios en los parámetros de la ecuación</span>\n",
    "\n",
    "\n",
    "**d) ¿Cuál es el primer paso del algoritmo?** <br>\n",
    "\n",
    "<span style=\"color: #6CFF36;\"> Asignar unos valores aleatorios en los parámetros de la ecuación</span>\n",
    "\n",
    "\n",
    "\n",
    "## EJERCICIO 2. \n",
    "Consulta el artículo sobre un inconveniente del ML y: \n",
    "\n",
    "**a) Resume en un par de líneas el problema que presenta.** <br>\n",
    "\n",
    "<span style=\"color: #6CFF36;\">El problema que presenta el machine learning es la huella de carbono que deja en el medio ambiente y la creciente preocupación sobre este hecho; también han destacado la necesidad de datos precisos que aseguren esta huella de carbono, la cual puede ayudar a identificar estrategias para mitigar la emisión de CO2 en el machine learning.</span> <br>\n",
    "\n",
    "\n",
    "**b) ¿En qué consisten las 4M que se proponen para solucionarlo**\n",
    "\n",
    "<span style=\"color: #6CFF36;\">Las 4Ms que se mencionan son las siguientes: <br>\n",
    "\n",
    "<span style=\"color: #6CFF36;\">Model: seleccionar arquitecturas de modelos eficientes para reducir carga computacional entre 3 y 10 veces.</span> <br>\n",
    "<span style=\"color: #6CFF36;\">Machine: usar procesadores y sistemas optimizados para el entrenamiento de machine learning contra procesadores de propósito general puede mejorar el rendimiento y la eficiencia de energía entre 2 y 5 veces.</span> <br>\n",
    "<span style=\"color: #6CFF36;\">Mechanization: trabajar en la nube en vez de las instalaciones reduce el uso de energía y, por lo tanto, las emisiones entre un 1.4 y 2 veces.</span> <br>\n",
    "<span style=\"color: #6CFF36;\">Map Optimization: la nube permite a los clientes seleccionar la localización con la energía más limpia, además reduce la grave huella de carbono entre 5 y 10 veces.</span>\n",
    "\n",
    "\n",
    "## EJERCICIO 3. \n",
    "\n",
    "Mira el vídeo de este enlace sobre cómo saber si es apropiado usar Machine Learning para resolver un problema o no es una buena idea y sería mejor usar otras alternativas: <br>\n",
    "\n",
    "**a) Escribe la definición de ML que indican en el vídeo.** <br>\n",
    "\n",
    "<span style=\"color: #6CFF36;\"> Es un enfoque que permite aprender patrones complejos a partir de datos existentes y usar estos patrones para realizar predicciones sobre datos nunca antes analizados. <br> </span>\n",
    "\n",
    "**b) Escribe un árbol de decisión que esquematice cuando sería buena idea y cuando no.** <br>\n",
    "\n",
    "Nota: Un árbol de decisión es un árbol binario invertido (la raíz arriba) donde cada nodo equivale a una pregunta con dos posibles respuestas de tipo SI/NO a la pregunta del nodo. y su se sigue la respuesta te lleva a una nueva pregunta o a un nodo final que indica una solución. Ejemplo: \n",
    "\n",
    "\n",
    "<img src=\"img/captura1.png\" alt=\"captura1\"> <br>\n",
    "<img src=\"img/captura2.png\" alt=\"captura2\">\n",
    "\n",
    "\n",
    "## EJERCICIO 4. \n",
    "\n",
    "Responde a estas cuestiones: \n",
    "\n",
    "**1. ¿Cómo podrías definir con tus palabras lo que es el Machine Learning?** <br>\n",
    "\n",
    "<span style=\"color: #6CFF36;\">El Machine Learning es una rama de la inteligencia artificial que permite una automatización de procesos y el aprendizaje de datos y mejora de resultados con la experiencia sin necesidad de ser programadas explícitamente. En lugar de seguir instrucciones detalladas, los sistemas encuentran patrones y relaciones en los datos para tomar decisiones o hacer predicciones.</span>\n",
    "\n",
    "**2. ¿Puedes nombrar 4 tipos de problemas donde haya tenido éxito?**<br>\n",
    "\n",
    "<span style=\"color:#6CFF36;\"> Reconocimiento de imágenes (como la identificación de objetos en fotos)</span> <br>\n",
    "<span style=\"color:#6CFF36;\"> Análisis de sentimiento en texto (detección de emociones en comentarios)</span> <br>\n",
    "<span style=\"color:#6CFF36;\"> Predicción de enfermedades en medicina (diagnóstico basado en síntomas y estudios)</span> <br>\n",
    "<span style=\"color:#6CFF36;\"> Sistemas de recomendación (como recomendaciones de productos en línea)</span> <br>\n",
    "\n",
    "**3. ¿Qué es un training set etiquetado?**<br>\n",
    "\n",
    "<span style=\"color: #6CFF36;\">Un training set etiquetado es un conjunto de datos de entrenamiento donde cada ejemplo tiene una etiqueta o salida deseada asociada. Esto significa que el modelo puede aprender relaciones entre las entradas (características) y las salidas esperadas (etiquetas) para hacer predicciones precisas.</span>\n",
    "\n",
    "**4. ¿Cuales son las dos tareas más comunes del aprendizaje supervisado?**<br>\n",
    "\n",
    "<span style=\"color: #6CFF36;\">\n",
    "Clasificación (asignar etiquetas a las entradas, como clasificar correos electrónicos como \"spam\" o \"no spam\")\n",
    "</span> <br>\n",
    "<span style=\"color: #6CFF36;\">\n",
    "Regresión (predecir valores numéricos continuos, como el precio de una casa)\n",
    "</span><br>\n",
    "\n",
    "**5. ¿Puedes dar nombre a 4 algoritmos de aprendizaje supervisado?**<br>\n",
    "\n",
    "<span style=\"color: #6CFF36;\">Regresión Lineal</span> <br>\n",
    "<span style=\"color: #6CFF36;\">Máquinas de soporte vectorial (SVM)</span><br>\n",
    "<span style=\"color: #6CFF36;\">K-Vecinos más cercanos (KNN)</span><br>\n",
    "<span style=\"color: #6CFF36;\">Bosques aleatorios (Random Forest)</span><br>\n",
    "\n",
    "**6. ¿Qué tipo de algoritmo de aprendizaje usarías para permitir a un robot andar por terrenos desconocidos?**<br>\n",
    "\n",
    "<span style=\"color: #6CFF36;\">Para esta tarea usaría un algoritmo de aprendizaje por refuerzo, ya que este tipo de algoritmos permiten que el robot aprenda a tomar decisiones en un entorno dinámico y desconocido mediante la obtención de recompensas o penalizaciones según sus acciones.</span>\n",
    "\n",
    "**7. ¿Qué tipo de algoritmo podrías usar para segmentar a tus clientes en varios grupos?**<br>\n",
    "\n",
    "<span style=\"color: #6CFF36;\">Para segmentar a los clientes, un algoritmo de aprendizaje no supervisado, como el clustering (por ejemplo, K-means), sería adecuado ya que permite identificar patrones o grupos sin necesidad de etiquetas predefinidas.</span>\n",
    "\n",
    "**8. Si necesitas implementar un sistema de filtrado de correos electrónicos que detecte si un email es o no spam, este problema sería de aprendizaje supervisado o no supervisado?**<br>\n",
    "\n",
    "<span style=\"color: #6CFF36;\">Sería un problema de aprendizaje supervisado, ya que hay ejemplos de correos previamente etiquetados como \"spam\" y \"no spam\" que el sistema puede usar para aprender a clasificar futuros correos.</span>\n",
    "\n",
    "**9. ¿Qué es un sistema de aprendizaje online? ¿Cómo se llaman los que no son de este tipo? ¿Qué ventajas suele tener con respecto a los otros?**<br>\n",
    "\n",
    "<span style=\"color: #6CFF36;\">Un sistema de aprendizaje online es aquel que aprende de los datos de manera continua, actualizándose conforme recibe nueva información, en lugar de esperar a que se le proporcione un conjunto de datos completo. Los sistemas que no son de este tipo se llaman sistemas de aprendizaje por lotes (batch learning). La ventaja del aprendizaje online es que puede adaptarse rápidamente a cambios en los datos en tiempo real.</span>\n",
    "\n",
    "**10. ¿Qué significa el término out-of-core learning?**<br>\n",
    "\n",
    "<span style=\"color: #6CFF36;\">Out-of-core learning se refiere a técnicas de aprendizaje que permiten trabajar con datasets que son demasiado grandes para caber en la memoria RAM de una computadora, procesando los datos en pequeñas porciones.</span>\n",
    "\n",
    "**11. ¿Qué tipo de algoritmos de aprendizaje usan una medida de similitud para realizar predicciones?**<br>\n",
    "\n",
    "<span style=\"color: #6CFF36;\">Los algoritmos basados en medidas de similitud incluyen algoritmos como K-vecinos más cercanos (KNN) y modelos de agrupamiento (clustering), que usan la cercanía o similitud entre ejemplos para hacer predicciones o agrupaciones.</span>\n",
    "\n",
    "**12. ¿Qué diferencia hay entre los parámetros de un modelo y los hiperparámetros de los algoritmos de aprendizaje? Indica un ejemplo de cada uno.**<br>\n",
    "\n",
    "<span style=\"color: #6CFF36;\">Los parámetros son los valores internos que el modelo aprende del conjunto de datos durante el entrenamiento, como los coeficientes en una regresión lineal.</span> <br>\n",
    "\n",
    "<span style=\"color: #6CFF36;\">Los hiperparámetros son configuraciones externas que se establecen antes del entrenamiento y que no cambian, como el número de vecinos en KNN o la profundidad máxima en un árbol de decisión.</span><br>\n",
    "\n",
    "**13. ¿Qué busca un algoritmo de aprendizaje basado en modelo? ¿Cuál es el enfoque más común que utilizan para realizar este trabajo? ¿Cómo hacen las predicciones?**<br>\n",
    "\n",
    "<span style=\"color: #6CFF36;\">Un algoritmo basado en modelo busca identificar una función matemática o representación que relacione las entradas con las salidas del conjunto de entrenamiento. El enfoque más común es optimizar esta función para minimizar la diferencia entre las predicciones y las salidas reales. Hacen predicciones aplicando esta función a los nuevos datos.</span>\n",
    "\n",
    "**14. Indica 4 desafíos que tenga el machine learning.**<br>\n",
    "\n",
    "<span style=\"color: #6CFF36;\">Sobreajuste (overfitting) o bajo ajuste (underfitting)</span> <br>\n",
    "<span style=\"color: #6CFF36;\">Disponibilidad y calidad de los datos de entrenamiento</span> <br>\n",
    "<span style=\"color: #6CFF36;\">Interpretabilidad de los modelos complejos</span> <br>\n",
    "<span style=\"color: #6CFF36;\">Escalabilidad y gestión de grandes volúmenes de datos</span> <br>\n",
    "\n",
    "**15. Si tu modelo funciona bien con los datos de entrenamiento pero no generaliza bien con los nuevos datos con los que debe trabajar ¿Qué está ocurriendo? Puedes nombrar 3 posibles causas. Puedes nombrar 3 posibles soluciones.**<br>\n",
    "\n",
    "<span style=\"color: #6CFF36;\">Problema: Sobreajuste (overfitting).</span> <br>\n",
    "<span style=\"color: #6CFF36;\">Causas:</span> <br>\n",
    "<span style=\"color: #6CFF36;\">El modelo es demasiado complejo para la cantidad de datos disponibles.\n",
    "Exceso de entrenamiento en los datos de entrenamiento.\n",
    "Falta de diversidad en el conjunto de datos.</span>\n",
    "<span style=\"color: #6CFF36;\">Soluciones:</span> <br>\n",
    "<span style=\"color: #6CFF36;\">Reducir la complejidad del modelo.\n",
    "Usar regularización para limitar el ajuste excesivo.\n",
    "Aumentar el tamaño y la variedad del conjunto de datos.</span>\n",
    "\n",
    "**16. ¿Qué es un test set y porqué es necesario usarlo?**<br>\n",
    "\n",
    "<span style=\"color: #6CFF36;\">Un test set es un conjunto de datos separado del conjunto de entrenamiento que se utiliza para evaluar el rendimiento de un modelo de aprendizaje en datos nuevos. Es necesario para medir la capacidad de generalización del modelo y asegurarse de que funcione bien con datos no vistos.</span>\n",
    "\n",
    "**17. ¿Cuál es el objetivo de utilizar un validation set?**<br>\n",
    "\n",
    "<span style=\"color: #6CFF36;\">El validation set se utiliza para ajustar los hiperparámetros del modelo y para evaluar diferentes configuraciones antes de probarlo en el test set. Así, permite seleccionar el modelo óptimo sin influenciar el rendimiento final.</span>\n",
    "\n",
    "**18. ¿Qué puede ir mal si tuneas los hiperparámetros de un modelo usando el test set?**<br>\n",
    "\n",
    "<span style=\"color: #6CFF36;\">Si se usan los datos del test set para ajustar los hiperparámetros, el modelo podría optimizarse para esos datos específicos, resultando en una medición de rendimiento artificialmente alta y un modelo menos capaz de generalizar a nuevos datos.</span>\n",
    "\n",
    "\n",
    "## EJERCICIO 5. \n",
    "\n",
    "Tenemos estos datos sobre diferentes coches. Responde a estas cuestiones: <br>\n",
    "\n",
    "<img src=\"img/captura3.png\" alt=\"captura3.png\"> <br>\n",
    "\n",
    "**a) ¿Cuántos ejemplos hay?** <br> \n",
    "\n",
    "<span style=\"color: #6CFF36;\">20</span>\n",
    "\n",
    "**b) ¿Cuántas característica tiene cada uno?** <br>\n",
    "\n",
    "<span style=\"color: #6CFF36;\">9</span>\n",
    "\n",
    "**c) Si eliminamos la característica nombre, y queremos predecir el valor de la aceleración a partir del resto de características ¿Cuántas predictoras hay? ¿Cuál es la columna label? ¿Cuál es la columna target? ¿Qué tipo de algoritmo de aprendizaje debemos usar supervisado o no supervisado? ¿Qué tarea estamos haciendo una regresión o una clasificación?** <br>\n",
    "\n",
    "<span style=\"color: #6CFF36;\">Si eliminamos la columna \"nombre\":\n",
    "El total de características predictoras sería 7 (excluyendo \"nombre\" y la columna \"aceleracion\" que queremos predecir).\n",
    "La columna label (target) es \"aceleracion\" porque es la que queremos predecir.\n",
    "En este caso, estamos usando un algoritmo de aprendizaje supervisado, ya que tenemos ejemplos etiquetados (conociendo la \"aceleracion\").\n",
    "Como el valor que queremos predecir es continuo (aceleración en segundos), la tarea corresponde a una regresión.</span>\n",
    "\n",
    "**d) Si creamos una división en train y test y queremos dejar el 30% de los ejemplos para el algoritmo de entrenamiento del modelo ¿Cuántos ejemplos usará este algoritmo para aprender? ¿Y cuantos para testear el modelo calculado?** <br>\n",
    "\n",
    "<span style=\"color: #6CFF36;\">Si queremos utilizar el 30% para test y el 70% para entrenamiento:\n",
    "El 70% de 20 ejemplos sería 14 ejemplos para entrenamiento.\n",
    "El 30% restante sería 6 ejemplos para testear el modelo.</span>\n",
    "\n",
    "\n",
    "## EJERCICIO 6: \n",
    "\n",
    "Mira el vídeo donde se explica en qué consiste el aprendizaje reforzado y responde a estas cuestiones: \n",
    "\n",
    "**a) ¿El aprendizaje reforzado siempre se basa en modelos o nunca lo hace?** \n",
    "\n",
    "<span style=\"color: #6CFF36;\"> No siempre, la mayoría de los algoritmos de aprendizaje reforzado no se basan en modelos. Existen enfoques basados en modelos y enfoques sin modelos, pero los sin modelos suelen ser los más comunes. </span>\n",
    "\n",
    "\n",
    "**b) ¿En resolver qué juegos han tenido éxito los algoritmos de aprendizaje reforzado?** \n",
    "\n",
    "<span style=\"color: #6CFF36;\">Los algoritmos de aprendizaje reforzado han tenido éxito en resolver juegos como el ajedrez, el Go. En particular, el uso de algoritmos de aprendizaje reforzado ha permitido a las máquinas alcanzar o superar el rendimiento humano en estos juegos.</span> \n",
    "\n",
    "**c) ¿A qué datos tienen acceso los algoritmos de aprendizaje reforzado libres de modelo?**\n",
    "\n",
    "<span style=\"color: #6CFF36;\"> Los algoritmos de aprendizaje reforzado libres de modelo tienen acceso únicamente a la información de las recompensas recibidas y los estados observados. No tienen un conocimiento explícito del entorno, sino que aprenden a través de la interacción directa con él, utilizando las recompensas para ajustar su comportamiento. </span>\n",
    "\n",
    "**d) ¿Cuáles son los dos algoritmos más importantes del aprendizaje reforzado?**\n",
    "\n",
    "<span style=\"color: #6CFF36;\"> Los dos algoritmos más importantes en el aprendizaje reforzado son las políticas de gradientes y el Q-learning. Las políticas de gradientes se centran en optimizar directamente las políticas que dictan las acciones a seguir, mientras que el Q-learning busca estimar el valor de las acciones para mejorar la toma de decisiones. </span> \n",
    "\n",
    "**e) Qué problema ayuda a solucionar el Machine Learning a estos algoritmos?** \n",
    "\n",
    "<span style=\"color: #6CFF36;\"> El Machine Learning ayuda a estos algoritmos a resolver problemas de toma de decisiones secuenciales en entornos complejos. Estos algoritmos permiten que los agentes aprendan a maximizar una recompensa a largo plazo sin necesidad de ser programados explícitamente para cada situación posible.</span>\n",
    "\n",
    "\n",
    "## EJERCICIO 7: \n",
    "\n",
    "Copia el código del ejemplo 1 en el fichero q_learn.py, realiza dos ejecuciones y responde a las preguntas: \n",
    "\n",
    "**a) Entrega capturas del resultado de las ejecuciones.** <br>\n",
    "\n",
    "<img src=\"img/captura4.png\" alt=\"captura4\">\n",
    "\n",
    "**b) Si la primera fila de la matriz R representa estar en la habitación (a) ¿A qué lugares puedes moverte desde ella? ¿Qué recompensa obtiene el agente si lo hace?** <br>\n",
    "\n",
    "<span style=\"color: #6CFF36;\"> Desde la habitación a, el agente solo puede moverse a la habitación e.\n",
    "La recompensa por hacerlo es 0. </span>\n",
    "\n",
    "**c) Lo que aprende el algoritmo ¿Lo almacena en?** <br>\n",
    "\n",
    "<span style=\"color: #6CFF36;\"> Lo almacena en la matriz Q </span>\n",
    "\n",
    "**d) Si está en la habitación d, ¿Qué dos acciones tienen la mayor recompensa?** <br>\n",
    "\n",
    "<span style=\"color: #6CFF36;\"> Desde la habitación d, puedes moverte a las habitaciones b, c, y e\n",
    "Las tres acciones disponibles tienen una recompensa de 0, por lo que no hay acciones con mayor recompensa. </span> <br>\n",
    "\n",
    "\n",
    "## EJERCICIO 8: \n",
    "\n",
    "Mira el vídeo sobre SAA_U01_EDA_Análisis exploratorio de datos.mp4 y responde a estas preguntas: \n",
    "\n",
    "**a) Enumera los pasos que definen el proceso.** <br>\n",
    "\n",
    "<span style=\"color: #6CFF36;\">Pregunta a responder, generalidades del dataset, tips de datos, estadística descriptiva, visualización, interacciones y sumarización</span> <br>\n",
    "\n",
    "**b) En el paso 3 ¿Qué tipos de características nos podemos encontrar en un dataset?** <br>\n",
    "\n",
    "<span style=\"color: #6CFF36;\">Númericas, dentro de estas discretos o continuis o categóricas, dentro de estas nominales, binarios, ordinales</span> <br>\n",
    "\n",
    "**c) En el paso 4 ¿Qué métricas se utilizan para describir los datos de una característica?** <br>\n",
    "\n",
    "<span style=\"color: #6CFF36;\">Tendencia central, valor tipico de los datos y variabilidad</span> <br>\n",
    "\n",
    "**d) ¿Qué desventaja tiene la media y la desviación estándar para describir una característica numérica? ¿Hay alguna otra  métrica que no tenga esta desventaja?** <br>\n",
    "\n",
    "<span style=\"color: #6CFF36;\">son muy sensibles a los valores atípicos, la alternativa es usar el rango intercuartil</span> <br>\n",
    "\n",
    "**e) ¿Qué es el IQR?** <br>\n",
    "\n",
    "<span style=\"color: #6CFF36;\">es una medida estadística que refleja la dispersión de un conjunto de datos. Se utiliza comúnmente para describir la variabilidad y para detectar valores atípicos (outliers).</span> <br>\n",
    "\n",
    "**f) ¿Qué es la mediana, el percentil 50 y el cuartil 2?** <br>\n",
    "\n",
    "<span style=\"color: #6CFF36;\">La mediana es el valor que divide un conjunto de datos ordenados en dos partes iguales. El percentil 50 es simplemente otro nombre para la mediana. El cuartil 2 (Q2) también es sinónimo de la mediana.</span> <br>\n",
    "\n",
    "**g) ¿Qué porcentaje de los datos están entre el cuartil 1 y el cuartil 3? ¿Y entre el percentil 25 y el percentil 75? ¿Y qué porcentaje de datos son mayores del cuartil 3?** <br>\n",
    "\n",
    "<span style=\"color: #6CFF36;\">50% de los datos están entre el cuartil1 y el cuartil 3. 50% de los datos están entre el percentil 25 y el percentil 75. 25% de los datos son mayores que el cuartil 3</span> <br>\n",
    "\n",
    "**h) Para graficar (representar gráficamente) como se distribuyen los datos de una característica ¿Qué dos tipos de gráficos se suelen utilizar y para qué tipo de características?** <br>  \n",
    "\n",
    "<span style=\"color: #6CFF36;\">Se suelen utilizar principalmente dos tipos de gráficos: el histograma y el diagrama de caja (box plot).</span> <br>\n",
    "\n",
    "**i) La matriz de correlaciones todas las variables numéricas de un dataset ¿Qué valores tiene en su diagonal?** <br>\n",
    "\n",
    "<span style=\"color: #6CFF36;\">La diagonal de la matriz de correlación siempre contiene 1 porque cada variable tiene una correlación perfecta consigo misma.\n",
    "Los valores fuera de la diagonal indican la fuerza y dirección de la relación lineal entre diferentes pares de variables (valores entre -1 y 1).</span> <br>\n",
    "\n",
    "\n",
    "## EJERCICIO 9: \n",
    "\n",
    "Mira el vídeo SAA_U01_Ingeniería_de_características.mp4 y responde a estas preguntas: \n",
    "\n",
    "**a) Enumera los problemas que según el vídeo pueden tener los datos.** <br> \n",
    "\n",
    "<span style=\"color: #6CFF36;\">Datos incompletos, escalabilidad inadecuada de datos, distribución anormal, o variables irrelevantes, o muchas o pocas variables o datos categóricos sin representación númerica o valores muy extremos (muy pequeños o muy grandes)</span> <br>\n",
    "\n",
    "**b) Enumera como se llaman las técnicas usadas en ingeniería de características para solucionar los problemas de los datos.** <br> \n",
    "\n",
    "<span style=\"color: #6CFF36;\">Dos grupos, el descarte (eliminar datos faltantes) y la imputación (asignar o estimar el valor de ese dato faltante)</span> <br>\n",
    "\n",
    "**c) Indica los tipos de características categóricas podemos encontrarnos y el motivo de de querer transformarlas en información numérica. ¿Cómo se llaman las transformaciones?** <br>\n",
    "\n",
    "<span style=\"color: #6CFF36;\">Ordinales, indica una jerarquia determinada, y las nominales, por ejemplo nombres de personas, ciudades, etc, las transformaciones son codificacion one-hot y label encoding. </span>\n",
    "- La discretización obtiene rangos de variables, por ejemplo rangos de edades para una nueva variable categórica.\n",
    "- Valores extremos: implementar tecnincas para eliminar los datos extremos del dataset, técnica de recorte, tomar ese valor para llevarlo al limite superior o inferior, entrenamiento con o sin outliers, o no hacer nada, pues los valores extremos pueden contener información importante\n",
    "- Escalamiento: dependiendo de las características llevar los datos a un proceso de transformación para obtener datos estandarizados <br>\n",
    "\n",
    "## EJERCICIO 10: \n",
    "\n",
    "Mira el vídeo SAA_U01_Selección_de_características.mp4 y responde a estas preguntas: \n",
    "\n",
    "**a) ¿Qué métodos utiliza la selección de características?** <br> \n",
    "\n",
    "<span style=\"color: #6CFF36;\">Métodos de filtrado <br> cada caracteristica se toma para definir unas puntuaciones, nos quedamos con las top-K, las tres caracteristicas con la puntuacion más alta <br> Métodos wrapper <br> si se tiene en cuenta la seleccion de caracteristicas: <br> Seleccion hacia adelate (forward), entrenar y evaluar todas las caracteristicas, seleccionamos el que mejor se ha entrenado <br> Seleccion hacia atras <br> teniendo modelos ya entrenados evaluamos el desempeño mas alto. <br> Métodos embebidos <br> Por ejemplo árboles de decision o bosques aleatorios, podemos tomar las puntuaciones generadas del modelo y quedarnos con las que mejor desempeño han dado. </span> <br>\n",
    "\n",
    "**b) ¿Porqué puede resultar beneficioso descartar características y no usarlas para aprender?** <br> \n",
    "\n",
    "<span style=\"color: #6CFF36;\">Porque cuantas mas caracteristicas tenga el modelo mas costoso en recursos y tiempo será para el modelo obtener un resultado</span> <br>\n",
    "\n",
    "**c) El método de filtrado, ¿Necesita construir el modelo?** <br>\n",
    "\n",
    "<span style=\"color: #6CFF36;\">No, los métodos de filtrado no requieren construir un modelo para realizar la selección de características. Utilizan métricas estadísticas (como la correlación, el chi-cuadrado, información mutua, etc.) para evaluar la relevancia de cada característica de forma independiente del modelo.</span> <br>\n",
    "\n",
    "**d) En el método de filtrado ¿Cambian las características a descartar si cambias el modelo a construir?** <br>\n",
    "\n",
    "<span style=\"color: #6CFF36;\">No necesariamente. Dado que el método de filtrado evalúa las características de forma independiente al modelo, las características seleccionadas no dependen del modelo final que se construya. Sin embargo, en la práctica, las características que funcionan bien para un modelo pueden no ser óptimas para otro, pero esto no afecta al proceso de selección en los métodos de filtrado.</span> <br>\n",
    "\n",
    "**e) Si tenemos 10 características y queremos quedarnos con las 6 más importantes y para ello usamos el método wrapper hacia adelante, ¿Cuántos modelos debemos entrenar y validar para descartar las 4 peores?** <br> \n",
    "\n",
    "<span style=\"color: #6CFF36;\">Para el método **wrapper hacia adelante**, se añaden las características de una en una, seleccionando la que mejora más el rendimiento del modelo en cada paso. El proceso sería:\n",
    "Primera selección: Evaluamos 10 modelos (uno por cada característica) y seleccionamos la mejor.\n",
    "Segunda selección: Evaluamos 9 modelos (añadiendo una característica más a la ya seleccionada).\n",
    "Tercera selección: Evaluamos 8 modelos (considerando una tercera característica).\n",
    "Cuarta selección: Evaluamos 7 modelos (para seleccionar una cuarta).\n",
    "Quinta selección: Evaluamos 6 modelos.\n",
    "Sexta selección: Evaluamos 5 modelos.\n",
    "En total: 10 + 9 + 8 + 7 + 6 + 5 = 45 modelos.</span> \n",
    "\n",
    "<span style=\"color: #6CFF36;\"></span>Por lo tanto, se necesitan entrenar y validar 45 modelos para seleccionar las 6 características más importantes usando el método wrapper hacia adelante.</span> <br>\n",
    "\n",
    "## EJERCICIO 11: \n",
    "\n",
    "Mira el vídeo SAA_U01_set_de_datos_train_validación_test.mp4 y responde a estas preguntas: \n",
    "\n",
    "**a) ¿Porqué no es buena idea utilizar todos los datos para entrenar al modelo?Si lo hacemos y su comportamiento con estos datos es bueno, por ejemplo acierta el 96% de las veces ¿No es suficiente para decir que es un buen modelo? ¿O hay algo que no sabemos aún para darlo por bueno?** <br> \n",
    "\n",
    "<span style=\"color: #6CFF36;\">No es buena idea utilizar todos los datos para entrenar el modelo porque **podemos caer en el problema de sobreajuste (overfitting)**. Cuando un modelo se entrena y ajusta demasiado bien a los datos de entrenamiento, puede memorizar los ejemplos en lugar de generalizar patrones. Esto significa que, aunque el modelo logre un 96% de precisión en los datos de entrenamiento, **su rendimiento puede ser mucho peor con datos nuevos y no vistos**. Por eso, necesitamos un conjunto de datos de prueba independiente para evaluar la capacidad de generalización del modelo antes de considerarlo \"bueno\". </span><br>\n",
    "\n",
    "**b) ¿Porqué nos puede interesar hacer 3 divisiones de los datos (train+validación+test) en ves de dos (train+test)?** <br> \n",
    "\n",
    "<span style=\"color: #6CFF36;\">Al hacer **3 divisiones (train, validación y test)**, se obtiene una forma más robusta de evaluar el modelo. En este caso: - **Entrenamiento (train)**: se utiliza para ajustar los parámetros del modelo. - **Validación (validación)**: se utiliza para ajustar hiperparámetros, seleccionar el mejor modelo y evitar sobreajuste. - **Prueba (test)**: se utiliza para evaluar el rendimiento final del modelo una vez que se ha ajustado y seleccionado.\n",
    "Si solo utilizamos train y test, corremos el riesgo de que, durante la optimización, también ajustemos el modelo al conjunto de prueba, lo que puede dar lugar a un sesgo en la evaluación final. Por tanto, tener un conjunto de validación ayuda a elegir el mejor modelo sin influir en el conjunto de prueba, preservando su imparcialidad.</span><br>\n",
    "\n",
    "**c) ¿Qué porcentaje se suelen usar para cada partición de datos?** <br>\n",
    "\n",
    "<span style=\"color: #6CFF36;\">Una partición comúnmente utilizada es: - **Entrenamiento (train)**: 60-70% - **Validación (validación)**: 15-20% - **Prueba (test)**: 15-20%\n",
    "Dependiendo de la cantidad de datos disponibles, los porcentajes pueden variar, pero nunca se debe usar el conjunto de prueba hasta la fase final de evaluación.</span>\n",
    "\n",
    "**d) Si no tenemos muchos datos, en vez de hacer la partición en 3 datasets (train+validación+prueba) ¿Qué otros métodos se pueden utilizar?** <br> \n",
    "\n",
    "<span style=\"color: #6CFF36;\">Si hay **pocos datos disponibles**, en lugar de dividir en 3 conjuntos, se pueden usar técnicas como:\n",
    "- Validación cruzada (cross-validation): el dataset se divide en varias particiones (por ejemplo, 5 o 10). Cada partición se usa como conjunto de prueba una vez, mientras que las demás se utilizan para entrenar el modelo. Al final, se promedia el rendimiento.\n",
    "- Leave-One-Out Cross-Validation (LOOCV): en cada iteración, se utiliza un solo dato como prueba y el resto para entrenar. Esto es útil para datasets extremadamente pequeños, aunque puede ser muy costoso computacionalmente.\n",
    "- Bootstrap Sampling: se generan múltiples subconjuntos del dataset mediante muestreo con reemplazo para entrenar el modelo, y se evalúa su rendimiento en los datos no seleccionados (out-of-bag).\n",
    "Estas técnicas permiten maximizar el uso de los datos disponibles para mejorar la estimación de la capacidad de generalización del modelo. </span><br>\n",
    "\n"
   ]
  },
  {
   "cell_type": "markdown",
   "metadata": {},
   "source": [
    "\n",
    "## EJERCICIO 12: \n",
    "\n",
    "Vamos a trabajar con los datos ausentes.\n"
   ]
  },
  {
   "cell_type": "markdown",
   "metadata": {},
   "source": [
    "\n",
    "**a) Define este dataframe que construiremos en código** <br>\n"
   ]
  },
  {
   "cell_type": "markdown",
   "metadata": {},
   "source": [
    "\n",
    "<img src=\"img/captura5.png\" alt=\"captura5\">\n"
   ]
  },
  {
   "cell_type": "code",
   "metadata": {
    "ExecuteTime": {
     "end_time": "2024-12-15T18:59:35.877237Z",
     "start_time": "2024-12-15T18:59:35.861669Z"
    }
   },
   "source": [
    "# -*- coding: utf-8 -*-\n",
    "import pandas as pd \n",
    "from io import StringIO\n",
    "import sys\n",
    "csv_data = \\\n",
    "'''A,B,C,D\n",
    "1.0,2.0,3.0,4.0\n",
    "5.0,6.0,,8.0\n",
    "10.0,11.0,12.0,\n",
    "'''\n",
    "if(sys.version_info < (3,0)):\n",
    "    csv_data = csv_data.unicode(csv_data)\n",
    "df = pd.read_csv(StringIO(csv_data))\n",
    "print(df)"
   ],
   "outputs": [
    {
     "name": "stdout",
     "output_type": "stream",
     "text": [
      "      A     B     C    D\n",
      "0   1.0   2.0   3.0  4.0\n",
      "1   5.0   6.0   NaN  8.0\n",
      "2  10.0  11.0  12.0  NaN\n"
     ]
    }
   ],
   "execution_count": 1
  },
  {
   "cell_type": "markdown",
   "metadata": {},
   "source": [
    "\n",
    "**b) En la siguiente imagen aparecen unas sentencias. Imprime el resultado de ejecutarlas y asocia la etiqueta que tiene cada una como un comentario a la derecha, con la tarea que realizan:** <br>\n",
    "\n"
   ]
  },
  {
   "cell_type": "markdown",
   "metadata": {},
   "source": [
    "\n",
    "* Cuenta el número de valores ausentes que hay en cada columna / característica.\n"
   ]
  },
  {
   "cell_type": "code",
   "metadata": {
    "ExecuteTime": {
     "end_time": "2024-12-15T18:59:36.513072Z",
     "start_time": "2024-12-15T18:59:36.502903Z"
    }
   },
   "source": [
    "valoresAusentes = df.isnull().sum()  \n",
    "print(valoresAusentes)  "
   ],
   "outputs": [
    {
     "name": "stdout",
     "output_type": "stream",
     "text": [
      "A    0\n",
      "B    0\n",
      "C    1\n",
      "D    1\n",
      "dtype: int64\n"
     ]
    }
   ],
   "execution_count": 2
  },
  {
   "cell_type": "markdown",
   "metadata": {},
   "source": [
    "\n",
    "* Devuelve los arrays Numpy que contienen los datos del dataframe.\n"
   ]
  },
  {
   "cell_type": "code",
   "metadata": {
    "ExecuteTime": {
     "end_time": "2024-12-15T18:59:36.612314Z",
     "start_time": "2024-12-15T18:59:36.604084Z"
    }
   },
   "source": [
    "numpy_arrays = df.values \n",
    "print(numpy_arrays)"
   ],
   "outputs": [
    {
     "name": "stdout",
     "output_type": "stream",
     "text": [
      "[[ 1.  2.  3.  4.]\n",
      " [ 5.  6. nan  8.]\n",
      " [10. 11. 12. nan]]\n"
     ]
    }
   ],
   "execution_count": 3
  },
  {
   "cell_type": "markdown",
   "metadata": {},
   "source": [
    "\n",
    "* Borra las filas que contienen algún valor ausente.\n"
   ]
  },
  {
   "cell_type": "code",
   "metadata": {
    "ExecuteTime": {
     "end_time": "2024-12-15T18:59:36.868602Z",
     "start_time": "2024-12-15T18:59:36.857901Z"
    }
   },
   "source": [
    "filasConNull = df.dropna()  \n",
    "print(filasConNull)  "
   ],
   "outputs": [
    {
     "name": "stdout",
     "output_type": "stream",
     "text": [
      "     A    B    C    D\n",
      "0  1.0  2.0  3.0  4.0\n"
     ]
    }
   ],
   "execution_count": 4
  },
  {
   "cell_type": "markdown",
   "metadata": {},
   "source": [
    "\n",
    "* Borra las columnas que contienen algún valor ausente.\n"
   ]
  },
  {
   "cell_type": "code",
   "metadata": {
    "ExecuteTime": {
     "end_time": "2024-12-15T18:59:36.974282Z",
     "start_time": "2024-12-15T18:59:36.966312Z"
    }
   },
   "source": [
    "columnasConNull = df.dropna(axis=1)\n",
    "print(columnasConNull)"
   ],
   "outputs": [
    {
     "name": "stdout",
     "output_type": "stream",
     "text": [
      "      A     B\n",
      "0   1.0   2.0\n",
      "1   5.0   6.0\n",
      "2  10.0  11.0\n"
     ]
    }
   ],
   "execution_count": 5
  },
  {
   "cell_type": "markdown",
   "metadata": {},
   "source": [
    "\n",
    "* Borra todas las filas donde todos los valores estén ausentes.\n"
   ]
  },
  {
   "cell_type": "code",
   "metadata": {
    "ExecuteTime": {
     "end_time": "2024-12-15T18:59:37.099897Z",
     "start_time": "2024-12-15T18:59:37.092073Z"
    }
   },
   "source": [
    "filasConTodoNull = df.dropna(how='all')  \n",
    "print(filasConTodoNull)"
   ],
   "outputs": [
    {
     "name": "stdout",
     "output_type": "stream",
     "text": [
      "      A     B     C    D\n",
      "0   1.0   2.0   3.0  4.0\n",
      "1   5.0   6.0   NaN  8.0\n",
      "2  10.0  11.0  12.0  NaN\n"
     ]
    }
   ],
   "execution_count": 6
  },
  {
   "cell_type": "markdown",
   "metadata": {},
   "source": [
    "\n",
    "* Borra las filas que tengan 3 o menos valores porque el resto están ausentes.\n"
   ]
  },
  {
   "cell_type": "code",
   "metadata": {
    "ExecuteTime": {
     "end_time": "2024-12-15T18:59:37.250877Z",
     "start_time": "2024-12-15T18:59:37.238101Z"
    }
   },
   "source": [
    "borrarFilasConTresOMenosValores = df.dropna(thresh=3)\n",
    "print(borrarFilasConTresOMenosValores)"
   ],
   "outputs": [
    {
     "name": "stdout",
     "output_type": "stream",
     "text": [
      "      A     B     C    D\n",
      "0   1.0   2.0   3.0  4.0\n",
      "1   5.0   6.0   NaN  8.0\n",
      "2  10.0  11.0  12.0  NaN\n"
     ]
    }
   ],
   "execution_count": 7
  },
  {
   "cell_type": "markdown",
   "metadata": {},
   "source": [
    "\n",
    "* Borra una o varias columnas cuyo nombre se indica, si tienen valores ausentes.\n",
    "\n"
   ]
  },
  {
   "cell_type": "code",
   "metadata": {
    "ExecuteTime": {
     "end_time": "2024-12-15T18:59:37.399586Z",
     "start_time": "2024-12-15T18:59:37.387266Z"
    }
   },
   "source": [
    "columnasEspec = df.dropna(subset=[1, 2], axis=1)\n",
    "print(columnasEspec)"
   ],
   "outputs": [
    {
     "name": "stdout",
     "output_type": "stream",
     "text": [
      "      A     B\n",
      "0   1.0   2.0\n",
      "1   5.0   6.0\n",
      "2  10.0  11.0\n"
     ]
    }
   ],
   "execution_count": 8
  },
  {
   "cell_type": "markdown",
   "metadata": {},
   "source": [
    "\n",
    "\n",
    "**c) Ahora en el mismo dataset, vamos a imputar la media de las columnas a los valores ausentes. Esa sentencia que usa un método de Pandas lo hace.** <br>\n"
   ]
  },
  {
   "metadata": {},
   "cell_type": "markdown",
   "source": "<img src=\"img/captura7.png\" alt=\"captura7\"> <br>\n"
  },
  {
   "metadata": {},
   "cell_type": "markdown",
   "source": ""
  },
  {
   "cell_type": "code",
   "metadata": {
    "ExecuteTime": {
     "end_time": "2024-12-15T18:59:38.971024Z",
     "start_time": "2024-12-15T18:59:37.600774Z"
    }
   },
   "source": [
    "from sklearn.impute import SimpleImputer\n",
    "import numpy as np\n",
    "\n",
    "print(f'Datos transformados \\n {df.fillna(df.mean())}')\n",
    "\n",
    "si = SimpleImputer(missing_values=np.nan, strategy='mean')\n",
    "x = si.fit_transform(df.values)\n",
    "print(\"Datos originales \\n \", x)"
   ],
   "outputs": [
    {
     "name": "stdout",
     "output_type": "stream",
     "text": [
      "Datos transformados \n",
      "       A     B     C    D\n",
      "0   1.0   2.0   3.0  4.0\n",
      "1   5.0   6.0   7.5  8.0\n",
      "2  10.0  11.0  12.0  6.0\n",
      "Datos originales \n",
      "  [[ 1.   2.   3.   4. ]\n",
      " [ 5.   6.   7.5  8. ]\n",
      " [10.  11.  12.   6. ]]\n"
     ]
    }
   ],
   "execution_count": 9
  },
  {
   "cell_type": "markdown",
   "metadata": {},
   "source": [
    "\n",
    "<img src=\"img/captura8.png\" alt=\"captura8\"> <br>\n"
   ]
  },
  {
   "cell_type": "code",
   "metadata": {
    "ExecuteTime": {
     "end_time": "2024-12-15T18:59:39.029439Z",
     "start_time": "2024-12-15T18:59:39.020232Z"
    }
   },
   "source": [
    "import pandas as pd \n",
    "df = pd.DataFrame([['verde','M',10.1,'clase2'],\n",
    "                   ['rojo','L',13.5,'clase1'],\n",
    "                   ['azul','XL',15.3,'clase2']])\n",
    "df.columns = ['color','talla','precio','class']\n",
    "\n",
    "mapeo = {label: idx for idx, label in enumerate(np.unique(df['class']))}\n",
    "mapeo_inverso = {v: k for k, v in mapeo.items()}\n",
    "df['class'] = df['class'].map(mapeo)\n",
    "\n",
    "print(df['class'])\n"
   ],
   "outputs": [
    {
     "name": "stdout",
     "output_type": "stream",
     "text": [
      "0    1\n",
      "1    0\n",
      "2    1\n",
      "Name: class, dtype: int64\n"
     ]
    }
   ],
   "execution_count": 10
  },
  {
   "cell_type": "markdown",
   "metadata": {},
   "source": [
    "\n",
    "<img src=\"img/captura9.png\" alt=\"captura9\"> <br>\n",
    "\n"
   ]
  },
  {
   "cell_type": "code",
   "metadata": {
    "ExecuteTime": {
     "end_time": "2024-12-15T18:59:39.122622Z",
     "start_time": "2024-12-15T18:59:39.114996Z"
    }
   },
   "source": [
    "from sklearn.preprocessing import LabelEncoder\n",
    "le = LabelEncoder()\n",
    "y = le.fit_transform(df['class'].values)\n",
    "\n",
    "print(y)"
   ],
   "outputs": [
    {
     "name": "stdout",
     "output_type": "stream",
     "text": [
      "[1 0 1]\n"
     ]
    }
   ],
   "execution_count": 11
  },
  {
   "cell_type": "markdown",
   "metadata": {},
   "source": [
    "\n",
    "## EJERCICIO 14: \n",
    "\n",
    "Transformar columnas nominales con más de 2 valores en numéricos usando onehot-Encoded. \n"
   ]
  },
  {
   "cell_type": "markdown",
   "metadata": {},
   "source": [
    "\n",
    "**a) Completa las partes subrayadas de las sentencias de este código que define nuevos datos X seleccionando las columnas color, talla y precio y codifica el color con un LabelEncoder como en el ejercicio anterior y los imprime.** <br> \n",
    "\n"
   ]
  },
  {
   "cell_type": "code",
   "metadata": {
    "ExecuteTime": {
     "end_time": "2024-12-15T18:59:39.253230Z",
     "start_time": "2024-12-15T18:59:39.241550Z"
    }
   },
   "source": [
    "from sklearn.preprocessing import LabelEncoder\n",
    "import pandas as pd\n",
    "\n",
    "# Crear el DataFrame de ejemplo\n",
    "data = {\n",
    "    'color': ['rojo', 'azul', 'verde', 'azul', 'rojo'],\n",
    "    'talla': ['M', 'L', 'S', 'XL', 'M'],\n",
    "    'precio': [10.99, 12.50, 9.99, 13.45, 10.99]\n",
    "}\n",
    "df = pd.DataFrame(data)\n",
    "\n",
    "# Extraer los datos\n",
    "X = df[['color', 'talla', 'precio']].values\n",
    "\n",
    "# Instanciar el objeto LabelEncoder\n",
    "le = LabelEncoder()\n",
    "\n",
    "# Imprimir los datos originales\n",
    "print(\"Datos originales de 'color':\\n\", X[:, 0])\n",
    "\n",
    "# Transformar la columna 'color' con LabelEncoder\n",
    "X[:, 0] = le.fit_transform(X[:, 0])\n",
    "\n",
    "# Imprimir los datos transformados\n",
    "print(\"X transformado:\\n\", X)\n"
   ],
   "outputs": [
    {
     "name": "stdout",
     "output_type": "stream",
     "text": [
      "Datos originales de 'color':\n",
      " ['rojo' 'azul' 'verde' 'azul' 'rojo']\n",
      "X transformado:\n",
      " [[1 'M' 10.99]\n",
      " [0 'L' 12.5]\n",
      " [2 'S' 9.99]\n",
      " [0 'XL' 13.45]\n",
      " [1 'M' 10.99]]\n"
     ]
    }
   ],
   "execution_count": 12
  },
  {
   "cell_type": "markdown",
   "metadata": {},
   "source": [
    "\n",
    "**a) Haz lo mismo con un OneHotEncoder e imprime los datos transformados.** <br>\n"
   ]
  },
  {
   "cell_type": "code",
   "metadata": {
    "ExecuteTime": {
     "end_time": "2024-12-15T18:59:39.414716Z",
     "start_time": "2024-12-15T18:59:39.404041Z"
    }
   },
   "source": [
    "from sklearn.preprocessing import OneHotEncoder\n",
    "import pandas as pd\n",
    "\n",
    "# Crear el DataFrame de ejemplo\n",
    "data = {\n",
    "    'color': ['rojo', 'azul', 'verde', 'azul', 'rojo'],\n",
    "    'talla': ['M', 'L', 'S', 'XL', 'M'],\n",
    "    'precio': [10.99, 12.50, 9.99, 13.45, 10.99]\n",
    "}\n",
    "df = pd.DataFrame(data)\n",
    "\n",
    "# Extraer los datos\n",
    "X = df[['color', 'talla', 'precio']].values\n",
    "\n",
    "# Instancia el objeto OneHotEncoder\n",
    "ohe = OneHotEncoder(sparse_output=False, drop='first')  # 'drop=first' evita la multicolinealidad al eliminar una categoría\n",
    "\n",
    "# Imprime los datos originales\n",
    "print(\"Datos originales de 'color':\\n\", X[:, 0])\n",
    "\n",
    "# Transforma la columna 'color' usando OneHotEncoder\n",
    "color_encoded = ohe.fit_transform(X[:, [0]])\n",
    "\n",
    "# Concatenar las columnas transformadas con el resto de los datos\n",
    "X = np.concatenate([color_encoded, X[:, 1:]], axis=1)\n",
    "\n",
    "# Imprime los datos transformados\n",
    "print(\"X transformado:\\n\", X)\n"
   ],
   "outputs": [
    {
     "name": "stdout",
     "output_type": "stream",
     "text": [
      "Datos originales de 'color':\n",
      " ['rojo' 'azul' 'verde' 'azul' 'rojo']\n",
      "X transformado:\n",
      " [[1.0 0.0 'M' 10.99]\n",
      " [0.0 0.0 'L' 12.5]\n",
      " [0.0 1.0 'S' 9.99]\n",
      " [0.0 0.0 'XL' 13.45]\n",
      " [1.0 0.0 'M' 10.99]]\n"
     ]
    }
   ],
   "execution_count": 13
  },
  {
   "cell_type": "markdown",
   "metadata": {},
   "source": [
    "\n",
    "**c) Utiliza get_dummies( [‘c1’, …]) Para obtener un nuevo dataframe añadiendo nuevas columnas para aplicar one-hot-encoder a las que tengan valores categóricos. Aplica a las columnas color, talla y precio.** <br>\n"
   ]
  },
  {
   "cell_type": "code",
   "metadata": {
    "ExecuteTime": {
     "end_time": "2024-12-15T18:59:39.504176Z",
     "start_time": "2024-12-15T18:59:39.487757Z"
    }
   },
   "source": [
    "import pandas as pd\n",
    "\n",
    "# Crear el DataFrame de ejemplo\n",
    "data = {\n",
    "    'color': ['rojo', 'azul', 'verde', 'azul', 'rojo'],\n",
    "    'talla': ['M', 'L', 'S', 'XL', 'M'],\n",
    "    'precio': [10.99, 12.50, 9.99, 13.45, 10.99]\n",
    "}\n",
    "df = pd.DataFrame(data)\n",
    "\n",
    "# Usar get_dummies para realizar One-Hot Encoding en las columnas 'color', 'talla' y 'precio'\n",
    "df_encoded = pd.get_dummies(df, columns=['color', 'talla', 'precio'])\n",
    "\n",
    "# Imprimir el DataFrame transformado\n",
    "print(\"DataFrame con One-Hot Encoding aplicado:\\n\", df_encoded)\n"
   ],
   "outputs": [
    {
     "name": "stdout",
     "output_type": "stream",
     "text": [
      "DataFrame con One-Hot Encoding aplicado:\n",
      "    color_azul  color_rojo  color_verde  talla_L  talla_M  talla_S  talla_XL  \\\n",
      "0       False        True        False    False     True    False     False   \n",
      "1        True       False        False     True    False    False     False   \n",
      "2       False       False         True    False    False     True     False   \n",
      "3        True       False        False    False    False    False      True   \n",
      "4       False        True        False    False     True    False     False   \n",
      "\n",
      "   precio_9.99  precio_10.99  precio_12.5  precio_13.45  \n",
      "0        False          True        False         False  \n",
      "1        False         False         True         False  \n",
      "2         True         False        False         False  \n",
      "3        False         False        False          True  \n",
      "4        False          True        False         False  \n"
     ]
    }
   ],
   "execution_count": 14
  },
  {
   "cell_type": "markdown",
   "metadata": {},
   "source": [
    "\n",
    "**d) Repite el apartado c), pero ahora indica que se elimine la primera columna dummy porque realmente se deduce que si no hay valores ausentes en el resto aparecerá valores todos a 0. Usa el parámetro drop_first = True.** <br> \n"
   ]
  },
  {
   "cell_type": "code",
   "metadata": {
    "ExecuteTime": {
     "end_time": "2024-12-15T18:59:39.611261Z",
     "start_time": "2024-12-15T18:59:39.592141Z"
    }
   },
   "source": [
    "import pandas as pd\n",
    "\n",
    "# Crear el DataFrame de ejemplo\n",
    "data = {\n",
    "    'color': ['rojo', 'azul', 'verde', 'azul', 'rojo'],\n",
    "    'talla': ['M', 'L', 'S', 'XL', 'M'],\n",
    "    'precio': [10.99, 12.50, 9.99, 13.45, 10.99]\n",
    "}\n",
    "df = pd.DataFrame(data)\n",
    "\n",
    "# Usar get_dummies para realizar One-Hot Encoding en las columnas 'color', 'talla' y 'precio', eliminando la primera columna dummy\n",
    "df_encoded = pd.get_dummies(df, columns=['color', 'talla', 'precio'], drop_first=True)\n",
    "\n",
    "# Imprimir el DataFrame transformado\n",
    "print(\"DataFrame con One-Hot Encoding aplicado y primera columna dummy eliminada:\\n\", df_encoded)"
   ],
   "outputs": [
    {
     "name": "stdout",
     "output_type": "stream",
     "text": [
      "DataFrame con One-Hot Encoding aplicado y primera columna dummy eliminada:\n",
      "    color_rojo  color_verde  talla_M  talla_S  talla_XL  precio_10.99  \\\n",
      "0        True        False     True    False     False          True   \n",
      "1       False        False    False    False     False         False   \n",
      "2       False         True    False     True     False         False   \n",
      "3       False        False    False    False      True         False   \n",
      "4        True        False     True    False     False          True   \n",
      "\n",
      "   precio_12.5  precio_13.45  \n",
      "0        False         False  \n",
      "1         True         False  \n",
      "2        False         False  \n",
      "3        False          True  \n",
      "4        False         False  \n"
     ]
    }
   ],
   "execution_count": 15
  },
  {
   "cell_type": "markdown",
   "metadata": {},
   "source": [
    "\n",
    "## EJERCICIO 15: \n",
    "\n",
    "Haz un programa python que pregunte por los valores a y b y dibuje la función f(x)=ax2+b en el intervalo [-5, 5] con 100 puntos. Rellena un array de 100 valores x entre [-5,5] y otro fx y dibuja. \n",
    "\n"
   ]
  },
  {
   "cell_type": "code",
   "metadata": {
    "ExecuteTime": {
     "end_time": "2024-12-15T19:00:21.303378Z",
     "start_time": "2024-12-15T18:59:39.683361Z"
    }
   },
   "source": [
    "import numpy as np\n",
    "import matplotlib.pyplot as plt\n",
    "\n",
    "# Pedir al usuario los valores de a y b\n",
    "a = float(input(\"Introduce el valor de a: \"))\n",
    "b = float(input(\"Introduce el valor de b: \"))\n",
    "\n",
    "# Crear un array de 100 valores x entre -5 y 5\n",
    "x = np.linspace(-5, 5, 100)\n",
    "\n",
    "# Calcular los valores de f(x) = ax^2 + b\n",
    "fx = a * x**2 + b\n",
    "\n",
    "# Dibujar la función\n",
    "plt.figure(figsize=(5, 5))\n",
    "plt.plot(x, fx, label=f'f(x) = {a}x^2 + {b}', color='blue')\n",
    "plt.axhline(0, color='red', linewidth=0.5)  # Línea horizontal en y = 0\n",
    "plt.axvline(0, color='red', linewidth=0.5)  # Línea vertical en x = 0\n",
    "plt.grid(True)\n",
    "plt.title(\"Gráfico de la función f(x) = ax^2 + b\")\n",
    "plt.xlabel(\"x\")\n",
    "plt.ylabel(\"f(x)\")\n",
    "plt.legend()\n",
    "plt.show()\n"
   ],
   "outputs": [
    {
     "data": {
      "text/plain": [
       "<Figure size 500x500 with 1 Axes>"
      ],
      "image/png": "[encoded data removed]"
     },
     "metadata": {},
     "output_type": "display_data"
    }
   ],
   "execution_count": 16
  },
  {
   "cell_type": "markdown",
   "metadata": {},
   "source": [
    "\n",
    "## EJERCICIO 16: \n",
    "\n",
    "Pregunta por el punto de corte (w0) y la pendiente (w1) de una línea recta y haz que el programa la dibuje en el intervalo [-5,5] sabiendo que su ecuación es y = w0 + w1 x. \n",
    "\n"
   ]
  },
  {
   "cell_type": "code",
   "metadata": {
    "ExecuteTime": {
     "end_time": "2024-12-15T19:00:24.970659Z",
     "start_time": "2024-12-15T19:00:21.342419Z"
    }
   },
   "source": [
    "import numpy as np\n",
    "import matplotlib.pyplot as plt\n",
    "\n",
    "# Pedir al usuario el punto de corte y la pendiente\n",
    "w0 = float(input(\"Introduce el valor del punto de corte (w0): \"))\n",
    "w1 = float(input(\"Introduce el valor de la pendiente (w1): \"))\n",
    "\n",
    "# Crear un array de 100 valores x entre -5 y 5\n",
    "x = np.linspace(-5, 5, 100)\n",
    "\n",
    "# Calcular los valores de y = w0 + w1 * x\n",
    "y = w0 + w1 * x\n",
    "\n",
    "# Dibujar la línea recta\n",
    "plt.figure(figsize=(8, 5))\n",
    "plt.plot(x, y, label=f'y = {w0} + {w1}x', color='red')\n",
    "plt.axhline(0, color='blue', linewidth=1)  # Línea horizontal en y = 0\n",
    "plt.axvline(0, color='blue', linewidth=1)  # Línea vertical en x = 0\n",
    "plt.grid(True)\n",
    "plt.title(\"Gráfico de la línea y = w0 + w1x\")\n",
    "plt.xlabel(\"x\")\n",
    "plt.ylabel(\"y\")\n",
    "plt.legend()\n",
    "plt.show()\n"
   ],
   "outputs": [
    {
     "data": {
      "text/plain": [
       "<Figure size 800x500 with 1 Axes>"
      ],
      "image/png": "[encoded data removed]"
     },
     "metadata": {},
     "output_type": "display_data"
    }
   ],
   "execution_count": 17
  },
  {
   "cell_type": "markdown",
   "metadata": {},
   "source": [
    "\n",
    "## EJERCICIO 17: \n",
    "\n",
    "Imagina que tenemos estos datos con el peso y la altura de 4 personas: datos=[[3, 0.4], [8, 0.6], [18, 1.2], [27, 1.4]]. <br>\n",
    "\n"
   ]
  },
  {
   "cell_type": "markdown",
   "metadata": {},
   "source": [
    "\n",
    "**a) Crea un dataframe con los datos.** <br> \n"
   ]
  },
  {
   "cell_type": "code",
   "metadata": {
    "ExecuteTime": {
     "end_time": "2024-12-15T19:00:25.012974Z",
     "start_time": "2024-12-15T19:00:25.000702Z"
    }
   },
   "source": [
    "import numpy as np\n",
    "import pandas as pd\n",
    "import matplotlib.pyplot as plt\n",
    "\n",
    "# Crear un DataFrame con los datos\n",
    "datos = [[3, 0.4], \n",
    "         [8, 0.6], \n",
    "         [18, 1.2], \n",
    "         [27, 1.4]]\n",
    "df = pd.DataFrame(datos, columns=[\"peso\", \"altura\"])\n",
    "print(f'DataFrame:\\n {df}')"
   ],
   "outputs": [
    {
     "name": "stdout",
     "output_type": "stream",
     "text": [
      "DataFrame:\n",
      "    peso  altura\n",
      "0     3     0.4\n",
      "1     8     0.6\n",
      "2    18     1.2\n",
      "3    27     1.4\n"
     ]
    }
   ],
   "execution_count": 18
  },
  {
   "cell_type": "markdown",
   "metadata": {},
   "source": [
    "\n",
    "**b) Dibuja un sccaterplot() con círculos rojos dejando el peso en el eje X y la altura en el eje Y.** <br> \n"
   ]
  },
  {
   "cell_type": "code",
   "metadata": {
    "ExecuteTime": {
     "end_time": "2024-12-15T19:00:25.307357Z",
     "start_time": "2024-12-15T19:00:25.080854Z"
    }
   },
   "source": [
    "plt.figure(figsize=(5, 5))\n",
    "plt.scatter(df['peso'], df['altura'], color='red', label='Datos', s=50)\n",
    "plt.xlabel(\"Peso\")\n",
    "plt.ylabel(\"Altura\")\n",
    "plt.title(\"Relación entre Peso y Altura\")\n",
    "plt.grid(True)"
   ],
   "outputs": [
    {
     "data": {
      "text/plain": [
       "<Figure size 500x500 with 1 Axes>"
      ],
      "image/png": "[encoded data removed]"
     },
     "metadata": {},
     "output_type": "display_data"
    }
   ],
   "execution_count": 19
  },
  {
   "cell_type": "markdown",
   "metadata": {},
   "source": [
    "\n",
    "**c) Pregunta por el punto de corte (w0) y la pendiente de una recta (w1) que intente acercarse a estos 4 puntos lo máximo posible.** <br>\n"
   ]
  },
  {
   "cell_type": "code",
   "metadata": {
    "ExecuteTime": {
     "end_time": "2024-12-15T19:00:28.354743Z",
     "start_time": "2024-12-15T19:00:25.347076Z"
    }
   },
   "source": [
    "w0 = float(input(\"Introduce el valor del punto de corte (w0): \"))\n",
    "w1 = float(input(\"Introduce el valor de la pendiente (w1): \"))"
   ],
   "outputs": [],
   "execution_count": 20
  },
  {
   "cell_type": "markdown",
   "metadata": {},
   "source": [
    "\n",
    "**d) Dibuja la recta en el gráfico con color azul.** <br>\n"
   ]
  },
  {
   "cell_type": "code",
   "metadata": {
    "ExecuteTime": {
     "end_time": "2024-12-15T19:00:28.636939Z",
     "start_time": "2024-12-15T19:00:28.399252Z"
    }
   },
   "source": [
    "x_vals = np.linspace(0, 30, 100)\n",
    "y_vals = w0 + w1 * x_vals\n",
    "plt.plot(x_vals, y_vals, color='blue', label=f'Recta: y = {w0} + {w1}x')"
   ],
   "outputs": [
    {
     "data": {
      "text/plain": [
       "[<matplotlib.lines.Line2D at 0x24195d06c30>]"
      ]
     },
     "execution_count": 21,
     "metadata": {},
     "output_type": "execute_result"
    },
    {
     "data": {
      "text/plain": [
       "<Figure size 640x480 with 1 Axes>"
      ],
      "image/png": "[encoded data removed]"
     },
     "metadata": {},
     "output_type": "display_data"
    }
   ],
   "execution_count": 21
  },
  {
   "cell_type": "markdown",
   "metadata": {},
   "source": [
    "\n",
    "**e) Calcula e imprime el cuadrado de la distancia de cada punto de datos (cuando x=peso) con el valor de la recta en ese punto.** <br> \n"
   ]
  },
  {
   "cell_type": "code",
   "metadata": {
    "ExecuteTime": {
     "end_time": "2024-12-15T19:00:28.688909Z",
     "start_time": "2024-12-15T19:00:28.673036Z"
    }
   },
   "source": [
    "errores = []\n",
    "for i in range(len(df)):\n",
    "    x = df['peso'][i]\n",
    "    y_real = df['altura'][i]\n",
    "    y_pred = w0 + w1 * x\n",
    "    error = (y_real - y_pred)**2\n",
    "    errores.append(error)\n",
    "    print(f\"Error cuadrático para peso={x}: {error:.4f}\")"
   ],
   "outputs": [
    {
     "name": "stdout",
     "output_type": "stream",
     "text": [
      "Error cuadrático para peso=3: 243.3600\n",
      "Error cuadrático para peso=8: 1253.1600\n",
      "Error cuadrático para peso=18: 5595.0400\n",
      "Error cuadrático para peso=27: 12232.3600\n"
     ]
    }
   ],
   "execution_count": 22
  },
  {
   "cell_type": "markdown",
   "metadata": {},
   "source": [
    "\n",
    "**f) Calcula la media de la suma de los cuadrados de esas diferencias.** <br> \n",
    "\n"
   ]
  },
  {
   "cell_type": "code",
   "metadata": {
    "ExecuteTime": {
     "end_time": "2024-12-15T19:00:28.763470Z",
     "start_time": "2024-12-15T19:00:28.755062Z"
    }
   },
   "source": [
    "mse = np.mean(errores)\n",
    "print(f\"\\nError cuadrático medio (MSE): {mse:.4f}\")"
   ],
   "outputs": [
    {
     "name": "stdout",
     "output_type": "stream",
     "text": [
      "\n",
      "Error cuadrático medio (MSE): 4830.9800\n"
     ]
    }
   ],
   "execution_count": 23
  },
  {
   "cell_type": "markdown",
   "metadata": {},
   "source": [
    "\n",
    "**g) Si usamos ese valor como una medida del error que cometemos al intentar que la recta represente a los puntos, es como una función de coste. Intenta crear varias rectas hasta que bajes ese error de 0.5.** <br>  \n"
   ]
  },
  {
   "cell_type": "code",
   "metadata": {
    "ExecuteTime": {
     "end_time": "2024-12-15T19:00:28.846620Z",
     "start_time": "2024-12-15T19:00:28.837821Z"
    }
   },
   "source": [
    "# -------------------------------------------\n",
    "# Cálculo matricial para obtener la mejor recta\n",
    "# -------------------------------------------\n",
    "\n",
    "# Crear una columna de unos para el cálculo matricial\n",
    "X = np.array([[1, 3], [1, 8], [1, 18], [1, 27]])\n",
    "y = np.array([0.4, 0.6, 1.2, 1.4])\n",
    "\n",
    "# Calcular los parámetros W usando la fórmula W = (X^T X)^-1 X^T y\n",
    "W = np.linalg.inv(X.T @ X) @ X.T @ y\n",
    "w0_opt, w1_opt = W\n",
    "\n",
    "\n",
    "print(\"\\nParámetros óptimos calculados:\")\n",
    "print(f\"Punto de corte (w0): {w0_opt:.4f}\")\n",
    "print(f\"Pendiente (w1): {w1_opt:.4f}\")"
   ],
   "outputs": [
    {
     "name": "stdout",
     "output_type": "stream",
     "text": [
      "\n",
      "Parámetros óptimos calculados:\n",
      "Punto de corte (w0): 0.2860\n",
      "Pendiente (w1): 0.0439\n"
     ]
    }
   ],
   "execution_count": 24
  },
  {
   "cell_type": "markdown",
   "metadata": {},
   "source": [
    "\n",
    "**h) Utiliza esta fórmula tratando a los datos como vectores y matrices para calcular los parámetros W0 y W1 de la mejor recta. Debes crear una columna a unos en los datos X y añadirle la columna peso. Prueba tu programa con esa recta:** <br>  \n"
   ]
  },
  {
   "cell_type": "code",
   "metadata": {
    "ExecuteTime": {
     "end_time": "2024-12-15T19:00:29.458929Z",
     "start_time": "2024-12-15T19:00:28.927307Z"
    }
   },
   "source": [
    "plt.figure(figsize=(8, 5))\n",
    "plt.scatter(df['peso'], df['altura'], color='blue', label='Datos', s=100)\n",
    "plt.plot(x_vals, w0_opt + w1_opt * x_vals, color='green', label='Mejor Recta (ajuste óptimo)')\n",
    "plt.xlabel(\"Peso\")\n",
    "plt.ylabel(\"Altura\")\n",
    "plt.title(\"Ajuste óptimo de la recta\")\n",
    "plt.grid(True)\n",
    "plt.legend()\n",
    "plt.show()"
   ],
   "outputs": [
    {
     "data": {
      "text/plain": [
       "<Figure size 800x500 with 1 Axes>"
      ],
      "image/png": "[encoded data removed]"
     },
     "metadata": {},
     "output_type": "display_data"
    }
   ],
   "execution_count": 25
  },
  {
   "cell_type": "markdown",
   "metadata": {},
   "source": [
    "\n",
    "\n",
    "<img src=\"img/captura10.png\" alt=\"captura10\"> <br>\n",
    "\n"
   ]
  },
  {
   "cell_type": "markdown",
   "metadata": {},
   "source": [
    "\n",
    "## EJERCICIO 18: \n",
    "\n",
    "Utiliza los datos del fichero mpg.csv para realizar las siguientes operaciones: <br>\n"
   ]
  },
  {
   "cell_type": "markdown",
   "metadata": {},
   "source": [
    "\n",
    "**a) Crear un dataframe a partir del fichero.**<br> \n"
   ]
  },
  {
   "cell_type": "code",
   "metadata": {
    "ExecuteTime": {
     "end_time": "2024-12-15T19:02:13.561619Z",
     "start_time": "2024-12-15T19:02:13.545492Z"
    }
   },
   "source": [
    "df = pd.read_csv(\"U01_recursos/mpg.csv\")\n",
    "print(\"DataFrame original:\")\n",
    "print(df.head())"
   ],
   "outputs": [
    {
     "name": "stdout",
     "output_type": "stream",
     "text": [
      "DataFrame original:\n",
      "    mpg  cilindros  desplazamiento  potenciaCV  peso  aceleracion  \\\n",
      "0  18.0          8           307.0         130  3504         12.0   \n",
      "1  15.0          8           350.0         165  3693         11.5   \n",
      "2  18.0          8           318.0         150  3436         11.0   \n",
      "3  16.0          8           304.0         150  3433         12.0   \n",
      "4  17.0          8           302.0         140  3449         10.5   \n",
      "\n",
      "   modelo_year  origen                     nombre  \n",
      "0           70       1  chevrolet chevelle malibu  \n",
      "1           70       1          buick skylark 320  \n",
      "2           70       1         plymouth satellite  \n",
      "3           70       1              amc rebel sst  \n",
      "4           70       1                ford torino  \n"
     ]
    }
   ],
   "execution_count": 27
  },
  {
   "cell_type": "markdown",
   "metadata": {},
   "source": [
    "\n",
    "**b) Eliminar la columna nombre.**<br> \n"
   ]
  },
  {
   "cell_type": "code",
   "metadata": {
    "ExecuteTime": {
     "end_time": "2024-12-15T19:02:29.639213Z",
     "start_time": "2024-12-15T19:02:29.629266Z"
    }
   },
   "source": [
    "df.drop('nombre', axis=1, inplace=True)\n",
    "\n",
    "# Mostrar las primeras filas después de eliminar la columna\n",
    "print(\"\\nDataFrame después de eliminar la columna 'nombre':\")\n",
    "print(df.head())"
   ],
   "outputs": [
    {
     "name": "stdout",
     "output_type": "stream",
     "text": [
      "\n",
      "DataFrame después de eliminar la columna 'nombre':\n",
      "    mpg  cilindros  desplazamiento  potenciaCV  peso  aceleracion  \\\n",
      "0  18.0          8           307.0         130  3504         12.0   \n",
      "1  15.0          8           350.0         165  3693         11.5   \n",
      "2  18.0          8           318.0         150  3436         11.0   \n",
      "3  16.0          8           304.0         150  3433         12.0   \n",
      "4  17.0          8           302.0         140  3449         10.5   \n",
      "\n",
      "   modelo_year  origen  \n",
      "0           70       1  \n",
      "1           70       1  \n",
      "2           70       1  \n",
      "3           70       1  \n",
      "4           70       1  \n"
     ]
    }
   ],
   "execution_count": 28
  },
  {
   "cell_type": "markdown",
   "metadata": {},
   "source": [
    "\n",
    "**c) Hacer una versión escalada en [0,1] de los datos con código propio.**<br>\n"
   ]
  },
  {
   "cell_type": "code",
   "metadata": {
    "ExecuteTime": {
     "end_time": "2024-12-15T19:02:37.888922Z",
     "start_time": "2024-12-15T19:02:37.814686Z"
    }
   },
   "source": [
    "# Función para escalar los datos en el rango [0, 1]\n",
    "def escalar_columna(columna):\n",
    "    min_val = columna.min()\n",
    "    max_val = columna.max()\n",
    "    return (columna - min_val) / (max_val - min_val)\n",
    "\n",
    "# Crear una versión escalada del DataFrame\n",
    "df_escalado = df.copy()\n",
    "for columna in df_escalado.columns:\n",
    "    df_escalado[columna] = escalar_columna(df_escalado[columna])\n",
    "\n",
    "# Mostrar el DataFrame escalado\n",
    "print(\"\\nDataFrame escalado en el rango [0, 1]:\")\n",
    "print(df_escalado.head())\n",
    "\n",
    "# Verificar que los valores están dentro del rango [0, 1]\n",
    "print(\"\\nVerificación de rangos:\")\n",
    "print(df_escalado.describe())"
   ],
   "outputs": [
    {
     "name": "stdout",
     "output_type": "stream",
     "text": [
      "\n",
      "DataFrame escalado en el rango [0, 1]:\n",
      "        mpg  cilindros  desplazamiento  potenciaCV      peso  aceleracion  \\\n",
      "0  0.239362        1.0        0.617571    0.565217  0.536150     0.238095   \n",
      "1  0.159574        1.0        0.728682    0.717391  0.589736     0.208333   \n",
      "2  0.239362        1.0        0.645995    0.652174  0.516870     0.178571   \n",
      "3  0.186170        1.0        0.609819    0.652174  0.516019     0.238095   \n",
      "4  0.212766        1.0        0.604651    0.608696  0.520556     0.148810   \n",
      "\n",
      "   modelo_year  origen  \n",
      "0          0.0     0.0  \n",
      "1          0.0     0.0  \n",
      "2          0.0     0.0  \n",
      "3          0.0     0.0  \n",
      "4          0.0     0.0  \n",
      "\n",
      "Verificación de rangos:\n",
      "              mpg   cilindros  desplazamiento  potenciaCV        peso  \\\n",
      "count  398.000000  398.000000      398.000000  398.000000  398.000000   \n",
      "mean     0.386026    0.490955        0.324098    0.447367    0.384867   \n",
      "std      0.207872    0.340201        0.269431    0.175085    0.240103   \n",
      "min      0.000000    0.000000        0.000000    0.000000    0.000000   \n",
      "25%      0.226064    0.200000        0.093669    0.326087    0.173164   \n",
      "50%      0.372340    0.200000        0.208010    0.400000    0.337539   \n",
      "75%      0.531915    1.000000        0.501292    0.543478    0.565637   \n",
      "max      1.000000    1.000000        1.000000    1.000000    1.000000   \n",
      "\n",
      "       aceleracion  modelo_year      origen  \n",
      "count   398.000000   398.000000  398.000000  \n",
      "mean      0.450482     0.500838    0.286432  \n",
      "std       0.164148     0.308136    0.401027  \n",
      "min       0.000000     0.000000    0.000000  \n",
      "25%       0.346726     0.250000    0.000000  \n",
      "50%       0.446429     0.500000    0.000000  \n",
      "75%       0.546131     0.750000    0.500000  \n",
      "max       1.000000     1.000000    1.000000  \n"
     ]
    }
   ],
   "execution_count": 29
  },
  {
   "cell_type": "markdown",
   "metadata": {},
   "source": [
    "\n",
    "**d) Haz lo mismo con el objeto MinMaxScaler del paquete sklearn.preprocessing.**<br>\n",
    "\n"
   ]
  },
  {
   "cell_type": "code",
   "metadata": {
    "ExecuteTime": {
     "end_time": "2024-12-15T19:03:09.544245Z",
     "start_time": "2024-12-15T19:03:09.533104Z"
    }
   },
   "source": [
    "from sklearn.preprocessing import MinMaxScaler\n",
    "\n",
    "scaler = MinMaxScaler()  # Por defecto, el rango es (0, 1)\n",
    "scaler = MinMaxScaler(feature_range=(-1, 1))  # Rango de -1 a 1\n",
    "data = [[1, 2], [3, 4], [5, 6]]  # Ejemplo de datos\n",
    "scaled_data = scaler.fit_transform(data)\n",
    "print(f'Datos escalados:\\n {scaled_data}')\n",
    "\n",
    "original_data = scaler.inverse_transform(scaled_data)\n",
    "print(f'Datos sin escalar:\\n {original_data}')"
   ],
   "outputs": [
    {
     "name": "stdout",
     "output_type": "stream",
     "text": [
      "Datos escalados:\n",
      " [[-1. -1.]\n",
      " [ 0.  0.]\n",
      " [ 1.  1.]]\n",
      "Datos sin escalar:\n",
      " [[1. 2.]\n",
      " [3. 4.]\n",
      " [5. 6.]]\n"
     ]
    }
   ],
   "execution_count": 30
  },
  {
   "cell_type": "markdown",
   "metadata": {},
   "source": [
    "\n",
    "## EJERCICIO 19: \n",
    "\n",
    "Utiliza los datos del fichero mpg.csv para realizar las siguientes operaciones : \n"
   ]
  },
  {
   "cell_type": "markdown",
   "metadata": {},
   "source": [
    "\n",
    "**a) Crear un DataFrame eliminando la columna nombre.**<br> \n"
   ]
  },
  {
   "cell_type": "code",
   "metadata": {
    "ExecuteTime": {
     "end_time": "2024-12-15T19:03:22.618861Z",
     "start_time": "2024-12-15T19:03:22.602545Z"
    }
   },
   "source": [
    "import pandas as pd\n",
    "\n",
    "df = pd.read_csv(\"U01_recursos/mpg.csv\")\n",
    "df = df.drop(columns=['nombre'])\n",
    "print(df.head())"
   ],
   "outputs": [
    {
     "name": "stdout",
     "output_type": "stream",
     "text": [
      "    mpg  cilindros  desplazamiento  potenciaCV  peso  aceleracion  \\\n",
      "0  18.0          8           307.0         130  3504         12.0   \n",
      "1  15.0          8           350.0         165  3693         11.5   \n",
      "2  18.0          8           318.0         150  3436         11.0   \n",
      "3  16.0          8           304.0         150  3433         12.0   \n",
      "4  17.0          8           302.0         140  3449         10.5   \n",
      "\n",
      "   modelo_year  origen  \n",
      "0           70       1  \n",
      "1           70       1  \n",
      "2           70       1  \n",
      "3           70       1  \n",
      "4           70       1  \n"
     ]
    }
   ],
   "execution_count": 32
  },
  {
   "cell_type": "markdown",
   "metadata": {},
   "source": [
    "\n",
    "**b) Hacer una versión escalada normalizando los datos de las columnas con tu propio código.**<br> \n"
   ]
  },
  {
   "cell_type": "code",
   "metadata": {
    "ExecuteTime": {
     "end_time": "2024-12-15T19:03:31.940050Z",
     "start_time": "2024-12-15T19:03:31.921680Z"
    }
   },
   "source": [
    "# Convertir el diccionario a un DataFrame\n",
    "datos = pd.DataFrame(df)\n",
    "\n",
    "# Normalizar las columnas numéricas usando Min-Max\n",
    "columns_to_normalize = ['mpg', 'cilindros', 'desplazamiento', 'potenciaCV', 'peso', 'aceleracion','modelo_year','origen']\n",
    "\n",
    "# Aplicar la normalización\n",
    "for column in columns_to_normalize:\n",
    "    min_value = datos[column].min()\n",
    "    max_value = datos[column].max()\n",
    "    datos[column] = (datos[column] - min_value) / (max_value - min_value)\n",
    "\n",
    "# Mostrar el DataFrame normalizado\n",
    "print(datos[columns_to_normalize])"
   ],
   "outputs": [
    {
     "name": "stdout",
     "output_type": "stream",
     "text": [
      "          mpg  cilindros  desplazamiento  potenciaCV      peso  aceleracion  \\\n",
      "0    0.239362        1.0        0.617571    0.565217  0.536150     0.238095   \n",
      "1    0.159574        1.0        0.728682    0.717391  0.589736     0.208333   \n",
      "2    0.239362        1.0        0.645995    0.652174  0.516870     0.178571   \n",
      "3    0.186170        1.0        0.609819    0.652174  0.516019     0.238095   \n",
      "4    0.212766        1.0        0.604651    0.608696  0.520556     0.148810   \n",
      "..        ...        ...             ...         ...       ...          ...   \n",
      "393  0.478723        0.2        0.186047    0.373913  0.333711     0.452381   \n",
      "394  0.930851        0.2        0.074935    0.226087  0.146583     0.988095   \n",
      "395  0.611702        0.2        0.173127    0.365217  0.193365     0.214286   \n",
      "396  0.505319        0.2        0.134367    0.343478  0.286929     0.630952   \n",
      "397  0.585106        0.2        0.131783    0.356522  0.313864     0.678571   \n",
      "\n",
      "     modelo_year  origen  \n",
      "0            0.0     0.0  \n",
      "1            0.0     0.0  \n",
      "2            0.0     0.0  \n",
      "3            0.0     0.0  \n",
      "4            0.0     0.0  \n",
      "..           ...     ...  \n",
      "393          1.0     0.0  \n",
      "394          1.0     0.5  \n",
      "395          1.0     0.0  \n",
      "396          1.0     0.0  \n",
      "397          1.0     0.0  \n",
      "\n",
      "[398 rows x 8 columns]\n"
     ]
    }
   ],
   "execution_count": 33
  },
  {
   "cell_type": "markdown",
   "metadata": {},
   "source": [
    "\n",
    "**c) Haz lo mismo con el objeto StandardScaler del paquete sklearn.preprocessing.**<br>\n"
   ]
  },
  {
   "cell_type": "code",
   "metadata": {
    "ExecuteTime": {
     "end_time": "2024-12-15T19:03:35.927050Z",
     "start_time": "2024-12-15T19:03:35.858286Z"
    }
   },
   "source": [
    "from sklearn.preprocessing import StandardScaler\n",
    "\n",
    "# Definir las columnas que queremos estandarizar (en este caso, todas las numéricas excepto 'nombre' y 'origen')\n",
    "numerical_columns = ['mpg', 'cilindros', 'desplazamiento', 'potenciaCV', 'peso', 'aceleracion','modelo_year','origen']\n",
    "\n",
    "# Creamos un scaler\n",
    "scaler = StandardScaler()\n",
    "\n",
    "# Ajustamos y transformamos los datos (escalando las columnas seleccionadas)\n",
    "df_scaled = datos[numerical_columns].copy()  # Crear una copia para no modificar el dataframe original\n",
    "df_scaled[numerical_columns] = scaler.fit_transform(df_scaled[numerical_columns])\n",
    "\n",
    "# Ver las primeras filas de los datos estandarizados\n",
    "df_scaled.head()\n",
    "\n",
    "# También podemos verificar algunas estadísticas descriptivas de las columnas escaladas\n",
    "df_scaled.describe()"
   ],
   "outputs": [
    {
     "data": {
      "text/plain": [
       "                mpg     cilindros  desplazamiento    potenciaCV          peso  \\\n",
       "count  3.980000e+02  3.980000e+02    3.980000e+02  3.980000e+02  3.980000e+02   \n",
       "mean  -3.927623e-16 -3.570567e-16    5.355850e-17 -8.926416e-17 -1.785283e-17   \n",
       "std    1.001259e+00  1.001259e+00    1.001259e+00  1.001259e+00  1.001259e+00   \n",
       "min   -1.859374e+00 -1.444949e+00   -1.204411e+00 -2.558360e+00 -1.604943e+00   \n",
       "25%   -7.704907e-01 -8.563206e-01   -8.563178e-01 -6.935659e-01 -8.828266e-01   \n",
       "50%   -6.591883e-02 -8.563206e-01   -4.314040e-01 -2.708793e-01 -1.973624e-01   \n",
       "75%    7.027050e-01  1.498191e+00    6.584879e-01  5.496300e-01  7.538337e-01   \n",
       "max    2.957335e+00  1.498191e+00    2.511784e+00  3.160341e+00  2.565185e+00   \n",
       "\n",
       "        aceleracion   modelo_year        origen  \n",
       "count  3.980000e+02  3.980000e+02  3.980000e+02  \n",
       "mean  -5.177321e-16  1.428227e-16 -5.355850e-17  \n",
       "std    1.001259e+00  1.001259e+00  1.001259e+00  \n",
       "min   -2.747814e+00 -1.627426e+00 -7.151448e-01  \n",
       "25%   -6.328794e-01 -8.150739e-01 -7.151448e-01  \n",
       "50%   -2.472221e-02 -2.721449e-03 -7.151448e-01  \n",
       "75%    5.834349e-01  8.096310e-01  5.332220e-01  \n",
       "max    3.351912e+00  1.621983e+00  1.781589e+00  "
      ],
      "text/html": [
       "<div>\n",
       "<style scoped>\n",
       "    .dataframe tbody tr th:only-of-type {\n",
       "        vertical-align: middle;\n",
       "    }\n",
       "\n",
       "    .dataframe tbody tr th {\n",
       "        vertical-align: top;\n",
       "    }\n",
       "\n",
       "    .dataframe thead th {\n",
       "        text-align: right;\n",
       "    }\n",
       "</style>\n",
       "<table border=\"1\" class=\"dataframe\">\n",
       "  <thead>\n",
       "    <tr style=\"text-align: right;\">\n",
       "      <th></th>\n",
       "      <th>mpg</th>\n",
       "      <th>cilindros</th>\n",
       "      <th>desplazamiento</th>\n",
       "      <th>potenciaCV</th>\n",
       "      <th>peso</th>\n",
       "      <th>aceleracion</th>\n",
       "      <th>modelo_year</th>\n",
       "      <th>origen</th>\n",
       "    </tr>\n",
       "  </thead>\n",
       "  <tbody>\n",
       "    <tr>\n",
       "      <th>count</th>\n",
       "      <td>3.980000e+02</td>\n",
       "      <td>3.980000e+02</td>\n",
       "      <td>3.980000e+02</td>\n",
       "      <td>3.980000e+02</td>\n",
       "      <td>3.980000e+02</td>\n",
       "      <td>3.980000e+02</td>\n",
       "      <td>3.980000e+02</td>\n",
       "      <td>3.980000e+02</td>\n",
       "    </tr>\n",
       "    <tr>\n",
       "      <th>mean</th>\n",
       "      <td>-3.927623e-16</td>\n",
       "      <td>-3.570567e-16</td>\n",
       "      <td>5.355850e-17</td>\n",
       "      <td>-8.926416e-17</td>\n",
       "      <td>-1.785283e-17</td>\n",
       "      <td>-5.177321e-16</td>\n",
       "      <td>1.428227e-16</td>\n",
       "      <td>-5.355850e-17</td>\n",
       "    </tr>\n",
       "    <tr>\n",
       "      <th>std</th>\n",
       "      <td>1.001259e+00</td>\n",
       "      <td>1.001259e+00</td>\n",
       "      <td>1.001259e+00</td>\n",
       "      <td>1.001259e+00</td>\n",
       "      <td>1.001259e+00</td>\n",
       "      <td>1.001259e+00</td>\n",
       "      <td>1.001259e+00</td>\n",
       "      <td>1.001259e+00</td>\n",
       "    </tr>\n",
       "    <tr>\n",
       "      <th>min</th>\n",
       "      <td>-1.859374e+00</td>\n",
       "      <td>-1.444949e+00</td>\n",
       "      <td>-1.204411e+00</td>\n",
       "      <td>-2.558360e+00</td>\n",
       "      <td>-1.604943e+00</td>\n",
       "      <td>-2.747814e+00</td>\n",
       "      <td>-1.627426e+00</td>\n",
       "      <td>-7.151448e-01</td>\n",
       "    </tr>\n",
       "    <tr>\n",
       "      <th>25%</th>\n",
       "      <td>-7.704907e-01</td>\n",
       "      <td>-8.563206e-01</td>\n",
       "      <td>-8.563178e-01</td>\n",
       "      <td>-6.935659e-01</td>\n",
       "      <td>-8.828266e-01</td>\n",
       "      <td>-6.328794e-01</td>\n",
       "      <td>-8.150739e-01</td>\n",
       "      <td>-7.151448e-01</td>\n",
       "    </tr>\n",
       "    <tr>\n",
       "      <th>50%</th>\n",
       "      <td>-6.591883e-02</td>\n",
       "      <td>-8.563206e-01</td>\n",
       "      <td>-4.314040e-01</td>\n",
       "      <td>-2.708793e-01</td>\n",
       "      <td>-1.973624e-01</td>\n",
       "      <td>-2.472221e-02</td>\n",
       "      <td>-2.721449e-03</td>\n",
       "      <td>-7.151448e-01</td>\n",
       "    </tr>\n",
       "    <tr>\n",
       "      <th>75%</th>\n",
       "      <td>7.027050e-01</td>\n",
       "      <td>1.498191e+00</td>\n",
       "      <td>6.584879e-01</td>\n",
       "      <td>5.496300e-01</td>\n",
       "      <td>7.538337e-01</td>\n",
       "      <td>5.834349e-01</td>\n",
       "      <td>8.096310e-01</td>\n",
       "      <td>5.332220e-01</td>\n",
       "    </tr>\n",
       "    <tr>\n",
       "      <th>max</th>\n",
       "      <td>2.957335e+00</td>\n",
       "      <td>1.498191e+00</td>\n",
       "      <td>2.511784e+00</td>\n",
       "      <td>3.160341e+00</td>\n",
       "      <td>2.565185e+00</td>\n",
       "      <td>3.351912e+00</td>\n",
       "      <td>1.621983e+00</td>\n",
       "      <td>1.781589e+00</td>\n",
       "    </tr>\n",
       "  </tbody>\n",
       "</table>\n",
       "</div>"
      ]
     },
     "execution_count": 34,
     "metadata": {},
     "output_type": "execute_result"
    }
   ],
   "execution_count": 34
  },
  {
   "cell_type": "markdown",
   "metadata": {},
   "source": [
    "\n",
    "**d) Encontrar outliers en las columnas con el método de la mediana con tu propio código.**<br>\n"
   ]
  },
  {
   "cell_type": "code",
   "metadata": {
    "ExecuteTime": {
     "end_time": "2024-12-15T19:03:44.197008Z",
     "start_time": "2024-12-15T19:03:44.163723Z"
    }
   },
   "source": [
    "import numpy as np\n",
    "import pandas as pd\n",
    "\n",
    "# Definir las columnas numéricas que queremos analizar (sin incluir la columna 'nombre')\n",
    "numerical_columns = ['mpg', 'cilindros', 'desplazamiento', 'potenciaCV', 'peso', 'aceleracion', 'modelo_year', 'origen']\n",
    "\n",
    "# Función para detectar outliers usando el método de la Mediana y la Desviación Absoluta Mediana (MAD)\n",
    "def detectarOutliers(df, columns, threshold=3.0):\n",
    "    outliers_dict = {}\n",
    "    \n",
    "    # Iterar sobre cada columna seleccionada\n",
    "    for column in columns:\n",
    "        # Calcular la mediana y la MAD de la columna\n",
    "        median = df[column].median()\n",
    "        mad = np.median(np.abs(df[column] - median))\n",
    "        \n",
    "        # Definir el umbral para detectar outliers\n",
    "        if mad == 0:  # Evitar división por cero si la MAD es cero\n",
    "            continue\n",
    "            \n",
    "        threshold_value = threshold * mad\n",
    "        # Detectar outliers como aquellos que están más allá del umbral\n",
    "        outliers = df[(np.abs(df[column] - median) / mad) > threshold]\n",
    "        \n",
    "        # Guardar los índices de los outliers encontrados\n",
    "        outliers_dict[column] = outliers.index.tolist()\n",
    "    \n",
    "    return outliers_dict\n",
    "\n",
    "# Llamar a la función para detectar outliers en el dataset\n",
    "outliers = detectarOutliers(datos, numerical_columns, threshold=3.0)\n",
    "\n",
    "# Mostrar los resultados\n",
    "print(\"Outliers detectados:\")\n",
    "for column, indices in outliers.items():\n",
    "    print(f\"- Columna '{column}': {len(indices)} outliers encontrados en las filas {indices}\")\n",
    "\n",
    "# Ver algunos de los outliers encontrados\n",
    "for column, indices in outliers.items():\n",
    "    if indices:\n",
    "        print(f\"\\nPrimeros outliers en '{column}':\")\n",
    "        print(datos.loc[indices, [column]].head())\n"
   ],
   "outputs": [
    {
     "name": "stdout",
     "output_type": "stream",
     "text": [
      "Outliers detectados:\n",
      "- Columna 'mpg': 7 outliers encontrados en las filas [244, 309, 322, 325, 326, 329, 394]\n",
      "- Columna 'desplazamiento': 56 outliers encontrados en las filas [1, 5, 6, 7, 8, 9, 10, 11, 12, 13, 25, 38, 39, 40, 42, 43, 44, 62, 63, 65, 67, 68, 69, 70, 85, 87, 90, 91, 92, 94, 95, 96, 103, 104, 105, 106, 115, 116, 124, 137, 156, 157, 159, 190, 212, 213, 229, 230, 231, 232, 287, 289, 290, 292, 298, 364]\n",
      "- Columna 'potenciaCV': 50 outliers encontrados en las filas [1, 5, 6, 7, 8, 9, 10, 11, 13, 25, 26, 27, 28, 32, 38, 39, 40, 42, 43, 44, 62, 63, 65, 67, 68, 69, 70, 85, 90, 92, 94, 95, 96, 104, 105, 106, 116, 124, 126, 156, 212, 229, 230, 231, 263, 289, 330, 336, 354, 374]\n",
      "- Columna 'peso': 9 outliers encontrados en las filas [28, 42, 43, 44, 90, 94, 95, 103, 104]\n",
      "- Columna 'aceleracion': 27 outliers encontrados en las filas [5, 6, 7, 8, 9, 10, 11, 12, 13, 59, 102, 116, 131, 154, 160, 195, 196, 200, 209, 244, 299, 300, 325, 326, 328, 352, 394]\n",
      "- Columna 'modelo_year': 0 outliers encontrados en las filas []\n",
      "\n",
      "Primeros outliers en 'mpg':\n",
      "          mpg\n",
      "244  0.906915\n",
      "309  0.864362\n",
      "322  1.000000\n",
      "325  0.938830\n",
      "326  0.914894\n",
      "\n",
      "Primeros outliers en 'desplazamiento':\n",
      "   desplazamiento\n",
      "1        0.728682\n",
      "5        0.932817\n",
      "6        0.997416\n",
      "7        0.961240\n",
      "8        1.000000\n",
      "\n",
      "Primeros outliers en 'potenciaCV':\n",
      "   potenciaCV\n",
      "1    0.717391\n",
      "5    0.860870\n",
      "6    0.956522\n",
      "7    0.934783\n",
      "8    0.978261\n",
      "\n",
      "Primeros outliers en 'peso':\n",
      "        peso\n",
      "28  0.884321\n",
      "42  0.947547\n",
      "43  0.888290\n",
      "44  1.000000\n",
      "90  0.946697\n",
      "\n",
      "Primeros outliers en 'aceleracion':\n",
      "   aceleracion\n",
      "5     0.119048\n",
      "6     0.059524\n",
      "7     0.029762\n",
      "8     0.119048\n",
      "9     0.029762\n"
     ]
    }
   ],
   "execution_count": 35
  },
  {
   "cell_type": "markdown",
   "metadata": {},
   "source": [
    "\n",
    "**e) Encontrar outliers en las columnas con los z-scores con tu propio código.**<br> \n"
   ]
  },
  {
   "cell_type": "code",
   "metadata": {
    "ExecuteTime": {
     "end_time": "2024-12-15T19:03:51.877929Z",
     "start_time": "2024-12-15T19:03:51.853414Z"
    }
   },
   "source": [
    "# Definir las columnas numéricas que queremos analizar (sin incluir la columna 'nombre')\n",
    "numerical_columns = ['mpg', 'cilindros', 'desplazamiento', 'potenciaCV', 'peso', 'aceleracion', 'modelo_year', 'origen']\n",
    "\n",
    "# Función para detectar outliers usando el método de los z-scores\n",
    "def detect_outliers_zscore(df, columns, threshold=3.0):\n",
    "    outliers_dict = {}\n",
    "    \n",
    "    # Iterar sobre cada columna seleccionada\n",
    "    for column in columns:\n",
    "        # Calcular la media y la desviación estándar de la columna\n",
    "        mean = df[column].mean()\n",
    "        std_dev = df[column].std()\n",
    "        \n",
    "        # Evitar divisiones por cero si la desviación estándar es cero\n",
    "        if std_dev == 0:\n",
    "            continue\n",
    "        \n",
    "        # Calcular el z-score para cada valor en la columna\n",
    "        z_scores = (df[column] - mean) / std_dev\n",
    "        \n",
    "        # Detectar outliers como aquellos que tienen un z-score mayor que el umbral\n",
    "        outliers = df[np.abs(z_scores) > threshold]\n",
    "        \n",
    "        # Guardar los índices de los outliers encontrados\n",
    "        outliers_dict[column] = outliers.index.tolist()\n",
    "    \n",
    "    return outliers_dict\n",
    "\n",
    "# Llamar a la función para detectar outliers en el dataset\n",
    "outliers = detect_outliers_zscore(datos, numerical_columns, threshold=3.0)\n",
    "\n",
    "# Mostrar los resultados\n",
    "print(\"Outliers detectados:\")\n",
    "for column, indices in outliers.items():\n",
    "    print(f\"- Columna '{column}': {len(indices)} outliers encontrados en las filas {indices}\")\n",
    "\n",
    "# Ver algunos de los outliers encontrados\n",
    "for column, indices in outliers.items():\n",
    "    if indices:\n",
    "        print(f\"\\nPrimeros outliers en '{column}':\")\n",
    "        print(datos.loc[indices, [column]].head())"
   ],
   "outputs": [
    {
     "name": "stdout",
     "output_type": "stream",
     "text": [
      "Outliers detectados:\n",
      "- Columna 'mpg': 0 outliers encontrados en las filas []\n",
      "- Columna 'cilindros': 0 outliers encontrados en las filas []\n",
      "- Columna 'desplazamiento': 0 outliers encontrados en las filas []\n",
      "- Columna 'potenciaCV': 4 outliers encontrados en las filas [8, 13, 95, 116]\n",
      "- Columna 'peso': 0 outliers encontrados en las filas []\n",
      "- Columna 'aceleracion': 2 outliers encontrados en las filas [299, 394]\n",
      "- Columna 'modelo_year': 0 outliers encontrados en las filas []\n",
      "- Columna 'origen': 0 outliers encontrados en las filas []\n",
      "\n",
      "Primeros outliers en 'potenciaCV':\n",
      "     potenciaCV\n",
      "8      0.978261\n",
      "13     0.978261\n",
      "95     0.978261\n",
      "116    1.000000\n",
      "\n",
      "Primeros outliers en 'aceleracion':\n",
      "     aceleracion\n",
      "299     1.000000\n",
      "394     0.988095\n"
     ]
    }
   ],
   "execution_count": 36
  },
  {
   "cell_type": "markdown",
   "metadata": {},
   "source": [
    "\n",
    "**f) Detectar outliers dibujando boxplots de las columnas**<br> \n"
   ]
  },
  {
   "cell_type": "code",
   "metadata": {
    "ExecuteTime": {
     "end_time": "2024-12-15T19:04:00.832637Z",
     "start_time": "2024-12-15T19:03:58.875151Z"
    }
   },
   "source": [
    "import matplotlib.pyplot as plt\n",
    "import seaborn as sns\n",
    "import pandas as pd\n",
    "\n",
    "# Definir las columnas numéricas que queremos analizar (sin incluir la columna 'nombre')\n",
    "numerical_columns = ['mpg', 'cilindros', 'desplazamiento', 'potenciaCV', 'peso', 'aceleracion', 'modelo_year', 'origen']\n",
    "\n",
    "# Establecer el estilo para los gráficos\n",
    "sns.set_theme(style=\"whitegrid\")\n",
    "\n",
    "# Dibujar boxplots para cada columna numérica\n",
    "plt.figure(figsize=(15, 8))  # Ajustar el tamaño del gráfico para que sea más legible\n",
    "for i, column in enumerate(numerical_columns, 1):\n",
    "    plt.subplot(2, 4, i)\n",
    "    sns.boxplot(data=datos, x=column, color='skyblue')\n",
    "    plt.title(f'Boxplot de {column}')\n",
    "    plt.xlabel('')\n",
    "    \n",
    "plt.tight_layout()\n",
    "plt.show()\n"
   ],
   "outputs": [
    {
     "data": {
      "text/plain": [
       "<Figure size 1500x800 with 8 Axes>"
      ],
      "image/png": "[encoded data removed]"
     },
     "metadata": {},
     "output_type": "display_data"
    }
   ],
   "execution_count": 37
  }
 ],
 "metadata": {
  "kernelspec": {
   "display_name": "saa",
   "language": "python",
   "name": "python3"
  },
  "language_info": {
   "codemirror_mode": {
    "name": "ipython",
    "version": 3
   },
   "file_extension": ".py",
   "mimetype": "text/x-python",
   "name": "python",
   "nbconvert_exporter": "python",
   "pygments_lexer": "ipython3",
   "version": "3.12.7"
  }
 },
 "nbformat": 4,
 "nbformat_minor": 2
}
