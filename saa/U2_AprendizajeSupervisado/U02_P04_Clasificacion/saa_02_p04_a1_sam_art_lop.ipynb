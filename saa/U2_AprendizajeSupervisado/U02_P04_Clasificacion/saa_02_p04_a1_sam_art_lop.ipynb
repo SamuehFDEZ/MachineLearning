{
 "cells": [
  {
   "metadata": {},
   "cell_type": "markdown",
   "source": [
    "# ALGORITMOS DE CLASIFICACIÓN\n",
    "\n"
   ],
   "id": "d09bfb80acdf83c3"
  },
  {
   "metadata": {},
   "cell_type": "markdown",
   "source": [
    "## 📌ACTIVIDAD 1:  MNIST\n",
    " MNIST es un conjunto de pequeñas imágenes de dígitos escritos por estudiantes de institutos y\n",
    "empleados del censo de USA. Cada imagen está etiquetada con el dígito que representa. Crea el\n",
    "notebook saa_02_p04_a1_<tus_iniciales>.ipynb donde realizar esta actividad.<br><br>\n",
    " Nota: recuerda que los datasets cargados por scikit-Learn tienen estructura de diccionario\n",
    "incluyendo entre otras las claves:<br><br>\n",
    " • DESCR: descripción del dataset.<br>\n",
    " • data: DataFrame de pandas con una fila por instancia o ejemplo de datos y una\n",
    "columna por cada característica.<br>\n",
    " • target: un array con los labels de cada instancia.<br><br>\n",
    " Comprobamos la cantidad de datos y separamos predictoras y target"
   ],
   "id": "53669ba7ae291dc6"
  },
  {
   "cell_type": "code",
   "id": "initial_id",
   "metadata": {
    "collapsed": true,
    "ExecuteTime": {
     "end_time": "2025-03-14T12:50:54.059562Z",
     "start_time": "2025-03-14T12:50:47.731716Z"
    }
   },
   "source": [
    "from sklearn.datasets import fetch_openml\n",
    "\n",
    "mnist = fetch_openml('mnist_784', version=1)\n",
    "print(\"Claves de mnist: \", mnist.keys())\n",
    "\n",
    "X, y = mnist[\"data\"], mnist[\"target\"]\n",
    "print(\"Dimensiones de X:\", X.shape)"
   ],
   "outputs": [
    {
     "name": "stdout",
     "output_type": "stream",
     "text": [
      "Claves de mnist:  dict_keys(['data', 'target', 'frame', 'categories', 'feature_names', 'target_names', 'DESCR', 'details', 'url'])\n",
      "Dimensiones de X: (70000, 784)\n"
     ]
    }
   ],
   "execution_count": 3
  },
  {
   "metadata": {},
   "cell_type": "markdown",
   "source": [
    "## PASO 1: PREPARAR LOS DATOS.\n",
    "Tiene imágenes cada una con 784 características porque son de tamaño 28×28 pixels y cada pixel\n",
    "representa la intensidad de luz (0 blanco a 255 el negro). Tiene aproximadamente la misma cantidad\n",
    "de ejemplos para cada dígito (0, 1, …, 9). Para dibujar una de ellos lo único que tienes que hacer es\n",
    "extraer una instancia, cambiarle la estructura a 28×28 y usar la función imshow() de matplotlib:"
   ],
   "id": "d155545b758f9f0e"
  },
  {
   "metadata": {
    "ExecuteTime": {
     "end_time": "2025-03-14T12:50:54.949712Z",
     "start_time": "2025-03-14T12:50:54.090374Z"
    }
   },
   "cell_type": "code",
   "source": [
    "import matplotlib as mpl\n",
    "import matplotlib.pyplot as plt\n",
    "\n",
    "un_digito = X.iloc[0].to_numpy()\n",
    "imagen_un_digito = un_digito.reshape(28, 28)\n",
    "\n",
    "plt.imshow(imagen_un_digito, cmap=mpl.cm.binary, interpolation=\"nearest\")\n",
    "plt.axis(\"off\")\n",
    "plt.show()\n"
   ],
   "id": "a48c10d02f1ae88",
   "outputs": [
    {
     "data": {
      "text/plain": [
       "<Figure size 640x480 with 1 Axes>"
      ],
      "image/png": "[encoded data removed]"
     },
     "metadata": {},
     "output_type": "display_data"
    }
   ],
   "execution_count": 4
  },
  {
   "metadata": {},
   "cell_type": "markdown",
   "source": [
    "Vamos a entrenar modelos de clasificación binaria que aprendan a identificar los números 2 del resto.\n",
    "Primero vamos a cambiar el tipo de datos del target porque nos interesa que sean numéricos 0 (si no es\n",
    "un 2 y 1 cuando sea la imagen de un dígito 2). Además vamos a generar el dataset de train y test, y\n",
    "luego lo vamos a adaptar para que nos sirva para entrenar el clasificador del 2. El tamaño del test lo\n",
    "dejamos al 1% porque hay bastantes instancias:\n"
   ],
   "id": "885b608db1a2446c"
  },
  {
   "metadata": {
    "ExecuteTime": {
     "end_time": "2025-03-14T12:50:56.010367Z",
     "start_time": "2025-03-14T12:50:55.018594Z"
    }
   },
   "cell_type": "code",
   "source": [
    "import numpy as np\n",
    "from sklearn.model_selection import train_test_split\n",
    "\n",
    "y = y.iloc[:].to_numpy()\n",
    "y = y.astype(np.uint8)\n",
    "\n",
    "print(\"Nuevo tipo de y[0]:\", type(y[0]))\n",
    "\n",
    "X_train, X_test, y_train, y_test = train_test_split(X, y, test_size=0.1, stratify=y, random_state=123)\n",
    "\n",
    "y_train_2 = (y_train == 2)\n",
    "y_test_2 = (y_test == 2)  # True para todas las instancias que sean del dígito 2\n"
   ],
   "id": "ed50d81d9f9ff62b",
   "outputs": [
    {
     "name": "stdout",
     "output_type": "stream",
     "text": [
      "Nuevo tipo de y[0]: <class 'numpy.uint8'>\n"
     ]
    }
   ],
   "execution_count": 5
  },
  {
   "metadata": {},
   "cell_type": "markdown",
   "source": [
    "### ENTREGAR:\n",
    " a) Modifica el código para que en la variable\n",
    "un_digito\n",
    " quede cargada la primera instancia que\n",
    "sea un 2.<br><br>\n",
    " b)\n",
    "Cuando particiones los datos y realices otras operaciones aleatorias utiliza una semilla\n",
    "aleatoria que coincida con la longitud de tu nombre concatenada a la de tu primer apellido y\n",
    "concatenada a la de tu segundo apellido. En mi caso sería el valor 449 porque \"Jose\"=4,\n",
    "\"Rosa\"=4 y \"=9.<br><br>\n",
    " c) Indica cuantas instancias tenemos para entrenar y cuantas para testear."
   ],
   "id": "16705d151affab7a"
  },
  {
   "metadata": {
    "ExecuteTime": {
     "end_time": "2025-03-14T12:50:57.328061Z",
     "start_time": "2025-03-14T12:50:56.217226Z"
    }
   },
   "cell_type": "code",
   "source": [
    "# a) Encontrar la primera instancia que sea un 2\n",
    "dice_dos = np.where(y == 2)[0][0]  # Encuentra el primer índice donde y es 2\n",
    "un_digito = X.iloc[dice_dos].to_numpy()\n",
    "imagen_un_digito = un_digito.reshape(28, 28)\n",
    "\n",
    "# Mostrar la imagen del primer dígito 2\n",
    "plt.imshow(imagen_un_digito, cmap=mpl.cm.binary, interpolation=\"nearest\")\n",
    "plt.axis(\"off\")\n",
    "plt.show()\n",
    "\n",
    "# b) Usar una semilla aleatoria personalizada\n",
    "semilla_aleatoria = int(\"675\")  # Modifica este valor según la  ongitud de tu nombre completo\n",
    "\n",
    "X_train, X_test, y_train, y_test = train_test_split(X, y, test_size=0.1, stratify=y, random_state=semilla_aleatoria)\n",
    "\n",
    "# c) Imprimir cantidad de instancias para entrenamiento y testeo\n",
    "print(f\"Instancias de entrenamiento: {X_train.shape[0]}\")\n",
    "print(f\"Instancias de testeo: {X_test.shape[0]}\")"
   ],
   "id": "b94d093100286dfd",
   "outputs": [
    {
     "data": {
      "text/plain": [
       "<Figure size 640x480 with 1 Axes>"
      ],
      "image/png": "[encoded data removed]"
     },
     "metadata": {},
     "output_type": "display_data"
    },
    {
     "name": "stdout",
     "output_type": "stream",
     "text": [
      "Instancias de entrenamiento: 63000\n",
      "Instancias de testeo: 7000\n"
     ]
    }
   ],
   "execution_count": 6
  },
  {
   "metadata": {},
   "cell_type": "markdown",
   "source": [
    " ## PASO 2: ENTRENAR UN MODELO QUE IDENTIFIQUE EL DÍGITO 2\n",
    " Para identificar el número 2 del resto, necesitamos un clasificador binario (2 clases en las que clasificar\n",
    "una instancia). Usamos uno que use Descenso por Gradiente Estocástico (SGDClassifier) que es\n",
    "escalable (rápido con muchas filas o instancias) y apto para on-line al ir aprendiendo instancia a\n",
    "instancia de manera independiente."
   ],
   "id": "7cbc3b6b33ff3b1a"
  },
  {
   "metadata": {
    "ExecuteTime": {
     "end_time": "2025-03-14T12:51:31.782804Z",
     "start_time": "2025-03-14T12:50:57.474355Z"
    }
   },
   "cell_type": "code",
   "source": [
    "from sklearn.linear_model import SGDClassifier\n",
    "sgd = SGDClassifier(random_state=123)\n",
    "sgd.fit(X_train, y_train_2)"
   ],
   "id": "95bef306c8639b2e",
   "outputs": [
    {
     "data": {
      "text/plain": [
       "SGDClassifier(random_state=123)"
      ],
      "text/html": [
       "<style>#sk-container-id-1 {\n",
       "  /* Definition of color scheme common for light and dark mode */\n",
       "  --sklearn-color-text: black;\n",
       "  --sklearn-color-line: gray;\n",
       "  /* Definition of color scheme for unfitted estimators */\n",
       "  --sklearn-color-unfitted-level-0: #fff5e6;\n",
       "  --sklearn-color-unfitted-level-1: #f6e4d2;\n",
       "  --sklearn-color-unfitted-level-2: #ffe0b3;\n",
       "  --sklearn-color-unfitted-level-3: chocolate;\n",
       "  /* Definition of color scheme for fitted estimators */\n",
       "  --sklearn-color-fitted-level-0: #f0f8ff;\n",
       "  --sklearn-color-fitted-level-1: #d4ebff;\n",
       "  --sklearn-color-fitted-level-2: #b3dbfd;\n",
       "  --sklearn-color-fitted-level-3: cornflowerblue;\n",
       "\n",
       "  /* Specific color for light theme */\n",
       "  --sklearn-color-text-on-default-background: var(--sg-text-color, var(--theme-code-foreground, var(--jp-content-font-color1, black)));\n",
       "  --sklearn-color-background: var(--sg-background-color, var(--theme-background, var(--jp-layout-color0, white)));\n",
       "  --sklearn-color-border-box: var(--sg-text-color, var(--theme-code-foreground, var(--jp-content-font-color1, black)));\n",
       "  --sklearn-color-icon: #696969;\n",
       "\n",
       "  @media (prefers-color-scheme: dark) {\n",
       "    /* Redefinition of color scheme for dark theme */\n",
       "    --sklearn-color-text-on-default-background: var(--sg-text-color, var(--theme-code-foreground, var(--jp-content-font-color1, white)));\n",
       "    --sklearn-color-background: var(--sg-background-color, var(--theme-background, var(--jp-layout-color0, #111)));\n",
       "    --sklearn-color-border-box: var(--sg-text-color, var(--theme-code-foreground, var(--jp-content-font-color1, white)));\n",
       "    --sklearn-color-icon: #878787;\n",
       "  }\n",
       "}\n",
       "\n",
       "#sk-container-id-1 {\n",
       "  color: var(--sklearn-color-text);\n",
       "}\n",
       "\n",
       "#sk-container-id-1 pre {\n",
       "  padding: 0;\n",
       "}\n",
       "\n",
       "#sk-container-id-1 input.sk-hidden--visually {\n",
       "  border: 0;\n",
       "  clip: rect(1px 1px 1px 1px);\n",
       "  clip: rect(1px, 1px, 1px, 1px);\n",
       "  height: 1px;\n",
       "  margin: -1px;\n",
       "  overflow: hidden;\n",
       "  padding: 0;\n",
       "  position: absolute;\n",
       "  width: 1px;\n",
       "}\n",
       "\n",
       "#sk-container-id-1 div.sk-dashed-wrapped {\n",
       "  border: 1px dashed var(--sklearn-color-line);\n",
       "  margin: 0 0.4em 0.5em 0.4em;\n",
       "  box-sizing: border-box;\n",
       "  padding-bottom: 0.4em;\n",
       "  background-color: var(--sklearn-color-background);\n",
       "}\n",
       "\n",
       "#sk-container-id-1 div.sk-container {\n",
       "  /* jupyter's `normalize.less` sets `[hidden] { display: none; }`\n",
       "     but bootstrap.min.css set `[hidden] { display: none !important; }`\n",
       "     so we also need the `!important` here to be able to override the\n",
       "     default hidden behavior on the sphinx rendered scikit-learn.org.\n",
       "     See: https://github.com/scikit-learn/scikit-learn/issues/21755 */\n",
       "  display: inline-block !important;\n",
       "  position: relative;\n",
       "}\n",
       "\n",
       "#sk-container-id-1 div.sk-text-repr-fallback {\n",
       "  display: none;\n",
       "}\n",
       "\n",
       "div.sk-parallel-item,\n",
       "div.sk-serial,\n",
       "div.sk-item {\n",
       "  /* draw centered vertical line to link estimators */\n",
       "  background-image: linear-gradient(var(--sklearn-color-text-on-default-background), var(--sklearn-color-text-on-default-background));\n",
       "  background-size: 2px 100%;\n",
       "  background-repeat: no-repeat;\n",
       "  background-position: center center;\n",
       "}\n",
       "\n",
       "/* Parallel-specific style estimator block */\n",
       "\n",
       "#sk-container-id-1 div.sk-parallel-item::after {\n",
       "  content: \"\";\n",
       "  width: 100%;\n",
       "  border-bottom: 2px solid var(--sklearn-color-text-on-default-background);\n",
       "  flex-grow: 1;\n",
       "}\n",
       "\n",
       "#sk-container-id-1 div.sk-parallel {\n",
       "  display: flex;\n",
       "  align-items: stretch;\n",
       "  justify-content: center;\n",
       "  background-color: var(--sklearn-color-background);\n",
       "  position: relative;\n",
       "}\n",
       "\n",
       "#sk-container-id-1 div.sk-parallel-item {\n",
       "  display: flex;\n",
       "  flex-direction: column;\n",
       "}\n",
       "\n",
       "#sk-container-id-1 div.sk-parallel-item:first-child::after {\n",
       "  align-self: flex-end;\n",
       "  width: 50%;\n",
       "}\n",
       "\n",
       "#sk-container-id-1 div.sk-parallel-item:last-child::after {\n",
       "  align-self: flex-start;\n",
       "  width: 50%;\n",
       "}\n",
       "\n",
       "#sk-container-id-1 div.sk-parallel-item:only-child::after {\n",
       "  width: 0;\n",
       "}\n",
       "\n",
       "/* Serial-specific style estimator block */\n",
       "\n",
       "#sk-container-id-1 div.sk-serial {\n",
       "  display: flex;\n",
       "  flex-direction: column;\n",
       "  align-items: center;\n",
       "  background-color: var(--sklearn-color-background);\n",
       "  padding-right: 1em;\n",
       "  padding-left: 1em;\n",
       "}\n",
       "\n",
       "\n",
       "/* Toggleable style: style used for estimator/Pipeline/ColumnTransformer box that is\n",
       "clickable and can be expanded/collapsed.\n",
       "- Pipeline and ColumnTransformer use this feature and define the default style\n",
       "- Estimators will overwrite some part of the style using the `sk-estimator` class\n",
       "*/\n",
       "\n",
       "/* Pipeline and ColumnTransformer style (default) */\n",
       "\n",
       "#sk-container-id-1 div.sk-toggleable {\n",
       "  /* Default theme specific background. It is overwritten whether we have a\n",
       "  specific estimator or a Pipeline/ColumnTransformer */\n",
       "  background-color: var(--sklearn-color-background);\n",
       "}\n",
       "\n",
       "/* Toggleable label */\n",
       "#sk-container-id-1 label.sk-toggleable__label {\n",
       "  cursor: pointer;\n",
       "  display: block;\n",
       "  width: 100%;\n",
       "  margin-bottom: 0;\n",
       "  padding: 0.5em;\n",
       "  box-sizing: border-box;\n",
       "  text-align: center;\n",
       "}\n",
       "\n",
       "#sk-container-id-1 label.sk-toggleable__label-arrow:before {\n",
       "  /* Arrow on the left of the label */\n",
       "  content: \"▸\";\n",
       "  float: left;\n",
       "  margin-right: 0.25em;\n",
       "  color: var(--sklearn-color-icon);\n",
       "}\n",
       "\n",
       "#sk-container-id-1 label.sk-toggleable__label-arrow:hover:before {\n",
       "  color: var(--sklearn-color-text);\n",
       "}\n",
       "\n",
       "/* Toggleable content - dropdown */\n",
       "\n",
       "#sk-container-id-1 div.sk-toggleable__content {\n",
       "  max-height: 0;\n",
       "  max-width: 0;\n",
       "  overflow: hidden;\n",
       "  text-align: left;\n",
       "  /* unfitted */\n",
       "  background-color: var(--sklearn-color-unfitted-level-0);\n",
       "}\n",
       "\n",
       "#sk-container-id-1 div.sk-toggleable__content.fitted {\n",
       "  /* fitted */\n",
       "  background-color: var(--sklearn-color-fitted-level-0);\n",
       "}\n",
       "\n",
       "#sk-container-id-1 div.sk-toggleable__content pre {\n",
       "  margin: 0.2em;\n",
       "  border-radius: 0.25em;\n",
       "  color: var(--sklearn-color-text);\n",
       "  /* unfitted */\n",
       "  background-color: var(--sklearn-color-unfitted-level-0);\n",
       "}\n",
       "\n",
       "#sk-container-id-1 div.sk-toggleable__content.fitted pre {\n",
       "  /* unfitted */\n",
       "  background-color: var(--sklearn-color-fitted-level-0);\n",
       "}\n",
       "\n",
       "#sk-container-id-1 input.sk-toggleable__control:checked~div.sk-toggleable__content {\n",
       "  /* Expand drop-down */\n",
       "  max-height: 200px;\n",
       "  max-width: 100%;\n",
       "  overflow: auto;\n",
       "}\n",
       "\n",
       "#sk-container-id-1 input.sk-toggleable__control:checked~label.sk-toggleable__label-arrow:before {\n",
       "  content: \"▾\";\n",
       "}\n",
       "\n",
       "/* Pipeline/ColumnTransformer-specific style */\n",
       "\n",
       "#sk-container-id-1 div.sk-label input.sk-toggleable__control:checked~label.sk-toggleable__label {\n",
       "  color: var(--sklearn-color-text);\n",
       "  background-color: var(--sklearn-color-unfitted-level-2);\n",
       "}\n",
       "\n",
       "#sk-container-id-1 div.sk-label.fitted input.sk-toggleable__control:checked~label.sk-toggleable__label {\n",
       "  background-color: var(--sklearn-color-fitted-level-2);\n",
       "}\n",
       "\n",
       "/* Estimator-specific style */\n",
       "\n",
       "/* Colorize estimator box */\n",
       "#sk-container-id-1 div.sk-estimator input.sk-toggleable__control:checked~label.sk-toggleable__label {\n",
       "  /* unfitted */\n",
       "  background-color: var(--sklearn-color-unfitted-level-2);\n",
       "}\n",
       "\n",
       "#sk-container-id-1 div.sk-estimator.fitted input.sk-toggleable__control:checked~label.sk-toggleable__label {\n",
       "  /* fitted */\n",
       "  background-color: var(--sklearn-color-fitted-level-2);\n",
       "}\n",
       "\n",
       "#sk-container-id-1 div.sk-label label.sk-toggleable__label,\n",
       "#sk-container-id-1 div.sk-label label {\n",
       "  /* The background is the default theme color */\n",
       "  color: var(--sklearn-color-text-on-default-background);\n",
       "}\n",
       "\n",
       "/* On hover, darken the color of the background */\n",
       "#sk-container-id-1 div.sk-label:hover label.sk-toggleable__label {\n",
       "  color: var(--sklearn-color-text);\n",
       "  background-color: var(--sklearn-color-unfitted-level-2);\n",
       "}\n",
       "\n",
       "/* Label box, darken color on hover, fitted */\n",
       "#sk-container-id-1 div.sk-label.fitted:hover label.sk-toggleable__label.fitted {\n",
       "  color: var(--sklearn-color-text);\n",
       "  background-color: var(--sklearn-color-fitted-level-2);\n",
       "}\n",
       "\n",
       "/* Estimator label */\n",
       "\n",
       "#sk-container-id-1 div.sk-label label {\n",
       "  font-family: monospace;\n",
       "  font-weight: bold;\n",
       "  display: inline-block;\n",
       "  line-height: 1.2em;\n",
       "}\n",
       "\n",
       "#sk-container-id-1 div.sk-label-container {\n",
       "  text-align: center;\n",
       "}\n",
       "\n",
       "/* Estimator-specific */\n",
       "#sk-container-id-1 div.sk-estimator {\n",
       "  font-family: monospace;\n",
       "  border: 1px dotted var(--sklearn-color-border-box);\n",
       "  border-radius: 0.25em;\n",
       "  box-sizing: border-box;\n",
       "  margin-bottom: 0.5em;\n",
       "  /* unfitted */\n",
       "  background-color: var(--sklearn-color-unfitted-level-0);\n",
       "}\n",
       "\n",
       "#sk-container-id-1 div.sk-estimator.fitted {\n",
       "  /* fitted */\n",
       "  background-color: var(--sklearn-color-fitted-level-0);\n",
       "}\n",
       "\n",
       "/* on hover */\n",
       "#sk-container-id-1 div.sk-estimator:hover {\n",
       "  /* unfitted */\n",
       "  background-color: var(--sklearn-color-unfitted-level-2);\n",
       "}\n",
       "\n",
       "#sk-container-id-1 div.sk-estimator.fitted:hover {\n",
       "  /* fitted */\n",
       "  background-color: var(--sklearn-color-fitted-level-2);\n",
       "}\n",
       "\n",
       "/* Specification for estimator info (e.g. \"i\" and \"?\") */\n",
       "\n",
       "/* Common style for \"i\" and \"?\" */\n",
       "\n",
       ".sk-estimator-doc-link,\n",
       "a:link.sk-estimator-doc-link,\n",
       "a:visited.sk-estimator-doc-link {\n",
       "  float: right;\n",
       "  font-size: smaller;\n",
       "  line-height: 1em;\n",
       "  font-family: monospace;\n",
       "  background-color: var(--sklearn-color-background);\n",
       "  border-radius: 1em;\n",
       "  height: 1em;\n",
       "  width: 1em;\n",
       "  text-decoration: none !important;\n",
       "  margin-left: 1ex;\n",
       "  /* unfitted */\n",
       "  border: var(--sklearn-color-unfitted-level-1) 1pt solid;\n",
       "  color: var(--sklearn-color-unfitted-level-1);\n",
       "}\n",
       "\n",
       ".sk-estimator-doc-link.fitted,\n",
       "a:link.sk-estimator-doc-link.fitted,\n",
       "a:visited.sk-estimator-doc-link.fitted {\n",
       "  /* fitted */\n",
       "  border: var(--sklearn-color-fitted-level-1) 1pt solid;\n",
       "  color: var(--sklearn-color-fitted-level-1);\n",
       "}\n",
       "\n",
       "/* On hover */\n",
       "div.sk-estimator:hover .sk-estimator-doc-link:hover,\n",
       ".sk-estimator-doc-link:hover,\n",
       "div.sk-label-container:hover .sk-estimator-doc-link:hover,\n",
       ".sk-estimator-doc-link:hover {\n",
       "  /* unfitted */\n",
       "  background-color: var(--sklearn-color-unfitted-level-3);\n",
       "  color: var(--sklearn-color-background);\n",
       "  text-decoration: none;\n",
       "}\n",
       "\n",
       "div.sk-estimator.fitted:hover .sk-estimator-doc-link.fitted:hover,\n",
       ".sk-estimator-doc-link.fitted:hover,\n",
       "div.sk-label-container:hover .sk-estimator-doc-link.fitted:hover,\n",
       ".sk-estimator-doc-link.fitted:hover {\n",
       "  /* fitted */\n",
       "  background-color: var(--sklearn-color-fitted-level-3);\n",
       "  color: var(--sklearn-color-background);\n",
       "  text-decoration: none;\n",
       "}\n",
       "\n",
       "/* Span, style for the box shown on hovering the info icon */\n",
       ".sk-estimator-doc-link span {\n",
       "  display: none;\n",
       "  z-index: 9999;\n",
       "  position: relative;\n",
       "  font-weight: normal;\n",
       "  right: .2ex;\n",
       "  padding: .5ex;\n",
       "  margin: .5ex;\n",
       "  width: min-content;\n",
       "  min-width: 20ex;\n",
       "  max-width: 50ex;\n",
       "  color: var(--sklearn-color-text);\n",
       "  box-shadow: 2pt 2pt 4pt #999;\n",
       "  /* unfitted */\n",
       "  background: var(--sklearn-color-unfitted-level-0);\n",
       "  border: .5pt solid var(--sklearn-color-unfitted-level-3);\n",
       "}\n",
       "\n",
       ".sk-estimator-doc-link.fitted span {\n",
       "  /* fitted */\n",
       "  background: var(--sklearn-color-fitted-level-0);\n",
       "  border: var(--sklearn-color-fitted-level-3);\n",
       "}\n",
       "\n",
       ".sk-estimator-doc-link:hover span {\n",
       "  display: block;\n",
       "}\n",
       "\n",
       "/* \"?\"-specific style due to the `<a>` HTML tag */\n",
       "\n",
       "#sk-container-id-1 a.estimator_doc_link {\n",
       "  float: right;\n",
       "  font-size: 1rem;\n",
       "  line-height: 1em;\n",
       "  font-family: monospace;\n",
       "  background-color: var(--sklearn-color-background);\n",
       "  border-radius: 1rem;\n",
       "  height: 1rem;\n",
       "  width: 1rem;\n",
       "  text-decoration: none;\n",
       "  /* unfitted */\n",
       "  color: var(--sklearn-color-unfitted-level-1);\n",
       "  border: var(--sklearn-color-unfitted-level-1) 1pt solid;\n",
       "}\n",
       "\n",
       "#sk-container-id-1 a.estimator_doc_link.fitted {\n",
       "  /* fitted */\n",
       "  border: var(--sklearn-color-fitted-level-1) 1pt solid;\n",
       "  color: var(--sklearn-color-fitted-level-1);\n",
       "}\n",
       "\n",
       "/* On hover */\n",
       "#sk-container-id-1 a.estimator_doc_link:hover {\n",
       "  /* unfitted */\n",
       "  background-color: var(--sklearn-color-unfitted-level-3);\n",
       "  color: var(--sklearn-color-background);\n",
       "  text-decoration: none;\n",
       "}\n",
       "\n",
       "#sk-container-id-1 a.estimator_doc_link.fitted:hover {\n",
       "  /* fitted */\n",
       "  background-color: var(--sklearn-color-fitted-level-3);\n",
       "}\n",
       "</style><div id=\"sk-container-id-1\" class=\"sk-top-container\"><div class=\"sk-text-repr-fallback\"><pre>SGDClassifier(random_state=123)</pre><b>In a Jupyter environment, please rerun this cell to show the HTML representation or trust the notebook. <br />On GitHub, the HTML representation is unable to render, please try loading this page with nbviewer.org.</b></div><div class=\"sk-container\" hidden><div class=\"sk-item\"><div class=\"sk-estimator fitted sk-toggleable\"><input class=\"sk-toggleable__control sk-hidden--visually\" id=\"sk-estimator-id-1\" type=\"checkbox\" checked><label for=\"sk-estimator-id-1\" class=\"sk-toggleable__label fitted sk-toggleable__label-arrow fitted\">&nbsp;&nbsp;SGDClassifier<a class=\"sk-estimator-doc-link fitted\" rel=\"noreferrer\" target=\"_blank\" href=\"https://scikit-learn.org/1.5/modules/generated/sklearn.linear_model.SGDClassifier.html\">?<span>Documentation for SGDClassifier</span></a><span class=\"sk-estimator-doc-link fitted\">i<span>Fitted</span></span></label><div class=\"sk-toggleable__content fitted\"><pre>SGDClassifier(random_state=123)</pre></div> </div></div></div></div>"
      ]
     },
     "execution_count": 7,
     "metadata": {},
     "output_type": "execute_result"
    }
   ],
   "execution_count": 7
  },
  {
   "metadata": {},
   "cell_type": "markdown",
   "source": [
    " Para comprobar si se ha entrenado bien podemos probar la predicción que hace con algún ejemplo\n",
    "que conozcamos como por ejemplo el que tenemos en un_digito:"
   ],
   "id": "8c567a91f5d781bb"
  },
  {
   "metadata": {
    "ExecuteTime": {
     "end_time": "2025-03-14T12:51:31.964050Z",
     "start_time": "2025-03-14T12:51:31.926272Z"
    }
   },
   "cell_type": "code",
   "source": "print(\"Predice un 2?:\", sgd.predict([un_digito]))",
   "id": "feffd2ee54bd6036",
   "outputs": [
    {
     "name": "stdout",
     "output_type": "stream",
     "text": [
      "Predice un 2?: [ True]\n"
     ]
    },
    {
     "name": "stderr",
     "output_type": "stream",
     "text": [
      "C:\\Users\\ESP\\Desktop\\MachineLearning\\saa\\Lib\\site-packages\\sklearn\\base.py:493: UserWarning: X does not have valid feature names, but SGDClassifier was fitted with feature names\n",
      "  warnings.warn(\n"
     ]
    }
   ],
   "execution_count": 8
  },
  {
   "metadata": {},
   "cell_type": "markdown",
   "source": [
    "Pero lo ideal es medir lo bien que lo hace en muchos datos y además para que el resultado sea fiable\n",
    "esos datos no deben tener sesgos. Así que voy a obtener sus éxitos en varios conjuntos de datos\n",
    "usando validación cruzada de 3-Folds. <br><br>\n",
    " Usamos la función  cross_val_score() para validar el clasificador usando k-folds validación cruzada\n",
    "con un k de 3 (recuerda que la 3-folds validación cruzada divide el dataset train en 3 trozos y recorre\n",
    "todos los trozos validando en cada uno el modelo que entrena con el resto de trozos). Copia este\n",
    "código a continuación y completa los apartados que hay que entregar:"
   ],
   "id": "b59caaf0cea11785"
  },
  {
   "metadata": {
    "ExecuteTime": {
     "end_time": "2025-03-14T12:52:34.013713Z",
     "start_time": "2025-03-14T12:51:32.029682Z"
    }
   },
   "cell_type": "code",
   "source": [
    "from sklearn.model_selection import cross_val_score\n",
    "cvs = cross_val_score(sgd, X_train, y_train_2, cv=3, scoring=\"accuracy\")\n",
    "print(f\"SGD: Accuracy en 3-folds: {cvs} Media: {cvs.mean()*100:.4f}%\")"
   ],
   "id": "1b3f87130e15b93d",
   "outputs": [
    {
     "name": "stdout",
     "output_type": "stream",
     "text": [
      "SGD: Accuracy en 3-folds: [0.71971429 0.84214286 0.83190476] Media: 79.7921%\n"
     ]
    }
   ],
   "execution_count": 9
  },
  {
   "metadata": {},
   "cell_type": "markdown",
   "source": [
    " ### ENTREGAR:\n",
    " a)\n",
    " ¿Qué porcentaje de aciertos tiene el modelo cuando realiza predicciones? <br><br>\n",
    "b)\n",
    " Siendo un clasificador, ¿Si se acerca al 100% es un buen indicador de que ha aprendido bien?<br><br>\n",
    " c)\n",
    " Escribe el código del clasificador\n",
    "“Siempre Negativo”\n",
    " manera que hemos realizado con\n",
    " de abajo y comprueba de la misma\n",
    "SGDClassifier\n",
    " si hace su trabajo con éxito (ten en cuenta que\n",
    "no necesita entrenamiento, cuando le pregunten si es un 2 siempre va a responder que no) por\n",
    "tanto no lo entrenes, solo lo validas y compruebas sus porcentajes de éxitos con este\n",
    "comportamiento que es independiente de los datos con los que trabaje.\n"
   ],
   "id": "74f882f3a2870e10"
  },
  {
   "metadata": {
    "ExecuteTime": {
     "end_time": "2025-03-14T12:52:34.198462Z",
     "start_time": "2025-03-14T12:52:34.182295Z"
    }
   },
   "cell_type": "code",
   "source": [
    "from sklearn.base import BaseEstimator\n",
    "class DonVangall(BaseEstimator):\n",
    "    def fit(self, X, y=None):\n",
    "        pass\n",
    "    def predict(self, X):\n",
    "        return np.zeros((len(X),1), dtype=bool)"
   ],
   "id": "ded9fb7b0bc86229",
   "outputs": [],
   "execution_count": 10
  },
  {
   "metadata": {},
   "cell_type": "markdown",
   "source": [
    "d)\n",
    " A la vista de los resultados del apartado\n",
    "es bueno?"
   ],
   "id": "56a5591b1cf0fab7"
  },
  {
   "metadata": {},
   "cell_type": "markdown",
   "source": [
    "## PASO 3: VALIDAR EL MODELO CON LA MATRIZ DE CONFUSIÓN.\n",
    " Para calcular la matriz de confusión necesitamos predicciones que se puedan comparar con los valores\n",
    "reales de la columna target. Por ahora los datos de test los tenemos escondidos y reservados para las\n",
    "fases finales del proyecto, justo antes de decidir si ponemos en producción el sistema. Así que\n",
    "utilizamos la función cross_val_predict(). A continuación obtenemos la matriz de confusión con\n",
    "confusion_matrix()."
   ],
   "id": "ca3ffedc4bab9025"
  },
  {
   "metadata": {
    "ExecuteTime": {
     "end_time": "2025-03-14T12:53:35.805127Z",
     "start_time": "2025-03-14T12:52:34.214475Z"
    }
   },
   "cell_type": "code",
   "source": [
    "from sklearn.model_selection import cross_val_predict\n",
    "y_train_pred = cross_val_predict(sgd, X_train, y_train_2, cv=3)\n",
    "\n",
    "from sklearn.metrics import confusion_matrix\n",
    "print(f\"Mátriz de confusión: {confusion_matrix(y_train_2, y_train_pred)}\")"
   ],
   "id": "51d61d6e162e8a55",
   "outputs": [
    {
     "name": "stdout",
     "output_type": "stream",
     "text": [
      "Mátriz de confusión: [[49454  7255]\n",
      " [ 5476   815]]\n"
     ]
    }
   ],
   "execution_count": 11
  },
  {
   "metadata": {},
   "cell_type": "markdown",
   "source": " Además scikit-learn tiene funciones para cada métrica:\n",
   "id": "7cdcfb0206ab7ec2"
  },
  {
   "metadata": {
    "ExecuteTime": {
     "end_time": "2025-03-14T12:53:36.033618Z",
     "start_time": "2025-03-14T12:53:35.948690Z"
    }
   },
   "cell_type": "code",
   "source": [
    "from sklearn.metrics import precision_score, recall_score, f1_score\n",
    "print(\"Precisión\", precision_score(y_train_2, y_train_pred))\n",
    "print(\"Recall\", recall_score(y_train_2, y_train_pred))\n",
    "print(\"F1 score\", f1_score(y_train_2, y_train_pred))"
   ],
   "id": "8dca2891fd593e87",
   "outputs": [
    {
     "name": "stdout",
     "output_type": "stream",
     "text": [
      "Precisión 0.10099132589838909\n",
      "Recall 0.12955015100937847\n",
      "F1 score 0.11350184527539865\n"
     ]
    }
   ],
   "execution_count": 12
  },
  {
   "metadata": {},
   "cell_type": "markdown",
   "source": [
    "Si queremos las métricas desglosadas por clases podemos pedir el informe de clasificación con la\n",
    "función clasification_report()."
   ],
   "id": "58120955743dc0e1"
  },
  {
   "metadata": {},
   "cell_type": "markdown",
   "source": [
    "### ENTREGAR:\n",
    " a)\n",
    " Cada fila de la matriz de confusión representa una clase ()Real ()Predicha.\n",
    " Cada columna de la matriz de confusión representa una clase ()Real ()Predicha. <br><br>\n",
    " b)\n",
    "Para que el clasificador sea bueno ¿Dónde deben estar los valores más altos de la matriz de\n",
    "confusión? ( )En la diagonal.  ( )Fuera de la diagonal.<br><br>\n",
    " c)\n",
    " Observa la salida del informe de clasificación e indica la clase con peor accuracy pero no de\n",
    "todos los intentos sino de los intentos que sean positivos (es decir, de todos los positivos\n",
    "cuantos ha clasificado correctamente)."
   ],
   "id": "c167d961360af34e"
  },
  {
   "metadata": {},
   "cell_type": "markdown",
   "source": [
    " ## PASO 4: EQUILIBRO PRECISIÓN / RECALL.\n",
    " Scikit-Learn no nos permite acceder directamente a los umbrales, pero como nos deja consultar los\n",
    "scores que usa para predecir llamando al método decision_function() del clasificador en vez de usar\n",
    "predict(), lo que nos devuelve un score para cada instancia y entonces hacemos predicciones usando\n",
    "el umbral que queramos basándonos en estos scores:"
   ],
   "id": "3f7760676b7260eb"
  },
  {
   "metadata": {
    "ExecuteTime": {
     "end_time": "2025-03-14T12:53:36.054372Z",
     "start_time": "2025-03-14T12:53:36.045877Z"
    }
   },
   "cell_type": "code",
   "source": [
    "y_scores = sgd.decision_function([un_digito])\n",
    "print(\"Scores el primer 2:\", y_scores)\n",
    "umbral = 0\n",
    "prediccion_de_un_digito = (y_scores > umbral)\n",
    "print(f\"Con un umbral de {umbral} Un 2 es un 2 = {prediccion_de_un_digito}\")"
   ],
   "id": "6ac7e9adaf34baf2",
   "outputs": [
    {
     "name": "stdout",
     "output_type": "stream",
     "text": [
      "Scores el primer 2: [693.42280821]\n",
      "Con un umbral de 0 Un 2 es un 2 = [ True]\n"
     ]
    },
    {
     "name": "stderr",
     "output_type": "stream",
     "text": [
      "C:\\Users\\ESP\\Desktop\\MachineLearning\\saa\\Lib\\site-packages\\sklearn\\base.py:493: UserWarning: X does not have valid feature names, but SGDClassifier was fitted with feature names\n",
      "  warnings.warn(\n"
     ]
    }
   ],
   "execution_count": 13
  },
  {
   "metadata": {},
   "cell_type": "markdown",
   "source": [
    "El clasificador SGDClassifier() usa un umbral igual a 0, así que el código anterior devuelve el mismo\n",
    "resultado que predict(). Si cambiamos el umbral:\n"
   ],
   "id": "10acb01d98021195"
  },
  {
   "metadata": {
    "ExecuteTime": {
     "end_time": "2025-03-14T12:53:36.158467Z",
     "start_time": "2025-03-14T12:53:36.149909Z"
    }
   },
   "cell_type": "code",
   "source": [
    "umbral = 8000\n",
    "prediccion_de_un_digito = (y_scores > umbral)\n",
    "print(f\"Con un umbral de {umbral} Un 2 es un 2 = {prediccion_de_un_digito}\")"
   ],
   "id": "b436d19d133f9f52",
   "outputs": [
    {
     "name": "stdout",
     "output_type": "stream",
     "text": [
      "Con un umbral de 8000 Un 2 es un 2 = [False]\n"
     ]
    }
   ],
   "execution_count": 14
  },
  {
   "metadata": {},
   "cell_type": "markdown",
   "source": [
    "### ENTREGAR:\n",
    " a)\n",
    " A la vista del resultado, si subes el umbral ¿Subes la precisión o el recall<br><br>\n",
    "b)\n",
    " Si queremos saber cuanto\n",
    "precisión\n",
    " o el\n",
    "recall?\n",
    " recall\n",
    " vamos a tener si queremos alcanzar una precisión del 90%,\n",
    "lee el texto y completa el código siguiente para conseguir el gráfico de la figura.<br><br>\n",
    " Como el umbral controla ambas métricas (precisión y recall)  ¿Cómo elegir uno? Utilizamos\n",
    "todas las instancias del entrenamiento usando cross_val_predict() pero indicando que\n",
    "quieres scores de  decisión en vez de predicciones. Con estos scores calculas las métricas de\n",
    "precisión y recall para todos los posibles umbrales usando la función precision_recall_curve()\n",
    "y puedes visualizarlo en un gráfico para ver como quedarán ambas métricas al escoger un\n",
    "umbral. Normalmente si aumentas el umbral sube la precisión (bajan los FP) y baja el recall\n",
    "(suben los FN), aunque puede haber zonas (según se distribuyen los scores de decisión) donde\n",
    "se produzcan bajadas o subidas.<br><br>\n",
    "<img src=\"../img/captura21.png\" alt=\"captura21\">\n",
    "\n"
   ],
   "id": "c64a8abe1f4c0ae4"
  },
  {
   "metadata": {
    "ExecuteTime": {
     "end_time": "2025-03-14T12:53:36.285588Z",
     "start_time": "2025-03-14T12:53:36.276808Z"
    }
   },
   "cell_type": "code",
   "source": [
    "def plot_precision_recall_vs_umbrales(precisiones,recalls,umbrales):\n",
    "    plt.plot(umbrales, precisiones[:-1], \"b--\", label=\"Precisión\")\n",
    "    plt.plot(umbrales, recalls[:-1], \"g--\", label=\"Recall\", linewidth=2)\n"
   ],
   "id": "f12695fd572ef1b",
   "outputs": [],
   "execution_count": 15
  },
  {
   "metadata": {
    "ExecuteTime": {
     "end_time": "2025-03-14T12:57:03.252419Z",
     "start_time": "2025-03-14T12:55:57.867657Z"
    }
   },
   "cell_type": "code",
   "source": [
    "from sklearn.metrics import precision_recall_curve\n",
    "from sklearn.model_selection._validation import cross_val_predict\n",
    "\n",
    "# Obtener los puntajes de decisión con validación cruzada\n",
    "y_scores = cross_val_predict(sgd, X_train, y_train_2, cv=3, method=\"decision_function\")\n",
    "\n",
    "# Calcular curvas de precisión-recall\n",
    "precisiones, recalls, umbrales = precision_recall_curve(y_train_2, y_scores)\n",
    "\n",
    "# Verificar tamaños\n",
    "print(f\"Tamaño de precisiones: {len(precisiones)}\")\n",
    "print(f\"Tamaño de recalls: {len(recalls)}\")\n",
    "print(f\"Tamaño de umbrales: {len(umbrales)}\")\n",
    "\n",
    "# Verificar si existe un índice donde la precisión sea >= 90%\n",
    "if np.any(precisiones >= 0.90):\n",
    "    idx = np.argmax(precisiones >= 0.90)\n",
    "    if idx >= len(umbrales):\n",
    "        idx = len(umbrales) - 1  # Ajustar para que no exceda el tamaño\n",
    "    recall_precision_90 = recalls[idx]\n",
    "    umbral_para_precision_90 = umbrales[idx]\n",
    "else:\n",
    "    recall_precision_90 = None\n",
    "    umbral_para_precision_90 = None\n",
    "    print(\"No se encontró un umbral que garantice una precisión >= 90%\")\n",
    "\n",
    "# Graficar\n",
    "plt.figure(figsize=(8,4))\n",
    "plot_precision_recall_vs_umbrales(precisiones, recalls, umbrales)\n",
    "\n",
    "if umbral_para_precision_90 is not None:\n",
    "    plt.plot([umbral_para_precision_90, umbral_para_precision_90], [0.,0.9], \"r:\")\n",
    "    plt.plot([-50000, umbral_para_precision_90], [0.9, 0.9], \"r:\")\n",
    "    plt.plot([umbral_para_precision_90], [0.9], \"ro\")\n",
    "\n",
    "plt.show()\n"
   ],
   "id": "4dc54c1eea920ed0",
   "outputs": [
    {
     "name": "stdout",
     "output_type": "stream",
     "text": [
      "Tamaño de precisiones: 63001\n",
      "Tamaño de recalls: 63001\n",
      "Tamaño de umbrales: 63000\n"
     ]
    },
    {
     "data": {
      "text/plain": [
       "<Figure size 800x400 with 1 Axes>"
      ],
      "image/png": "[encoded data removed]"
     },
     "metadata": {},
     "output_type": "display_data"
    }
   ],
   "execution_count": 17
  },
  {
   "metadata": {},
   "cell_type": "markdown",
   "source": [
    "Mirando el gráfico puedes saber que necesitas un umbral de unos ocho mil para tener una precisión\n",
    "del 90% pero podemos ser más precisos usando np.argmax() para encontrar el primer índice del\n",
    "máximo valor (en este caso el primer valor True). Para hacer predicciones (en el dataset train por\n",
    "ahora) en vez de llamar a clasificador.predict() ejecutas las sentencias:\n"
   ],
   "id": "7aca538e20a2cd18"
  },
  {
   "metadata": {
    "ExecuteTime": {
     "end_time": "2025-03-14T12:59:36.582610Z",
     "start_time": "2025-03-14T12:59:36.403539Z"
    }
   },
   "cell_type": "code",
   "source": [
    "# Verificar tamaños\n",
    "print(f\"Tamaño de precisiones: {len(precisiones)}\")\n",
    "print(f\"Tamaño de recalls: {len(recalls)}\")\n",
    "print(f\"Tamaño de umbrales: {len(umbrales)}\")\n",
    "\n",
    "# Verificar si existe un índice donde la precisión sea >= 90%\n",
    "if np.any(precisiones >= 0.90):\n",
    "    idx = np.argmax(precisiones >= 0.90)\n",
    "    if idx >= len(umbrales):\n",
    "        idx = len(umbrales) - 1  # Ajustar para que no exceda el tamaño\n",
    "    umbral_para_precision_90 = umbrales[idx]\n",
    "\n",
    "    print(\"Umbral para alcanzar precisión del 90%:\", umbral_para_precision_90)\n",
    "    y_train_pred_90 = (y_scores > umbral_para_precision_90)\n",
    "    print(\"Precisión con umbral\", umbral_para_precision_90, \"=\", precision_score(y_train_2, y_train_pred_90))\n",
    "    print(\"Recall con umbral\", umbral_para_precision_90, \"=\", recall_score(y_train_2, y_train_pred_90))\n",
    "else:\n",
    "    umbral_para_precision_90 = None\n",
    "    print(\"No se encontró un umbral que garantice una precisión >= 90%\")"
   ],
   "id": "61027c97ad83fbcf",
   "outputs": [
    {
     "name": "stdout",
     "output_type": "stream",
     "text": [
      "Tamaño de precisiones: 63001\n",
      "Tamaño de recalls: 63001\n",
      "Tamaño de umbrales: 63000\n",
      "Umbral para alcanzar precisión del 90%: 5433.664029241571\n",
      "Precisión con umbral 5433.664029241571 = 0.0\n",
      "Recall con umbral 5433.664029241571 = 0.0\n"
     ]
    },
    {
     "name": "stderr",
     "output_type": "stream",
     "text": [
      "C:\\Users\\ESP\\Desktop\\MachineLearning\\saa\\Lib\\site-packages\\sklearn\\metrics\\_classification.py:1531: UndefinedMetricWarning: Precision is ill-defined and being set to 0.0 due to no predicted samples. Use `zero_division` parameter to control this behavior.\n",
      "  _warn_prf(average, modifier, f\"{metric.capitalize()} is\", len(result))\n"
     ]
    }
   ],
   "execution_count": 19
  },
  {
   "metadata": {},
   "cell_type": "markdown",
   "source": [
    " c)\n",
    " ¿Qué valores de\n",
    "recall\n",
    " vamos a tener si queremos alcanzar una precisión del 90%?<br>\n",
    " <span style=\"color:green;\">En este caso, el recall es 0.0, lo que significa que no estamos capturando ninguna instancia positiva con ese umbral. Para mejorar el recall, sería necesario ajustar el umbral a un valor menor.</span>"
   ],
   "id": "3f1f3def7ee13849"
  },
  {
   "metadata": {},
   "cell_type": "markdown",
   "source": [
    "## PASO 5: LA CURVA ROC.\n",
    " La curva receiver operating characteristic (ROC) y la métrica AUC son otras herramientas usadas en los\n",
    "clasificadores. También se utilizan para comparar varios clasificadores. Para dibujarla hay que calcular\n",
    "el TPR y el FPR para diferentes valores de umbral usando la función roc_curve():"
   ],
   "id": "e085515be9fcfa6d"
  },
  {
   "metadata": {
    "ExecuteTime": {
     "end_time": "2025-03-14T13:02:20.308895Z",
     "start_time": "2025-03-14T13:02:20.008524Z"
    }
   },
   "cell_type": "code",
   "source": [
    "from sklearn.metrics import roc_curve, roc_auc_score\n",
    "fpr, tpr, roc_umbrales = roc_curve(y_train_2, y_scores)\n",
    "\n",
    "def plot_roc_curve(fpr, tpr):\n",
    "    plt.plot(fpr, tpr, label=\"Curva ROC\")\n",
    "    plt.plot([0, 1], [0, 1], 'k--', label=\"Clasificador aleatorio\")\n",
    "    plt.xlabel(\"Tasa de Falsos Positivos (FPR)\")\n",
    "    plt.ylabel(\"Tasa de Verdaderos Positivos (TPR)\")\n",
    "    plt.title(\"Curva ROC\")\n",
    "    plt.legend()\n",
    "    plt.show()\n",
    "\n",
    "# Graficar la curva ROC\n",
    "plot_roc_curve(fpr, tpr)\n",
    "\n",
    "# Calcular el área bajo la curva (AUC)\n",
    "auc_score = roc_auc_score(y_train_2, y_scores)\n",
    "print(\"Área bajo la curva ROC (AUC):\", auc_score)"
   ],
   "id": "310aa2e3312aa7cd",
   "outputs": [
    {
     "data": {
      "text/plain": [
       "<Figure size 640x480 with 1 Axes>"
      ],
      "image/png": "[encoded data removed]"
     },
     "metadata": {},
     "output_type": "display_data"
    },
    {
     "name": "stdout",
     "output_type": "stream",
     "text": [
      "Área bajo la curva ROC (AUC): 0.49920709323161283\n"
     ]
    }
   ],
   "execution_count": 21
  },
  {
   "metadata": {},
   "cell_type": "markdown",
   "source": [
    "### ENTREGAR:\n",
    " a)\n",
    " Completa el código de la función\n",
    "el código que la implementa.<br><br>\n",
    " b) ¿Qué\n",
    "plot_curva_roc()\n",
    " sustituyendo cada línea comentada por\n",
    "AUC\n",
    " tendrá un clasificador binario aleatorio? ¿Y un clasificador binario perfecto?<br><br>\n",
    " c)\n",
    " Sabiendo que puedes calcular el área bajo la curva con la función\n",
    "y_scores)\n",
    " añade el código en una llamada a\n",
    "roc_auc_score(y_train_2,\n",
    "plot_curva_roc()\n",
    " que genere esta gráfica:<br><br>\n",
    " <img src=\"../img/captura22.png\" alt=\"captura22\">"
   ],
   "id": "9c7681d7a84bd03b"
  },
  {
   "metadata": {},
   "cell_type": "markdown",
   "source": [
    "Vamos a entrenar un clasificador RandomForestClassifier y comparamos su curva ROC y su métrica\n",
    "AUC con el SGDClassifier. Necesitamos los scores de cada instancia en el dataset train. Pero debido a\n",
    "la manera de funcionar de Ramdom Forest no tiene decision_function(). En su lugar tiene un método\n",
    "predict_proba() que devuelve un array con una fila para cada instancia y una columna para cada\n",
    "clase con la que trabaja el clasificador. Cada valor representa la probabilidad de que cada instancia\n",
    "pertenezca a cada clase. Por ejemplo en nuestro caso una fila de una instancia podría tener:"
   ],
   "id": "d2cc9f3648077db"
  },
  {
   "metadata": {
    "ExecuteTime": {
     "end_time": "2025-03-14T13:09:12.287062Z",
     "start_time": "2025-03-14T13:06:41.945929Z"
    }
   },
   "cell_type": "code",
   "source": [
    "from sklearn.ensemble import RandomForestClassifier\n",
    "from sklearn.model_selection import cross_val_predict\n",
    "from sklearn.metrics import roc_curve, roc_auc_score\n",
    "import matplotlib.pyplot as plt\n",
    "\n",
    "rfc = RandomForestClassifier(random_state=123)\n",
    "# Use cross_val_predict with method=\"predict_proba\"\n",
    "y_probs_forest = cross_val_predict(rfc, X_train, y_train_2, cv=3, method=\"predict_proba\")\n",
    "\n",
    "# y_probs_forest[:, 1] gives the probabilities for the positive class (class 1)\n",
    "y_scores_forest = y_probs_forest[:, 1]\n",
    "\n",
    "# Compute ROC curve\n",
    "fpr_forest, tpr_forest, umbrales_forest = roc_curve(y_train_2, y_scores_forest)\n",
    "\n",
    "# Plot the ROC curve\n",
    "plt.plot(fpr_forest, tpr_forest, \"b:\", label=f\"Random Forest (AUC: {roc_auc_score(y_train_2, y_scores_forest):.4f})\")\n",
    "plt.legend()\n",
    "plt.xlabel('False Positive Rate')\n",
    "plt.ylabel('True Positive Rate')\n",
    "plt.title('ROC Curve')\n",
    "plt.show()\n"
   ],
   "id": "39961bd25023a160",
   "outputs": [
    {
     "data": {
      "text/plain": [
       "<Figure size 640x480 with 1 Axes>"
      ],
      "image/png": "[encoded data removed]"
     },
     "metadata": {},
     "output_type": "display_data"
    }
   ],
   "execution_count": 23
  },
  {
   "metadata": {},
   "cell_type": "markdown",
   "source": [
    " d)\n",
    " Tras dibujar el gráfico (en la línea 133) haz una llamada a\n",
    "curva del clasificador\n",
    "plot_curva_roc()\n",
    " para dibujar la\n",
    "Random Forest\n",
    " y muestra el gráfico para que quede como el siguiente."
   ],
   "id": "6e16ab6f4f77987d"
  },
  {
   "metadata": {},
   "cell_type": "markdown",
   "source": [
    " e)\n",
    " Basándonos en la métrica ¿Cuál de los dos clasificadores reconoce mejor el dígito 2?<br>\n",
    " <span style=\"color:green;\">El RandomForestClassifier</span>"
   ],
   "id": "4279a2a7b5190115"
  },
  {
   "metadata": {},
   "cell_type": "markdown",
   "source": [
    "## PASO 6: CLASIFICACIÓN MULTICLASE\n",
    " Un clasificador debe clasificar una instancia en alguna de las clases. Si hay 2 clases hablamos de un\n",
    "clasificador binario. Si hay más de 2, hablamos de clasificador multiclase o multinomial. Algunos\n",
    "algoritmos como Random Forest o Bayes la soportan directamente. Otros como SVM o los clasificadores\n",
    "lineales son estrictamente binarios pero se pueden entrenar varios de ellos (uno para diferenciar entre\n",
    "cada clase y el resto) y predecir con todos para saber cuál es la clase más probable: si tengo 3 clases se\n",
    "fabrica uno para (clase1, resto), otro para (clase2,resto) y otro para (clase3, resto). Esta técnica se llama\n",
    "one-versus-rest OvR.\n",
    " Otra estrategia es entrenar por parejas de clases de forma que si tenemos 3 clases uno aprenda a\n",
    "diferenciar (entre 1 y 2), otro (entre 1 y 3), otro (entre 2 y 3). Si tienes N clases, necesitas entrenar  N x\n",
    "(N -1 ) / 2 clasificadores. Esto se llama one-versus-one: OvO.\n",
    " Scikit-Learn detecta automáticamente cuando estás usando un algoritmo clasificador binario para\n",
    "realizar una clasificación multiclase y automáticamente ejecuta ovr (excepto para SVM que usa ovo).\n",
    "Vamos a probar y para ver los detalles de la decisión puedes usar el método decision_function():"
   ],
   "id": "ed8998515c0fb12d"
  },
  {
   "metadata": {
    "ExecuteTime": {
     "end_time": "2025-03-14T13:13:15.539474Z",
     "start_time": "2025-03-14T13:10:35.104931Z"
    }
   },
   "cell_type": "code",
   "source": [
    "sgd.fit(X_train, y_train)\n",
    "print(f\"Predicción de un 2 {sgd.predict([un_digito])}\")\n",
    "scores_de_un_digito = sgd.decision_function([un_digito])\n",
    "print(\"scores de un_digito\", scores_de_un_digito)"
   ],
   "id": "4d60372607110420",
   "outputs": [
    {
     "name": "stdout",
     "output_type": "stream",
     "text": [
      "Predicción de un 2 [2]\n",
      "scores de un_digito [[-13873.62305205 -26107.8014862    5258.92519521  -5918.07785123\n",
      "  -21083.30417676  -5826.69637453 -22273.52927511 -14977.95322465\n",
      "   -2114.18214753  -5109.06908669]]\n"
     ]
    },
    {
     "name": "stderr",
     "output_type": "stream",
     "text": [
      "C:\\Users\\ESP\\Desktop\\MachineLearning\\saa\\Lib\\site-packages\\sklearn\\base.py:493: UserWarning: X does not have valid feature names, but SGDClassifier was fitted with feature names\n",
      "  warnings.warn(\n",
      "C:\\Users\\ESP\\Desktop\\MachineLearning\\saa\\Lib\\site-packages\\sklearn\\base.py:493: UserWarning: X does not have valid feature names, but SGDClassifier was fitted with feature names\n",
      "  warnings.warn(\n"
     ]
    }
   ],
   "execution_count": 24
  },
  {
   "metadata": {},
   "cell_type": "markdown",
   "source": [
    " ENTREGAR:\n",
    " a)\n",
    " En ejecutar las sentencias de la 137 a la 138 habrá tardado algo más de tiempo (si estás\n",
    "realizando la práctica en un\n",
    "jupyter notebook\n",
    " y has dejado este código en su propia celda)\n",
    "¿Cuánto? ¿Cuántos modelos ha entrenado Scikit-learn? ¿Qué método ha usado?<br><br>\n",
    " b)\n",
    " ¿Cuántos scores devuelve la sentencia 139? ¿Cuál es la posición del más alto?\n"
   ],
   "id": "50baec80ce3c514a"
  },
  {
   "metadata": {},
   "cell_type": "markdown",
   "source": [
    " Vamos a obtener la clase que ha obtenido un mayor score: sabiendo que cuando se entrena un\n",
    "clasificador, este almacena en su atributo classes_ ordenadas por valor en algún lugar del array."
   ],
   "id": "7f0b91f663f2620"
  },
  {
   "metadata": {
    "ExecuteTime": {
     "end_time": "2025-03-14T13:13:15.673443Z",
     "start_time": "2025-03-14T13:13:15.668079Z"
    }
   },
   "cell_type": "code",
   "source": [
    "mayor = np.argmax(scores_de_un_digito)\n",
    "print(\"Clases del clasificador:\", sgd.classes_)\n",
    "print(\"La clase con mayor score\", sgd.classes_[mayor])"
   ],
   "id": "af03dfb791f51017",
   "outputs": [
    {
     "name": "stdout",
     "output_type": "stream",
     "text": [
      "Clases del clasificador: [0 1 2 3 4 5 6 7 8 9]\n",
      "La clase con mayor score 2\n"
     ]
    }
   ],
   "execution_count": 25
  },
  {
   "metadata": {},
   "cell_type": "markdown",
   "source": [
    "Si quieres forzar a Scikit-Learn a usar los métodos ovo o bien ovr puedes usar las clases\n",
    "OneVsOneClassifier o OneVsRestClassifier respectivamente. Debes crear una instancia del objeto\n",
    "pasando en la llamada un clasificador como en este código:"
   ],
   "id": "e67e28340dafd478"
  },
  {
   "metadata": {
    "ExecuteTime": {
     "end_time": "2025-03-14T13:16:43.908379Z",
     "start_time": "2025-03-14T13:13:15.757628Z"
    }
   },
   "cell_type": "code",
   "source": [
    "from sklearn.multiclass import OneVsRestClassifier\n",
    "ovo = OneVsRestClassifier(SGDClassifier(random_state=123))\n",
    "ovo.fit(X_train.values, y_train) # .values para que no salte warning\n",
    "print(\"SGD: Prediccion de un digito 2:\", ovo.predict([un_digito]))\n",
    "print(\"SGD: Longitud de los estimadores\", len(ovo.estimators_))\n",
    "# Entrenar bosque aleatorio mas sencillo por soporte a multiclase\n",
    "rfc.fit(X_train.values, y_train)\n",
    "print(\"Random Forest: Predicción de un digito 2\", rfc.predict([un_digito]))\n",
    "print(\"Random Forest: Probabilidades predichas del digito\", rfc.predict_proba([un_digito]))"
   ],
   "id": "c213d6d0a1e2a485",
   "outputs": [
    {
     "name": "stdout",
     "output_type": "stream",
     "text": [
      "SGD: Prediccion de un digito 2: [2]\n",
      "SGD: Longitud de los estimadores 10\n",
      "Random Forest: Predicción de un digito 2 [2]\n",
      "Random Forest: Probabilidades predichas del digito [[0.02 0.   0.9  0.02 0.02 0.   0.   0.01 0.02 0.01]]\n"
     ]
    }
   ],
   "execution_count": 26
  },
  {
   "metadata": {},
   "cell_type": "markdown",
   "source": [
    "c)\n",
    " ¿Cuántos modelos se han entrenado en ovo? ¿Cuántos en\n",
    "línea 150? ¿Si lo hiciésemos con\n",
    "rfc\n",
    " ¿Cuál sería el resultado? <br><br>\n",
    " rfc\n",
    " ? ¿Cuál es el resultado de la\n",
    "d)\n",
    " En el resultado de ejecutar la línea 154 ¿Qué probabilidad da a que el ejemplo sea un 2?\n",
    "¿Cuál es la siguiente probabilidad más alta? ¿De qué clase se trata?"
   ],
   "id": "85f439061f5e55a4"
  },
  {
   "metadata": {},
   "cell_type": "markdown",
   "source": [
    " Si queremos evaluar varios modelos lo normal será usar validación cruzada usando\n",
    "cross_val_score(). Y si aplicas preproceso de datos cabe la posibilidad de que mejores la métrica.\n",
    "Escalaremos los datos de train a ver si mejoramos la métrica."
   ],
   "id": "4df64f1304e431ed"
  },
  {
   "metadata": {
    "ExecuteTime": {
     "end_time": "2025-03-14T13:33:19.225934Z",
     "start_time": "2025-03-14T13:16:44.067541Z"
    }
   },
   "cell_type": "code",
   "source": [
    "cv1 = cross_val_score(sgd, X_train.values, y_train, cv=3, scoring=\"accuracy\")\n",
    "print(\"SGD Accuracy de 3-fold CV:\", cv1, f\"media: {cv1.mean():.4f}%\")\n",
    "\n",
    "from sklearn.preprocessing import StandardScaler\n",
    "escalador = StandardScaler(\n",
    "\n",
    "X_train_escalador = escalador.fit_transform(X_train.astype(np.float64))\n",
    "cv2 = cross_val_score(sgd, X_train_escalador, y_train, cv=3, scoring=\"accuracy\")\n",
    "print(\"SGD: Accuracy de 3-folds CV tras escalar: \",cv2, f\"media: {cv2.mean():.4f}%\")"
   ],
   "id": "ff579ad7b8699f5e",
   "outputs": [
    {
     "name": "stdout",
     "output_type": "stream",
     "text": [
      "SGD Accuracy de 3-fold CV: [0.89090476 0.86861905 0.87095238] media: 0.8768%\n"
     ]
    },
    {
     "name": "stderr",
     "output_type": "stream",
     "text": [
      "C:\\Users\\ESP\\Desktop\\MachineLearning\\saa\\Lib\\site-packages\\sklearn\\linear_model\\_stochastic_gradient.py:744: ConvergenceWarning: Maximum number of iteration reached before convergence. Consider increasing max_iter to improve the fit.\n",
      "  warnings.warn(\n"
     ]
    },
    {
     "name": "stdout",
     "output_type": "stream",
     "text": [
      "SGD: Accuracy de 3-folds CV tras escalar:  [0.89933333 0.90495238 0.90314286] media: 0.9025%\n"
     ]
    },
    {
     "name": "stderr",
     "output_type": "stream",
     "text": [
      "C:\\Users\\ESP\\Desktop\\MachineLearning\\saa\\Lib\\site-packages\\sklearn\\linear_model\\_stochastic_gradient.py:744: ConvergenceWarning: Maximum number of iteration reached before convergence. Consider increasing max_iter to improve the fit.\n",
      "  warnings.warn(\n"
     ]
    }
   ],
   "execution_count": 27
  },
  {
   "metadata": {},
   "cell_type": "markdown",
   "source": [
    "e)\n",
    " ¿Cuáles son los valores de cv1 y cv2 y la media? ¿Qué mejora, si la hay,  del % medio hay al\n",
    "escalar"
   ],
   "id": "dba915f42f28dc39"
  },
  {
   "metadata": {},
   "cell_type": "markdown",
   "source": [
    "## PASO 7: ANÁLISIS DE ERROR\n",
    " En un proyecto real además de habríamos realizado análisis exploratorio de datos, ingeniería de\n",
    "características y localizado el mejor modelo con la mejor configuración de manera automatizada con\n",
    "GridSearchCV(). Si lo hemos realizado y ya tenemos un modelo prometedor, nos falta saber si\n",
    "generaliza bien. Vamos a comprobar que cantidad y tipos de error comete al realizar su trabajo a\n",
    "través de la matriz de confusión con la función cross_val_predict() y luego confusion_matrix().\n",
    "Para ver una representación visual de la matriz de confusión vamos a utilizar matplotlib.matshow() o\n",
    "hacer un mapa de calor."
   ],
   "id": "c760d57f8e125da"
  },
  {
   "metadata": {
    "ExecuteTime": {
     "end_time": "2025-03-14T13:33:49.899843Z",
     "start_time": "2025-03-14T13:33:19.349633Z"
    }
   },
   "cell_type": "code",
   "source": [
    "x_test_escalado = escalador.transform(X_test.values)\n",
    "y_test_pred = cross_val_predict(sgd, x_test_escalado, y_test, cv=3)\n",
    "mc = confusion_matrix(y_test, y_test_pred)\n",
    "print(\"Matriz de confusion de SGD:\\B\", mc)"
   ],
   "id": "f8dc540580d94473",
   "outputs": [
    {
     "name": "stderr",
     "output_type": "stream",
     "text": [
      "<>:4: SyntaxWarning: invalid escape sequence '\\B'\n",
      "<>:4: SyntaxWarning: invalid escape sequence '\\B'\n",
      "C:\\Users\\ESP\\AppData\\Local\\Temp\\ipykernel_14076\\3282694992.py:4: SyntaxWarning: invalid escape sequence '\\B'\n",
      "  print(\"Matriz de confusion de SGD:\\B\", mc)\n",
      "C:\\Users\\ESP\\Desktop\\MachineLearning\\saa\\Lib\\site-packages\\sklearn\\base.py:493: UserWarning: X does not have valid feature names, but StandardScaler was fitted with feature names\n",
      "  warnings.warn(\n"
     ]
    },
    {
     "name": "stdout",
     "output_type": "stream",
     "text": [
      "Matriz de confusion de SGD:\\B [[650   0   3   1   2  13   7   0  12   2]\n",
      " [  0 745   5   3   0   7   0   3  24   1]\n",
      " [  7   6 599  17  10   3  15   7  30   5]\n",
      " [  3   4  19 608   0  31   5   4  23  17]\n",
      " [  3   3   5   1 618   1   2   4  14  31]\n",
      " [  6   3   1  31   6 525  10   5  36   8]\n",
      " [  9   3   8   0   7  13 639   0   8   1]\n",
      " [  4   2  14   9  11   1   0 651   6  31]\n",
      " [  6  12  13  14   3  26   4   3 594   8]\n",
      " [  8   2   4   8  27   5   0  29  19 594]]\n"
     ]
    }
   ],
   "execution_count": 28
  },
  {
   "metadata": {},
   "cell_type": "markdown",
   "source": [
    " La diagonal parece que tiene los valores más altos, lo que es buena señal. Podemos dividir la cantidad\n",
    "de errores entre el número de ocurrencias de la cada característica por si el conjunto no estuviese\n",
    "balanceado y así visualmente detectar clases concretas donde hay problemas. La diagonal de la matriz\n",
    "normalizada la ponemos a 0.\n"
   ],
   "id": "13965050b4c57f1d"
  },
  {
   "metadata": {
    "ExecuteTime": {
     "end_time": "2025-03-14T14:11:04.377519Z",
     "start_time": "2025-03-14T14:11:04.051801Z"
    }
   },
   "cell_type": "code",
   "source": [
    "suma_filas = mc.sum(axis=1, keepdims=True)\n",
    "mc_normalizada = mc / suma_filas\n",
    "np.fill_diagonal(mc_normalizada, 0)\n",
    "plt.matshow(mc_normalizada, cmap=plt.cm.gray)\n",
    "plt.show()"
   ],
   "id": "f62169c528f6a80b",
   "outputs": [
    {
     "data": {
      "text/plain": [
       "<Figure size 480x480 with 1 Axes>"
      ],
      "image/png": "[encoded data removed]"
     },
     "metadata": {},
     "output_type": "display_data"
    }
   ],
   "execution_count": 30
  }
 ],
 "metadata": {
  "kernelspec": {
   "display_name": "Python 3",
   "language": "python",
   "name": "python3"
  },
  "language_info": {
   "codemirror_mode": {
    "name": "ipython",
    "version": 2
   },
   "file_extension": ".py",
   "mimetype": "text/x-python",
   "name": "python",
   "nbconvert_exporter": "python",
   "pygments_lexer": "ipython2",
   "version": "2.7.6"
  }
 },
 "nbformat": 4,
 "nbformat_minor": 5
}
