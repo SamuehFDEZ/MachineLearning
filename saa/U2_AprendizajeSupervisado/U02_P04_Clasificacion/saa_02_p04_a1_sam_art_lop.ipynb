{
 "cells": [
  {
   "metadata": {},
   "cell_type": "markdown",
   "source": [
    "# ALGORITMOS DE CLASIFICACIÓN\n",
    "\n"
   ],
   "id": "d09bfb80acdf83c3"
  },
  {
   "metadata": {},
   "cell_type": "markdown",
   "source": [
    "## 📌ACTIVIDAD 1:  MNIST\n",
    " MNIST es un conjunto de pequeñas imágenes de dígitos escritos por estudiantes de institutos y\n",
    "empleados del censo de USA. Cada imagen está etiquetada con el dígito que representa. Crea el\n",
    "notebook saa_02_p04_a1_<tus_iniciales>.ipynb donde realizar esta actividad.<br><br>\n",
    " Nota: recuerda que los datasets cargados por scikit-Learn tienen estructura de diccionario\n",
    "incluyendo entre otras las claves:<br><br>\n",
    " • DESCR: descripción del dataset.<br>\n",
    " • data: DataFrame de pandas con una fila por instancia o ejemplo de datos y una\n",
    "columna por cada característica.<br>\n",
    " • target: un array con los labels de cada instancia.<br><br>\n",
    " Comprobamos la cantidad de datos y separamos predictoras y target"
   ],
   "id": "53669ba7ae291dc6"
  },
  {
   "cell_type": "code",
   "id": "initial_id",
   "metadata": {
    "collapsed": true,
    "ExecuteTime": {
     "end_time": "2025-03-13T17:19:14.919752Z",
     "start_time": "2025-03-13T17:18:50.261241Z"
    }
   },
   "source": [
    "from sklearn.datasets import fetch_openml\n",
    "\n",
    "mnist = fetch_openml('mnist_784', version=1)\n",
    "print(\"Claves de mnist: \", mnist.keys())\n",
    "\n",
    "X, y = mnist[\"data\"], mnist[\"target\"]\n",
    "print(\"Dimensiones de X:\", X.shape)"
   ],
   "outputs": [
    {
     "name": "stdout",
     "output_type": "stream",
     "text": [
      "Claves de mnist:  dict_keys(['data', 'target', 'frame', 'categories', 'feature_names', 'target_names', 'DESCR', 'details', 'url'])\n",
      "Dimensiones de X: (70000, 784)\n"
     ]
    }
   ],
   "execution_count": 1
  },
  {
   "metadata": {},
   "cell_type": "markdown",
   "source": [
    "## PASO 1: PREPARAR LOS DATOS.\n",
    "Tiene imágenes cada una con 784 características porque son de tamaño 28×28 pixels y cada pixel\n",
    "representa la intensidad de luz (0 blanco a 255 el negro). Tiene aproximadamente la misma cantidad\n",
    "de ejemplos para cada dígito (0, 1, …, 9). Para dibujar una de ellos lo único que tienes que hacer es\n",
    "extraer una instancia, cambiarle la estructura a 28×28 y usar la función imshow() de matplotlib:"
   ],
   "id": "d155545b758f9f0e"
  },
  {
   "metadata": {
    "ExecuteTime": {
     "end_time": "2025-03-13T17:19:17.672501Z",
     "start_time": "2025-03-13T17:19:15.023895Z"
    }
   },
   "cell_type": "code",
   "source": [
    "import matplotlib as mpl\n",
    "import matplotlib.pyplot as plt\n",
    "\n",
    "un_digito = X.iloc[0].to_numpy()\n",
    "imagen_un_digito = un_digito.reshape(28, 28)\n",
    "\n",
    "plt.imshow(imagen_un_digito, cmap=mpl.cm.binary, interpolation=\"nearest\")\n",
    "plt.axis(\"off\")\n",
    "plt.show()\n"
   ],
   "id": "a48c10d02f1ae88",
   "outputs": [
    {
     "data": {
      "text/plain": [
       "<Figure size 640x480 with 1 Axes>"
      ],
      "image/png": "[encoded data removed]"
     },
     "metadata": {},
     "output_type": "display_data"
    }
   ],
   "execution_count": 2
  },
  {
   "metadata": {},
   "cell_type": "markdown",
   "source": [
    "Vamos a entrenar modelos de clasificación binaria que aprendan a identificar los números 2 del resto.\n",
    "Primero vamos a cambiar el tipo de datos del target porque nos interesa que sean numéricos 0 (si no es\n",
    "un 2 y 1 cuando sea la imagen de un dígito 2). Además vamos a generar el dataset de train y test, y\n",
    "luego lo vamos a adaptar para que nos sirva para entrenar el clasificador del 2. El tamaño del test lo\n",
    "dejamos al 1% porque hay bastantes instancias:\n"
   ],
   "id": "885b608db1a2446c"
  },
  {
   "metadata": {
    "ExecuteTime": {
     "end_time": "2025-03-13T17:19:21.697549Z",
     "start_time": "2025-03-13T17:19:18.814593Z"
    }
   },
   "cell_type": "code",
   "source": [
    "import numpy as np\n",
    "from sklearn.model_selection import train_test_split\n",
    "\n",
    "y = y.iloc[:].to_numpy()\n",
    "y = y.astype(np.uint8)\n",
    "\n",
    "print(\"Nuevo tipo de y[0]:\", type(y[0]))\n",
    "\n",
    "X_train, X_test, y_train, y_test = train_test_split(X, y, test_size=0.1, stratify=y, random_state=123)\n",
    "\n",
    "y_train_2 = (y_train == 2)\n",
    "y_test_2 = (y_test == 2)  # True para todas las instancias que sean del dígito 2\n"
   ],
   "id": "ed50d81d9f9ff62b",
   "outputs": [
    {
     "name": "stdout",
     "output_type": "stream",
     "text": [
      "Nuevo tipo de y[0]: <class 'numpy.uint8'>\n"
     ]
    }
   ],
   "execution_count": 3
  },
  {
   "metadata": {},
   "cell_type": "markdown",
   "source": [
    "### ENTREGAR:\n",
    " a) Modifica el código para que en la variable\n",
    "un_digito\n",
    " quede cargada la primera instancia que\n",
    "sea un 2.<br><br>\n",
    " b)\n",
    "Cuando particiones los datos y realices otras operaciones aleatorias utiliza una semilla\n",
    "aleatoria que coincida con la longitud de tu nombre concatenada a la de tu primer apellido y\n",
    "concatenada a la de tu segundo apellido. En mi caso sería el valor 449 porque \"Jose\"=4,\n",
    "\"Rosa\"=4 y \"=9.<br><br>\n",
    " c) Indica cuantas instancias tenemos para entrenar y cuantas para testear."
   ],
   "id": "16705d151affab7a"
  },
  {
   "metadata": {
    "ExecuteTime": {
     "end_time": "2025-03-13T17:19:24.910302Z",
     "start_time": "2025-03-13T17:19:22.088283Z"
    }
   },
   "cell_type": "code",
   "source": [
    "# a) Encontrar la primera instancia que sea un 2\n",
    "dice_dos = np.where(y == 2)[0][0]  # Encuentra el primer índice donde y es 2\n",
    "un_digito = X.iloc[dice_dos].to_numpy()\n",
    "imagen_un_digito = un_digito.reshape(28, 28)\n",
    "\n",
    "# Mostrar la imagen del primer dígito 2\n",
    "plt.imshow(imagen_un_digito, cmap=mpl.cm.binary, interpolation=\"nearest\")\n",
    "plt.axis(\"off\")\n",
    "plt.show()\n",
    "\n",
    "# b) Usar una semilla aleatoria personalizada\n",
    "semilla_aleatoria = int(\"675\")  # Modifica este valor según la  ongitud de tu nombre completo\n",
    "\n",
    "X_train, X_test, y_train, y_test = train_test_split(X, y, test_size=0.1, stratify=y, random_state=semilla_aleatoria)\n",
    "\n",
    "# c) Imprimir cantidad de instancias para entrenamiento y testeo\n",
    "print(f\"Instancias de entrenamiento: {X_train.shape[0]}\")\n",
    "print(f\"Instancias de testeo: {X_test.shape[0]}\")"
   ],
   "id": "b94d093100286dfd",
   "outputs": [
    {
     "data": {
      "text/plain": [
       "<Figure size 640x480 with 1 Axes>"
      ],
      "image/png": "[encoded data removed]"
     },
     "metadata": {},
     "output_type": "display_data"
    },
    {
     "name": "stdout",
     "output_type": "stream",
     "text": [
      "Instancias de entrenamiento: 63000\n",
      "Instancias de testeo: 7000\n"
     ]
    }
   ],
   "execution_count": 4
  },
  {
   "metadata": {},
   "cell_type": "markdown",
   "source": [
    " ## PASO 2: ENTRENAR UN MODELO QUE IDENTIFIQUE EL DÍGITO 2\n",
    " Para identificar el número 2 del resto, necesitamos un clasificador binario (2 clases en las que clasificar\n",
    "una instancia). Usamos uno que use Descenso por Gradiente Estocástico (SGDClassifier) que es\n",
    "escalable (rápido con muchas filas o instancias) y apto para on-line al ir aprendiendo instancia a\n",
    "instancia de manera independiente."
   ],
   "id": "7cbc3b6b33ff3b1a"
  },
  {
   "metadata": {
    "ExecuteTime": {
     "end_time": "2025-03-13T17:20:21.311279Z",
     "start_time": "2025-03-13T17:19:25.019468Z"
    }
   },
   "cell_type": "code",
   "source": [
    "from sklearn.linear_model import SGDClassifier\n",
    "sgd = SGDClassifier(random_state=123)\n",
    "sgd.fit(X_train, y_train_2)"
   ],
   "id": "95bef306c8639b2e",
   "outputs": [
    {
     "data": {
      "text/plain": [
       "SGDClassifier(random_state=123)"
      ],
      "text/html": [
       "<style>#sk-container-id-1 {\n",
       "  /* Definition of color scheme common for light and dark mode */\n",
       "  --sklearn-color-text: black;\n",
       "  --sklearn-color-line: gray;\n",
       "  /* Definition of color scheme for unfitted estimators */\n",
       "  --sklearn-color-unfitted-level-0: #fff5e6;\n",
       "  --sklearn-color-unfitted-level-1: #f6e4d2;\n",
       "  --sklearn-color-unfitted-level-2: #ffe0b3;\n",
       "  --sklearn-color-unfitted-level-3: chocolate;\n",
       "  /* Definition of color scheme for fitted estimators */\n",
       "  --sklearn-color-fitted-level-0: #f0f8ff;\n",
       "  --sklearn-color-fitted-level-1: #d4ebff;\n",
       "  --sklearn-color-fitted-level-2: #b3dbfd;\n",
       "  --sklearn-color-fitted-level-3: cornflowerblue;\n",
       "\n",
       "  /* Specific color for light theme */\n",
       "  --sklearn-color-text-on-default-background: var(--sg-text-color, var(--theme-code-foreground, var(--jp-content-font-color1, black)));\n",
       "  --sklearn-color-background: var(--sg-background-color, var(--theme-background, var(--jp-layout-color0, white)));\n",
       "  --sklearn-color-border-box: var(--sg-text-color, var(--theme-code-foreground, var(--jp-content-font-color1, black)));\n",
       "  --sklearn-color-icon: #696969;\n",
       "\n",
       "  @media (prefers-color-scheme: dark) {\n",
       "    /* Redefinition of color scheme for dark theme */\n",
       "    --sklearn-color-text-on-default-background: var(--sg-text-color, var(--theme-code-foreground, var(--jp-content-font-color1, white)));\n",
       "    --sklearn-color-background: var(--sg-background-color, var(--theme-background, var(--jp-layout-color0, #111)));\n",
       "    --sklearn-color-border-box: var(--sg-text-color, var(--theme-code-foreground, var(--jp-content-font-color1, white)));\n",
       "    --sklearn-color-icon: #878787;\n",
       "  }\n",
       "}\n",
       "\n",
       "#sk-container-id-1 {\n",
       "  color: var(--sklearn-color-text);\n",
       "}\n",
       "\n",
       "#sk-container-id-1 pre {\n",
       "  padding: 0;\n",
       "}\n",
       "\n",
       "#sk-container-id-1 input.sk-hidden--visually {\n",
       "  border: 0;\n",
       "  clip: rect(1px 1px 1px 1px);\n",
       "  clip: rect(1px, 1px, 1px, 1px);\n",
       "  height: 1px;\n",
       "  margin: -1px;\n",
       "  overflow: hidden;\n",
       "  padding: 0;\n",
       "  position: absolute;\n",
       "  width: 1px;\n",
       "}\n",
       "\n",
       "#sk-container-id-1 div.sk-dashed-wrapped {\n",
       "  border: 1px dashed var(--sklearn-color-line);\n",
       "  margin: 0 0.4em 0.5em 0.4em;\n",
       "  box-sizing: border-box;\n",
       "  padding-bottom: 0.4em;\n",
       "  background-color: var(--sklearn-color-background);\n",
       "}\n",
       "\n",
       "#sk-container-id-1 div.sk-container {\n",
       "  /* jupyter's `normalize.less` sets `[hidden] { display: none; }`\n",
       "     but bootstrap.min.css set `[hidden] { display: none !important; }`\n",
       "     so we also need the `!important` here to be able to override the\n",
       "     default hidden behavior on the sphinx rendered scikit-learn.org.\n",
       "     See: https://github.com/scikit-learn/scikit-learn/issues/21755 */\n",
       "  display: inline-block !important;\n",
       "  position: relative;\n",
       "}\n",
       "\n",
       "#sk-container-id-1 div.sk-text-repr-fallback {\n",
       "  display: none;\n",
       "}\n",
       "\n",
       "div.sk-parallel-item,\n",
       "div.sk-serial,\n",
       "div.sk-item {\n",
       "  /* draw centered vertical line to link estimators */\n",
       "  background-image: linear-gradient(var(--sklearn-color-text-on-default-background), var(--sklearn-color-text-on-default-background));\n",
       "  background-size: 2px 100%;\n",
       "  background-repeat: no-repeat;\n",
       "  background-position: center center;\n",
       "}\n",
       "\n",
       "/* Parallel-specific style estimator block */\n",
       "\n",
       "#sk-container-id-1 div.sk-parallel-item::after {\n",
       "  content: \"\";\n",
       "  width: 100%;\n",
       "  border-bottom: 2px solid var(--sklearn-color-text-on-default-background);\n",
       "  flex-grow: 1;\n",
       "}\n",
       "\n",
       "#sk-container-id-1 div.sk-parallel {\n",
       "  display: flex;\n",
       "  align-items: stretch;\n",
       "  justify-content: center;\n",
       "  background-color: var(--sklearn-color-background);\n",
       "  position: relative;\n",
       "}\n",
       "\n",
       "#sk-container-id-1 div.sk-parallel-item {\n",
       "  display: flex;\n",
       "  flex-direction: column;\n",
       "}\n",
       "\n",
       "#sk-container-id-1 div.sk-parallel-item:first-child::after {\n",
       "  align-self: flex-end;\n",
       "  width: 50%;\n",
       "}\n",
       "\n",
       "#sk-container-id-1 div.sk-parallel-item:last-child::after {\n",
       "  align-self: flex-start;\n",
       "  width: 50%;\n",
       "}\n",
       "\n",
       "#sk-container-id-1 div.sk-parallel-item:only-child::after {\n",
       "  width: 0;\n",
       "}\n",
       "\n",
       "/* Serial-specific style estimator block */\n",
       "\n",
       "#sk-container-id-1 div.sk-serial {\n",
       "  display: flex;\n",
       "  flex-direction: column;\n",
       "  align-items: center;\n",
       "  background-color: var(--sklearn-color-background);\n",
       "  padding-right: 1em;\n",
       "  padding-left: 1em;\n",
       "}\n",
       "\n",
       "\n",
       "/* Toggleable style: style used for estimator/Pipeline/ColumnTransformer box that is\n",
       "clickable and can be expanded/collapsed.\n",
       "- Pipeline and ColumnTransformer use this feature and define the default style\n",
       "- Estimators will overwrite some part of the style using the `sk-estimator` class\n",
       "*/\n",
       "\n",
       "/* Pipeline and ColumnTransformer style (default) */\n",
       "\n",
       "#sk-container-id-1 div.sk-toggleable {\n",
       "  /* Default theme specific background. It is overwritten whether we have a\n",
       "  specific estimator or a Pipeline/ColumnTransformer */\n",
       "  background-color: var(--sklearn-color-background);\n",
       "}\n",
       "\n",
       "/* Toggleable label */\n",
       "#sk-container-id-1 label.sk-toggleable__label {\n",
       "  cursor: pointer;\n",
       "  display: block;\n",
       "  width: 100%;\n",
       "  margin-bottom: 0;\n",
       "  padding: 0.5em;\n",
       "  box-sizing: border-box;\n",
       "  text-align: center;\n",
       "}\n",
       "\n",
       "#sk-container-id-1 label.sk-toggleable__label-arrow:before {\n",
       "  /* Arrow on the left of the label */\n",
       "  content: \"▸\";\n",
       "  float: left;\n",
       "  margin-right: 0.25em;\n",
       "  color: var(--sklearn-color-icon);\n",
       "}\n",
       "\n",
       "#sk-container-id-1 label.sk-toggleable__label-arrow:hover:before {\n",
       "  color: var(--sklearn-color-text);\n",
       "}\n",
       "\n",
       "/* Toggleable content - dropdown */\n",
       "\n",
       "#sk-container-id-1 div.sk-toggleable__content {\n",
       "  max-height: 0;\n",
       "  max-width: 0;\n",
       "  overflow: hidden;\n",
       "  text-align: left;\n",
       "  /* unfitted */\n",
       "  background-color: var(--sklearn-color-unfitted-level-0);\n",
       "}\n",
       "\n",
       "#sk-container-id-1 div.sk-toggleable__content.fitted {\n",
       "  /* fitted */\n",
       "  background-color: var(--sklearn-color-fitted-level-0);\n",
       "}\n",
       "\n",
       "#sk-container-id-1 div.sk-toggleable__content pre {\n",
       "  margin: 0.2em;\n",
       "  border-radius: 0.25em;\n",
       "  color: var(--sklearn-color-text);\n",
       "  /* unfitted */\n",
       "  background-color: var(--sklearn-color-unfitted-level-0);\n",
       "}\n",
       "\n",
       "#sk-container-id-1 div.sk-toggleable__content.fitted pre {\n",
       "  /* unfitted */\n",
       "  background-color: var(--sklearn-color-fitted-level-0);\n",
       "}\n",
       "\n",
       "#sk-container-id-1 input.sk-toggleable__control:checked~div.sk-toggleable__content {\n",
       "  /* Expand drop-down */\n",
       "  max-height: 200px;\n",
       "  max-width: 100%;\n",
       "  overflow: auto;\n",
       "}\n",
       "\n",
       "#sk-container-id-1 input.sk-toggleable__control:checked~label.sk-toggleable__label-arrow:before {\n",
       "  content: \"▾\";\n",
       "}\n",
       "\n",
       "/* Pipeline/ColumnTransformer-specific style */\n",
       "\n",
       "#sk-container-id-1 div.sk-label input.sk-toggleable__control:checked~label.sk-toggleable__label {\n",
       "  color: var(--sklearn-color-text);\n",
       "  background-color: var(--sklearn-color-unfitted-level-2);\n",
       "}\n",
       "\n",
       "#sk-container-id-1 div.sk-label.fitted input.sk-toggleable__control:checked~label.sk-toggleable__label {\n",
       "  background-color: var(--sklearn-color-fitted-level-2);\n",
       "}\n",
       "\n",
       "/* Estimator-specific style */\n",
       "\n",
       "/* Colorize estimator box */\n",
       "#sk-container-id-1 div.sk-estimator input.sk-toggleable__control:checked~label.sk-toggleable__label {\n",
       "  /* unfitted */\n",
       "  background-color: var(--sklearn-color-unfitted-level-2);\n",
       "}\n",
       "\n",
       "#sk-container-id-1 div.sk-estimator.fitted input.sk-toggleable__control:checked~label.sk-toggleable__label {\n",
       "  /* fitted */\n",
       "  background-color: var(--sklearn-color-fitted-level-2);\n",
       "}\n",
       "\n",
       "#sk-container-id-1 div.sk-label label.sk-toggleable__label,\n",
       "#sk-container-id-1 div.sk-label label {\n",
       "  /* The background is the default theme color */\n",
       "  color: var(--sklearn-color-text-on-default-background);\n",
       "}\n",
       "\n",
       "/* On hover, darken the color of the background */\n",
       "#sk-container-id-1 div.sk-label:hover label.sk-toggleable__label {\n",
       "  color: var(--sklearn-color-text);\n",
       "  background-color: var(--sklearn-color-unfitted-level-2);\n",
       "}\n",
       "\n",
       "/* Label box, darken color on hover, fitted */\n",
       "#sk-container-id-1 div.sk-label.fitted:hover label.sk-toggleable__label.fitted {\n",
       "  color: var(--sklearn-color-text);\n",
       "  background-color: var(--sklearn-color-fitted-level-2);\n",
       "}\n",
       "\n",
       "/* Estimator label */\n",
       "\n",
       "#sk-container-id-1 div.sk-label label {\n",
       "  font-family: monospace;\n",
       "  font-weight: bold;\n",
       "  display: inline-block;\n",
       "  line-height: 1.2em;\n",
       "}\n",
       "\n",
       "#sk-container-id-1 div.sk-label-container {\n",
       "  text-align: center;\n",
       "}\n",
       "\n",
       "/* Estimator-specific */\n",
       "#sk-container-id-1 div.sk-estimator {\n",
       "  font-family: monospace;\n",
       "  border: 1px dotted var(--sklearn-color-border-box);\n",
       "  border-radius: 0.25em;\n",
       "  box-sizing: border-box;\n",
       "  margin-bottom: 0.5em;\n",
       "  /* unfitted */\n",
       "  background-color: var(--sklearn-color-unfitted-level-0);\n",
       "}\n",
       "\n",
       "#sk-container-id-1 div.sk-estimator.fitted {\n",
       "  /* fitted */\n",
       "  background-color: var(--sklearn-color-fitted-level-0);\n",
       "}\n",
       "\n",
       "/* on hover */\n",
       "#sk-container-id-1 div.sk-estimator:hover {\n",
       "  /* unfitted */\n",
       "  background-color: var(--sklearn-color-unfitted-level-2);\n",
       "}\n",
       "\n",
       "#sk-container-id-1 div.sk-estimator.fitted:hover {\n",
       "  /* fitted */\n",
       "  background-color: var(--sklearn-color-fitted-level-2);\n",
       "}\n",
       "\n",
       "/* Specification for estimator info (e.g. \"i\" and \"?\") */\n",
       "\n",
       "/* Common style for \"i\" and \"?\" */\n",
       "\n",
       ".sk-estimator-doc-link,\n",
       "a:link.sk-estimator-doc-link,\n",
       "a:visited.sk-estimator-doc-link {\n",
       "  float: right;\n",
       "  font-size: smaller;\n",
       "  line-height: 1em;\n",
       "  font-family: monospace;\n",
       "  background-color: var(--sklearn-color-background);\n",
       "  border-radius: 1em;\n",
       "  height: 1em;\n",
       "  width: 1em;\n",
       "  text-decoration: none !important;\n",
       "  margin-left: 1ex;\n",
       "  /* unfitted */\n",
       "  border: var(--sklearn-color-unfitted-level-1) 1pt solid;\n",
       "  color: var(--sklearn-color-unfitted-level-1);\n",
       "}\n",
       "\n",
       ".sk-estimator-doc-link.fitted,\n",
       "a:link.sk-estimator-doc-link.fitted,\n",
       "a:visited.sk-estimator-doc-link.fitted {\n",
       "  /* fitted */\n",
       "  border: var(--sklearn-color-fitted-level-1) 1pt solid;\n",
       "  color: var(--sklearn-color-fitted-level-1);\n",
       "}\n",
       "\n",
       "/* On hover */\n",
       "div.sk-estimator:hover .sk-estimator-doc-link:hover,\n",
       ".sk-estimator-doc-link:hover,\n",
       "div.sk-label-container:hover .sk-estimator-doc-link:hover,\n",
       ".sk-estimator-doc-link:hover {\n",
       "  /* unfitted */\n",
       "  background-color: var(--sklearn-color-unfitted-level-3);\n",
       "  color: var(--sklearn-color-background);\n",
       "  text-decoration: none;\n",
       "}\n",
       "\n",
       "div.sk-estimator.fitted:hover .sk-estimator-doc-link.fitted:hover,\n",
       ".sk-estimator-doc-link.fitted:hover,\n",
       "div.sk-label-container:hover .sk-estimator-doc-link.fitted:hover,\n",
       ".sk-estimator-doc-link.fitted:hover {\n",
       "  /* fitted */\n",
       "  background-color: var(--sklearn-color-fitted-level-3);\n",
       "  color: var(--sklearn-color-background);\n",
       "  text-decoration: none;\n",
       "}\n",
       "\n",
       "/* Span, style for the box shown on hovering the info icon */\n",
       ".sk-estimator-doc-link span {\n",
       "  display: none;\n",
       "  z-index: 9999;\n",
       "  position: relative;\n",
       "  font-weight: normal;\n",
       "  right: .2ex;\n",
       "  padding: .5ex;\n",
       "  margin: .5ex;\n",
       "  width: min-content;\n",
       "  min-width: 20ex;\n",
       "  max-width: 50ex;\n",
       "  color: var(--sklearn-color-text);\n",
       "  box-shadow: 2pt 2pt 4pt #999;\n",
       "  /* unfitted */\n",
       "  background: var(--sklearn-color-unfitted-level-0);\n",
       "  border: .5pt solid var(--sklearn-color-unfitted-level-3);\n",
       "}\n",
       "\n",
       ".sk-estimator-doc-link.fitted span {\n",
       "  /* fitted */\n",
       "  background: var(--sklearn-color-fitted-level-0);\n",
       "  border: var(--sklearn-color-fitted-level-3);\n",
       "}\n",
       "\n",
       ".sk-estimator-doc-link:hover span {\n",
       "  display: block;\n",
       "}\n",
       "\n",
       "/* \"?\"-specific style due to the `<a>` HTML tag */\n",
       "\n",
       "#sk-container-id-1 a.estimator_doc_link {\n",
       "  float: right;\n",
       "  font-size: 1rem;\n",
       "  line-height: 1em;\n",
       "  font-family: monospace;\n",
       "  background-color: var(--sklearn-color-background);\n",
       "  border-radius: 1rem;\n",
       "  height: 1rem;\n",
       "  width: 1rem;\n",
       "  text-decoration: none;\n",
       "  /* unfitted */\n",
       "  color: var(--sklearn-color-unfitted-level-1);\n",
       "  border: var(--sklearn-color-unfitted-level-1) 1pt solid;\n",
       "}\n",
       "\n",
       "#sk-container-id-1 a.estimator_doc_link.fitted {\n",
       "  /* fitted */\n",
       "  border: var(--sklearn-color-fitted-level-1) 1pt solid;\n",
       "  color: var(--sklearn-color-fitted-level-1);\n",
       "}\n",
       "\n",
       "/* On hover */\n",
       "#sk-container-id-1 a.estimator_doc_link:hover {\n",
       "  /* unfitted */\n",
       "  background-color: var(--sklearn-color-unfitted-level-3);\n",
       "  color: var(--sklearn-color-background);\n",
       "  text-decoration: none;\n",
       "}\n",
       "\n",
       "#sk-container-id-1 a.estimator_doc_link.fitted:hover {\n",
       "  /* fitted */\n",
       "  background-color: var(--sklearn-color-fitted-level-3);\n",
       "}\n",
       "</style><div id=\"sk-container-id-1\" class=\"sk-top-container\"><div class=\"sk-text-repr-fallback\"><pre>SGDClassifier(random_state=123)</pre><b>In a Jupyter environment, please rerun this cell to show the HTML representation or trust the notebook. <br />On GitHub, the HTML representation is unable to render, please try loading this page with nbviewer.org.</b></div><div class=\"sk-container\" hidden><div class=\"sk-item\"><div class=\"sk-estimator fitted sk-toggleable\"><input class=\"sk-toggleable__control sk-hidden--visually\" id=\"sk-estimator-id-1\" type=\"checkbox\" checked><label for=\"sk-estimator-id-1\" class=\"sk-toggleable__label fitted sk-toggleable__label-arrow fitted\">&nbsp;&nbsp;SGDClassifier<a class=\"sk-estimator-doc-link fitted\" rel=\"noreferrer\" target=\"_blank\" href=\"https://scikit-learn.org/1.5/modules/generated/sklearn.linear_model.SGDClassifier.html\">?<span>Documentation for SGDClassifier</span></a><span class=\"sk-estimator-doc-link fitted\">i<span>Fitted</span></span></label><div class=\"sk-toggleable__content fitted\"><pre>SGDClassifier(random_state=123)</pre></div> </div></div></div></div>"
      ]
     },
     "execution_count": 5,
     "metadata": {},
     "output_type": "execute_result"
    }
   ],
   "execution_count": 5
  },
  {
   "metadata": {},
   "cell_type": "markdown",
   "source": [
    " Para comprobar si se ha entrenado bien podemos probar la predicción que hace con algún ejemplo\n",
    "que conozcamos como por ejemplo el que tenemos en un_digito:"
   ],
   "id": "8c567a91f5d781bb"
  },
  {
   "metadata": {
    "ExecuteTime": {
     "end_time": "2025-03-13T17:20:21.622301Z",
     "start_time": "2025-03-13T17:20:21.546306Z"
    }
   },
   "cell_type": "code",
   "source": "print(\"Predice un 2?:\", sgd.predict([un_digito]))",
   "id": "feffd2ee54bd6036",
   "outputs": [
    {
     "name": "stdout",
     "output_type": "stream",
     "text": [
      "Predice un 2?: [ True]\n"
     ]
    },
    {
     "name": "stderr",
     "output_type": "stream",
     "text": [
      "C:\\Users\\ESP\\Desktop\\MachineLearning\\saa\\Lib\\site-packages\\sklearn\\base.py:493: UserWarning: X does not have valid feature names, but SGDClassifier was fitted with feature names\n",
      "  warnings.warn(\n"
     ]
    }
   ],
   "execution_count": 6
  },
  {
   "metadata": {},
   "cell_type": "markdown",
   "source": [
    "Pero lo ideal es medir lo bien que lo hace en muchos datos y además para que el resultado sea fiable\n",
    "esos datos no deben tener sesgos. Así que voy a obtener sus éxitos en varios conjuntos de datos\n",
    "usando validación cruzada de 3-Folds. <br><br>\n",
    " Usamos la función  cross_val_score() para validar el clasificador usando k-folds validación cruzada\n",
    "con un k de 3 (recuerda que la 3-folds validación cruzada divide el dataset train en 3 trozos y recorre\n",
    "todos los trozos validando en cada uno el modelo que entrena con el resto de trozos). Copia este\n",
    "código a continuación y completa los apartados que hay que entregar:"
   ],
   "id": "b59caaf0cea11785"
  },
  {
   "metadata": {
    "ExecuteTime": {
     "end_time": "2025-03-13T17:21:49.783017Z",
     "start_time": "2025-03-13T17:20:21.893716Z"
    }
   },
   "cell_type": "code",
   "source": [
    "from sklearn.model_selection import cross_val_score\n",
    "cvs = cross_val_score(sgd, X_train, y_train_2, cv=3, scoring=\"accuracy\")\n",
    "print(f\"SGD: Accuracy en 3-folds: {cvs} Media: {cvs.mean()*100:.4f}%\")"
   ],
   "id": "1b3f87130e15b93d",
   "outputs": [
    {
     "name": "stdout",
     "output_type": "stream",
     "text": [
      "SGD: Accuracy en 3-folds: [0.71971429 0.84214286 0.83190476] Media: 79.7921%\n"
     ]
    }
   ],
   "execution_count": 7
  },
  {
   "metadata": {},
   "cell_type": "markdown",
   "source": [
    " ### ENTREGAR:\n",
    " a)\n",
    " ¿Qué porcentaje de aciertos tiene el modelo cuando realiza predicciones? <br><br>\n",
    "b)\n",
    " Siendo un clasificador, ¿Si se acerca al 100% es un buen indicador de que ha aprendido bien?<br><br>\n",
    " c)\n",
    " Escribe el código del clasificador\n",
    "“Siempre Negativo”\n",
    " manera que hemos realizado con\n",
    " de abajo y comprueba de la misma\n",
    "SGDClassifier\n",
    " si hace su trabajo con éxito (ten en cuenta que\n",
    "no necesita entrenamiento, cuando le pregunten si es un 2 siempre va a responder que no) por\n",
    "tanto no lo entrenes, solo lo validas y compruebas sus porcentajes de éxitos con este\n",
    "comportamiento que es independiente de los datos con los que trabaje.\n"
   ],
   "id": "74f882f3a2870e10"
  },
  {
   "metadata": {
    "ExecuteTime": {
     "end_time": "2025-03-13T17:21:50.051812Z",
     "start_time": "2025-03-13T17:21:50.043647Z"
    }
   },
   "cell_type": "code",
   "source": [
    "from sklearn.base import BaseEstimator\n",
    "class DonVangall(BaseEstimator):\n",
    "    def fit(self, X, y=None):\n",
    "        pass\n",
    "    def predict(self, X):\n",
    "        return np.zeros((len(X),1), dtype=bool)"
   ],
   "id": "ded9fb7b0bc86229",
   "outputs": [],
   "execution_count": 8
  },
  {
   "metadata": {},
   "cell_type": "markdown",
   "source": [
    "d)\n",
    " A la vista de los resultados del apartado\n",
    "es bueno?"
   ],
   "id": "56a5591b1cf0fab7"
  },
  {
   "metadata": {},
   "cell_type": "markdown",
   "source": [
    "## PASO 3: VALIDAR EL MODELO CON LA MATRIZ DE CONFUSIÓN.\n",
    " Para calcular la matriz de confusión necesitamos predicciones que se puedan comparar con los valores\n",
    "reales de la columna target. Por ahora los datos de test los tenemos escondidos y reservados para las\n",
    "fases finales del proyecto, justo antes de decidir si ponemos en producción el sistema. Así que\n",
    "utilizamos la función cross_val_predict(). A continuación obtenemos la matriz de confusión con\n",
    "confusion_matrix()."
   ],
   "id": "ca3ffedc4bab9025"
  },
  {
   "metadata": {
    "ExecuteTime": {
     "end_time": "2025-03-13T17:23:26.549244Z",
     "start_time": "2025-03-13T17:21:50.241014Z"
    }
   },
   "cell_type": "code",
   "source": [
    "from sklearn.model_selection import cross_val_predict\n",
    "y_train_pred = cross_val_predict(sgd, X_train, y_train_2, cv=3)\n",
    "\n",
    "from sklearn.metrics import confusion_matrix\n",
    "print(f\"Mátriz de confusión: {confusion_matrix(y_train_2, y_train_pred)}\")"
   ],
   "id": "51d61d6e162e8a55",
   "outputs": [
    {
     "name": "stdout",
     "output_type": "stream",
     "text": [
      "Mátriz de confusión: [[49454  7255]\n",
      " [ 5476   815]]\n"
     ]
    }
   ],
   "execution_count": 9
  },
  {
   "metadata": {},
   "cell_type": "markdown",
   "source": " Además scikit-learn tiene funciones para cada métrica:\n",
   "id": "7cdcfb0206ab7ec2"
  },
  {
   "metadata": {
    "ExecuteTime": {
     "end_time": "2025-03-13T17:23:26.823105Z",
     "start_time": "2025-03-13T17:23:26.686435Z"
    }
   },
   "cell_type": "code",
   "source": [
    "from sklearn.metrics import precision_score, recall_score, f1_score\n",
    "print(\"Precisión\", precision_score(y_train_2, y_train_pred))\n",
    "print(\"Recall\", recall_score(y_train_2, y_train_pred))\n",
    "print(\"F1 score\", f1_score(y_train_2, y_train_pred))"
   ],
   "id": "8dca2891fd593e87",
   "outputs": [
    {
     "name": "stdout",
     "output_type": "stream",
     "text": [
      "Precisión 0.10099132589838909\n",
      "Recall 0.12955015100937847\n",
      "F1 score 0.11350184527539865\n"
     ]
    }
   ],
   "execution_count": 10
  },
  {
   "metadata": {},
   "cell_type": "markdown",
   "source": [
    "Si queremos las métricas desglosadas por clases podemos pedir el informe de clasificación con la\n",
    "función clasification_report()."
   ],
   "id": "58120955743dc0e1"
  },
  {
   "metadata": {},
   "cell_type": "markdown",
   "source": [
    "### ENTREGAR:\n",
    " a)\n",
    " Cada fila de la matriz de confusión representa una clase ()Real ()Predicha.\n",
    " Cada columna de la matriz de confusión representa una clase ()Real ()Predicha. <br><br>\n",
    " b)\n",
    "Para que el clasificador sea bueno ¿Dónde deben estar los valores más altos de la matriz de\n",
    "confusión? ( )En la diagonal.  ( )Fuera de la diagonal.<br><br>\n",
    " c)\n",
    " Observa la salida del informe de clasificación e indica la clase con peor accuracy pero no de\n",
    "todos los intentos sino de los intentos que sean positivos (es decir, de todos los positivos\n",
    "cuantos ha clasificado correctamente)."
   ],
   "id": "c167d961360af34e"
  },
  {
   "metadata": {},
   "cell_type": "markdown",
   "source": [
    " ## PASO 4: EQUILIBRO PRECISIÓN / RECALL.\n",
    " Scikit-Learn no nos permite acceder directamente a los umbrales, pero como nos deja consultar los\n",
    "scores que usa para predecir llamando al método decision_function() del clasificador en vez de usar\n",
    "predict(), lo que nos devuelve un score para cada instancia y entonces hacemos predicciones usando\n",
    "el umbral que queramos basándonos en estos scores:"
   ],
   "id": "3f7760676b7260eb"
  },
  {
   "metadata": {
    "ExecuteTime": {
     "end_time": "2025-03-13T17:23:26.845892Z",
     "start_time": "2025-03-13T17:23:26.834766Z"
    }
   },
   "cell_type": "code",
   "source": [
    "y_scores = sgd.decision_function([un_digito])\n",
    "print(\"Scores el primer 2:\", y_scores)\n",
    "umbral = 0\n",
    "prediccion_de_un_digito = (y_scores > umbral)\n",
    "print(f\"Con un umbral de {umbral} Un 2 es un 2 = {prediccion_de_un_digito}\")"
   ],
   "id": "6ac7e9adaf34baf2",
   "outputs": [
    {
     "name": "stdout",
     "output_type": "stream",
     "text": [
      "Scores el primer 2: [693.42280821]\n",
      "Con un umbral de 0 Un 2 es un 2 = [ True]\n"
     ]
    },
    {
     "name": "stderr",
     "output_type": "stream",
     "text": [
      "C:\\Users\\ESP\\Desktop\\MachineLearning\\saa\\Lib\\site-packages\\sklearn\\base.py:493: UserWarning: X does not have valid feature names, but SGDClassifier was fitted with feature names\n",
      "  warnings.warn(\n"
     ]
    }
   ],
   "execution_count": 11
  },
  {
   "metadata": {},
   "cell_type": "markdown",
   "source": [
    "El clasificador SGDClassifier() usa un umbral igual a 0, así que el código anterior devuelve el mismo\n",
    "resultado que predict(). Si cambiamos el umbral:\n"
   ],
   "id": "10acb01d98021195"
  },
  {
   "metadata": {
    "ExecuteTime": {
     "end_time": "2025-03-13T17:23:26.942185Z",
     "start_time": "2025-03-13T17:23:26.925840Z"
    }
   },
   "cell_type": "code",
   "source": [
    "umbral = 8000\n",
    "prediccion_de_un_digito = (y_scores > umbral)\n",
    "print(f\"Con un umbral de {umbral} Un 2 es un 2 = {prediccion_de_un_digito}\")"
   ],
   "id": "b436d19d133f9f52",
   "outputs": [
    {
     "name": "stdout",
     "output_type": "stream",
     "text": [
      "Con un umbral de 8000 Un 2 es un 2 = [False]\n"
     ]
    }
   ],
   "execution_count": 12
  },
  {
   "metadata": {},
   "cell_type": "markdown",
   "source": [
    "### ENTREGAR:\n",
    " a)\n",
    " A la vista del resultado, si subes el umbral ¿Subes la precisión o el recall<br><br>\n",
    "b)\n",
    " Si queremos saber cuanto\n",
    "precisión\n",
    " o el\n",
    "recall?\n",
    " recall\n",
    " vamos a tener si queremos alcanzar una precisión del 90%,\n",
    "lee el texto y completa el código siguiente para conseguir el gráfico de la figura.<br><br>\n",
    " Como el umbral controla ambas métricas (precisión y recall)  ¿Cómo elegir uno? Utilizamos\n",
    "todas las instancias del entrenamiento usando cross_val_predict() pero indicando que\n",
    "quieres scores de  decisión en vez de predicciones. Con estos scores calculas las métricas de\n",
    "precisión y recall para todos los posibles umbrales usando la función precision_recall_curve()\n",
    "y puedes visualizarlo en un gráfico para ver como quedarán ambas métricas al escoger un\n",
    "umbral. Normalmente si aumentas el umbral sube la precisión (bajan los FP) y baja el recall\n",
    "(suben los FN), aunque puede haber zonas (según se distribuyen los scores de decisión) donde\n",
    "se produzcan bajadas o subidas.<br><br>\n",
    "<img src=\"../img/captura21.png\" alt=\"captura21\">\n",
    "\n"
   ],
   "id": "c64a8abe1f4c0ae4"
  },
  {
   "metadata": {
    "ExecuteTime": {
     "end_time": "2025-03-13T17:28:18.757041Z",
     "start_time": "2025-03-13T17:28:18.740593Z"
    }
   },
   "cell_type": "code",
   "source": [
    "def plot_precision_recall_vs_umbrales(precisiones,recalls,umbrales):\n",
    "    plt.plot(umbrales, precisiones[:-1], \"b--\", label=\"Precisión\")\n",
    "    plt.plot(umbrales, recalls[:-1], \"g--\", label=\"Recall\", linewidth=2)\n"
   ],
   "id": "f12695fd572ef1b",
   "outputs": [],
   "execution_count": 15
  },
  {
   "metadata": {
    "ExecuteTime": {
     "end_time": "2025-03-13T17:29:28.284110Z",
     "start_time": "2025-03-13T17:28:20.143679Z"
    }
   },
   "cell_type": "code",
   "source": [
    "from sklearn.metrics import precision_recall_curve\n",
    "y_scores = cross_val_predict(sgd, X_train, y_train_2, cv=3, method=\"decision_function\")\n",
    "precisiones, recalls, umbrales = precision_recall_curve(y_train_2, y_scores)\n",
    "recall_precision_90 = recalls[np.argmax(precisiones >= 0.90)]\n",
    "\n",
    "umbral_para_precision_90 = umbrales[np.argmax(precisiones >= 0.90)]\n",
    "\n",
    "plt.figure(figsize=(8,4))\n",
    "plot_precision_recall_vs_umbrales(precisiones, recalls, umbrales)\n",
    "plt.plot([umbral_para_precision_90, umbral_para_precision_90], [0.,0.9], \"r:\")\n",
    "plt.plot([-50000, umbral_para_precision_90], [0.9, 0.9], \"r:\")\n",
    "plt.plot([umbral_para_precision_90], [0.9], \"ro\")\n",
    "plt.show()"
   ],
   "id": "4dc54c1eea920ed0",
   "outputs": [
    {
     "ename": "IndexError",
     "evalue": "index 63000 is out of bounds for axis 0 with size 63000",
     "output_type": "error",
     "traceback": [
      "\u001B[1;31m---------------------------------------------------------------------------\u001B[0m",
      "\u001B[1;31mIndexError\u001B[0m                                Traceback (most recent call last)",
      "Cell \u001B[1;32mIn[16], line 6\u001B[0m\n\u001B[0;32m      3\u001B[0m precisiones, recalls, umbrales \u001B[38;5;241m=\u001B[39m precision_recall_curve(y_train_2, y_scores)\n\u001B[0;32m      4\u001B[0m recall_precision_90 \u001B[38;5;241m=\u001B[39m recalls[np\u001B[38;5;241m.\u001B[39margmax(precisiones \u001B[38;5;241m>\u001B[39m\u001B[38;5;241m=\u001B[39m \u001B[38;5;241m0.90\u001B[39m)]\n\u001B[1;32m----> 6\u001B[0m umbral_para_precision_90 \u001B[38;5;241m=\u001B[39m \u001B[43mumbrales\u001B[49m\u001B[43m[\u001B[49m\u001B[43mnp\u001B[49m\u001B[38;5;241;43m.\u001B[39;49m\u001B[43margmax\u001B[49m\u001B[43m(\u001B[49m\u001B[43mprecisiones\u001B[49m\u001B[43m \u001B[49m\u001B[38;5;241;43m>\u001B[39;49m\u001B[38;5;241;43m=\u001B[39;49m\u001B[43m \u001B[49m\u001B[38;5;241;43m0.90\u001B[39;49m\u001B[43m)\u001B[49m\u001B[43m]\u001B[49m\n\u001B[0;32m      8\u001B[0m plt\u001B[38;5;241m.\u001B[39mfigure(figsize\u001B[38;5;241m=\u001B[39m(\u001B[38;5;241m8\u001B[39m,\u001B[38;5;241m4\u001B[39m))\n\u001B[0;32m      9\u001B[0m plot_precision_recall_vs_umbrales(precisiones, recalls, umbrales)\n",
      "\u001B[1;31mIndexError\u001B[0m: index 63000 is out of bounds for axis 0 with size 63000"
     ]
    }
   ],
   "execution_count": 16
  },
  {
   "metadata": {},
   "cell_type": "markdown",
   "source": [
    "Mirando el gráfico puedes saber que necesitas un umbral de unos ocho mil para tener una precisión\n",
    "del 90% pero podemos ser más precisos usando np.argmax() para encontrar el primer índice del\n",
    "máximo valor (en este caso el primer valor True). Para hacer predicciones (en el dataset train por\n",
    "ahora) en vez de llamar a clasificador.predict() ejecutas las sentencias:\n"
   ],
   "id": "7aca538e20a2cd18"
  },
  {
   "metadata": {},
   "cell_type": "code",
   "outputs": [],
   "execution_count": null,
   "source": [
    "umbral_para_precision_90 = umbrales[np.argmax(precisiones >= 0.90)]\n",
    "print(\"Umbral para alcanzar precisión del 90%\", umbral_para_precision_90)\n",
    "y_train_pred_90 = (y_scores > umbral_para_precision_90)\n",
    "print(\"Precisión con umbral\", umbral_para_precision_90, \"=\", precision_score(y_train2, y_train_pred_90))\n",
    "print(\"Recall con umbral\", umbral_para_precision_90, \"=\", recall_score(y_train2, y_train_pred_90))"
   ],
   "id": "61027c97ad83fbcf"
  },
  {
   "metadata": {},
   "cell_type": "markdown",
   "source": [
    " c)\n",
    " ¿Qué valores de\n",
    "recall\n",
    " vamos a tener si queremos alcanzar una precisión del 90%?"
   ],
   "id": "3f1f3def7ee13849"
  },
  {
   "metadata": {},
   "cell_type": "markdown",
   "source": [
    "## PASO 5: LA CURVA ROC.\n",
    " La curva receiver operating characteristic (ROC) y la métrica AUC son otras herramientas usadas en los\n",
    "clasificadores. También se utilizan para comparar varios clasificadores. Para dibujarla hay que calcular\n",
    "el TPR y el FPR para diferentes valores de umbral usando la función roc_curve():"
   ],
   "id": "e085515be9fcfa6d"
  },
  {
   "metadata": {},
   "cell_type": "code",
   "outputs": [],
   "execution_count": null,
   "source": [
    "from sklearn.metrics import roc_curve, roc_auc_score\n",
    "fpr, tpr, umbrales = roc_curve(y_train_2, y_scores)\n",
    "\n",
    "def plot_roc_curve(fpr, tpr):\n",
    "    plt.plot(fpr, tpr)"
   ],
   "id": "310aa2e3312aa7cd"
  },
  {
   "metadata": {},
   "cell_type": "markdown",
   "source": [
    "### ENTREGAR:\n",
    " a)\n",
    " Completa el código de la función\n",
    "el código que la implementa.<br><br>\n",
    " b) ¿Qué\n",
    "plot_curva_roc()\n",
    " sustituyendo cada línea comentada por\n",
    "AUC\n",
    " tendrá un clasificador binario aleatorio? ¿Y un clasificador binario perfecto?<br><br>\n",
    " c)\n",
    " Sabiendo que puedes calcular el área bajo la curva con la función\n",
    "y_scores)\n",
    " añade el código en una llamada a\n",
    "roc_auc_score(y_train_2,\n",
    "plot_curva_roc()\n",
    " que genere esta gráfica:<br><br>\n",
    " <img src=\"../img/captura22.png\" alt=\"captura22\">"
   ],
   "id": "9c7681d7a84bd03b"
  },
  {
   "metadata": {},
   "cell_type": "markdown",
   "source": [
    "Vamos a entrenar un clasificador RandomForestClassifier y comparamos su curva ROC y su métrica\n",
    "AUC con el SGDClassifier. Necesitamos los scores de cada instancia en el dataset train. Pero debido a\n",
    "la manera de funcionar de Ramdom Forest no tiene decision_function(). En su lugar tiene un método\n",
    "predict_proba() que devuelve un array con una fila para cada instancia y una columna para cada\n",
    "clase con la que trabaja el clasificador. Cada valor representa la probabilidad de que cada instancia\n",
    "pertenezca a cada clase. Por ejemplo en nuestro caso una fila de una instancia podría tener:"
   ],
   "id": "d2cc9f3648077db"
  },
  {
   "metadata": {},
   "cell_type": "code",
   "outputs": [],
   "execution_count": null,
   "source": [
    "from sklearn.ensemble import RandomForestClassifier\n",
    "\n",
    "rfc = RandomForestClassifier(random_state=123)\n",
    "y_probs_forest = cross_val_predict(rfc, X_train, y_train_2, cv=3, method=\"decision_function\")\n",
    "\n",
    "y_scores_forest = y_probs_forest[:,1] # score = probabilidad de la clase positiva\n",
    "fpr_forest, tpr_forest, umbrales_forest = roc_curve(y_train_2, y_scores_forest)\n",
    "\n",
    "plt.plot(fpr, tpr, \"b:\", label=f\"SGD (AUC: {roc_auc_score(y_train_2, y_scores_forest):.4f})\")"
   ],
   "id": "39961bd25023a160"
  },
  {
   "metadata": {},
   "cell_type": "markdown",
   "source": [
    " d)\n",
    " Tras dibujar el gráfico (en la línea 133) haz una llamada a\n",
    "curva del clasificador\n",
    "plot_curva_roc()\n",
    " para dibujar la\n",
    "Random Forest\n",
    " y muestra el gráfico para que quede como el siguiente."
   ],
   "id": "6e16ab6f4f77987d"
  },
  {
   "metadata": {},
   "cell_type": "markdown",
   "source": [
    " e)\n",
    " Basándonos en la métrica ¿Cuál de los dos clasificadores reconoce mejor el dígito 2?"
   ],
   "id": "4279a2a7b5190115"
  },
  {
   "metadata": {},
   "cell_type": "markdown",
   "source": [
    "## PASO 6: CLASIFICACIÓN MULTICLASE\n",
    " Un clasificador debe clasificar una instancia en alguna de las clases. Si hay 2 clases hablamos de un\n",
    "clasificador binario. Si hay más de 2, hablamos de clasificador multiclase o multinomial. Algunos\n",
    "algoritmos como Random Forest o Bayes la soportan directamente. Otros como SVM o los clasificadores\n",
    "lineales son estrictamente binarios pero se pueden entrenar varios de ellos (uno para diferenciar entre\n",
    "cada clase y el resto) y predecir con todos para saber cuál es la clase más probable: si tengo 3 clases se\n",
    "fabrica uno para (clase1, resto), otro para (clase2,resto) y otro para (clase3, resto). Esta técnica se llama\n",
    "one-versus-rest OvR.\n",
    " Otra estrategia es entrenar por parejas de clases de forma que si tenemos 3 clases uno aprenda a\n",
    "diferenciar (entre 1 y 2), otro (entre 1 y 3), otro (entre 2 y 3). Si tienes N clases, necesitas entrenar  N x\n",
    "(N -1 ) / 2 clasificadores. Esto se llama one-versus-one: OvO.\n",
    " Scikit-Learn detecta automáticamente cuando estás usando un algoritmo clasificador binario para\n",
    "realizar una clasificación multiclase y automáticamente ejecuta ovr (excepto para SVM que usa ovo).\n",
    "Vamos a probar y para ver los detalles de la decisión puedes usar el método decision_function():"
   ],
   "id": "ed8998515c0fb12d"
  },
  {
   "metadata": {},
   "cell_type": "code",
   "outputs": [],
   "execution_count": null,
   "source": [
    "sgd.fit(X_train, y_train)\n",
    "print(f\"Predicción de un 2 {sgd.predict([un_digito])}\")\n",
    "scores_de_un_digito = sgd.decision_function([un_digito])\n",
    "print(\"scores de un_digito\", scores_de_un_digito)"
   ],
   "id": "4d60372607110420"
  },
  {
   "metadata": {},
   "cell_type": "markdown",
   "source": [
    " ENTREGAR:\n",
    " a)\n",
    " En ejecutar las sentencias de la 137 a la 138 habrá tardado algo más de tiempo (si estás\n",
    "realizando la práctica en un\n",
    "jupyter notebook\n",
    " y has dejado este código en su propia celda)\n",
    "¿Cuánto? ¿Cuántos modelos ha entrenado Scikit-learn? ¿Qué método ha usado?<br><br>\n",
    " b)\n",
    " ¿Cuántos scores devuelve la sentencia 139? ¿Cuál es la posición del más alto?\n"
   ],
   "id": "50baec80ce3c514a"
  },
  {
   "metadata": {},
   "cell_type": "markdown",
   "source": [
    " Vamos a obtener la clase que ha obtenido un mayor score: sabiendo que cuando se entrena un\n",
    "clasificador, este almacena en su atributo classes_ ordenadas por valor en algún lugar del array."
   ],
   "id": "7f0b91f663f2620"
  },
  {
   "metadata": {},
   "cell_type": "code",
   "outputs": [],
   "execution_count": null,
   "source": [
    "mayor = np.argmax(scores_de_un_digito)\n",
    "print(\"Clases del clasificador:\", sgd.classes_)\n",
    "print(\"La clase con mayor score\", sgd.classes_[mayor])"
   ],
   "id": "af03dfb791f51017"
  },
  {
   "metadata": {},
   "cell_type": "markdown",
   "source": [
    "Si quieres forzar a Scikit-Learn a usar los métodos ovo o bien ovr puedes usar las clases\n",
    "OneVsOneClassifier o OneVsRestClassifier respectivamente. Debes crear una instancia del objeto\n",
    "pasando en la llamada un clasificador como en este código:"
   ],
   "id": "e67e28340dafd478"
  },
  {
   "metadata": {},
   "cell_type": "code",
   "outputs": [],
   "execution_count": null,
   "source": [
    "from sklearn.multiclass import OneVsRestClassifier\n",
    "ovo = OneVsRestClassifier(SGDClassifier(random_state=123))\n",
    "ovo.fit(X_train.values, y_train) # .values para que no salte warning\n",
    "print(\"SGD: Prediccion de un digito 2:\", ovo.predict([un_digito]))\n",
    "print(\"SGD: Longitud de los estimadores\", len(ovo.estimators_))\n",
    "# Entrenar bosque aleatorio mas sencillo por soporte a multiclase\n",
    "rfc.fit(X_train.values, y_train)\n",
    "print(\"Random Forest: Predicción de un digito 2\", rfc.predict([un_digito]))\n",
    "print(\"Random Forest: Probabilidades predichas del digito\", rfc.predict_proba([un_digito]))"
   ],
   "id": "c213d6d0a1e2a485"
  },
  {
   "metadata": {},
   "cell_type": "markdown",
   "source": [
    "c)\n",
    " ¿Cuántos modelos se han entrenado en ovo? ¿Cuántos en\n",
    "línea 150? ¿Si lo hiciésemos con\n",
    "rfc\n",
    " ¿Cuál sería el resultado? <br><br>\n",
    " rfc\n",
    " ? ¿Cuál es el resultado de la\n",
    "d)\n",
    " En el resultado de ejecutar la línea 154 ¿Qué probabilidad da a que el ejemplo sea un 2?\n",
    "¿Cuál es la siguiente probabilidad más alta? ¿De qué clase se trata?"
   ],
   "id": "85f439061f5e55a4"
  },
  {
   "metadata": {},
   "cell_type": "markdown",
   "source": [
    " Si queremos evaluar varios modelos lo normal será usar validación cruzada usando\n",
    "cross_val_score(). Y si aplicas preproceso de datos cabe la posibilidad de que mejores la métrica.\n",
    "Escalaremos los datos de train a ver si mejoramos la métrica."
   ],
   "id": "4df64f1304e431ed"
  },
  {
   "metadata": {},
   "cell_type": "code",
   "outputs": [],
   "execution_count": null,
   "source": [
    "cv1 = cross_val_score(sgd, X_train.values, y_train, cv=3, scoring=\"accuracy\")\n",
    "print(\"SGD Accuracy de 3-fold CV:\", cv1, f\"media: {cv1.mean():.4f}%\")\n",
    "\n",
    "from sklearn.preprocessing import StandardScaler\n",
    "escalador = StandardScaler()\n",
    "X_train_escalador = escalador.fit_transform(X_train.astype(np.float64))\n",
    "cv2 = cross_val_score(sgd, X_train_escalador, y_train, cv=3, scoring=\"accuracy\")\n",
    "print(\"SGD: Accuracy de 3-folds CV tras escalar: \",cv2, f\"media: {cv2.mean():.4f}%\")"
   ],
   "id": "ff579ad7b8699f5e"
  },
  {
   "metadata": {},
   "cell_type": "markdown",
   "source": [
    "e)\n",
    " ¿Cuáles son los valores de cv1 y cv2 y la media? ¿Qué mejora, si la hay,  del % medio hay al\n",
    "escalar"
   ],
   "id": "dba915f42f28dc39"
  },
  {
   "metadata": {},
   "cell_type": "markdown",
   "source": [
    "## PASO 7: ANÁLISIS DE ERROR\n",
    " En un proyecto real además de habríamos realizado análisis exploratorio de datos, ingeniería de\n",
    "características y localizado el mejor modelo con la mejor configuración de manera automatizada con\n",
    "GridSearchCV(). Si lo hemos realizado y ya tenemos un modelo prometedor, nos falta saber si\n",
    "generaliza bien. Vamos a comprobar que cantidad y tipos de error comete al realizar su trabajo a\n",
    "través de la matriz de confusión con la función cross_val_predict() y luego confusion_matrix().\n",
    "Para ver una representación visual de la matriz de confusión vamos a utilizar matplotlib.matshow() o\n",
    "hacer un mapa de calor."
   ],
   "id": "c760d57f8e125da"
  },
  {
   "metadata": {},
   "cell_type": "code",
   "outputs": [],
   "execution_count": null,
   "source": [
    "x_test_escalado = escalador.transform(X_test.values)\n",
    "y_test_pred = cross_val_predict(sgd, x_test_escalado, y_test, cv=3)\n",
    "mc = confusion_matrix(y_test, y_test_pred)\n",
    "print(\"Matriz de confusion de SGD:\\B\", mc)"
   ],
   "id": "f8dc540580d94473"
  },
  {
   "metadata": {},
   "cell_type": "markdown",
   "source": [
    " La diagonal parece que tiene los valores más altos, lo que es buena señal. Podemos dividir la cantidad\n",
    "de errores entre el número de ocurrencias de la cada característica por si el conjunto no estuviese\n",
    "balanceado y así visualmente detectar clases concretas donde hay problemas. La diagonal de la matriz\n",
    "normalizada la ponemos a 0.\n"
   ],
   "id": "13965050b4c57f1d"
  },
  {
   "metadata": {},
   "cell_type": "code",
   "outputs": [],
   "execution_count": null,
   "source": [
    "suma_filas = mc.sum(axis=1, keepdims=True)\n",
    "mc_norm = mc / suma_filas\n",
    "np.fill_diagonal(mc_normalizada, 0)\n",
    "plt.matshow(mc_normalizada, cmap=plt.cm.gray)\n",
    "plt.show()"
   ],
   "id": "f62169c528f6a80b"
  }
 ],
 "metadata": {
  "kernelspec": {
   "display_name": "Python 3",
   "language": "python",
   "name": "python3"
  },
  "language_info": {
   "codemirror_mode": {
    "name": "ipython",
    "version": 2
   },
   "file_extension": ".py",
   "mimetype": "text/x-python",
   "name": "python",
   "nbconvert_exporter": "python",
   "pygments_lexer": "ipython2",
   "version": "2.7.6"
  }
 },
 "nbformat": 4,
 "nbformat_minor": 5
}
