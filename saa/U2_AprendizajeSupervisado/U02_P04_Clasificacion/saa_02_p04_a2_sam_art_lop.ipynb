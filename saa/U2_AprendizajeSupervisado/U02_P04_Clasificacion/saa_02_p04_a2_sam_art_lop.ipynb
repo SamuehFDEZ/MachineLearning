{
 "cells": [
  {
   "metadata": {},
   "cell_type": "markdown",
   "source": [
    " # 📌ACTIVIDAD 2: MODELO DE REGRESIÓN LOGÍSTICA.\n",
    " ## PASO 1: CARGA DE DATOS Y CREACIÓN DEL MODELO.\n",
    " Crea el notebook saa_02_p04_a2_<tus_iniciales>.ipynb donde realizar esta actividad. Queremos\n",
    "usar el fichero wine.csv para implementar un clasificador que nos indique el productor de la Toscana\n",
    "(primera columna, pueden ser 3 y ya están codificados como 1, 2 y 3) a partir de parámetros obtenidos\n",
    "de análisis químicos de sus vinos.\n",
    "\n",
    " En la práctica de la unidad 1 vimos que una manera de mejorar los datos era usar una técnica de\n",
    "selección de características que consiste en realizar un estudio de sus propiedades estadísticas\n",
    "individuales y por parejas, y así descubrir si algunas podían descartarse porque en vez de aportar\n",
    "información lo que hacían era en el mejor de los casos estorbar y en otros confundir a los algoritmos\n",
    "de aprendizaje al meter ruidos y hacerlos aprender mal. Ahora vamos a realizar algo parecido, pero\n",
    "con otro enfoque. Primero vamos a construir el modelo y luego vamos a descubrir qué características\n",
    "son las que más información aportan y cuales son prescindibles.\n",
    "\n",
    " a) Usa este código en el fichero saa_u02_p04_a2_<tus_iniciales>.py (o notebook) para cargar\n",
    "los datos y completa el resto de apartados. Pero cuando particiones los datos y realices otras\n",
    "operaciones donde intervenga el azar añade una semilla aleatoria para que el proceso sea\n",
    "repetible (que coja los mismos datos, que evolucione igual, etc.):"
   ],
   "id": "cbc1681e30658304"
  },
  {
   "cell_type": "code",
   "id": "initial_id",
   "metadata": {
    "collapsed": true,
    "ExecuteTime": {
     "end_time": "2025-03-14T18:33:23.541936Z",
     "start_time": "2025-03-14T18:33:23.508708Z"
    }
   },
   "source": [
    "# -*- coding: utf-8 -*-\n",
    "import numpy as np\n",
    "import pandas as pd\n",
    "from sklearn.model_selection import train_test_split\n",
    "\n",
    "df_vino = pd.read_csv('../recursos/U02_P04/wine.csv', header=None)\n",
    "df_vino.columns = ['Class', 'Alcohol', 'Ácido Málico', 'Posos',\n",
    "                   'Alcalinidad de posos', 'Magnesio', 'Total Fenoles',\n",
    "                   'Flavonoides', 'No flavonoides fenoles', 'Proantocianinas',\n",
    "                   'Intensidad Color', 'Saturación',\n",
    "                   'OD280/OD315 de vinos diluidos', 'Prolina']\n",
    "\n",
    "print('Clases', np.unique(df_vino['Class']))\n",
    "print(df_vino.head())\n",
    "\n",
    "# Dividir en train + test\n",
    "x, y = df_vino.iloc[:, 1:].values, df_vino.iloc[:, 0].values\n",
    "X_train, X_test, y_train, y_test = train_test_split(x, y, test_size=0.3, random_state=0)"
   ],
   "outputs": [
    {
     "name": "stdout",
     "output_type": "stream",
     "text": [
      "Clases [1 2 3]\n",
      "   Class  Alcohol  Ácido Málico  Posos  Alcalinidad de posos  Magnesio  \\\n",
      "0      1    14.23          1.71   2.43                  15.6       127   \n",
      "1      1    13.20          1.78   2.14                  11.2       100   \n",
      "2      1    13.16          2.36   2.67                  18.6       101   \n",
      "3      1    14.37          1.95   2.50                  16.8       113   \n",
      "4      1    13.24          2.59   2.87                  21.0       118   \n",
      "\n",
      "   Total Fenoles  Flavonoides  No flavonoides fenoles  Proantocianinas  \\\n",
      "0           2.80         3.06                    0.28             2.29   \n",
      "1           2.65         2.76                    0.26             1.28   \n",
      "2           2.80         3.24                    0.30             2.81   \n",
      "3           3.85         3.49                    0.24             2.18   \n",
      "4           2.80         2.69                    0.39             1.82   \n",
      "\n",
      "   Intensidad Color  Saturación  OD280/OD315 de vinos diluidos  Prolina  \n",
      "0              5.64        1.04                           3.92     1065  \n",
      "1              4.38        1.05                           3.40     1050  \n",
      "2              5.68        1.03                           3.17     1185  \n",
      "3              7.80        0.86                           3.45     1480  \n",
      "4              4.32        1.04                           2.93      735  \n"
     ]
    }
   ],
   "execution_count": 6
  },
  {
   "metadata": {},
   "cell_type": "markdown",
   "source": [
    "b)\n",
    " Crea un objeto\n",
    "multiclass.OneVsRestClassifier(LogisticRegression(..))\n",
    " el\n",
    "método uno contra el resto\n",
    " y el solver\n",
    "para que utilice\n",
    "‘liblinear’\n",
    " (tienes ejemplos en la unidad, aunque en\n",
    "las nuevas versiones de scikit-learn el parámetro\n",
    "multi_class='ovr'\n",
    " fit()de\n",
    "LogisticRegression\n",
    " del método\n",
    "está marcado como deprecated), por este motivo te pido que uses esta\n",
    "nueva clase.  Debes pasarle un objeto estimador que en este caso es uno de regresión logística.\n",
    "Puedes acceder a ellos a través de\n",
    "\n",
    "\n",
    "c)\n",
    " objeto_ovr.estimators_.\n",
    " Imprime los atributos\n",
    "intercept_ y\n",
    "coef_\n",
    " del modelo Lineal ¿Qué estás imprimiendo?\n",
    " <span style=\"color:green;\"><br>\n",
    " Una línea por clase, donde mostramos:<br>\n",
    "El intercepto del modelo para esa clase.<br>\n",
    "Los coeficientes que indican la importancia de cada característica en la predicción de la clase.<br>\n",
    "Interpretación de los coeficientes:<br>\n",
    "Si un coeficiente es positivo, indica que un mayor valor de esa característica aumenta la probabilidad de pertenecer a la clase en cuestión.<br>\n",
    "Si un coeficiente es negativo, indica que un mayor valor de esa característica disminuye la probabilidad de pertenecer a la clase.</span>"
   ],
   "id": "bd46095c55f4479b"
  },
  {
   "metadata": {},
   "cell_type": "markdown",
   "source": [
    "e)\n",
    " Entrena el modelo y muestra los valores de\n",
    "la matriz de confusión\n",
    " y las métricas de eficiencia\n",
    "(accuracy,\n",
    " recall positivo y negativo, sensitivity\n",
    " y F1-score)\n",
    " informe de clasificación donde aparezcan."
   ],
   "id": "a0494bda8c702423"
  },
  {
   "metadata": {},
   "cell_type": "markdown",
   "source": [
    "f)\n",
    " Muestra la\n",
    "curva ROCy\n",
    "el valor AUC\n",
    "de cada clase y del modelo en global. Para hacerlo,\n",
    "hay que\n",
    "binarizar\n",
    " las predicciones (generando una columna con valores 0/1 para las\n",
    "predicciones de cada clase) y obtener los\n",
    "scores\n",
    " (distancia de cada predicción a cada clase) con\n",
    "la función\n",
    "decision_function()\n",
    " . Como posiblemente sea complicado, te paso el código para\n",
    "que lo añadas a tu programa y respondas ¿En qué clase obtiene mejor y peor resultado?\n",
    "<span style=\"color:green\"><br>Las mejores clases son la 1 y la 3, la peor la 2 por 0.01</span>"
   ],
   "id": "6099a7cfe3322d4a"
  },
  {
   "metadata": {
    "ExecuteTime": {
     "end_time": "2025-03-14T18:33:23.630758Z",
     "start_time": "2025-03-14T18:33:23.596612Z"
    }
   },
   "cell_type": "code",
   "source": [
    "from sklearn.linear_model import LogisticRegression  # Cambia esta importación\n",
    "from sklearn.multiclass import OneVsRestClassifier\n",
    "from sklearn.metrics import confusion_matrix, classification_report\n",
    "\n",
    "# Crear modelo OneVsRest con Regresión Logística\n",
    "ovr = OneVsRestClassifier(LogisticRegression(solver='liblinear'))  # Agrega solver='liblinear'\n",
    "ovr.fit(X_train, y_train)\n",
    "\n",
    "# Imprimir coeficientes e interceptos\n",
    "for i, estimator in enumerate(ovr.estimators_):\n",
    "    print(f'Clase {i+1}: Intercepto: {estimator.intercept_}, Coeficientes: {estimator.coef_}')\n",
    "\n",
    "# Predicciones\n",
    "y_pred = ovr.predict(X_test)\n",
    "\n",
    "# Evaluación\n",
    "print(\"Matriz de Confusión:\")\n",
    "print(confusion_matrix(y_test, y_pred))\n",
    "print(\"\\nReporte de Clasificación:\")\n",
    "print(classification_report(y_test, y_pred))\n"
   ],
   "id": "8076ac4c387f61d0",
   "outputs": [
    {
     "name": "stdout",
     "output_type": "stream",
     "text": [
      "Clase 1: Intercepto: [-0.21308473], Coeficientes: [[-0.5737885   0.60601665  0.67080456 -0.55174807 -0.04171455  0.45115613\n",
      "   1.1024238  -0.01882281 -0.37831359  0.0101202  -0.15377748  0.75636884\n",
      "   0.01801389]]\n",
      "Clase 2: Intercepto: [0.28331937], Coeficientes: [[ 0.90730773 -0.99035579 -0.78646219  0.22685122 -0.00250002 -0.08542006\n",
      "   0.46097593  0.12724951  1.04301194 -1.87094234  0.56693299  0.29088379\n",
      "  -0.01170718]]\n",
      "Clase 3: Intercepto: [-0.06580038], Coeficientes: [[-2.89163329e-01  4.91642316e-01  7.20852148e-02  8.78033714e-02\n",
      "   2.83963418e-02 -4.50555426e-01 -1.67843987e+00  5.92596769e-03\n",
      "  -8.30618667e-01  1.16934729e+00 -4.17451863e-01 -1.26948659e+00\n",
      "  -1.44316888e-03]]\n",
      "Matriz de Confusión:\n",
      "[[18  1  0]\n",
      " [ 1 20  1]\n",
      " [ 0  0 13]]\n",
      "\n",
      "Reporte de Clasificación:\n",
      "              precision    recall  f1-score   support\n",
      "\n",
      "           1       0.95      0.95      0.95        19\n",
      "           2       0.95      0.91      0.93        22\n",
      "           3       0.93      1.00      0.96        13\n",
      "\n",
      "    accuracy                           0.94        54\n",
      "   macro avg       0.94      0.95      0.95        54\n",
      "weighted avg       0.94      0.94      0.94        54\n",
      "\n"
     ]
    }
   ],
   "execution_count": 7
  },
  {
   "metadata": {
    "ExecuteTime": {
     "end_time": "2025-03-14T18:33:23.835318Z",
     "start_time": "2025-03-14T18:33:23.638999Z"
    }
   },
   "cell_type": "code",
   "source": [
    "from sklearn.metrics import roc_curve, auc\n",
    "import matplotlib.pyplot as plt\n",
    "from sklearn.preprocessing import label_binarize\n",
    "\n",
    "tpr = dict()\n",
    "fpr = dict()\n",
    "roc_auc = dict()\n",
    "\n",
    "classes = df_vino['Class'].unique()  # Diferentes clases: diferentes valores de Class\n",
    "n_classes = classes.shape[0]  # Cantidad de clases diferentes\n",
    "y_test_bin = label_binarize(y_test, classes=[1, 2, 3])  # Binarizar el test\n",
    "y_score = ovr.decision_function(X_test)  # Distancia a cada clase\n",
    "\n",
    "for i in range(n_classes):\n",
    "    fpr[i], tpr[i], _ = roc_curve(y_test_bin[:, i], y_score[:, i])\n",
    "    roc_auc[i] = auc(fpr[i], tpr[i])  # Calcular AUC para cada clase\n",
    "\n",
    "# micro-medias ROC y AUC\n",
    "fpr[\"micro\"], tpr[\"micro\"], _ = roc_curve(y_test_bin.ravel(), y_score.ravel())\n",
    "roc_auc[\"micro\"] = auc(fpr[\"micro\"], tpr[\"micro\"])\n",
    "\n",
    "# Dibujar la curva ROC\n",
    "plt.figure()\n",
    "plt.plot(fpr[\"micro\"], tpr[\"micro\"], label='Curva ROC micro-average (área = {0:0.2f})'.format(roc_auc[\"micro\"]))\n",
    "\n",
    "for i in range(n_classes):\n",
    "    plt.plot(fpr[i], tpr[i], label='Curva ROC de clase {0} (área = {1:0.2f})'.format(classes[i], roc_auc[i]))\n",
    "\n",
    "plt.plot([0, 1], [0, 1], 'k--')\n",
    "plt.xlim([0.0, 1.0])\n",
    "plt.ylim([0.0, 1.05])\n",
    "plt.xlabel('Ratio de Falsos Positivos')\n",
    "plt.ylabel('Ratios de True Positivos')\n",
    "plt.title('ROC para multi-class')\n",
    "plt.legend(loc=\"lower right\")\n",
    "plt.show()\n"
   ],
   "id": "30a594bc6119e48",
   "outputs": [
    {
     "data": {
      "text/plain": [
       "<Figure size 640x480 with 1 Axes>"
      ],
      "image/png": "[encoded data removed]"
     },
     "metadata": {},
     "output_type": "display_data"
    }
   ],
   "execution_count": 8
  },
  {
   "metadata": {},
   "cell_type": "markdown",
   "source": [
    " ## PASO 2: MEJORAR MODELO\n",
    " Aunque el modelo funciona bastante bien usando regresión logística, vamos a intentar mejorarlo en\n",
    "este paso usando técnicas de selección de características. El objetivo es detectar que columnas\n",
    "podemos eliminar. En esta ocasión vamos a usar la regularización para detectar que características son\n",
    "prescindibles.\n",
    "### MEJORAR DATOS QUE ALIMENTAN AL ALGORITMO/MODELO\n",
    "Y ahora vamos a entrenar un nuevo modelo usando la misma semilla aleatoria que antes, pero:\n",
    "\n",
    "\n",
    " g)\n",
    " ¿Qué significa\n",
    "estratificar los datos\n",
    " método de particionar en\n",
    "al hacer la división en\n",
    "train + test\n",
    " train y test el parámetro  stratify=y\n",
    "\n",
    "\n"
   ],
   "id": "8d82055e8dae1b4e"
  },
  {
   "metadata": {},
   "cell_type": "markdown",
   "source": [
    "<span style=color:green;>Cuando usamos stratify=y en train_test_split, estamos asegurando que la distribución de clases en el conjunto de entrenamiento y prueba sea la misma que en el dataset original.<br>\n",
    "Ejemplo<br>\n",
    "Si tenemos 100 vinos en total, con las siguientes clases:<br>\n",
    "Clase 1: 50 vinos<br>\n",
    "Clase 2: 30 vinos<br>\n",
    "Clase 3: 20 vinos</span>\n"
   ],
   "id": "c5d5a9924be7b99"
  },
  {
   "metadata": {},
   "cell_type": "markdown",
   "source": [
    " h)\n",
    " Utiliza un objeto\n",
    "?  Añade en la llamada al\n",
    "StandardScaler\n",
    " para estandarizar los datos de\n",
    "train\n",
    " entrenar. ¿Porqué es interesante estandarizar los datos?\n",
    " <span style=\"color:green;\"><br>StandardScaler se ajusta solo con X_train y luego transforma tanto X_train como X_test.<br>\n",
    "Se entrena el modelo con los datos escalados.<br>\n",
    "No se cambia la variable y, ya que es categórica y no necesita estandarización.<br>\n",
    "Esto mejorará la estabilidad y rendimiento del modelo.</span>"
   ],
   "id": "36d9d80b077e5541"
  },
  {
   "metadata": {
    "ExecuteTime": {
     "end_time": "2025-03-14T18:33:24.000666Z",
     "start_time": "2025-03-14T18:33:23.959246Z"
    }
   },
   "cell_type": "code",
   "source": [
    "from sklearn.preprocessing import StandardScaler\n",
    "\n",
    "# Aplicar StandardScaler solo después de dividir en train y test\n",
    "scaler = StandardScaler()\n",
    "X_train_scaled = scaler.fit_transform(X_train)  # Ajusta en train y transforma\n",
    "X_test_scaled = scaler.transform(X_test)  # Transforma test usando la misma escala\n",
    "\n",
    "# Crear modelo OneVsRest con Regresión Logística\n",
    "ovr = OneVsRestClassifier(LogisticRegression(solver='liblinear'))\n",
    "ovr.fit(X_train_scaled, y_train)\n",
    "\n",
    "# Predicciones y evaluación\n",
    "y_pred = ovr.predict(X_test_scaled)\n",
    "print(\"Matriz de Confusión:\")\n",
    "print(confusion_matrix(y_test, y_pred))\n",
    "print(\"\\nReporte de Clasificación:\")\n",
    "print(classification_report(y_test, y_pred))"
   ],
   "id": "3660ba18d9b2065a",
   "outputs": [
    {
     "name": "stdout",
     "output_type": "stream",
     "text": [
      "Matriz de Confusión:\n",
      "[[19  0  0]\n",
      " [ 0 22  0]\n",
      " [ 0  0 13]]\n",
      "\n",
      "Reporte de Clasificación:\n",
      "              precision    recall  f1-score   support\n",
      "\n",
      "           1       1.00      1.00      1.00        19\n",
      "           2       1.00      1.00      1.00        22\n",
      "           3       1.00      1.00      1.00        13\n",
      "\n",
      "    accuracy                           1.00        54\n",
      "   macro avg       1.00      1.00      1.00        54\n",
      "weighted avg       1.00      1.00      1.00        54\n",
      "\n"
     ]
    }
   ],
   "execution_count": 9
  },
  {
   "metadata": {},
   "cell_type": "markdown",
   "source": [
    "### USAR REGULARIZACIÓN L1\n",
    " Estamos usando un modelo con 13 predictoras. La regresión logística es propensa a sufrir de overfitting\n",
    "si hay muchas predictoras. Vamos a usar regularización ℓ1 para que deje a 0 las características menos\n",
    "importantes y al detectarlas poder eliminarlas del entrenamiento.\n",
    "\n",
    "\n",
    " i)\n",
    " Indica que quieres usar regularización de tipo ℓ\n",
    " 1 y deja e\n",
    " l parámetro C= 1.0 ¿Qué ocurre si lo\n",
    "bajas, aumenta o disminuye la fuerza de la regularización?<br>\n",
    "<span style=\"color:green\">Si bajas C, la regularización se hace más fuerte y más coeficientes se vuelven cero, eliminando más características irrelevantes. Si C aumenta, la regularización es más débil y se conservan más coeficientes.</span>\n",
    "\n",
    " j)\n",
    " Vuelve a imprimir los coeficientes y los puntos de intercepción.<br>\n",
    "<span style=\"color:green\">Se están imprimiendo los coeficientes y los interceptos del modelo, lo que muestra qué peso asigna el modelo a cada predictor en cada clase.</span>\n",
    "\n",
    " k)\n",
    " Como hemos usado una regularización de tipo ℓ\n",
    " 1, nos habrá anulado las características\n",
    "menos importantes. Vamos a aprovechar esto para mostrarlas ordenadas de mayor a menor\n",
    "importancia. Haz un listado por consola donde aparezca el nombre de la característica, su\n",
    "importancia con 4 decimales y la importancia acumulada (la suma de importancias desde la\n",
    "más a la menos importante, una especie de ratio de importancia si usamos desde la primera\n",
    "hasta la actual).\n",
    "<br>\n",
    "<span style=\"color:green\">El código lista las características más importantes en orden descendente, mostrando su importancia y la acumulada. Esto permite identificar qué variables aportan más al modelo.</span>"
   ],
   "id": "44c4ebf8ea667ced"
  },
  {
   "metadata": {},
   "cell_type": "markdown",
   "source": [
    " Para calcular la importancia de cada variable, miramos su coeficiente (la pendiente que tiene el\n",
    "hiperplano en esa variable, de manera que hacemos la suma del valor absoluto de las\n",
    "pendientes). Ten en cuenta que como hay 3 clases (3 productores posibles), los coeficientes de\n",
    "la recta son 3 filas y 13 columnas. Por simplificar, si hubiese 2 productores y 3 variables los\n",
    "coeficientes podían ser algo así:\n",
    "\n",
    "\n",
    "   [[-1  2,  3],\n",
    "    [4, -5,  6]]\n",
    " Hay que generar la suma del valor absoluto de las pendientes (coeficientes), en el ejemplo de\n",
    "arriba sería (lo calculo para que se comprendan las operaciones que debes hacer):\n",
    "\n",
    "\n",
    "[1 + 4 , 2 + 5, 3 + 6] = [5, 7, 9]\n",
    "\n",
    " Ahora calculamos la importancia relativa para ello calculamos la suma:\n",
    "\n",
    "5 + 7 + 9 = 21\n",
    "y dividimos cada elemento por el total (21 en el ejemplo):\n",
    "\n",
    " [0.238, 0.333, 0.428]\n",
    " Si ordenamos los valores o sacamos el índice de los elementos ordenados con\n",
    "\n",
    "    indice = np.argsort(pesos)  # Obtenemos [0,1,2] de menor a mayor, se invierte: [2, 1, 0]\n",
    "\n",
    " l)\n",
    " Y hacemos un gráfico de barras además de imprimir los valores. El resultado aproximado\n",
    "que se debería obtener"
   ],
   "id": "6a980ed60d81afed"
  },
  {
   "metadata": {},
   "cell_type": "markdown",
   "source": "<img src=\"../img/captura23.png\" alt=\"captura23\">",
   "id": "7db3737fb0c3c331"
  },
  {
   "metadata": {},
   "cell_type": "markdown",
   "source": [
    " m)\n",
    " Ahora elimina las características predictoras que se te han quedado con cero influencia y\n",
    "compara el desempeño de los dos modelos. ¿Hay diferencias significativas?\n",
    "<span style=\"color:green;\">No, se obtienen las mismas métricas</span>\n"
   ],
   "id": "814257ed398514fd"
  },
  {
   "metadata": {
    "ExecuteTime": {
     "end_time": "2025-03-14T18:33:24.096125Z",
     "start_time": "2025-03-14T18:33:24.030054Z"
    }
   },
   "cell_type": "code",
   "source": [
    "# Dividir en conjuntos de entrenamiento y prueba\n",
    "x, y = df_vino.iloc[:, 1:].values, df_vino.iloc[:, 0].values\n",
    "X_train, X_test, y_train, y_test = train_test_split(x, y, test_size=0.3, random_state=0)\n",
    "\n",
    "# Aplicar StandardScaler\n",
    "scaler = StandardScaler()\n",
    "X_train_scaled = scaler.fit_transform(X_train)\n",
    "X_test_scaled = scaler.transform(X_test)\n",
    "\n",
    "# Crear modelo OneVsRest con Regresión Logística y regularización L1\n",
    "ovr = OneVsRestClassifier(LogisticRegression(solver='liblinear', penalty='l1', C=1.0))\n",
    "ovr.fit(X_train_scaled, y_train)\n",
    "\n",
    "# Obtener coeficientes\n",
    "feature_names = df_vino.columns[1:]\n",
    "coef_sums = np.sum(np.abs(np.vstack([est.coef_ for est in ovr.estimators_])), axis=0)\n",
    "\n",
    "# Filtrar características con coeficientes no nulos\n",
    "selected_features = feature_names[coef_sums > 0]\n",
    "X_train_selected = X_train_scaled[:, coef_sums > 0]\n",
    "X_test_selected = X_test_scaled[:, coef_sums > 0]\n",
    "\n",
    "# Entrenar modelo con características seleccionadas\n",
    "ovr_selected = OneVsRestClassifier(LogisticRegression(solver='liblinear', penalty='l1', C=1.0))\n",
    "ovr_selected.fit(X_train_selected, y_train)\n",
    "\n",
    "# Evaluar modelo original\n",
    "y_pred = ovr.predict(X_test_scaled)\n",
    "print(\"Matriz de Confusión (Modelo Original):\")\n",
    "print(confusion_matrix(y_test, y_pred))\n",
    "print(\"\\nReporte de Clasificación (Modelo Original):\")\n",
    "print(classification_report(y_test, y_pred))\n",
    "\n",
    "# Evaluar modelo con características seleccionadas\n",
    "y_pred_selected = ovr_selected.predict(X_test_selected)\n",
    "print(\"\\nMatriz de Confusión (Modelo Optimizado):\")\n",
    "print(confusion_matrix(y_test, y_pred_selected))\n",
    "print(\"\\nReporte de Clasificación (Modelo Optimizado):\")\n",
    "print(classification_report(y_test, y_pred_selected))"
   ],
   "id": "1b12f790c934650e",
   "outputs": [
    {
     "name": "stdout",
     "output_type": "stream",
     "text": [
      "Matriz de Confusión (Modelo Original):\n",
      "[[19  0  0]\n",
      " [ 0 22  0]\n",
      " [ 0  0 13]]\n",
      "\n",
      "Reporte de Clasificación (Modelo Original):\n",
      "              precision    recall  f1-score   support\n",
      "\n",
      "           1       1.00      1.00      1.00        19\n",
      "           2       1.00      1.00      1.00        22\n",
      "           3       1.00      1.00      1.00        13\n",
      "\n",
      "    accuracy                           1.00        54\n",
      "   macro avg       1.00      1.00      1.00        54\n",
      "weighted avg       1.00      1.00      1.00        54\n",
      "\n",
      "\n",
      "Matriz de Confusión (Modelo Optimizado):\n",
      "[[19  0  0]\n",
      " [ 0 22  0]\n",
      " [ 0  0 13]]\n",
      "\n",
      "Reporte de Clasificación (Modelo Optimizado):\n",
      "              precision    recall  f1-score   support\n",
      "\n",
      "           1       1.00      1.00      1.00        19\n",
      "           2       1.00      1.00      1.00        22\n",
      "           3       1.00      1.00      1.00        13\n",
      "\n",
      "    accuracy                           1.00        54\n",
      "   macro avg       1.00      1.00      1.00        54\n",
      "weighted avg       1.00      1.00      1.00        54\n",
      "\n"
     ]
    }
   ],
   "execution_count": 10
  }
 ],
 "metadata": {
  "kernelspec": {
   "display_name": "Python 3",
   "language": "python",
   "name": "python3"
  },
  "language_info": {
   "codemirror_mode": {
    "name": "ipython",
    "version": 2
   },
   "file_extension": ".py",
   "mimetype": "text/x-python",
   "name": "python",
   "nbconvert_exporter": "python",
   "pygments_lexer": "ipython2",
   "version": "2.7.6"
  }
 },
 "nbformat": 4,
 "nbformat_minor": 5
}
