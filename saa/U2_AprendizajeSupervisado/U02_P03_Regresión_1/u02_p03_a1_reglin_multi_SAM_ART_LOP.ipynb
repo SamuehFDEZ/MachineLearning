{
 "cells": [
  {
   "metadata": {},
   "cell_type": "markdown",
   "source": "# REGRESIÓN LINEAL MÚLTIPLE\n",
   "id": "dbe7829c7bb4b662"
  },
  {
   "metadata": {},
   "cell_type": "markdown",
   "source": [
    "Crea el fichero u02_p03_a1_reglin_multi_<tus_iniciales>.py. Utiliza pandas y carga los datos del\n",
    "fichero \"50_startups.csv\". Utilizaremos como predictoras las columnas \"R&D Spend\", \"Marqueting\n",
    "Spend\" y \"State\" y como target usaremos \"Profit\" (beneficios). Imprime los 5 primeros ejemplos de las\n",
    "predictoras: <br><br>\n",
    "Para realizar regresión lineal no podemos usar una columna categórica como \"State\". Codifica sus\n",
    "valores usando el método one-hot-encoder de manera que aparecerán 3 nuevas columnas que\n",
    "corresponden a cada uno de los valores que puede tener la columna original (‘New York’, ‘California’,\n",
    "‘Florida’) y sus valores estarán a 1 cuando sea ese valor y a 0 cuando no. En vez de hacerlo a mano,\n",
    "vamos a utilizar los objetos sklearn.compose.ColumnTransformer y\n",
    "sklearn.preprocessing.OneHotEncoder. Busca información de como hacerlo. Tras realizarlo imprime\n",
    "las primeras 5 filas de los datos transformados.<br><br>\n",
    "Como todo es un proceso aleatorio, para poder obtener resultados comparables utilizamos la semilla\n",
    "\"123\" en todos los procesos. Divide los datos en train y test dejando el 80% para entrenamiento.\n",
    "Imprime los 5 primeros ejemplos de X_train, y_train, X_test e y_test:"
   ],
   "id": "94755f9e1666d3d1"
  },
  {
   "metadata": {},
   "cell_type": "markdown",
   "source": "## 1. Imporación de librerías",
   "id": "a7ba6ea949ccde1e"
  },
  {
   "cell_type": "code",
   "id": "initial_id",
   "metadata": {
    "collapsed": true,
    "ExecuteTime": {
     "end_time": "2025-02-14T21:30:39.115949Z",
     "start_time": "2025-02-14T21:30:39.104662Z"
    }
   },
   "source": [
    "import pandas as pd\n",
    "import numpy as np\n",
    "import matplotlib.pyplot as plt\n",
    "from sklearn.compose import ColumnTransformer\n",
    "from sklearn.model_selection import train_test_split\n",
    "from sklearn.linear_model import LinearRegression\n",
    "from sklearn.pipeline import Pipeline\n",
    "from sklearn.preprocessing import OneHotEncoder\n",
    "from sklearn.metrics import mean_squared_error"
   ],
   "outputs": [],
   "execution_count": 78
  },
  {
   "metadata": {
    "ExecuteTime": {
     "end_time": "2025-02-14T21:30:39.153670Z",
     "start_time": "2025-02-14T21:30:39.126628Z"
    }
   },
   "cell_type": "code",
   "source": "df = pd.read_csv(\"recursos/U02_P03/50_Startups.csv\")",
   "id": "7a72d3b34341fab1",
   "outputs": [],
   "execution_count": 79
  },
  {
   "metadata": {
    "ExecuteTime": {
     "end_time": "2025-02-14T21:30:39.229132Z",
     "start_time": "2025-02-14T21:30:39.211229Z"
    }
   },
   "cell_type": "code",
   "source": "df.head()",
   "id": "28b1e0de2b21c403",
   "outputs": [
    {
     "data": {
      "text/plain": [
       "   R&D Spend  Administration  Marketing Spend       State     Profit\n",
       "0  165349.20       136897.80        471784.10    New York  192261.83\n",
       "1  162597.70       151377.59        443898.53  California  191792.06\n",
       "2  153441.51       101145.55        407934.54     Florida  191050.39\n",
       "3  144372.41       118671.85        383199.62    New York  182901.99\n",
       "4  142107.34        91391.77        366168.42     Florida  166187.94"
      ],
      "text/html": [
       "<div>\n",
       "<style scoped>\n",
       "    .dataframe tbody tr th:only-of-type {\n",
       "        vertical-align: middle;\n",
       "    }\n",
       "\n",
       "    .dataframe tbody tr th {\n",
       "        vertical-align: top;\n",
       "    }\n",
       "\n",
       "    .dataframe thead th {\n",
       "        text-align: right;\n",
       "    }\n",
       "</style>\n",
       "<table border=\"1\" class=\"dataframe\">\n",
       "  <thead>\n",
       "    <tr style=\"text-align: right;\">\n",
       "      <th></th>\n",
       "      <th>R&amp;D Spend</th>\n",
       "      <th>Administration</th>\n",
       "      <th>Marketing Spend</th>\n",
       "      <th>State</th>\n",
       "      <th>Profit</th>\n",
       "    </tr>\n",
       "  </thead>\n",
       "  <tbody>\n",
       "    <tr>\n",
       "      <th>0</th>\n",
       "      <td>165349.20</td>\n",
       "      <td>136897.80</td>\n",
       "      <td>471784.10</td>\n",
       "      <td>New York</td>\n",
       "      <td>192261.83</td>\n",
       "    </tr>\n",
       "    <tr>\n",
       "      <th>1</th>\n",
       "      <td>162597.70</td>\n",
       "      <td>151377.59</td>\n",
       "      <td>443898.53</td>\n",
       "      <td>California</td>\n",
       "      <td>191792.06</td>\n",
       "    </tr>\n",
       "    <tr>\n",
       "      <th>2</th>\n",
       "      <td>153441.51</td>\n",
       "      <td>101145.55</td>\n",
       "      <td>407934.54</td>\n",
       "      <td>Florida</td>\n",
       "      <td>191050.39</td>\n",
       "    </tr>\n",
       "    <tr>\n",
       "      <th>3</th>\n",
       "      <td>144372.41</td>\n",
       "      <td>118671.85</td>\n",
       "      <td>383199.62</td>\n",
       "      <td>New York</td>\n",
       "      <td>182901.99</td>\n",
       "    </tr>\n",
       "    <tr>\n",
       "      <th>4</th>\n",
       "      <td>142107.34</td>\n",
       "      <td>91391.77</td>\n",
       "      <td>366168.42</td>\n",
       "      <td>Florida</td>\n",
       "      <td>166187.94</td>\n",
       "    </tr>\n",
       "  </tbody>\n",
       "</table>\n",
       "</div>"
      ]
     },
     "execution_count": 80,
     "metadata": {},
     "output_type": "execute_result"
    }
   ],
   "execution_count": 80
  },
  {
   "metadata": {
    "ExecuteTime": {
     "end_time": "2025-02-14T21:30:39.521914Z",
     "start_time": "2025-02-14T21:30:39.513723Z"
    }
   },
   "cell_type": "code",
   "source": "np.random.seed(123)",
   "id": "3f9887b2b752ff98",
   "outputs": [],
   "execution_count": 81
  },
  {
   "metadata": {
    "ExecuteTime": {
     "end_time": "2025-02-14T21:30:39.631170Z",
     "start_time": "2025-02-14T21:30:39.621415Z"
    }
   },
   "cell_type": "code",
   "source": [
    "# Definir las columnas predictoras y la variable objetivo\n",
    "columnas_numericas = [\"R&D Spend\", \"Marketing Spend\"]\n",
    "columnas_categoricas = [\"State\"]\n",
    "X = df[columnas_numericas + columnas_categoricas]\n",
    "y = df[\"Profit\"]"
   ],
   "id": "cf059fd3747077c",
   "outputs": [],
   "execution_count": 82
  },
  {
   "metadata": {
    "ExecuteTime": {
     "end_time": "2025-02-14T21:30:39.748970Z",
     "start_time": "2025-02-14T21:30:39.737023Z"
    }
   },
   "cell_type": "code",
   "source": [
    "# Imprimir los 5 primeros ejemplos de las predictoras\n",
    "print(\"Primeras 5 filas de X antes de transformación:\")\n",
    "print(X.head())"
   ],
   "id": "258fbd910a5685a1",
   "outputs": [
    {
     "name": "stdout",
     "output_type": "stream",
     "text": [
      "Primeras 5 filas de X antes de transformación:\n",
      "   R&D Spend  Marketing Spend       State\n",
      "0  165349.20        471784.10    New York\n",
      "1  162597.70        443898.53  California\n",
      "2  153441.51        407934.54     Florida\n",
      "3  144372.41        383199.62    New York\n",
      "4  142107.34        366168.42     Florida\n"
     ]
    }
   ],
   "execution_count": 83
  },
  {
   "metadata": {
    "ExecuteTime": {
     "end_time": "2025-02-14T21:30:39.860731Z",
     "start_time": "2025-02-14T21:30:39.834100Z"
    }
   },
   "cell_type": "code",
   "source": [
    "# Aplicar OneHotEncoder a la columna categórica\n",
    "preprocessor = ColumnTransformer(\n",
    "    transformers=[(\"onehot\", OneHotEncoder(drop='first'), columnas_categoricas)],\n",
    "    remainder=\"passthrough\"\n",
    ")\n",
    "\n",
    "# Transformar los datos\n",
    "X_transformed = preprocessor.fit_transform(X)\n",
    "\n",
    "# Convertir a DataFrame con nombres de columnas\n",
    "nombres_columnas = preprocessor.get_feature_names_out()\n",
    "X_transformed = pd.DataFrame(X_transformed, columns=nombres_columnas)\n",
    "\n",
    "# Imprimir las primeras 5 filas de los datos transformados\n",
    "print(\"\\nPrimeras 5 filas de X después de transformación:\")\n",
    "print(X_transformed.head())"
   ],
   "id": "f362e839062cde4c",
   "outputs": [
    {
     "name": "stdout",
     "output_type": "stream",
     "text": [
      "\n",
      "Primeras 5 filas de X después de transformación:\n",
      "   onehot__State_Florida  onehot__State_New York  remainder__R&D Spend  \\\n",
      "0                    0.0                     1.0             165349.20   \n",
      "1                    0.0                     0.0             162597.70   \n",
      "2                    1.0                     0.0             153441.51   \n",
      "3                    0.0                     1.0             144372.41   \n",
      "4                    1.0                     0.0             142107.34   \n",
      "\n",
      "   remainder__Marketing Spend  \n",
      "0                   471784.10  \n",
      "1                   443898.53  \n",
      "2                   407934.54  \n",
      "3                   383199.62  \n",
      "4                   366168.42  \n"
     ]
    }
   ],
   "execution_count": 84
  },
  {
   "metadata": {
    "ExecuteTime": {
     "end_time": "2025-02-14T21:30:40.040148Z",
     "start_time": "2025-02-14T21:30:39.972121Z"
    }
   },
   "cell_type": "code",
   "source": [
    "# Dividir los datos en train (80%) y test (20%)\n",
    "X_train, X_test, y_train, y_test = train_test_split(X_transformed, y, test_size=0.2, random_state=SEED)\n",
    "\n",
    "# Imprimir los primeros 5 ejemplos de cada conjunto\n",
    "print(\"\\nPrimeras 5 filas de X_train:\")\n",
    "print(X_train.head())\n",
    "print(\"\\nPrimeras 5 filas de y_train:\")\n",
    "print(y_train.head())\n",
    "print(\"\\nPrimeras 5 filas de X_test:\")\n",
    "print(X_test.head())\n",
    "print(\"\\nPrimeras 5 filas de y_test:\")\n",
    "print(y_test.head())"
   ],
   "id": "a8acb55ccba8bc76",
   "outputs": [
    {
     "name": "stdout",
     "output_type": "stream",
     "text": [
      "\n",
      "Primeras 5 filas de X_train:\n",
      "    onehot__State_Florida  onehot__State_New York  remainder__R&D Spend  \\\n",
      "21                    0.0                     1.0              78389.47   \n",
      "47                    0.0                     0.0                  0.00   \n",
      "11                    0.0                     0.0             100671.96   \n",
      "41                    1.0                     0.0              27892.92   \n",
      "5                     0.0                     1.0             131876.90   \n",
      "\n",
      "    remainder__Marketing Spend  \n",
      "21                   299737.29  \n",
      "47                        0.00  \n",
      "11                   249744.55  \n",
      "41                   164470.71  \n",
      "5                    362861.36  \n",
      "\n",
      "Primeras 5 filas de y_train:\n",
      "21    111313.02\n",
      "47     42559.73\n",
      "11    144259.40\n",
      "41     77798.83\n",
      "5     156991.12\n",
      "Name: Profit, dtype: float64\n",
      "\n",
      "Primeras 5 filas de X_test:\n",
      "    onehot__State_Florida  onehot__State_New York  remainder__R&D Spend  \\\n",
      "10                    1.0                     0.0             101913.08   \n",
      "13                    0.0                     0.0              91992.39   \n",
      "30                    1.0                     0.0              61994.48   \n",
      "46                    1.0                     0.0               1315.46   \n",
      "18                    1.0                     0.0              91749.16   \n",
      "\n",
      "    remainder__Marketing Spend  \n",
      "10                   229160.95  \n",
      "13                   252664.93  \n",
      "30                    91131.24  \n",
      "46                   297114.46  \n",
      "18                   294919.57  \n",
      "\n",
      "Primeras 5 filas de y_test:\n",
      "10    146121.95\n",
      "13    134307.35\n",
      "30     99937.59\n",
      "46     49490.75\n",
      "18    124266.90\n",
      "Name: Profit, dtype: float64\n"
     ]
    }
   ],
   "execution_count": 85
  },
  {
   "metadata": {
    "ExecuteTime": {
     "end_time": "2025-02-14T21:30:40.087323Z",
     "start_time": "2025-02-14T21:30:40.065888Z"
    }
   },
   "cell_type": "code",
   "source": [
    "# Crear y entrenar el modelo de regresión lineal\n",
    "modelo = LinearRegression()\n",
    "modelo.fit(X_train, y_train)\n",
    "\n",
    "# Calcular el score para datos de entrenamiento y prueba\n",
    "train_score = modelo.score(X_train, y_train)\n",
    "test_score = modelo.score(X_test, y_test)\n",
    "\n",
    "print(\"\\nScore en datos de entrenamiento:\", train_score)\n",
    "print(\"Score en datos de prueba:\", test_score)"
   ],
   "id": "907cd55b8d917788",
   "outputs": [
    {
     "name": "stdout",
     "output_type": "stream",
     "text": [
      "\n",
      "Score en datos de entrenamiento: 0.944872235399549\n",
      "Score en datos de prueba: 0.965754198932209\n"
     ]
    }
   ],
   "execution_count": 86
  },
  {
   "metadata": {},
   "cell_type": "markdown",
   "source": [
    "### ENTREGA 1: Muestra:\n",
    "a) Capturas de ejecución y el código.<br><br>\n",
    "b) ¿Qué significa en este caso que el score sea aproximadamente del 0.966 en los datos de test?\n",
    "<p style=\"color:green;\">Obteniendo un score de 0.96 podemos concluir que el modelo es bastante aceptable para la predicción</p>\n"
   ],
   "id": "939926943b279a79"
  },
  {
   "metadata": {
    "ExecuteTime": {
     "end_time": "2025-02-14T21:30:40.203593Z",
     "start_time": "2025-02-14T21:30:40.181707Z"
    }
   },
   "cell_type": "code",
   "source": [
    "# Funciones para calcular SSE, SST y SSR\n",
    "def calculate_SSE(y_true, y_pred):\n",
    "    \"\"\" Calcula el SSE (Sum of Squared Errors) \"\"\"\n",
    "    return np.sum((y_true - y_pred) ** 2)\n",
    "\n",
    "def calculate_SST(y_true):\n",
    "    \"\"\" Calcula el SST (Total Sum of Squares) \"\"\"\n",
    "    return np.sum((y_true - np.mean(y_true)) ** 2)\n",
    "\n",
    "def calculate_SSR(SST, SSE):\n",
    "    \"\"\" Calcula el SSR (Sum of Squares for Regression) \"\"\"\n",
    "    return SST - SSE\n",
    "\n",
    "# Calcular las métricas para los datos de entrenamiento\n",
    "y_train_pred = modelo.predict(X_train)\n",
    "SSE_train = calculate_SSE(y_train, y_train_pred)\n",
    "SST_train = calculate_SST(y_train)\n",
    "SSR_train = calculate_SSR(SST_train, SSE_train)\n",
    "\n",
    "# Calcular R² para entrenamiento\n",
    "R2_train = 1 - SSE_train / SST_train\n",
    "\n",
    "# Calcular R² ajustado para entrenamiento\n",
    "n_train = len(y_train)\n",
    "k_train = X_train.shape[1]\n",
    "R2_adj_train = 1 - (SSE_train / (n_train - k_train - 1)) / (SST_train / (n_train - 1))"
   ],
   "id": "9db529170f857f08",
   "outputs": [],
   "execution_count": 87
  },
  {
   "metadata": {
    "ExecuteTime": {
     "end_time": "2025-02-14T21:30:40.303766Z",
     "start_time": "2025-02-14T21:30:40.286102Z"
    }
   },
   "cell_type": "code",
   "source": [
    "# Imprimir las métricas para los datos de entrenamiento\n",
    "print(f\"Entrenamiento:\")\n",
    "print(f\"SSE: {SSE_train}\")\n",
    "print(f\"SST: {SST_train}\")\n",
    "print(f\"SSR: {SSR_train}\")\n",
    "print(f\"R²: {R2_train}\")\n",
    "print(f\"R² ajustado: {R2_adj_train}\")"
   ],
   "id": "9fba953e588c42c0",
   "outputs": [
    {
     "name": "stdout",
     "output_type": "stream",
     "text": [
      "Entrenamiento:\n",
      "SSE: 3489621036.392025\n",
      "SST: 63300608353.770935\n",
      "SSR: 59810987317.37891\n",
      "R²: 0.944872235399549\n",
      "R² ajustado: 0.9385719194452118\n"
     ]
    }
   ],
   "execution_count": 88
  },
  {
   "metadata": {
    "ExecuteTime": {
     "end_time": "2025-02-14T21:30:40.515214Z",
     "start_time": "2025-02-14T21:30:40.500745Z"
    }
   },
   "cell_type": "code",
   "source": [
    "# Calcular las métricas para los datos de prueba\n",
    "y_test_pred = modelo.predict(X_test)\n",
    "SSE_test = calculate_SSE(y_test, y_test_pred)\n",
    "SST_test = calculate_SST(y_test)\n",
    "SSR_test = calculate_SSR(SST_test, SSE_test)\n",
    "\n",
    "# Calcular R² para prueba\n",
    "R2_test = 1 - SSE_test / SST_test\n",
    "\n",
    "# Calcular R² ajustado para prueba\n",
    "n_test = len(y_test)\n",
    "k_test = X_test.shape[1]\n",
    "R2_adj_test = 1 - (SSE_test / (n_test - k_test - 1)) / (SST_test / (n_test - 1))"
   ],
   "id": "966b0d80acd895e2",
   "outputs": [],
   "execution_count": 89
  },
  {
   "metadata": {
    "ExecuteTime": {
     "end_time": "2025-02-14T21:30:40.549751Z",
     "start_time": "2025-02-14T21:30:40.541160Z"
    }
   },
   "cell_type": "code",
   "source": [
    "# Imprimir las métricas para los datos de prueba\n",
    "print(f\"\\nPrueba:\")\n",
    "print(f\"SSE: {SSE_test}\")\n",
    "print(f\"SST: {SST_test}\")\n",
    "print(f\"SSR: {SSR_test}\")\n",
    "print(f\"R²: {R2_test}\")\n",
    "print(f\"R² ajustado: {R2_adj_test}\")"
   ],
   "id": "6cd6626a564bfa5",
   "outputs": [
    {
     "name": "stdout",
     "output_type": "stream",
     "text": [
      "\n",
      "Prueba:\n",
      "SSE: 516139212.6673195\n",
      "SST: 15071605761.115088\n",
      "SSR: 14555466548.447767\n",
      "R²: 0.965754198932209\n",
      "R² ajustado: 0.9383575580779763\n"
     ]
    }
   ],
   "execution_count": 90
  },
  {
   "metadata": {
    "ExecuteTime": {
     "end_time": "2025-02-14T21:30:40.694823Z",
     "start_time": "2025-02-14T21:30:40.615452Z"
    }
   },
   "cell_type": "code",
   "source": [
    "# Incluir \"Administration\" como una nueva característica\n",
    "columnas_nuevas = [\"R&D Spend\", \"Administration\", \"Marketing Spend\", \"State\"]\n",
    "\n",
    "# Crear el nuevo DataFrame con las características\n",
    "X_nuevas = df[columnas_nuevas]\n",
    "y_nuevos = df['Profit']\n",
    "\n",
    "# Dividir nuevamente los datos en entrenamiento y prueba\n",
    "X_train_nuevas, X_test_nuevas, y_train_nuevos, y_test_nuevos = train_test_split(X_nuevas, y_nuevos, test_size=0.2, random_state=123)\n",
    "\n",
    "# Crear un nuevo pipeline para el modelo con las nuevas características\n",
    "preprocessor_nuevas = ColumnTransformer(\n",
    "    transformers=[\n",
    "        (\"onehot\", OneHotEncoder(), [\"State\"]),\n",
    "    ],\n",
    "    remainder=\"passthrough\"\n",
    ")\n",
    "\n",
    "# Crear el pipeline\n",
    "pipeline_nuevas = Pipeline(steps=[\n",
    "    ('preprocessor', preprocessor_nuevas),\n",
    "    ('regressor', LinearRegression())\n",
    "])\n",
    "\n",
    "# Entrenar el modelo con las nuevas características\n",
    "pipeline_nuevas.fit(X_train_nuevas, y_train_nuevos)"
   ],
   "id": "acc20c8d8bf4bb9e",
   "outputs": [
    {
     "name": "stderr",
     "output_type": "stream",
     "text": [
      "C:\\Users\\ESP\\Desktop\\MachineLearning\\saa\\Lib\\site-packages\\sklearn\\compose\\_column_transformer.py:1623: FutureWarning: \n",
      "The format of the columns of the 'remainder' transformer in ColumnTransformer.transformers_ will change in version 1.7 to match the format of the other transformers.\n",
      "At the moment the remainder columns are stored as indices (of type int). With the same ColumnTransformer configuration, in the future they will be stored as column names (of type str).\n",
      "To use the new behavior now and suppress this warning, use ColumnTransformer(force_int_remainder_cols=False).\n",
      "\n",
      "  warnings.warn(\n"
     ]
    },
    {
     "data": {
      "text/plain": [
       "Pipeline(steps=[('preprocessor',\n",
       "                 ColumnTransformer(remainder='passthrough',\n",
       "                                   transformers=[('onehot', OneHotEncoder(),\n",
       "                                                  ['State'])])),\n",
       "                ('regressor', LinearRegression())])"
      ],
      "text/html": [
       "<style>#sk-container-id-1 {\n",
       "  /* Definition of color scheme common for light and dark mode */\n",
       "  --sklearn-color-text: black;\n",
       "  --sklearn-color-line: gray;\n",
       "  /* Definition of color scheme for unfitted estimators */\n",
       "  --sklearn-color-unfitted-level-0: #fff5e6;\n",
       "  --sklearn-color-unfitted-level-1: #f6e4d2;\n",
       "  --sklearn-color-unfitted-level-2: #ffe0b3;\n",
       "  --sklearn-color-unfitted-level-3: chocolate;\n",
       "  /* Definition of color scheme for fitted estimators */\n",
       "  --sklearn-color-fitted-level-0: #f0f8ff;\n",
       "  --sklearn-color-fitted-level-1: #d4ebff;\n",
       "  --sklearn-color-fitted-level-2: #b3dbfd;\n",
       "  --sklearn-color-fitted-level-3: cornflowerblue;\n",
       "\n",
       "  /* Specific color for light theme */\n",
       "  --sklearn-color-text-on-default-background: var(--sg-text-color, var(--theme-code-foreground, var(--jp-content-font-color1, black)));\n",
       "  --sklearn-color-background: var(--sg-background-color, var(--theme-background, var(--jp-layout-color0, white)));\n",
       "  --sklearn-color-border-box: var(--sg-text-color, var(--theme-code-foreground, var(--jp-content-font-color1, black)));\n",
       "  --sklearn-color-icon: #696969;\n",
       "\n",
       "  @media (prefers-color-scheme: dark) {\n",
       "    /* Redefinition of color scheme for dark theme */\n",
       "    --sklearn-color-text-on-default-background: var(--sg-text-color, var(--theme-code-foreground, var(--jp-content-font-color1, white)));\n",
       "    --sklearn-color-background: var(--sg-background-color, var(--theme-background, var(--jp-layout-color0, #111)));\n",
       "    --sklearn-color-border-box: var(--sg-text-color, var(--theme-code-foreground, var(--jp-content-font-color1, white)));\n",
       "    --sklearn-color-icon: #878787;\n",
       "  }\n",
       "}\n",
       "\n",
       "#sk-container-id-1 {\n",
       "  color: var(--sklearn-color-text);\n",
       "}\n",
       "\n",
       "#sk-container-id-1 pre {\n",
       "  padding: 0;\n",
       "}\n",
       "\n",
       "#sk-container-id-1 input.sk-hidden--visually {\n",
       "  border: 0;\n",
       "  clip: rect(1px 1px 1px 1px);\n",
       "  clip: rect(1px, 1px, 1px, 1px);\n",
       "  height: 1px;\n",
       "  margin: -1px;\n",
       "  overflow: hidden;\n",
       "  padding: 0;\n",
       "  position: absolute;\n",
       "  width: 1px;\n",
       "}\n",
       "\n",
       "#sk-container-id-1 div.sk-dashed-wrapped {\n",
       "  border: 1px dashed var(--sklearn-color-line);\n",
       "  margin: 0 0.4em 0.5em 0.4em;\n",
       "  box-sizing: border-box;\n",
       "  padding-bottom: 0.4em;\n",
       "  background-color: var(--sklearn-color-background);\n",
       "}\n",
       "\n",
       "#sk-container-id-1 div.sk-container {\n",
       "  /* jupyter's `normalize.less` sets `[hidden] { display: none; }`\n",
       "     but bootstrap.min.css set `[hidden] { display: none !important; }`\n",
       "     so we also need the `!important` here to be able to override the\n",
       "     default hidden behavior on the sphinx rendered scikit-learn.org.\n",
       "     See: https://github.com/scikit-learn/scikit-learn/issues/21755 */\n",
       "  display: inline-block !important;\n",
       "  position: relative;\n",
       "}\n",
       "\n",
       "#sk-container-id-1 div.sk-text-repr-fallback {\n",
       "  display: none;\n",
       "}\n",
       "\n",
       "div.sk-parallel-item,\n",
       "div.sk-serial,\n",
       "div.sk-item {\n",
       "  /* draw centered vertical line to link estimators */\n",
       "  background-image: linear-gradient(var(--sklearn-color-text-on-default-background), var(--sklearn-color-text-on-default-background));\n",
       "  background-size: 2px 100%;\n",
       "  background-repeat: no-repeat;\n",
       "  background-position: center center;\n",
       "}\n",
       "\n",
       "/* Parallel-specific style estimator block */\n",
       "\n",
       "#sk-container-id-1 div.sk-parallel-item::after {\n",
       "  content: \"\";\n",
       "  width: 100%;\n",
       "  border-bottom: 2px solid var(--sklearn-color-text-on-default-background);\n",
       "  flex-grow: 1;\n",
       "}\n",
       "\n",
       "#sk-container-id-1 div.sk-parallel {\n",
       "  display: flex;\n",
       "  align-items: stretch;\n",
       "  justify-content: center;\n",
       "  background-color: var(--sklearn-color-background);\n",
       "  position: relative;\n",
       "}\n",
       "\n",
       "#sk-container-id-1 div.sk-parallel-item {\n",
       "  display: flex;\n",
       "  flex-direction: column;\n",
       "}\n",
       "\n",
       "#sk-container-id-1 div.sk-parallel-item:first-child::after {\n",
       "  align-self: flex-end;\n",
       "  width: 50%;\n",
       "}\n",
       "\n",
       "#sk-container-id-1 div.sk-parallel-item:last-child::after {\n",
       "  align-self: flex-start;\n",
       "  width: 50%;\n",
       "}\n",
       "\n",
       "#sk-container-id-1 div.sk-parallel-item:only-child::after {\n",
       "  width: 0;\n",
       "}\n",
       "\n",
       "/* Serial-specific style estimator block */\n",
       "\n",
       "#sk-container-id-1 div.sk-serial {\n",
       "  display: flex;\n",
       "  flex-direction: column;\n",
       "  align-items: center;\n",
       "  background-color: var(--sklearn-color-background);\n",
       "  padding-right: 1em;\n",
       "  padding-left: 1em;\n",
       "}\n",
       "\n",
       "\n",
       "/* Toggleable style: style used for estimator/Pipeline/ColumnTransformer box that is\n",
       "clickable and can be expanded/collapsed.\n",
       "- Pipeline and ColumnTransformer use this feature and define the default style\n",
       "- Estimators will overwrite some part of the style using the `sk-estimator` class\n",
       "*/\n",
       "\n",
       "/* Pipeline and ColumnTransformer style (default) */\n",
       "\n",
       "#sk-container-id-1 div.sk-toggleable {\n",
       "  /* Default theme specific background. It is overwritten whether we have a\n",
       "  specific estimator or a Pipeline/ColumnTransformer */\n",
       "  background-color: var(--sklearn-color-background);\n",
       "}\n",
       "\n",
       "/* Toggleable label */\n",
       "#sk-container-id-1 label.sk-toggleable__label {\n",
       "  cursor: pointer;\n",
       "  display: block;\n",
       "  width: 100%;\n",
       "  margin-bottom: 0;\n",
       "  padding: 0.5em;\n",
       "  box-sizing: border-box;\n",
       "  text-align: center;\n",
       "}\n",
       "\n",
       "#sk-container-id-1 label.sk-toggleable__label-arrow:before {\n",
       "  /* Arrow on the left of the label */\n",
       "  content: \"▸\";\n",
       "  float: left;\n",
       "  margin-right: 0.25em;\n",
       "  color: var(--sklearn-color-icon);\n",
       "}\n",
       "\n",
       "#sk-container-id-1 label.sk-toggleable__label-arrow:hover:before {\n",
       "  color: var(--sklearn-color-text);\n",
       "}\n",
       "\n",
       "/* Toggleable content - dropdown */\n",
       "\n",
       "#sk-container-id-1 div.sk-toggleable__content {\n",
       "  max-height: 0;\n",
       "  max-width: 0;\n",
       "  overflow: hidden;\n",
       "  text-align: left;\n",
       "  /* unfitted */\n",
       "  background-color: var(--sklearn-color-unfitted-level-0);\n",
       "}\n",
       "\n",
       "#sk-container-id-1 div.sk-toggleable__content.fitted {\n",
       "  /* fitted */\n",
       "  background-color: var(--sklearn-color-fitted-level-0);\n",
       "}\n",
       "\n",
       "#sk-container-id-1 div.sk-toggleable__content pre {\n",
       "  margin: 0.2em;\n",
       "  border-radius: 0.25em;\n",
       "  color: var(--sklearn-color-text);\n",
       "  /* unfitted */\n",
       "  background-color: var(--sklearn-color-unfitted-level-0);\n",
       "}\n",
       "\n",
       "#sk-container-id-1 div.sk-toggleable__content.fitted pre {\n",
       "  /* unfitted */\n",
       "  background-color: var(--sklearn-color-fitted-level-0);\n",
       "}\n",
       "\n",
       "#sk-container-id-1 input.sk-toggleable__control:checked~div.sk-toggleable__content {\n",
       "  /* Expand drop-down */\n",
       "  max-height: 200px;\n",
       "  max-width: 100%;\n",
       "  overflow: auto;\n",
       "}\n",
       "\n",
       "#sk-container-id-1 input.sk-toggleable__control:checked~label.sk-toggleable__label-arrow:before {\n",
       "  content: \"▾\";\n",
       "}\n",
       "\n",
       "/* Pipeline/ColumnTransformer-specific style */\n",
       "\n",
       "#sk-container-id-1 div.sk-label input.sk-toggleable__control:checked~label.sk-toggleable__label {\n",
       "  color: var(--sklearn-color-text);\n",
       "  background-color: var(--sklearn-color-unfitted-level-2);\n",
       "}\n",
       "\n",
       "#sk-container-id-1 div.sk-label.fitted input.sk-toggleable__control:checked~label.sk-toggleable__label {\n",
       "  background-color: var(--sklearn-color-fitted-level-2);\n",
       "}\n",
       "\n",
       "/* Estimator-specific style */\n",
       "\n",
       "/* Colorize estimator box */\n",
       "#sk-container-id-1 div.sk-estimator input.sk-toggleable__control:checked~label.sk-toggleable__label {\n",
       "  /* unfitted */\n",
       "  background-color: var(--sklearn-color-unfitted-level-2);\n",
       "}\n",
       "\n",
       "#sk-container-id-1 div.sk-estimator.fitted input.sk-toggleable__control:checked~label.sk-toggleable__label {\n",
       "  /* fitted */\n",
       "  background-color: var(--sklearn-color-fitted-level-2);\n",
       "}\n",
       "\n",
       "#sk-container-id-1 div.sk-label label.sk-toggleable__label,\n",
       "#sk-container-id-1 div.sk-label label {\n",
       "  /* The background is the default theme color */\n",
       "  color: var(--sklearn-color-text-on-default-background);\n",
       "}\n",
       "\n",
       "/* On hover, darken the color of the background */\n",
       "#sk-container-id-1 div.sk-label:hover label.sk-toggleable__label {\n",
       "  color: var(--sklearn-color-text);\n",
       "  background-color: var(--sklearn-color-unfitted-level-2);\n",
       "}\n",
       "\n",
       "/* Label box, darken color on hover, fitted */\n",
       "#sk-container-id-1 div.sk-label.fitted:hover label.sk-toggleable__label.fitted {\n",
       "  color: var(--sklearn-color-text);\n",
       "  background-color: var(--sklearn-color-fitted-level-2);\n",
       "}\n",
       "\n",
       "/* Estimator label */\n",
       "\n",
       "#sk-container-id-1 div.sk-label label {\n",
       "  font-family: monospace;\n",
       "  font-weight: bold;\n",
       "  display: inline-block;\n",
       "  line-height: 1.2em;\n",
       "}\n",
       "\n",
       "#sk-container-id-1 div.sk-label-container {\n",
       "  text-align: center;\n",
       "}\n",
       "\n",
       "/* Estimator-specific */\n",
       "#sk-container-id-1 div.sk-estimator {\n",
       "  font-family: monospace;\n",
       "  border: 1px dotted var(--sklearn-color-border-box);\n",
       "  border-radius: 0.25em;\n",
       "  box-sizing: border-box;\n",
       "  margin-bottom: 0.5em;\n",
       "  /* unfitted */\n",
       "  background-color: var(--sklearn-color-unfitted-level-0);\n",
       "}\n",
       "\n",
       "#sk-container-id-1 div.sk-estimator.fitted {\n",
       "  /* fitted */\n",
       "  background-color: var(--sklearn-color-fitted-level-0);\n",
       "}\n",
       "\n",
       "/* on hover */\n",
       "#sk-container-id-1 div.sk-estimator:hover {\n",
       "  /* unfitted */\n",
       "  background-color: var(--sklearn-color-unfitted-level-2);\n",
       "}\n",
       "\n",
       "#sk-container-id-1 div.sk-estimator.fitted:hover {\n",
       "  /* fitted */\n",
       "  background-color: var(--sklearn-color-fitted-level-2);\n",
       "}\n",
       "\n",
       "/* Specification for estimator info (e.g. \"i\" and \"?\") */\n",
       "\n",
       "/* Common style for \"i\" and \"?\" */\n",
       "\n",
       ".sk-estimator-doc-link,\n",
       "a:link.sk-estimator-doc-link,\n",
       "a:visited.sk-estimator-doc-link {\n",
       "  float: right;\n",
       "  font-size: smaller;\n",
       "  line-height: 1em;\n",
       "  font-family: monospace;\n",
       "  background-color: var(--sklearn-color-background);\n",
       "  border-radius: 1em;\n",
       "  height: 1em;\n",
       "  width: 1em;\n",
       "  text-decoration: none !important;\n",
       "  margin-left: 1ex;\n",
       "  /* unfitted */\n",
       "  border: var(--sklearn-color-unfitted-level-1) 1pt solid;\n",
       "  color: var(--sklearn-color-unfitted-level-1);\n",
       "}\n",
       "\n",
       ".sk-estimator-doc-link.fitted,\n",
       "a:link.sk-estimator-doc-link.fitted,\n",
       "a:visited.sk-estimator-doc-link.fitted {\n",
       "  /* fitted */\n",
       "  border: var(--sklearn-color-fitted-level-1) 1pt solid;\n",
       "  color: var(--sklearn-color-fitted-level-1);\n",
       "}\n",
       "\n",
       "/* On hover */\n",
       "div.sk-estimator:hover .sk-estimator-doc-link:hover,\n",
       ".sk-estimator-doc-link:hover,\n",
       "div.sk-label-container:hover .sk-estimator-doc-link:hover,\n",
       ".sk-estimator-doc-link:hover {\n",
       "  /* unfitted */\n",
       "  background-color: var(--sklearn-color-unfitted-level-3);\n",
       "  color: var(--sklearn-color-background);\n",
       "  text-decoration: none;\n",
       "}\n",
       "\n",
       "div.sk-estimator.fitted:hover .sk-estimator-doc-link.fitted:hover,\n",
       ".sk-estimator-doc-link.fitted:hover,\n",
       "div.sk-label-container:hover .sk-estimator-doc-link.fitted:hover,\n",
       ".sk-estimator-doc-link.fitted:hover {\n",
       "  /* fitted */\n",
       "  background-color: var(--sklearn-color-fitted-level-3);\n",
       "  color: var(--sklearn-color-background);\n",
       "  text-decoration: none;\n",
       "}\n",
       "\n",
       "/* Span, style for the box shown on hovering the info icon */\n",
       ".sk-estimator-doc-link span {\n",
       "  display: none;\n",
       "  z-index: 9999;\n",
       "  position: relative;\n",
       "  font-weight: normal;\n",
       "  right: .2ex;\n",
       "  padding: .5ex;\n",
       "  margin: .5ex;\n",
       "  width: min-content;\n",
       "  min-width: 20ex;\n",
       "  max-width: 50ex;\n",
       "  color: var(--sklearn-color-text);\n",
       "  box-shadow: 2pt 2pt 4pt #999;\n",
       "  /* unfitted */\n",
       "  background: var(--sklearn-color-unfitted-level-0);\n",
       "  border: .5pt solid var(--sklearn-color-unfitted-level-3);\n",
       "}\n",
       "\n",
       ".sk-estimator-doc-link.fitted span {\n",
       "  /* fitted */\n",
       "  background: var(--sklearn-color-fitted-level-0);\n",
       "  border: var(--sklearn-color-fitted-level-3);\n",
       "}\n",
       "\n",
       ".sk-estimator-doc-link:hover span {\n",
       "  display: block;\n",
       "}\n",
       "\n",
       "/* \"?\"-specific style due to the `<a>` HTML tag */\n",
       "\n",
       "#sk-container-id-1 a.estimator_doc_link {\n",
       "  float: right;\n",
       "  font-size: 1rem;\n",
       "  line-height: 1em;\n",
       "  font-family: monospace;\n",
       "  background-color: var(--sklearn-color-background);\n",
       "  border-radius: 1rem;\n",
       "  height: 1rem;\n",
       "  width: 1rem;\n",
       "  text-decoration: none;\n",
       "  /* unfitted */\n",
       "  color: var(--sklearn-color-unfitted-level-1);\n",
       "  border: var(--sklearn-color-unfitted-level-1) 1pt solid;\n",
       "}\n",
       "\n",
       "#sk-container-id-1 a.estimator_doc_link.fitted {\n",
       "  /* fitted */\n",
       "  border: var(--sklearn-color-fitted-level-1) 1pt solid;\n",
       "  color: var(--sklearn-color-fitted-level-1);\n",
       "}\n",
       "\n",
       "/* On hover */\n",
       "#sk-container-id-1 a.estimator_doc_link:hover {\n",
       "  /* unfitted */\n",
       "  background-color: var(--sklearn-color-unfitted-level-3);\n",
       "  color: var(--sklearn-color-background);\n",
       "  text-decoration: none;\n",
       "}\n",
       "\n",
       "#sk-container-id-1 a.estimator_doc_link.fitted:hover {\n",
       "  /* fitted */\n",
       "  background-color: var(--sklearn-color-fitted-level-3);\n",
       "}\n",
       "</style><div id=\"sk-container-id-1\" class=\"sk-top-container\"><div class=\"sk-text-repr-fallback\"><pre>Pipeline(steps=[(&#x27;preprocessor&#x27;,\n",
       "                 ColumnTransformer(remainder=&#x27;passthrough&#x27;,\n",
       "                                   transformers=[(&#x27;onehot&#x27;, OneHotEncoder(),\n",
       "                                                  [&#x27;State&#x27;])])),\n",
       "                (&#x27;regressor&#x27;, LinearRegression())])</pre><b>In a Jupyter environment, please rerun this cell to show the HTML representation or trust the notebook. <br />On GitHub, the HTML representation is unable to render, please try loading this page with nbviewer.org.</b></div><div class=\"sk-container\" hidden><div class=\"sk-item sk-dashed-wrapped\"><div class=\"sk-label-container\"><div class=\"sk-label fitted sk-toggleable\"><input class=\"sk-toggleable__control sk-hidden--visually\" id=\"sk-estimator-id-1\" type=\"checkbox\" ><label for=\"sk-estimator-id-1\" class=\"sk-toggleable__label fitted sk-toggleable__label-arrow fitted\">&nbsp;&nbsp;Pipeline<a class=\"sk-estimator-doc-link fitted\" rel=\"noreferrer\" target=\"_blank\" href=\"https://scikit-learn.org/1.5/modules/generated/sklearn.pipeline.Pipeline.html\">?<span>Documentation for Pipeline</span></a><span class=\"sk-estimator-doc-link fitted\">i<span>Fitted</span></span></label><div class=\"sk-toggleable__content fitted\"><pre>Pipeline(steps=[(&#x27;preprocessor&#x27;,\n",
       "                 ColumnTransformer(remainder=&#x27;passthrough&#x27;,\n",
       "                                   transformers=[(&#x27;onehot&#x27;, OneHotEncoder(),\n",
       "                                                  [&#x27;State&#x27;])])),\n",
       "                (&#x27;regressor&#x27;, LinearRegression())])</pre></div> </div></div><div class=\"sk-serial\"><div class=\"sk-item sk-dashed-wrapped\"><div class=\"sk-label-container\"><div class=\"sk-label fitted sk-toggleable\"><input class=\"sk-toggleable__control sk-hidden--visually\" id=\"sk-estimator-id-2\" type=\"checkbox\" ><label for=\"sk-estimator-id-2\" class=\"sk-toggleable__label fitted sk-toggleable__label-arrow fitted\">&nbsp;preprocessor: ColumnTransformer<a class=\"sk-estimator-doc-link fitted\" rel=\"noreferrer\" target=\"_blank\" href=\"https://scikit-learn.org/1.5/modules/generated/sklearn.compose.ColumnTransformer.html\">?<span>Documentation for preprocessor: ColumnTransformer</span></a></label><div class=\"sk-toggleable__content fitted\"><pre>ColumnTransformer(remainder=&#x27;passthrough&#x27;,\n",
       "                  transformers=[(&#x27;onehot&#x27;, OneHotEncoder(), [&#x27;State&#x27;])])</pre></div> </div></div><div class=\"sk-parallel\"><div class=\"sk-parallel-item\"><div class=\"sk-item\"><div class=\"sk-label-container\"><div class=\"sk-label fitted sk-toggleable\"><input class=\"sk-toggleable__control sk-hidden--visually\" id=\"sk-estimator-id-3\" type=\"checkbox\" ><label for=\"sk-estimator-id-3\" class=\"sk-toggleable__label fitted sk-toggleable__label-arrow fitted\">onehot</label><div class=\"sk-toggleable__content fitted\"><pre>[&#x27;State&#x27;]</pre></div> </div></div><div class=\"sk-serial\"><div class=\"sk-item\"><div class=\"sk-estimator fitted sk-toggleable\"><input class=\"sk-toggleable__control sk-hidden--visually\" id=\"sk-estimator-id-4\" type=\"checkbox\" ><label for=\"sk-estimator-id-4\" class=\"sk-toggleable__label fitted sk-toggleable__label-arrow fitted\">&nbsp;OneHotEncoder<a class=\"sk-estimator-doc-link fitted\" rel=\"noreferrer\" target=\"_blank\" href=\"https://scikit-learn.org/1.5/modules/generated/sklearn.preprocessing.OneHotEncoder.html\">?<span>Documentation for OneHotEncoder</span></a></label><div class=\"sk-toggleable__content fitted\"><pre>OneHotEncoder()</pre></div> </div></div></div></div></div><div class=\"sk-parallel-item\"><div class=\"sk-item\"><div class=\"sk-label-container\"><div class=\"sk-label fitted sk-toggleable\"><input class=\"sk-toggleable__control sk-hidden--visually\" id=\"sk-estimator-id-5\" type=\"checkbox\" ><label for=\"sk-estimator-id-5\" class=\"sk-toggleable__label fitted sk-toggleable__label-arrow fitted\">remainder</label><div class=\"sk-toggleable__content fitted\"><pre>[&#x27;R&amp;D Spend&#x27;, &#x27;Administration&#x27;, &#x27;Marketing Spend&#x27;]</pre></div> </div></div><div class=\"sk-serial\"><div class=\"sk-item\"><div class=\"sk-estimator fitted sk-toggleable\"><input class=\"sk-toggleable__control sk-hidden--visually\" id=\"sk-estimator-id-6\" type=\"checkbox\" ><label for=\"sk-estimator-id-6\" class=\"sk-toggleable__label fitted sk-toggleable__label-arrow fitted\">passthrough</label><div class=\"sk-toggleable__content fitted\"><pre>passthrough</pre></div> </div></div></div></div></div></div></div><div class=\"sk-item\"><div class=\"sk-estimator fitted sk-toggleable\"><input class=\"sk-toggleable__control sk-hidden--visually\" id=\"sk-estimator-id-7\" type=\"checkbox\" ><label for=\"sk-estimator-id-7\" class=\"sk-toggleable__label fitted sk-toggleable__label-arrow fitted\">&nbsp;LinearRegression<a class=\"sk-estimator-doc-link fitted\" rel=\"noreferrer\" target=\"_blank\" href=\"https://scikit-learn.org/1.5/modules/generated/sklearn.linear_model.LinearRegression.html\">?<span>Documentation for LinearRegression</span></a></label><div class=\"sk-toggleable__content fitted\"><pre>LinearRegression()</pre></div> </div></div></div></div></div></div>"
      ]
     },
     "execution_count": 91,
     "metadata": {},
     "output_type": "execute_result"
    }
   ],
   "execution_count": 91
  },
  {
   "metadata": {
    "ExecuteTime": {
     "end_time": "2025-02-14T21:30:40.972687Z",
     "start_time": "2025-02-14T21:30:40.950600Z"
    }
   },
   "cell_type": "code",
   "source": [
    "# Calcular y mostrar las métricas para el nuevo modelo\n",
    "y_train_pred_nuevas = pipeline_nuevas.predict(X_train_nuevas)\n",
    "SSE_train_nuevas = calculate_SSE(y_train_nuevos, y_train_pred_nuevas)\n",
    "SST_train_nuevas = calculate_SST(y_train_nuevos)\n",
    "SSR_train_nuevas = calculate_SSR(SST_train_nuevas, SSE_train_nuevas)\n",
    "R2_train_nuevas = 1 - SSE_train_nuevas / SST_train_nuevas\n",
    "R2_adj_train_nuevas = 1 - (SSE_train_nuevas / (len(y_train_nuevos) - X_train_nuevas.shape[1] - 1)) / (SST_train_nuevas / (len(y_train_nuevos) - 1))"
   ],
   "id": "dbc4576bd137335f",
   "outputs": [],
   "execution_count": 92
  },
  {
   "metadata": {
    "ExecuteTime": {
     "end_time": "2025-02-14T21:30:40.994444Z",
     "start_time": "2025-02-14T21:30:40.989487Z"
    }
   },
   "cell_type": "code",
   "source": [
    "print(f\"\\nNuevo modelo de entrenamiento:\")\n",
    "print(f\"SSE: {SSE_train_nuevas}\")\n",
    "print(f\"SST: {SST_train_nuevas}\")\n",
    "print(f\"SSR: {SSR_train_nuevas}\")\n",
    "print(f\"R²: {R2_train_nuevas}\")\n",
    "print(f\"R² ajustado: {R2_adj_train_nuevas}\")"
   ],
   "id": "a244d096276be5d5",
   "outputs": [
    {
     "name": "stdout",
     "output_type": "stream",
     "text": [
      "\n",
      "Nuevo modelo de entrenamiento:\n",
      "SSE: 3481749147.2060595\n",
      "SST: 63300608353.770935\n",
      "SSR: 59818859206.56487\n",
      "R²: 0.9449965926433526\n",
      "R² ajustado: 0.9387104889454501\n"
     ]
    }
   ],
   "execution_count": 93
  },
  {
   "metadata": {
    "ExecuteTime": {
     "end_time": "2025-02-14T21:30:41.104567Z",
     "start_time": "2025-02-14T21:30:41.087030Z"
    }
   },
   "cell_type": "code",
   "source": [
    "# Hacer lo mismo para los datos de prueba\n",
    "y_test_pred_nuevas = pipeline_nuevas.predict(X_test_nuevas)\n",
    "SSE_test_nuevas = calculate_SSE(y_test_nuevos, y_test_pred_nuevas)\n",
    "SST_test_nuevas = calculate_SST(y_test_nuevos)\n",
    "SSR_test_nuevas = calculate_SSR(SST_test_nuevas, SSE_test_nuevas)\n",
    "R2_test_nuevas = 1 - SSE_test_nuevas / SST_test_nuevas\n",
    "R2_adj_test_nuevas = 1 - (SSE_test_nuevas / (len(y_test_nuevos) - X_test_nuevas.shape[1] - 1)) / (SST_test_nuevas / (len(y_test_nuevos) - 1))"
   ],
   "id": "86603e3974827657",
   "outputs": [],
   "execution_count": 94
  },
  {
   "metadata": {
    "ExecuteTime": {
     "end_time": "2025-02-14T21:30:41.121827Z",
     "start_time": "2025-02-14T21:30:41.112756Z"
    }
   },
   "cell_type": "code",
   "source": [
    "print(f\"\\nNuevo modelo de prueba:\")\n",
    "print(f\"SSE: {SSE_test_nuevas}\")\n",
    "print(f\"SST: {SST_test_nuevas}\")\n",
    "print(f\"SSR: {SSR_test_nuevas}\")\n",
    "print(f\"R²: {R2_test_nuevas}\")\n",
    "print(f\"R² ajustado: {R2_adj_test_nuevas}\")"
   ],
   "id": "b2b93e35fd398b0b",
   "outputs": [
    {
     "name": "stdout",
     "output_type": "stream",
     "text": [
      "\n",
      "Nuevo modelo de prueba:\n",
      "SSE: 500379591.6416779\n",
      "SST: 15071605761.115088\n",
      "SSR: 14571226169.47341\n",
      "R²: 0.9667998486974319\n",
      "R² ajustado: 0.9402397276553774\n"
     ]
    }
   ],
   "execution_count": 95
  },
  {
   "metadata": {},
   "cell_type": "markdown",
   "source": [
    "### ENTREGA 2: Muestra:\n",
    "\n",
    "a) Capturas de ejecución y el código. <br><br>\n",
    "b) Haz una marca donde aumente el R2\n",
    ": [ ]Train [X]Test <br><br>\n",
    "c) Haz una marca donde aumente del R2\n",
    " ajustado: [ ]Train [X]Test <br><br>\n",
    "d) ¿Dónde aparece mayor mejora? En el R2\n",
    " o en el R2\n",
    " ajustado. <p style=\"color: green;\">En el r2</p><br><br>\n",
    "e) ¿Marca lo que calcula score() en scikit-learn? (_)SSE (_)SST (_)SSR (X)R\n",
    "2 (_)R\n",
    "2 ajustado"
   ],
   "id": "77de93a5ab8d72dc"
  },
  {
   "metadata": {},
   "cell_type": "markdown",
   "source": [
    "K-NN <br><br>\n",
    "Como tenemos pocos datos vamos a ver como se comportará un K-NN, por ejemplo un 3-NN. A\n",
    "continuación del fichero, añade las sentencias para crear uno y muestra su score para los datos de test\n",
    "tras entrenarlo. Usaremos todas las columnas de predictoras:"
   ],
   "id": "17b690e80a4cbac0"
  },
  {
   "metadata": {
    "ExecuteTime": {
     "end_time": "2025-02-14T21:44:16.605380Z",
     "start_time": "2025-02-14T21:44:16.118313Z"
    }
   },
   "cell_type": "code",
   "source": [
    "from sklearn.neighbors import KNeighborsRegressor\n",
    "# Crear y entrenar el modelo K-NN (3 vecinos)\n",
    "knn = KNeighborsRegressor(n_neighbors=3)\n",
    "knn.fit(X_train, y_train)\n",
    "\n",
    "# Calcular el score del modelo K-NN para datos de prueba\n",
    "knn_test_score = knn.score(X_test, y_test)\n",
    "print(\"\\nScore de K-NN en datos de prueba:\", knn_test_score)"
   ],
   "id": "f3c65e04cb6eade4",
   "outputs": [
    {
     "name": "stdout",
     "output_type": "stream",
     "text": [
      "\n",
      "Score de K-NN en datos de prueba: 0.7162220513708704\n"
     ]
    }
   ],
   "execution_count": 97
  },
  {
   "metadata": {},
   "cell_type": "markdown",
   "source": [
    "### ENTREGA 3: Muestra:\n",
    "a) Capturas de ejecución y el código.<br><br>\n",
    "b) Valor del hiperparámetro K que mejore el score alcanzado con K=3.\n",
    "<p style=\"color:green\">0.71</p>\n"
   ],
   "id": "fa3614215f3b13b7"
  }
 ],
 "metadata": {
  "kernelspec": {
   "display_name": "Python 3",
   "language": "python",
   "name": "python3"
  },
  "language_info": {
   "codemirror_mode": {
    "name": "ipython",
    "version": 2
   },
   "file_extension": ".py",
   "mimetype": "text/x-python",
   "name": "python",
   "nbconvert_exporter": "python",
   "pygments_lexer": "ipython2",
   "version": "2.7.6"
  }
 },
 "nbformat": 4,
 "nbformat_minor": 5
}
