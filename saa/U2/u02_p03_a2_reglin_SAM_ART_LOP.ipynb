{
 "cells": [
  {
   "metadata": {},
   "cell_type": "markdown",
   "source": "# 📌ACTIVIDAD 2: UN CASO MÁS REAL.",
   "id": "33b81e401e708bdb"
  },
  {
   "metadata": {},
   "cell_type": "markdown",
   "source": [
    "Crea el fichero u02_p03_a2_reglin_<tus_iniciales>.py. Vamos a trabajar con los datos del fichero\n",
    "\"seguros_de_coches.csv\" que utiliza una compañía aseguradora. <br><br>\n",
    "COMPRENDER LOS DATOS DEL DATASET<br><br>\n",
    "Hay 3 tipos de características:<br><br>\n",
    "(a) La especificación de un automóvil en términos de diferentes características.<br><br>\n",
    "(b) Su calificación de riesgo de seguro asignada. Es un indicador del grado en que el\n",
    "automóvil es más problemático de lo que indica su precio. Inicialmente, a los automóviles se\n",
    "les asigna un símbolo de factor de riesgo asociado con su precio. Luego, si es más arriesgado (o\n",
    "menos), este símbolo se ajusta moviéndolo hacia arriba (o hacia abajo) en la escala. Los\n",
    "profesionales llaman a este proceso “symboling”. Un valor de 3 indica que el automóvil es\n",
    "riesgoso y -3 que probablemente sea bastante seguro.<br><br>\n",
    "(c) El pago medio relativo por pérdida por año de vehículo asegurado. Este valor está\n",
    "normalizado para todos los automóviles dentro de una clasificación de tamaño particular (two\u0002door small, station wagons, sports/speciality, etc…) y representa la pérdida promedio por\n",
    "automóvil por año.<br><br>\n",
    "Hay que tener en cuenta que los valores ausentes están definidos con un “?”. Completa los siguientes\n",
    "pasos en el fichero Python comenzando por:<br><br>\n",
    "a) Cargar los datos en un Dataframe, (adapta la ruta al código de la siguiente figura). <br><br>\n",
    "b) Mostrar los 5 primeros ejemplos por pantalla (completa y obtén mismos resultados).<br><br>\n",
    "c) Muestra un resumen de las columnas del dataset (completa y obtén mismos resultados). <br><br>\n"
   ],
   "id": "8cb01d2c758e72c"
  },
  {
   "cell_type": "code",
   "execution_count": null,
   "id": "initial_id",
   "metadata": {
    "collapsed": true
   },
   "outputs": [],
   "source": [
    ""
   ]
  },
  {
   "metadata": {},
   "cell_type": "markdown",
   "source": [
    "DATOS AUSENTES Y CATEGÓRICOS<br><br>\n",
    "Los datos se han cargado remplazando los símbolos “?” como valores ausentes NaN. como estaba\n",
    "definido en la información del dataset. Primero sumarizamos los datos ausentes por característica.\n",
    "Luego nos podemos fijar en el listado que nos ha devuelto el método autos.info() y todas las que no\n",
    "tengan un tipo numérico (intX y floatX) serán categóricas de una u otra forma"
   ],
   "id": "c859bfaf4c22a560"
  },
  {
   "metadata": {},
   "cell_type": "code",
   "outputs": [],
   "execution_count": null,
   "source": "",
   "id": "ee0616a12141da90"
  },
  {
   "metadata": {},
   "cell_type": "markdown",
   "source": [
    "Para corregirlas podemos crearnos un array con sus nombres.\n",
    "Completa el array cols_categoricas de la figura con el resto de\n",
    "características categóricas (ahora solamente aparecen la primera y\n",
    "la última). Usamos este array para cambiarles el tipo de dato. Y a\n",
    "dos características ordinales le indicamos que lo son. Por último\n",
    "mostramos información del dataframe. Deberías obtener algo\n",
    "similar a esto como salida.<br><br>\n",
    "Descripción estadística<br><br>\n",
    "Se debe hacer un análisis de cada una de las variables y describir\n",
    "sus propiedades. Realizar el análisis univariado es muy\n",
    "importante para entender el comportamiento de cada una de las\n",
    "variables y poder detectar posibles problemas en los datos. Nunca\n",
    "hay que saltarse este paso. Por ejemplo vas a contar cuantas veces\n",
    "aparece cada valor de las columnas categóricas. Aquellas\n",
    "columnas que tengan valores que solamente aparezcan una vez,\n",
    "las añades al array cols_categoricas_escasas."
   ],
   "id": "4c5dc51e7054cbda"
  },
  {
   "metadata": {},
   "cell_type": "code",
   "outputs": [],
   "execution_count": null,
   "source": "",
   "id": "630f71b131cc408c"
  },
  {
   "metadata": {},
   "cell_type": "markdown",
   "source": [
    "Algunos valores categóricos solo aparecen en un único ejemplo, es el caso de la característica “marca”\n",
    "donde “mercury” solamente aparece una vez y eso puede dar problemas a los encoders. Igual ocurre\n",
    "con otras características. Una solución es ocuparse de estos casos en la fase de ingeniería de\n",
    "características (es lo que haremos en este ejemplo). Pero se puede perder conocimiento.\n",
    "Otra solución es añadir más datos (posibilidad que no tenemos) o encargarse de garantizar que\n",
    "siempre estén estos ejemplos en el conjunto de entrenamiento. Este procedimiento necesita una\n",
    "implementación más compleja. Podemos crearnos un dataset temporal y añadirlo a los datos de train\n",
    "los ejemplos con valores escasos de manera artificial. Para ello creamos una condición para cada\n",
    "característica que tenga estos valores escasos y podemos generar sus datos. Completa las dos\n",
    "condiciones que faltan del siguiente código:"
   ],
   "id": "3e733c916024fa86"
  },
  {
   "metadata": {},
   "cell_type": "code",
   "outputs": [],
   "execution_count": null,
   "source": "",
   "id": "5f72bb193cac86eb"
  },
  {
   "metadata": {},
   "cell_type": "markdown",
   "source": [
    "ESTUDIAR ESTADÍSTICAS DE PAREJAS DE VARIABLES<br><br>\n",
    "En primer lugar vamos a estudiar si todas las características numéricas influyen de manera lineal en el\n",
    "target. Podemos hacerlo de manera visual creando scatterplot() de cada una con el target"
   ],
   "id": "a9adfcccc37bf579"
  },
  {
   "metadata": {},
   "cell_type": "code",
   "outputs": [],
   "execution_count": null,
   "source": "",
   "id": "14dc525bfcd4f70"
  },
  {
   "metadata": {},
   "cell_type": "markdown",
   "source": [
    "Estudiar la correlación entre variables<br><br>\n",
    "La correlación lineal entre las variables predictoras que sean numéricas. Visualmente se puede ver en\n",
    "las graficas como las anteriores pero realizadas entre cada par de predictoras o podemos hacer el\n",
    "estudio de manera numérica creando una matriz de correlaciones. Vamos a usar esta segunda\n",
    "aproximación, pero antes:<br><br>\n",
    "• La variable \"tamaño_motor\" tiene una relación lineal positiva con el target.<br><br>\n",
    "• Pero \"symboling\" no tiene relación lineal y por tanto el valor de la correlación no es válido.<br><br>\n",
    "Como estamos interesados en la cantidad de correlación y no en si esta es positiva o negativa, lo que\n",
    "vamos a hacer es generar la matriz de correlaciones y transformarla en sus valores absolutos para\n",
    "visualizar mejor los posibles casos a contemplar. Primero ponemos la característica target la primer\n",
    "apara que la primera fila y la primera columna se vean claramente. Debería aparecer lo más oscura\n",
    "posible. Si es inferior a 0.1 (color claro cercano al blanco) es candidata a eliminarla como predictora.<br><br>\n",
    "Además, si encontramos correlaciones importantes con otras predictoras es que hay columnas con\n",
    "colinealidad y eso tampoco es bueno, podemos eliminar la que tenga menor correlación con target."
   ],
   "id": "d25494b571f4a869"
  },
  {
   "metadata": {},
   "cell_type": "code",
   "outputs": [],
   "execution_count": null,
   "source": "",
   "id": "1438f4689cabc759"
  },
  {
   "metadata": {},
   "cell_type": "markdown",
   "source": [
    "Es el caso de las características longitud, anchura, peso y tamaño del motor. Todas ellas tienen una alta\n",
    "correlación. Serían candidatas a examinarlas en profundidad para eliminar algunas. <br><br>\n",
    "A las características que tienen valores categóricos no podemos calcularles el coeficiente de\n",
    "correlación pero sí podemos hacerles otros test estadísticos como ANOVA (Análisis de la Varianza). Pero\n",
    "vamos simplemente a dibujar sus boxplot"
   ],
   "id": "18a1c3eadb2427ed"
  },
  {
   "metadata": {},
   "cell_type": "code",
   "outputs": [],
   "execution_count": null,
   "source": "",
   "id": "7f79f49f9f5014f9"
  },
  {
   "metadata": {},
   "cell_type": "markdown",
   "source": [
    "Hay variables categóricas que permiten distinguir entre grupos de valores de la variable objetivo, por\n",
    "ejemplo la variable \"lugar_de_motor\" los dos boxplots tienen diferencias significativas para cada valor,\n",
    "por lo que es una variable que sí aporta información al modelo. <br><br>\n",
    "La variable \"puertas\" no permite distinguir claramente grupos de valores del target, por lo que no es\n",
    "una variable que aporte información al modelo. Visualmente puedes identificar que la distribución de\n",
    "los boxplots son similares para ambos valores: two ó four."
   ],
   "id": "83a74e7ae3ea0312"
  },
  {
   "metadata": {},
   "cell_type": "code",
   "outputs": [],
   "execution_count": null,
   "source": "",
   "id": "297617be1a5c95cb"
  },
  {
   "metadata": {},
   "cell_type": "markdown",
   "source": "Aunque se detectan características a eliminar, en este ejemplo, continuamos trabajando con ellas.\n",
   "id": "1f2d24e8c16f63d5"
  },
  {
   "metadata": {},
   "cell_type": "code",
   "outputs": [],
   "execution_count": null,
   "source": "",
   "id": "78214f9aab639c4a"
  },
  {
   "metadata": {},
   "cell_type": "markdown",
   "source": [
    "FASE DE INGENIERÍA DE CARACTERÍSTICAS<br><br>\n",
    "Aplicamos una imputación simple sin hacer un análisis mas profundo de los datos. Las variables\n",
    "numéricas se imputan con la media y las categóricas con la moda. Usamos pipelines de\n",
    "transformación porque nos dan flexibilidad y nos van a ahorrar mucho trabajo a la larga:<br><br>\n",
    "• OneHotEncoder para las variables categóricas nominales.<br><br>\n",
    "• OrdinalEncoder para las variables categóricas ordinales<br><br>"
   ],
   "id": "c9e2a2679e62c03c"
  },
  {
   "metadata": {},
   "cell_type": "code",
   "outputs": [],
   "execution_count": null,
   "source": "",
   "id": "dfc5e220ab9b978b"
  },
  {
   "metadata": {},
   "cell_type": "markdown",
   "source": [
    "DIVIDIR EL DATASET EN TRAIN Y TEST<br><br>\n",
    "En el exterior, dejamos el 80% de los datos para entrenar y el 20% para test. No tenemos restricciones\n",
    "de balanceo, etc. Si acaso, vendría bien escalar características numéricas según los algoritmos que\n",
    "usemos"
   ],
   "id": "72f16d3107ab1786"
  },
  {
   "metadata": {},
   "cell_type": "code",
   "outputs": [],
   "execution_count": null,
   "source": "",
   "id": "50f5bf60c4a6cccf"
  },
  {
   "metadata": {},
   "cell_type": "markdown",
   "source": [
    "BUSCAR UN BUEN MODELO DE REGRESIÓN<br><br>\n",
    "Si se tienen muchos modelos, realizar validación cruzada con todos es costoso, así que se deben ir\n",
    "descartando los modelos con menos desempeño hasta llegar al modelo final. Una forma de hacerlo:<br><br>\n",
    "• Inicialmente se dividen los datos en dos partes: Una para realizar la selección del modelo\n",
    "(datos de selección del modelo) y otra para realizar la prueba de desempeño (datos de test).\n",
    "Esta parte de los datos se debe usar solo en el final de todo el proceso.<br><br>\n",
    "• Luego se hace una evaluación de todos los modelos con la división anterior y se seleccionan los\n",
    "mejores (es preferible usar modelos con principios de funcionamiento diferentes entre ellos).<br><br>\n",
    "• Con lo mejores modelos (la cantidad depende de los resultados) se realiza la validación\n",
    "cruzada (detectar si hay overfitting) para obtener los que tengan mejor resultado. Se saca el\n",
    "mejor o los mejores modelos (mejor desempeño y poca varianza) y se realiza optimización de\n",
    "hiperparámetros. Este proceso es costoso, por eso se debe realizar con muy pocos modelos.<br><br>\n",
    "• Luego se selecciona el mejor modelo (mejor desempeño y menor varianza) y se obtienen los\n",
    "hiperparámetros que dieron el mejor resultado.<br><br>\n",
    "• Finalmente, se entrena el modelo seleccionado con los hiperparámetros encontrados con los\n",
    "datos de selección de modelos y se hace la prueba con los datos de test.\n",
    "Creamos una función que se encargue de entrenar a un modelo. Esta función dividirá los datos que le\n",
    "pasemos de nuevo en train y test. Aunque normalmente le pasaremos un x_train e y_train externo:"
   ],
   "id": "f5f6333d59716ff0"
  },
  {
   "metadata": {},
   "cell_type": "code",
   "outputs": [],
   "execution_count": null,
   "source": "",
   "id": "e7dbeb3de7645c3e"
  },
  {
   "metadata": {},
   "cell_type": "markdown",
   "source": "Hacemos otra función para mostrar los resultados del entrenamiento:",
   "id": "84b0804bd49d79de"
  },
  {
   "metadata": {},
   "cell_type": "code",
   "outputs": [],
   "execution_count": null,
   "source": "",
   "id": "685bba7f1d98b7c6"
  },
  {
   "metadata": {},
   "cell_type": "markdown",
   "source": [
    "Ahora creamos y entrenamos varios modelos de regresión lineal con la función que hemos definido y\n",
    "registramos los score de cada uno en el diccionario creado a tal fin. Para el caso del modelo de\n",
    "regresión polinomial, vamos a generar características nuevas así que para automatizar el proceso,\n",
    "creamos un pipeline que automatice este nuevo paso, de esta manera no tendremos que hacerlo\n",
    "nosotros manualmente:"
   ],
   "id": "8c0a3531a7752aa0"
  },
  {
   "metadata": {},
   "cell_type": "code",
   "outputs": [],
   "execution_count": null,
   "source": "",
   "id": "ba907d73dfb20298"
  },
  {
   "metadata": {},
   "cell_type": "markdown",
   "source": [
    "Ahora podemos dibujar. Pero antes una aclaración, el modelo etiquetado como “Dummy” es uno que\n",
    "directamente devuelve siempre un valor fijo independientemente de la entrada, así que solamente acierta si se le\n",
    "aparece la virgen en un patinete. Como eso es improbable, es muy malo, en regresión similar a uno aleatorio. De\n",
    "hecho, uno que sea peor que él, tiene mérito. Y sin embargo, uno de los que tenemos tiene tanto overfitting que\n",
    "es mucho peor, porque al menos el dummy da la mediana y no se aleja mucho en sus predicciones, tendrá un\n",
    "score negativo (coeficiente de determinación malo) pero no muy alto. Así que cuando ejecutes el código, el\n",
    "modelo que de un score horrible es candidato a descartarlo (aunque si antes hubiésemos realizado limpieza de\n",
    "predictoras, selección de características formalmente hablando, el resultado podría cambiar)."
   ],
   "id": "97bebaa8b6b66c47"
  },
  {
   "metadata": {},
   "cell_type": "code",
   "outputs": [],
   "execution_count": null,
   "source": "",
   "id": "4b4faa4fffd90799"
  },
  {
   "metadata": {},
   "cell_type": "markdown",
   "source": [
    "Vuelve a ejecutar el código, y si vuelve a aparecer uno que destaque por lo malo que es, lo volvemos a nominar y\n",
    "comentamos su código.\n"
   ],
   "id": "ad9f9c1a9107b24d"
  },
  {
   "metadata": {},
   "cell_type": "code",
   "outputs": [],
   "execution_count": null,
   "source": "",
   "id": "a6fb1b16d7a1946d"
  },
  {
   "metadata": {},
   "cell_type": "markdown",
   "source": [
    "Al final el gráfico que te quedará parecido al de arriba, verás que son todos bastante competentes (salvo el\n",
    "dummy, claro y alguno que tenga overfitting). He tachado los nombres para que tengas que averiguar tu mismo\n",
    "cuales tienen problemas si mantenemos todas las predictoras. Nos hemos quedado con 4 que parecen mejores."
   ],
   "id": "fbadb61975e68e2a"
  },
  {
   "metadata": {},
   "cell_type": "markdown",
   "source": [
    "VALIDACIÓN CRUZADA<br><br>\n",
    "Analizar la varianza de los modelos más prometedores para obtener los que tengan mejor desempeño.\n",
    "Aunque tu debes usar los 4 que hayas considerado mejores, yo te voy a mostrar el código de todos:\n"
   ],
   "id": "75bb67da0b7b2344"
  },
  {
   "metadata": {},
   "cell_type": "code",
   "outputs": [],
   "execution_count": null,
   "source": "",
   "id": "c257d81f22db24be"
  },
  {
   "metadata": {},
   "cell_type": "markdown",
   "source": [
    "Ahora vamos a definir estructuras que nos permitan realizar la CV con 10-Fold para cada modelo. Yo\n",
    "voy a usar todos y eso hará que mis gráficos no sean muy buenos al tener dos modelos muy malos."
   ],
   "id": "df595af9f29d27e3"
  },
  {
   "metadata": {},
   "cell_type": "code",
   "outputs": [],
   "execution_count": null,
   "source": "",
   "id": "b5865510aa63a287"
  },
  {
   "metadata": {},
   "cell_type": "markdown",
   "source": [
    "Comparación Estadística de Modelos<br><br>\n",
    "Ahora tras la validación cruzada vamos a usar los resultados para comprobar si hay o no una\n",
    "diferencia significativa entre los modelos considerados. Usaremos un test ANOVA de un factor"
   ],
   "id": "8536254d471f9d7a"
  },
  {
   "metadata": {},
   "cell_type": "code",
   "outputs": [],
   "execution_count": null,
   "source": "",
   "id": "d474b64ef6285614"
  },
  {
   "metadata": {},
   "cell_type": "markdown",
   "source": [
    "En mi caso el test no es adecuado porque una de las condiciones que asume es que las desviaciones de\n",
    "todos los datos que participan en el el test son similares (homoscedasticidad) y en mi ejecución no se\n",
    "cumple al mantener los dos modelos que son rematadamente malos con una varianza excesiva\n",
    "respecto a los demás."
   ],
   "id": "be901632f9ece56a"
  },
  {
   "metadata": {},
   "cell_type": "code",
   "outputs": [],
   "execution_count": null,
   "source": "",
   "id": "5cff7d65577204c"
  }
 ],
 "metadata": {
  "kernelspec": {
   "display_name": "Python 3",
   "language": "python",
   "name": "python3"
  },
  "language_info": {
   "codemirror_mode": {
    "name": "ipython",
    "version": 2
   },
   "file_extension": ".py",
   "mimetype": "text/x-python",
   "name": "python",
   "nbconvert_exporter": "python",
   "pygments_lexer": "ipython2",
   "version": "2.7.6"
  }
 },
 "nbformat": 4,
 "nbformat_minor": 5
}
