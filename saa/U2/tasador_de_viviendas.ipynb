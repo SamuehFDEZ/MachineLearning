{
 "cells": [
  {
   "metadata": {},
   "cell_type": "markdown",
   "source": "# 📌ACTIVIDAD 3: CREAR UN SISTEMA TASADOR DE VIVIENDAS.",
   "id": "fcdcec6b675be177"
  },
  {
   "metadata": {},
   "cell_type": "markdown",
   "source": [
    "### DEFINIR Y RECOPILAR DATOS\n",
    "En primer lugar debemos ponernos de acuerdo de manera que cada uno de nosotros piense una\n",
    "característica que: <br><br>\n",
    "• Pueda influir en el precio de una vivienda.<br><br>\n",
    "• Sea una información que tengamos la capacidad de recolectar.<br><br>\n",
    "ENTREGA 5: Añade al documento enlace enlace: <br><br>\n",
    "a) En la hoja de cálculo \"datos_viviendas.xlsl\" en la hoja datos, añade una columna cuyo\n",
    "prefijo tenga tus iniciales. Ya tiene estas nueve: josrosrod_autor, josrosrod_origen,\n",
    "josrosrod_municipio, josrosrod_dia, josrosrod_mes, josrosrod_año, josrosrod_lat,\n",
    "josrosrod_lon, josrosrod_precio<br><br>\n",
    "b) En la hoja \"descripción\" añade una descripción del significado de esa columna y de cómo se\n",
    "puede conseguir. Ya tendrás anotaciones de las características que están añadidas.<br><br>\n",
    "Cuando ya tengamos definidas las características que vamos a utilizar para esta actividad, vamos a\n",
    "recolectar datos, al menos 10 cada uno. Intentando completar la información que no dispongamos\n",
    "(intentaremos no inventar nada, de manera que cuando algo no lo sepamos, tendremos que indicar de\n",
    "donde lo hemos conseguido). No puedes dejar más de un valor ausente en tus datos.\n",
    "\n",
    "ENTREGA: <br><br>\n",
    "a0) Añade a la hoja de cálculo 10 ejemplos y aporta una columna.<br><br>\n",
    "a) Análisis y preprocesamiento de datos:<br><br>\n",
    "• Análisis de datos: histogramas, boxplots, cantidad de datos ausentes, presencia de\n",
    "outliers.<br><br>\n",
    "• Codificación de categóricas: label-encoding o one-hot-encoding.<br><br>\n",
    "• Detección e imputación de ausentes.<br><br>\n",
    "• Detección e imputación de anomalías.<br><br>\n",
    "• Escalado de numéricas.<br><br>\n",
    "• Debes ir creando un pipeline de manera que se le facilite uno de los ejemplos y lo\n",
    "preprocese para dárselo al modelo.<br><br>\n",
    "a) Selección de características:<br><br>\n",
    "• Matriz de correlaciones y mapa de calor: más fácil de interpretar si dejas el target como\n",
    "la primera característica.<br><br>\n",
    "• Estudio estadístico univariado (eliminar características con poca influencia en target).<br><br>\n",
    "• Estudio de colinealidad por parejas (eliminar alta correlación entre predictoras).<br><br>\n",
    "c) Selección de modelos de regresión: debes considerar al menos 5 diferentes y uno de ellos el\n",
    "método de mínimos cuadrados. Recuerda que tienes LinearRegressor, SGDRegressor, Ridge,\n",
    "Lasso, ElasticNet, K-NN, polinómico...<br><br>\n",
    "d) Estudio de varianza de modelos con CV.<br><br>\n",
    "e) Seleccionar los dos que mejor desempeño muestren justificando su elección.<br><br>\n",
    "f) Configuración de hiperparámetros con grid-search en los mejores 2 modelos seleccionados.<br><br>\n",
    "f) Estudio final de errores en las predicciones y gráfico de importancia de características.<br><br>\n",
    "g) Selección justificada del mejor y su descripción:<br><br>\n",
    "• Qué predictoras utiliza.<br><br>\n",
    "• Una descripción de su utilización y procesos que realiza (preprocesamiento, ...).<br><br>\n",
    "• Qué desempeño alcanza en train y test (indica también la métrica empleada)<br><br>\n",
    "• Una valoración final de tu modelo según los resultados obtenidos.<br><br>\n",
    "h) Guarda el modelo en un fichero con el nombre <iniciales>_modelo_u02_p03_a3.joblib\n",
    "donde <iniciales> son las 3 primeras letras del nombre y apellidos, en mi caso sería\n",
    "\"josrosrod_modelo_u02_p03_a3.joblib\".<br><br>\n",
    "La entrega de esta última actividad es el 70% de la nota de la práctica y se valora:<br><br>\n",
    "• 50% puntos por la entrega: la realización de las actividades propuestas.<br><br>\n",
    "• Al modelo que entregues se le pedirá que realice 10 predicciones con datos probablemente no\n",
    "vistos. Según el error promedio que cometa se le asignará posición en un ranking. En función\n",
    "de la posición que ocupe (lo bien que lo haga), conseguirá más o menos puntuación adicional\n",
    "hasta completar el 20% restante\n"
   ],
   "id": "fd992a9d39a0ba79"
  },
  {
   "cell_type": "code",
   "execution_count": null,
   "id": "initial_id",
   "metadata": {
    "collapsed": true
   },
   "outputs": [],
   "source": [
    ""
   ]
  }
 ],
 "metadata": {
  "kernelspec": {
   "display_name": "Python 3",
   "language": "python",
   "name": "python3"
  },
  "language_info": {
   "codemirror_mode": {
    "name": "ipython",
    "version": 2
   },
   "file_extension": ".py",
   "mimetype": "text/x-python",
   "name": "python",
   "nbconvert_exporter": "python",
   "pygments_lexer": "ipython2",
   "version": "2.7.6"
  }
 },
 "nbformat": 4,
 "nbformat_minor": 5
}
