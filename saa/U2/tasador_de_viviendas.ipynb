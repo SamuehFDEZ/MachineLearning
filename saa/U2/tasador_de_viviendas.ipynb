{
 "cells": [
  {
   "metadata": {},
   "cell_type": "markdown",
   "source": "# 📌ACTIVIDAD 3: CREAR UN SISTEMA TASADOR DE VIVIENDAS.",
   "id": "fcdcec6b675be177"
  },
  {
   "metadata": {},
   "cell_type": "markdown",
   "source": [
    "### DEFINIR Y RECOPILAR DATOS\n",
    "En primer lugar debemos ponernos de acuerdo de manera que cada uno de nosotros piense una\n",
    "característica que: <br><br>\n",
    "• Pueda influir en el precio de una vivienda.<br><br>\n",
    "• Sea una información que tengamos la capacidad de recolectar.<br><br>\n",
    "ENTREGA 5: Añade al documento enlace enlace: <br><br>\n",
    "a) En la hoja de cálculo \"datos_viviendas.xlsl\" en la hoja datos, añade una columna cuyo\n",
    "prefijo tenga tus iniciales. Ya tiene estas nueve: josrosrod_autor, josrosrod_origen,\n",
    "josrosrod_municipio, josrosrod_dia, josrosrod_mes, josrosrod_año, josrosrod_lat,\n",
    "josrosrod_lon, josrosrod_precio<br><br>\n",
    "b) En la hoja \"descripción\" añade una descripción del significado de esa columna y de cómo se\n",
    "puede conseguir. Ya tendrás anotaciones de las características que están añadidas.<br><br>\n",
    "Cuando ya tengamos definidas las características que vamos a utilizar para esta actividad, vamos a\n",
    "recolectar datos, al menos 10 cada uno. Intentando completar la información que no dispongamos\n",
    "(intentaremos no inventar nada, de manera que cuando algo no lo sepamos, tendremos que indicar de\n",
    "donde lo hemos conseguido). No puedes dejar más de un valor ausente en tus datos.\n",
    "\n",
    "ENTREGA: <br><br>\n",
    "a0) Añade a la hoja de cálculo 10 ejemplos y aporta una columna.<br><br>\n",
    "a) Análisis y preprocesamiento de datos:<br><br>\n",
    "• Análisis de datos: histogramas, boxplots, cantidad de datos ausentes, presencia de\n",
    "outliers.<br><br>\n",
    "• Codificación de categóricas: label-encoding o one-hot-encoding.<br><br>\n",
    "• Detección e imputación de ausentes.<br><br>\n",
    "• Detección e imputación de anomalías.<br><br>\n",
    "• Escalado de numéricas.<br><br>\n",
    "• Debes ir creando un pipeline de manera que se le facilite uno de los ejemplos y lo\n",
    "preprocese para dárselo al modelo.<br><br>\n",
    "a) Selección de características:<br><br>\n",
    "• Matriz de correlaciones y mapa de calor: más fácil de interpretar si dejas el target como\n",
    "la primera característica.<br><br>\n",
    "• Estudio estadístico univariado (eliminar características con poca influencia en target).<br><br>\n",
    "• Estudio de colinealidad por parejas (eliminar alta correlación entre predictoras).<br><br>\n",
    "c) Selección de modelos de regresión: debes considerar al menos 5 diferentes y uno de ellos el\n",
    "método de mínimos cuadrados. Recuerda que tienes LinearRegressor, SGDRegressor, Ridge,\n",
    "Lasso, ElasticNet, K-NN, polinómico...<br><br>\n",
    "d) Estudio de varianza de modelos con CV.<br><br>\n",
    "e) Seleccionar los dos que mejor desempeño muestren justificando su elección.<br><br>\n",
    "f) Configuración de hiperparámetros con grid-search en los mejores 2 modelos seleccionados.<br><br>\n",
    "f) Estudio final de errores en las predicciones y gráfico de importancia de características.<br><br>\n",
    "g) Selección justificada del mejor y su descripción:<br><br>\n",
    "• Qué predictoras utiliza.<br><br>\n",
    "• Una descripción de su utilización y procesos que realiza (preprocesamiento, ...).<br><br>\n",
    "• Qué desempeño alcanza en train y test (indica también la métrica empleada)<br><br>\n",
    "• Una valoración final de tu modelo según los resultados obtenidos.<br><br>\n",
    "h) Guarda el modelo en un fichero con el nombre <iniciales>_modelo_u02_p03_a3.joblib\n",
    "donde <iniciales> son las 3 primeras letras del nombre y apellidos, en mi caso sería\n",
    "\"josrosrod_modelo_u02_p03_a3.joblib\".<br><br>\n",
    "La entrega de esta última actividad es el 70% de la nota de la práctica y se valora:<br><br>\n",
    "• 50% puntos por la entrega: la realización de las actividades propuestas.<br><br>\n",
    "• Al modelo que entregues se le pedirá que realice 10 predicciones con datos probablemente no\n",
    "vistos. Según el error promedio que cometa se le asignará posición en un ranking. En función\n",
    "de la posición que ocupe (lo bien que lo haga), conseguirá más o menos puntuación adicional\n",
    "hasta completar el 20% restante\n"
   ],
   "id": "fd992a9d39a0ba79"
  },
  {
   "metadata": {},
   "cell_type": "markdown",
   "source": "## 1. Carga de datos",
   "id": "26ebd6f6de725413"
  },
  {
   "cell_type": "code",
   "execution_count": null,
   "id": "initial_id",
   "metadata": {
    "collapsed": true
   },
   "outputs": [],
   "source": [
    "import pandas as pd\n",
    "import numpy as np\n",
    "import matplotlib.pyplot as plt\n",
    "import seaborn as sns\n",
    "from sklearn.model_selection import train_test_split, cross_val_score, GridSearchCV\n",
    "from sklearn.preprocessing import StandardScaler, LabelEncoder, OneHotEncoder\n",
    "from sklearn.impute import SimpleImputer\n",
    "from sklearn.linear_model import LinearRegression, Ridge, Lasso, ElasticNet\n",
    "from sklearn.neighbors import KNeighborsRegressor\n",
    "from sklearn.pipeline import Pipeline\n",
    "from sklearn.compose import ColumnTransformer\n",
    "from sklearn.metrics import mean_squared_error, r2_score\n",
    "import joblib\n",
    "\n",
    "# Cargar datos (modificar con el nombre de tu archivo)\n",
    "df = pd.read_excel(\"recursos/U02_P03/datos_viviendas.xlsx tu_archivo.csv\")\n",
    "df.head()"
   ]
  },
  {
   "metadata": {},
   "cell_type": "markdown",
   "source": "## 2. Análisis exploratorio (gráficos, valores ausentes, outliers)\n",
   "id": "28fc7751bf0be5cc"
  },
  {
   "metadata": {},
   "cell_type": "code",
   "outputs": [],
   "execution_count": null,
   "source": [
    "def analisis(df):\n",
    "    print(\"Información del dataset:\")\n",
    "    print(df.info())\n",
    "    print(\"\\nResumen estadístico:\")\n",
    "    print(df.describe())\n",
    "\n",
    "    # Valores ausentes\n",
    "    print(\"\\nValores ausentes:\")\n",
    "    print(df.isnull().sum())\n",
    "\n",
    "    # Histogramas y boxplots\n",
    "    df.hist(bins=20, figsize=(10, 8))\n",
    "    plt.show()\n",
    "\n",
    "    plt.figure(figsize=(10, 6))\n",
    "    sns.boxplot(data=df)\n",
    "    plt.xticks(rotation=90)\n",
    "    plt.show()\n",
    "\n",
    "# Aplicar análisis exploratorio\n",
    "analisis(df)"
   ],
   "id": "d367e6868fc6633e"
  },
  {
   "metadata": {},
   "cell_type": "markdown",
   "source": "## 3. Preprocesamiento (codificación, imputación, escalado)\n",
   "id": "bd666df861e9a679"
  },
  {
   "metadata": {},
   "cell_type": "code",
   "outputs": [],
   "execution_count": null,
   "source": [
    "# Separar variables numéricas y categóricas\n",
    "num_features = df.select_dtypes(include=['int64', 'float64']).columns\n",
    "cat_features = df.select_dtypes(include=['object']).columns\n",
    "\n",
    "# Pipeline de preprocesamiento\n",
    "num_pipeline = Pipeline([\n",
    "    ('imputer', SimpleImputer(strategy='mean')),\n",
    "    ('scaler', StandardScaler())\n",
    "])\n",
    "\n",
    "cat_pipeline = Pipeline([\n",
    "    ('imputer', SimpleImputer(strategy='most_frequent')),\n",
    "    ('encoder', OneHotEncoder(handle_unknown='ignore'))\n",
    "])\n",
    "\n",
    "preprocessor = ColumnTransformer([\n",
    "    ('num', num_pipeline, num_features),\n",
    "    ('cat', cat_pipeline, cat_features)\n",
    "])"
   ],
   "id": "cbbb45b7c7405ad8"
  },
  {
   "metadata": {},
   "cell_type": "markdown",
   "source": "## 4. Selección de características\n",
   "id": "c8f21b8b6525baf6"
  },
  {
   "metadata": {},
   "cell_type": "code",
   "outputs": [],
   "execution_count": null,
   "source": [
    "# División en train y test\n",
    "y = df['target']  # Modifica 'target' con la variable objetivo correcta\n",
    "X = df.drop(columns=['target'])\n",
    "X_train, X_test, y_train, y_test = train_test_split(X, y, test_size=0.2, random_state=42)"
   ],
   "id": "589607ac8e191bc2"
  },
  {
   "metadata": {},
   "cell_type": "markdown",
   "source": "## 5. Entrenamiento de modelos de regresión\n",
   "id": "b360ee27a53d0781"
  },
  {
   "metadata": {},
   "cell_type": "code",
   "outputs": [],
   "execution_count": null,
   "source": [
    "# Entrenar y evaluar modelos\n",
    "results = {}\n",
    "for name, model in models.items():\n",
    "    pipeline = Pipeline([\n",
    "        ('preprocessor', preprocessor),\n",
    "        ('regressor', model)\n",
    "    ])\n",
    "    scores = cross_val_score(pipeline, X_train, y_train, cv=5, scoring='r2')\n",
    "    results[name] = np.mean(scores)\n",
    "    print(f\"{name}: R² medio = {np.mean(scores):.4f}\")"
   ],
   "id": "346acb4dec7193d0"
  },
  {
   "metadata": {},
   "cell_type": "markdown",
   "source": "## 6. Evaluación y selección de modelos\n",
   "id": "580ee8a2970c08bc"
  },
  {
   "metadata": {},
   "cell_type": "code",
   "outputs": [],
   "execution_count": null,
   "source": [
    "# Seleccionar los dos mejores modelos\n",
    "best_models = sorted(results.items(), key=lambda x: x[1], reverse=True)[:2]\n",
    "print(\"\\nMejores modelos:\", best_models)"
   ],
   "id": "e408563f72043955"
  },
  {
   "metadata": {},
   "cell_type": "markdown",
   "source": "## 7. Optimización de hiperparámetros\n",
   "id": "db8e9eba491f4e32"
  },
  {
   "metadata": {},
   "cell_type": "code",
   "outputs": [],
   "execution_count": null,
   "source": [
    "# Grid Search para ajuste de hiperparámetros\n",
    "param_grid = {\n",
    "    'Ridge': {'regressor__alpha': [0.1, 1, 10]},\n",
    "    'KNN': {'regressor__n_neighbors': [3, 5, 7]}\n",
    "}"
   ],
   "id": "f03a4a02e87e4bf9"
  },
  {
   "metadata": {},
   "cell_type": "markdown",
   "source": "## 8.  Guardado del modelo final",
   "id": "35fa222067c2d38a"
  },
  {
   "metadata": {},
   "cell_type": "code",
   "outputs": [],
   "execution_count": null,
   "source": [
    "best_estimators = {}\n",
    "for name, _ in best_models:\n",
    "    model = models[name]\n",
    "    pipeline = Pipeline([\n",
    "        ('preprocessor', preprocessor),\n",
    "        ('regressor', model)\n",
    "    ])\n",
    "    grid_search = GridSearchCV(pipeline, param_grid[name], cv=5, scoring='r2')\n",
    "    grid_search.fit(X_train, y_train)\n",
    "    best_estimators[name] = grid_search.best_estimator_\n",
    "    print(f\"{name}: Mejor hiperparámetro {grid_search.best_params_}\")\n",
    "\n",
    "# Evaluación final del mejor modelo\n",
    "final_model = best_estimators[best_models[0][0]]\n",
    "y_pred = final_model.predict(X_test)\n",
    "print(f\"Mejor modelo: {best_models[0][0]}\")\n",
    "print(f\"R² en test: {r2_score(y_test, y_pred):.4f}\")\n",
    "print(f\"RMSE en test: {np.sqrt(mean_squared_error(y_test, y_pred)):.4f}\")\n",
    "\n",
    "# Guardar el modelo\n",
    "joblib.dump(final_model, \"SAM_ART_LOP_modelo_u02_p03_a3.joblib\")"
   ],
   "id": "850b5d4484da0e32"
  }
 ],
 "metadata": {
  "kernelspec": {
   "display_name": "Python 3",
   "language": "python",
   "name": "python3"
  },
  "language_info": {
   "codemirror_mode": {
    "name": "ipython",
    "version": 2
   },
   "file_extension": ".py",
   "mimetype": "text/x-python",
   "name": "python",
   "nbconvert_exporter": "python",
   "pygments_lexer": "ipython2",
   "version": "2.7.6"
  }
 },
 "nbformat": 4,
 "nbformat_minor": 5
}
