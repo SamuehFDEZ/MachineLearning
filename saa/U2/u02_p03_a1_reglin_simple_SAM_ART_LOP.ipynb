{
 "cells": [
  {
   "metadata": {},
   "cell_type": "markdown",
   "source": "# 📌ACTIVIDAD 1: REPASAR ALGORITMOS\n",
   "id": "8a5776f3e8255474"
  },
  {
   "metadata": {},
   "cell_type": "markdown",
   "source": [
    "Crea el fichero u02_p03_a1_reglin_simple_<tus_iniciales>.py o bien .ipynb. Utiliza pandas y carga\n",
    "los datos del fichero \"50_startups.csv\". Utilizaremos como predictora la columna \"R&D Spend\" (que\n",
    "significa gasto en I+D) y como target usaremos \"Profit\" (beneficios). <br><br>\n",
    "Como todo es un proceso aleatorio, para poder obtener resultados comparables vamos a utilizar la\n",
    "semilla \"123\" en todos los procesos. Divide los datos en train y test dejando el 80% para entrenamiento.<br><br>\n",
    "Haz un gráfico scatterplot() de los datos, con los datos de entrenamiento como círculos de color rojo\n",
    "y los de test círculos de color verde. Pon leyenda a cada variable y título \"Inversión I+D vs Beneficio\n",
    "de tus iniciales\""
   ],
   "id": "a81ebfc2d1fc68dc"
  },
  {
   "metadata": {},
   "cell_type": "markdown",
   "source": "## 1. Importación de librerías",
   "id": "819444e8f67b4e5e"
  },
  {
   "cell_type": "code",
   "id": "initial_id",
   "metadata": {
    "collapsed": true,
    "ExecuteTime": {
     "end_time": "2025-02-13T16:29:48.878796Z",
     "start_time": "2025-02-13T16:29:48.868905Z"
    }
   },
   "source": [
    "import pandas as pd\n",
    "import numpy as np\n",
    "import matplotlib.pyplot as plt\n",
    "from sklearn.model_selection import train_test_split\n",
    "from sklearn.linear_model import LinearRegression"
   ],
   "outputs": [],
   "execution_count": 35
  },
  {
   "metadata": {},
   "cell_type": "markdown",
   "source": "## 2. Carga del csv",
   "id": "64117f8cd57c1cf6"
  },
  {
   "metadata": {
    "ExecuteTime": {
     "end_time": "2025-02-13T16:29:48.989585Z",
     "start_time": "2025-02-13T16:29:48.958870Z"
    }
   },
   "cell_type": "code",
   "source": [
    "df = pd.read_csv(\"recursos/U02_P03/50_Startups.csv\")\n",
    "df.head()\n"
   ],
   "id": "7dfdddbee9db2dd2",
   "outputs": [
    {
     "data": {
      "text/plain": [
       "   R&D Spend  Administration  Marketing Spend       State     Profit\n",
       "0  165349.20       136897.80        471784.10    New York  192261.83\n",
       "1  162597.70       151377.59        443898.53  California  191792.06\n",
       "2  153441.51       101145.55        407934.54     Florida  191050.39\n",
       "3  144372.41       118671.85        383199.62    New York  182901.99\n",
       "4  142107.34        91391.77        366168.42     Florida  166187.94"
      ],
      "text/html": [
       "<div>\n",
       "<style scoped>\n",
       "    .dataframe tbody tr th:only-of-type {\n",
       "        vertical-align: middle;\n",
       "    }\n",
       "\n",
       "    .dataframe tbody tr th {\n",
       "        vertical-align: top;\n",
       "    }\n",
       "\n",
       "    .dataframe thead th {\n",
       "        text-align: right;\n",
       "    }\n",
       "</style>\n",
       "<table border=\"1\" class=\"dataframe\">\n",
       "  <thead>\n",
       "    <tr style=\"text-align: right;\">\n",
       "      <th></th>\n",
       "      <th>R&amp;D Spend</th>\n",
       "      <th>Administration</th>\n",
       "      <th>Marketing Spend</th>\n",
       "      <th>State</th>\n",
       "      <th>Profit</th>\n",
       "    </tr>\n",
       "  </thead>\n",
       "  <tbody>\n",
       "    <tr>\n",
       "      <th>0</th>\n",
       "      <td>165349.20</td>\n",
       "      <td>136897.80</td>\n",
       "      <td>471784.10</td>\n",
       "      <td>New York</td>\n",
       "      <td>192261.83</td>\n",
       "    </tr>\n",
       "    <tr>\n",
       "      <th>1</th>\n",
       "      <td>162597.70</td>\n",
       "      <td>151377.59</td>\n",
       "      <td>443898.53</td>\n",
       "      <td>California</td>\n",
       "      <td>191792.06</td>\n",
       "    </tr>\n",
       "    <tr>\n",
       "      <th>2</th>\n",
       "      <td>153441.51</td>\n",
       "      <td>101145.55</td>\n",
       "      <td>407934.54</td>\n",
       "      <td>Florida</td>\n",
       "      <td>191050.39</td>\n",
       "    </tr>\n",
       "    <tr>\n",
       "      <th>3</th>\n",
       "      <td>144372.41</td>\n",
       "      <td>118671.85</td>\n",
       "      <td>383199.62</td>\n",
       "      <td>New York</td>\n",
       "      <td>182901.99</td>\n",
       "    </tr>\n",
       "    <tr>\n",
       "      <th>4</th>\n",
       "      <td>142107.34</td>\n",
       "      <td>91391.77</td>\n",
       "      <td>366168.42</td>\n",
       "      <td>Florida</td>\n",
       "      <td>166187.94</td>\n",
       "    </tr>\n",
       "  </tbody>\n",
       "</table>\n",
       "</div>"
      ]
     },
     "execution_count": 36,
     "metadata": {},
     "output_type": "execute_result"
    }
   ],
   "execution_count": 36
  },
  {
   "metadata": {
    "ExecuteTime": {
     "end_time": "2025-02-13T16:29:49.117839Z",
     "start_time": "2025-02-13T16:29:49.105807Z"
    }
   },
   "cell_type": "code",
   "source": [
    "X = df[\"R&D Spend\"].values.reshape(-1, 1)\n",
    "y = df[\"Profit\"].values"
   ],
   "id": "f70c49f9224e6e9f",
   "outputs": [],
   "execution_count": 37
  },
  {
   "metadata": {
    "ExecuteTime": {
     "end_time": "2025-02-13T16:29:49.292809Z",
     "start_time": "2025-02-13T16:29:49.285879Z"
    }
   },
   "cell_type": "code",
   "source": "np.random.seed(123)",
   "id": "875867d08cf07db1",
   "outputs": [],
   "execution_count": 38
  },
  {
   "metadata": {},
   "cell_type": "markdown",
   "source": "## 3. Dividir datos de entrenamiento y validación",
   "id": "6778c4b0d8114b8b"
  },
  {
   "metadata": {
    "ExecuteTime": {
     "end_time": "2025-02-13T16:29:49.454719Z",
     "start_time": "2025-02-13T16:29:49.444483Z"
    }
   },
   "cell_type": "code",
   "source": [
    "# Dividir en train (80%) y test (20%) con semilla 123\n",
    "X_train, X_test, y_train, y_test = train_test_split(X, y, test_size=0.2, random_state=123)"
   ],
   "id": "afe01b9ddcc62cd4",
   "outputs": [],
   "execution_count": 39
  },
  {
   "metadata": {},
   "cell_type": "markdown",
   "source": "## 4. Entrenamiento del modelo",
   "id": "425aad706c9408ef"
  },
  {
   "metadata": {
    "ExecuteTime": {
     "end_time": "2025-02-13T16:29:49.542918Z",
     "start_time": "2025-02-13T16:29:49.531643Z"
    }
   },
   "cell_type": "code",
   "source": [
    "# Crear el modelo de regresión lineal y entrenarlo\n",
    "model = LinearRegression()\n",
    "model.fit(X_train, y_train)\n",
    "\n",
    "# Hacer predicciones sobre los datos de test\n",
    "y_pred_test = model.predict(X_test)\n",
    "\n",
    "# Obtener coeficiente de determinación R^2\n",
    "r2_train = model.score(X_train, y_train)\n",
    "r2_test = model.score(X_test, y_test)"
   ],
   "id": "7906a77b20c34c95",
   "outputs": [],
   "execution_count": 40
  },
  {
   "metadata": {},
   "cell_type": "markdown",
   "source": "## 5. Visualización del modelo",
   "id": "a57530627c1c3aff"
  },
  {
   "metadata": {
    "ExecuteTime": {
     "end_time": "2025-02-13T16:29:49.902951Z",
     "start_time": "2025-02-13T16:29:49.603820Z"
    }
   },
   "cell_type": "code",
   "source": [
    "# Graficar scatterplot\n",
    "plt.figure(figsize=(8, 5))\n",
    "plt.scatter(X_train, y_train, color='red', label=\"Train (80%)\")\n",
    "plt.scatter(X_test, y_test, color='green', label=\"Test (20%)\")\n",
    "\n",
    "# Dibujar la línea de regresión sobre los datos de test\n",
    "plt.plot(X_test, y_pred_test, color='blue', linewidth=2, label=\"Regresión Lineal (Test)\")\n",
    "\n",
    "# Etiquetas y título\n",
    "plt.xlabel(\"R&D Spend\")\n",
    "plt.ylabel(\"Profit\")\n",
    "plt.title(\"Inversión I+D vs Beneficio de SAMARTLOP\")\n",
    "plt.legend()\n",
    "plt.show()"
   ],
   "id": "5f9c949bda84c758",
   "outputs": [
    {
     "data": {
      "text/plain": [
       "<Figure size 800x500 with 1 Axes>"
      ],
      "image/png": "[encoded data removed]"
     },
     "metadata": {},
     "output_type": "display_data"
    }
   ],
   "execution_count": 41
  },
  {
   "metadata": {},
   "cell_type": "markdown",
   "source": "## 6. Métricas r²_score",
   "id": "7740ccbc52646e3a"
  },
  {
   "metadata": {
    "ExecuteTime": {
     "end_time": "2025-02-13T16:29:49.942509Z",
     "start_time": "2025-02-13T16:29:49.930773Z"
    }
   },
   "cell_type": "code",
   "source": [
    "# Mostrar resultados\n",
    "print(f\"R² (train): {r2_train:.4f}\")\n",
    "print(f\"R² (test): {r2_test:.4f}\")"
   ],
   "id": "4d6b455c9130f50",
   "outputs": [
    {
     "name": "stdout",
     "output_type": "stream",
     "text": [
      "R² (train): 0.9387\n",
      "R² (test): 0.9729\n"
     ]
    }
   ],
   "execution_count": 42
  },
  {
   "metadata": {},
   "cell_type": "markdown",
   "source": [
    "### ENTREGA 1: Muestra:\n",
    "a) Capturas de ejecución y el código. <br><br>\n",
    "b) ¿Qué significa en este caso que el R2\n",
    " sea 0.97? <br>\n",
    " <p style=\"color: green;\">En este caso de regresión simple es bueno que el modelo de 0.97 en r2 pues la variable predictora predice bien frente a la variable objetivo </p>\n"
   ],
   "id": "5f0d070874eee995"
  }
 ],
 "metadata": {
  "kernelspec": {
   "display_name": "Python 3",
   "language": "python",
   "name": "python3"
  },
  "language_info": {
   "codemirror_mode": {
    "name": "ipython",
    "version": 2
   },
   "file_extension": ".py",
   "mimetype": "text/x-python",
   "name": "python",
   "nbconvert_exporter": "python",
   "pygments_lexer": "ipython2",
   "version": "2.7.6"
  }
 },
 "nbformat": 4,
 "nbformat_minor": 5
}
